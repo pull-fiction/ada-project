{
 "cells": [
  {
   "cell_type": "code",
   "execution_count": 24,
   "metadata": {},
   "outputs": [],
   "source": [
    "import pandas as pd\n",
    "import matplotlib.pyplot as plt"
   ]
  },
  {
   "cell_type": "markdown",
   "metadata": {},
   "source": [
    "# Make crops, not war\n",
    "\n",
    "## Milestone 2\n",
    "\n",
    "1) That you can handle the data in its size.\n",
    "\n",
    "The datasets obtained from FAO are quite small in size as we can pre-filter the features that we are interested in before downloading them from the FAO website. \n",
    "    \n",
    "2) That you understand what’s into the data (formats, distributions, missing values, correlations, etc.).\n",
    "\n",
    "We have begun to clean our data and the formats are clear and understandable. The missing values for our war data have been filled manually. As for the FAO dataset, ... \n",
    "\n",
    "3) That you considered ways to enrich, filter, transform the data according to your needs.\n",
    "\n",
    "4) That you have updated your plan in a reasonable way, reflecting your improved knowledge after data acquaintance. In particular, discuss how your data suits your project needs and discuss the methods you’re going to use, giving their essential mathematical details in the notebook.\n",
    "    \n",
    "5) That your plan for analysis and communication is now reasonable and sound, potentially discussing alternatives to your choices that you considered but dropped."
   ]
  },
  {
   "cell_type": "markdown",
   "metadata": {},
   "source": [
    "## Data size\n",
    "\n",
    "### Wars Datasets\n",
    "\n",
    "For the wars, we are going to use data got from [Wikidata Query Service](https://query.wikidata.org/) and then we only have the data we need, which is quite small as we can see below:"
   ]
  },
  {
   "cell_type": "code",
   "execution_count": 2,
   "metadata": {},
   "outputs": [],
   "source": [
    "wikipedia_path = 'data/wikipedia/'\n",
    "state_in_war_file = 'states.json'\n",
    "political_in_war_file = 'political.json'\n",
    "terroristic_in_war_file = 'terroristic.json'\n",
    "\n",
    "wars_states_df = pd.read_json(wikipedia_path + state_in_war_file, orient='records', encoding='utf-8')\n",
    "wars_political_df = pd.read_json(wikipedia_path + political_in_war_file, orient='records', encoding='utf-8')\n",
    "wars_terroristic_df = pd.read_json(wikipedia_path + terroristic_in_war_file, orient='records', encoding='utf-8')"
   ]
  },
  {
   "cell_type": "markdown",
   "metadata": {},
   "source": [
    "Since, at least for the moment, we are not interested in the difference between these three categories, but only between state and non-state actors, we only mark whether a participant is state or non-state. Next we stack the dataframes to create a unique one."
   ]
  },
  {
   "cell_type": "code",
   "execution_count": 3,
   "metadata": {},
   "outputs": [
    {
     "name": "stdout",
     "output_type": "stream",
     "text": [
      "Length of wars dataframe: 8015\n"
     ]
    }
   ],
   "source": [
    "wars_states_df['is_state'] = True\n",
    "wars_political_df['is_state'] = False\n",
    "wars_terroristic_df['is_state'] = False\n",
    "\n",
    "raw_wars_df = wars_states_df.append(wars_political_df, sort=True).append(wars_terroristic_df, sort=True)\n",
    "\n",
    "renamed_wars_df = raw_wars_df.rename(columns={\n",
    "    'armed_conflictLabel': 'name',\n",
    "    'participantLabel': 'participant',\n",
    "    'countryWarLabel': 'country',\n",
    "    'locationLabel': 'location'\n",
    "})\n",
    "\n",
    "print(f\"Length of wars dataframe: {renamed_wars_df.size}\")"
   ]
  },
  {
   "cell_type": "markdown",
   "metadata": {},
   "source": [
    "The dataframe can be kept in memory."
   ]
  },
  {
   "cell_type": "markdown",
   "metadata": {},
   "source": [
    "### Agriculture and Food Datasets\n",
    "\n",
    "For food-related data, we are using data from [FAOSTAT](http://www.fao.org/faostat/en/#data) service. Here we can query FAO database as well, then we can download only the datasets we need. Particularly, we are interested in the following datasets:\n",
    "\n",
    "- [Crops](http://www.fao.org/faostat/en/#data/QC)\n",
    "- [Live Animals](http://www.fao.org/faostat/en/#data/QA)\n",
    "- [Crops and livestock products](http://www.fao.org/faostat/en/#data/TP)\n",
    "- [Annual Population](http://www.fao.org/faostat/en/#data/OA)\n",
    "- [Land Use](http://www.fao.org/faostat/en/#data/RL)\n",
    "\n",
    "Also these datasets are quite small and can be kept in memory."
   ]
  },
  {
   "cell_type": "code",
   "execution_count": 4,
   "metadata": {},
   "outputs": [
    {
     "name": "stdout",
     "output_type": "stream",
     "text": [
      "Length of crops dataframe: 1437366\n",
      "Length of livestock dataframe: 472752\n",
      "Length of trading dataframe: 6933270\n",
      "Length of population dataframe: 223725\n",
      "Length of land dataframe: 170100\n"
     ]
    }
   ],
   "source": [
    "fao_path = 'data/fao/'\n",
    "\n",
    "crops_production_file = 'crops_production.csv'\n",
    "livestock_production_file = 'livestock_production.csv'\n",
    "trading_file = 'import_export.csv'\n",
    "population_file = 'population.csv'\n",
    "land_use_file = 'land_use.csv'\n",
    "\n",
    "raw_crops_production_df = pd.read_csv(fao_path + crops_production_file, encoding='latin-1')\n",
    "raw_livestock_production_df = pd.read_csv(fao_path + livestock_production_file, encoding='latin-1')\n",
    "raw_trading_df = pd.read_csv(fao_path + trading_file, encoding='latin-1')\n",
    "raw_population_df = pd.read_csv(fao_path + population_file, encoding='latin-1')\n",
    "raw_land_use_df = pd.read_csv(fao_path + land_use_file, encoding='latin-1')\n",
    "\n",
    "agricultural_dfs_names = ['crops', 'livestock', 'trading', 'population', 'land']\n",
    "\n",
    "agricultural_dfs = [\n",
    "    raw_crops_production_df,\n",
    "    raw_livestock_production_df,\n",
    "    raw_trading_df,\n",
    "    raw_population_df,\n",
    "    raw_land_use_df\n",
    "]\n",
    "\n",
    "for name, df in zip(agricultural_dfs_names, agricultural_dfs):\n",
    "    print(f\"Length of {name} dataframe: {df.size}\")"
   ]
  },
  {
   "cell_type": "markdown",
   "metadata": {},
   "source": [
    "All these datasets can be easily handled by a laptop.\n",
    "\n",
    "## Formats\n",
    "\n",
    "Now, let us check the format of the dataframes"
   ]
  },
  {
   "cell_type": "code",
   "execution_count": 5,
   "metadata": {},
   "outputs": [
    {
     "data": {
      "text/plain": [
       "name            object\n",
       "country         object\n",
       "end_year       float64\n",
       "is_state          bool\n",
       "location        object\n",
       "participant     object\n",
       "start_year       int64\n",
       "dtype: object"
      ]
     },
     "execution_count": 5,
     "metadata": {},
     "output_type": "execute_result"
    }
   ],
   "source": [
    "renamed_wars_df.dtypes"
   ]
  },
  {
   "cell_type": "markdown",
   "metadata": {},
   "source": [
    "The other two wars dataframes have the same formats. We can see that the years have different types. It can be useful to convert them to `datetime` years."
   ]
  },
  {
   "cell_type": "markdown",
   "metadata": {},
   "source": [
    "## Missing values\n",
    "\n",
    "### Wars Dataset\n",
    "\n",
    "Let us check whether there are missing values in the wars dataframe:"
   ]
  },
  {
   "cell_type": "code",
   "execution_count": 6,
   "metadata": {},
   "outputs": [
    {
     "name": "stdout",
     "output_type": "stream",
     "text": [
      "Number of wars with missing data: 36\n",
      "Columns with missing data:\n"
     ]
    },
    {
     "data": {
      "text/plain": [
       "['country', 'end_year', 'location']"
      ]
     },
     "execution_count": 6,
     "metadata": {},
     "output_type": "execute_result"
    }
   ],
   "source": [
    "print(\"Number of wars with missing data: \" + \n",
    "      str(renamed_wars_df[renamed_wars_df.isnull().any(axis=1)].groupby('name').count().shape[0]))\n",
    "\n",
    "print(\"Columns with missing data:\")\n",
    "renamed_wars_df.columns[renamed_wars_df.isnull().any()].tolist()"
   ]
  },
  {
   "cell_type": "markdown",
   "metadata": {},
   "source": [
    "We can see that 36 wars that have missing values: due to how the Wikidata query is made, the wars without end date have not finish yet. So we can fill the value with the current year:"
   ]
  },
  {
   "cell_type": "code",
   "execution_count": 7,
   "metadata": {},
   "outputs": [],
   "source": [
    "from datetime import datetime\n",
    "\n",
    "renamed_wars_df.loc[renamed_wars_df['end_year'].isnull(), 'end_year'] = datetime.now().year"
   ]
  },
  {
   "cell_type": "code",
   "execution_count": 8,
   "metadata": {},
   "outputs": [],
   "source": [
    "renamed_wars_df['start_year'] = pd.to_datetime(renamed_wars_df['start_year'], format='%Y')\n",
    "renamed_wars_df['end_year'] = pd.to_datetime(renamed_wars_df['end_year'].astype(int), format='%Y')"
   ]
  },
  {
   "cell_type": "markdown",
   "metadata": {},
   "source": [
    "Now, let us see check how many wars are missing country or location:"
   ]
  },
  {
   "cell_type": "code",
   "execution_count": 9,
   "metadata": {},
   "outputs": [
    {
     "name": "stdout",
     "output_type": "stream",
     "text": [
      "Number of wars with missing data: 20\n"
     ]
    }
   ],
   "source": [
    "print(\"Number of wars with missing data: \" + \n",
    "      str(renamed_wars_df[renamed_wars_df.isnull().any(axis=1)].groupby('name').count().shape[0]))"
   ]
  },
  {
   "cell_type": "markdown",
   "metadata": {},
   "source": [
    "Since they are not very much, we can fill the country manually, and since we are not interested in the precise location of the wars, we can drop the column."
   ]
  },
  {
   "cell_type": "code",
   "execution_count": 10,
   "metadata": {
    "jupyter": {
     "source_hidden": true
    }
   },
   "outputs": [],
   "source": [
    "non_null_wars_df = renamed_wars_df.copy()\n",
    "\n",
    "# Fix missing country\n",
    "non_null_wars_df.loc[non_null_wars_df['name'] == 'Tet Offensive', 'country'] = 'Vietnam'\n",
    "non_null_wars_df.loc[non_null_wars_df['name'] == 'Kosovo War', 'country'] = 'Kosovo'\n",
    "non_null_wars_df.loc[non_null_wars_df['name'] == 'Soviet–Afghan War', 'country'] = 'Afghanistan'\n",
    "non_null_wars_df.loc[non_null_wars_df['name'] == 'Cambodian Civil War', 'country'] = 'Cambodia'\n",
    "non_null_wars_df.loc[non_null_wars_df['name'] == 'First Congo War', 'country'] = 'Democratic Republic of the Congo'\n",
    "non_null_wars_df.loc[non_null_wars_df['name'] == 'Djiboutian Civil War', 'country'] = 'Djibouti'\n",
    "non_null_wars_df.loc[non_null_wars_df['name'] == 'Libyan–Egyptian War', 'country'] = 'Lybia,Egypt'\n",
    "non_null_wars_df.loc[non_null_wars_df['name'] == 'Paquisha War', 'country'] = 'Ecuador,Peru'\n",
    "non_null_wars_df.loc[non_null_wars_df['name'] == 'Sino-Vietnamese War', 'country'] = 'Vietnam'\n",
    "non_null_wars_df.loc[non_null_wars_df['name'] == '1982 Ethiopian–Somali Border War', 'country'] = 'Somalia'\n",
    "non_null_wars_df.loc[non_null_wars_df['name'] == 'Ceneps Guar', 'country'] = 'Ecuador,Peru'\n",
    "non_null_wars_df.loc[non_null_wars_df['name'] == 'Second Kurdish–Iraqi War', 'country'] = 'Iraq'\n",
    "non_null_wars_df.loc[non_null_wars_df['name'] == 'Vietnam War', 'country'] = 'Vietnam'\n",
    "non_null_wars_df.loc[non_null_wars_df['name'] == 'Six-Day War', 'country'] = 'Israel,Egypt,Palestine,Syria'\n",
    "non_null_wars_df.loc[non_null_wars_df['name'] == 'Tell Abyad offensive', 'country'] = 'Syria'\n",
    "non_null_wars_df.loc[non_null_wars_df['name'] == '2006 Lebanon War', 'country'] = 'Lebanon,Israel'\n",
    "non_null_wars_df.loc[non_null_wars_df['name'] == 'Gaza–Israel clashes (May 2019)', 'country'] = 'Israel,Palestine'\n",
    "non_null_wars_df.loc[non_null_wars_df['name'] == 'Tell Abyad offensive', 'country'] = 'Syria'\n",
    "non_null_wars_df.loc[non_null_wars_df['name'] == '2006 Lebanon War', 'country'] = 'Lebanon,Israel'\n",
    "non_null_wars_df.loc[non_null_wars_df['name'] == 'Gaza–Israel clashes (May 2019)', 'country'] = 'Israel,Palestine'\n",
    "non_null_wars_df.loc[non_null_wars_df['name'] == '2003 invasion of Iraq', 'country'] = 'Iraq'\n",
    "non_null_wars_df.loc[non_null_wars_df['name'] == '2014 Israel–Gaza conflict', 'country'] = 'Palestine,Israel'\n",
    "non_null_wars_df.loc[non_null_wars_df['name'] == '2018–19 Gaza border protests', 'country'] = 'Palestine,Israel'\n",
    "non_null_wars_df.loc[non_null_wars_df['name'] == 'Croatian War of Independence', 'country'] = 'Croatia'\n",
    "non_null_wars_df.loc[non_null_wars_df['name'] == 'Gaza–Israel conflict', 'country'] = 'Palestine, Israel'\n",
    "non_null_wars_df.loc[non_null_wars_df['name'] == 'Insurgency in the Maghreb (2002–)', 'country'] = '''\n",
    "    Algeria,Libya,Mauritania,Morocco,Tunisia,Western Sahara'''\n",
    "non_null_wars_df.loc[non_null_wars_df['name'] == \"Lord's Resistance Army insurgency\", 'country'] = '''\n",
    "    Uganda,South Sudan,Democratic Republic of the Congo,Central African Republic'''\n",
    "\n",
    "# Eplode entries with multiple locations\n",
    "non_null_wars_df['country'] = non_null_wars_df['country'].str.split(',')\n",
    "exploded_wars_df = non_null_wars_df.reset_index().explode('country').drop('index', axis=1)\n",
    "stripped_wars_df = exploded_wars_df.copy()\n",
    "stripped_wars_df['country'] = exploded_wars_df['country'].str.strip()"
   ]
  },
  {
   "cell_type": "markdown",
   "metadata": {},
   "source": [
    "Let us see what is left:"
   ]
  },
  {
   "cell_type": "code",
   "execution_count": 11,
   "metadata": {},
   "outputs": [
    {
     "data": {
      "text/html": [
       "<div>\n",
       "<style scoped>\n",
       "    .dataframe tbody tr th:only-of-type {\n",
       "        vertical-align: middle;\n",
       "    }\n",
       "\n",
       "    .dataframe tbody tr th {\n",
       "        vertical-align: top;\n",
       "    }\n",
       "\n",
       "    .dataframe thead th {\n",
       "        text-align: right;\n",
       "    }\n",
       "</style>\n",
       "<table border=\"1\" class=\"dataframe\">\n",
       "  <thead>\n",
       "    <tr style=\"text-align: right;\">\n",
       "      <th></th>\n",
       "      <th>name</th>\n",
       "      <th>country</th>\n",
       "      <th>end_year</th>\n",
       "      <th>is_state</th>\n",
       "      <th>location</th>\n",
       "      <th>participant</th>\n",
       "      <th>start_year</th>\n",
       "    </tr>\n",
       "  </thead>\n",
       "  <tbody>\n",
       "    <tr>\n",
       "      <th>767</th>\n",
       "      <td>War on Terror</td>\n",
       "      <td>NaN</td>\n",
       "      <td>2019-01-01</td>\n",
       "      <td>True</td>\n",
       "      <td>NaN</td>\n",
       "      <td>People's Republic of China</td>\n",
       "      <td>2001-01-01</td>\n",
       "    </tr>\n",
       "    <tr>\n",
       "      <th>768</th>\n",
       "      <td>War on Terror</td>\n",
       "      <td>NaN</td>\n",
       "      <td>2019-01-01</td>\n",
       "      <td>True</td>\n",
       "      <td>NaN</td>\n",
       "      <td>France</td>\n",
       "      <td>2001-01-01</td>\n",
       "    </tr>\n",
       "    <tr>\n",
       "      <th>769</th>\n",
       "      <td>War on Terror</td>\n",
       "      <td>NaN</td>\n",
       "      <td>2019-01-01</td>\n",
       "      <td>True</td>\n",
       "      <td>NaN</td>\n",
       "      <td>Islamic State of Iraq and the Levant</td>\n",
       "      <td>2001-01-01</td>\n",
       "    </tr>\n",
       "    <tr>\n",
       "      <th>770</th>\n",
       "      <td>War on Terror</td>\n",
       "      <td>NaN</td>\n",
       "      <td>2019-01-01</td>\n",
       "      <td>True</td>\n",
       "      <td>NaN</td>\n",
       "      <td>Russia</td>\n",
       "      <td>2001-01-01</td>\n",
       "    </tr>\n",
       "    <tr>\n",
       "      <th>771</th>\n",
       "      <td>War on Terror</td>\n",
       "      <td>NaN</td>\n",
       "      <td>2019-01-01</td>\n",
       "      <td>True</td>\n",
       "      <td>NaN</td>\n",
       "      <td>United Kingdom</td>\n",
       "      <td>2001-01-01</td>\n",
       "    </tr>\n",
       "    <tr>\n",
       "      <th>772</th>\n",
       "      <td>War on Terror</td>\n",
       "      <td>NaN</td>\n",
       "      <td>2019-01-01</td>\n",
       "      <td>True</td>\n",
       "      <td>NaN</td>\n",
       "      <td>United States of America</td>\n",
       "      <td>2001-01-01</td>\n",
       "    </tr>\n",
       "    <tr>\n",
       "      <th>1059</th>\n",
       "      <td>War on Terror</td>\n",
       "      <td>NaN</td>\n",
       "      <td>2019-01-01</td>\n",
       "      <td>False</td>\n",
       "      <td>NaN</td>\n",
       "      <td>Islamic State of Iraq and the Levant</td>\n",
       "      <td>2001-01-01</td>\n",
       "    </tr>\n",
       "    <tr>\n",
       "      <th>1060</th>\n",
       "      <td>War on Terror</td>\n",
       "      <td>NaN</td>\n",
       "      <td>2019-01-01</td>\n",
       "      <td>False</td>\n",
       "      <td>NaN</td>\n",
       "      <td>Taliban</td>\n",
       "      <td>2001-01-01</td>\n",
       "    </tr>\n",
       "    <tr>\n",
       "      <th>1061</th>\n",
       "      <td>War on Terror</td>\n",
       "      <td>NaN</td>\n",
       "      <td>2019-01-01</td>\n",
       "      <td>False</td>\n",
       "      <td>NaN</td>\n",
       "      <td>Turkistan Islamic Party</td>\n",
       "      <td>2001-01-01</td>\n",
       "    </tr>\n",
       "    <tr>\n",
       "      <th>1086</th>\n",
       "      <td>War on Terror</td>\n",
       "      <td>NaN</td>\n",
       "      <td>2019-01-01</td>\n",
       "      <td>False</td>\n",
       "      <td>NaN</td>\n",
       "      <td>Islamic State of Iraq and the Levant</td>\n",
       "      <td>2001-01-01</td>\n",
       "    </tr>\n",
       "    <tr>\n",
       "      <th>1087</th>\n",
       "      <td>War on Terror</td>\n",
       "      <td>NaN</td>\n",
       "      <td>2019-01-01</td>\n",
       "      <td>False</td>\n",
       "      <td>NaN</td>\n",
       "      <td>Taliban</td>\n",
       "      <td>2001-01-01</td>\n",
       "    </tr>\n",
       "    <tr>\n",
       "      <th>1088</th>\n",
       "      <td>War on Terror</td>\n",
       "      <td>NaN</td>\n",
       "      <td>2019-01-01</td>\n",
       "      <td>False</td>\n",
       "      <td>NaN</td>\n",
       "      <td>Turkistan Islamic Party</td>\n",
       "      <td>2001-01-01</td>\n",
       "    </tr>\n",
       "  </tbody>\n",
       "</table>\n",
       "</div>"
      ],
      "text/plain": [
       "               name country   end_year  is_state location  \\\n",
       "767   War on Terror     NaN 2019-01-01      True      NaN   \n",
       "768   War on Terror     NaN 2019-01-01      True      NaN   \n",
       "769   War on Terror     NaN 2019-01-01      True      NaN   \n",
       "770   War on Terror     NaN 2019-01-01      True      NaN   \n",
       "771   War on Terror     NaN 2019-01-01      True      NaN   \n",
       "772   War on Terror     NaN 2019-01-01      True      NaN   \n",
       "1059  War on Terror     NaN 2019-01-01     False      NaN   \n",
       "1060  War on Terror     NaN 2019-01-01     False      NaN   \n",
       "1061  War on Terror     NaN 2019-01-01     False      NaN   \n",
       "1086  War on Terror     NaN 2019-01-01     False      NaN   \n",
       "1087  War on Terror     NaN 2019-01-01     False      NaN   \n",
       "1088  War on Terror     NaN 2019-01-01     False      NaN   \n",
       "\n",
       "                               participant start_year  \n",
       "767             People's Republic of China 2001-01-01  \n",
       "768                                 France 2001-01-01  \n",
       "769   Islamic State of Iraq and the Levant 2001-01-01  \n",
       "770                                 Russia 2001-01-01  \n",
       "771                         United Kingdom 2001-01-01  \n",
       "772               United States of America 2001-01-01  \n",
       "1059  Islamic State of Iraq and the Levant 2001-01-01  \n",
       "1060                               Taliban 2001-01-01  \n",
       "1061               Turkistan Islamic Party 2001-01-01  \n",
       "1086  Islamic State of Iraq and the Levant 2001-01-01  \n",
       "1087                               Taliban 2001-01-01  \n",
       "1088               Turkistan Islamic Party 2001-01-01  "
      ]
     },
     "execution_count": 11,
     "metadata": {},
     "output_type": "execute_result"
    }
   ],
   "source": [
    "stripped_wars_df[stripped_wars_df['country'].isnull()]"
   ]
  },
  {
   "cell_type": "markdown",
   "metadata": {},
   "source": [
    "Since the [War on Terror](https://en.wikipedia.org/wiki/War_on_Terror) can be considered as a series of war, and has no defined location, we drop it."
   ]
  },
  {
   "cell_type": "code",
   "execution_count": 12,
   "metadata": {},
   "outputs": [],
   "source": [
    "final_wars_df = stripped_wars_df[stripped_wars_df['name'] != 'War on Terror']"
   ]
  },
  {
   "cell_type": "markdown",
   "metadata": {},
   "source": [
    "### Food related datasets"
   ]
  },
  {
   "cell_type": "markdown",
   "metadata": {},
   "source": [
    "Let us first see the different unique in the features, in order to decide if we can drop them:"
   ]
  },
  {
   "cell_type": "code",
   "execution_count": 13,
   "metadata": {},
   "outputs": [
    {
     "data": {
      "text/html": [
       "<div>\n",
       "<style scoped>\n",
       "    .dataframe tbody tr th:only-of-type {\n",
       "        vertical-align: middle;\n",
       "    }\n",
       "\n",
       "    .dataframe tbody tr th {\n",
       "        vertical-align: top;\n",
       "    }\n",
       "\n",
       "    .dataframe thead th {\n",
       "        text-align: right;\n",
       "    }\n",
       "</style>\n",
       "<table border=\"1\" class=\"dataframe\">\n",
       "  <thead>\n",
       "    <tr style=\"text-align: right;\">\n",
       "      <th></th>\n",
       "      <th>Domain Code</th>\n",
       "      <th>Domain</th>\n",
       "      <th>Area Code</th>\n",
       "      <th>Area</th>\n",
       "      <th>Element Code</th>\n",
       "      <th>Element</th>\n",
       "      <th>Item Code</th>\n",
       "      <th>Item</th>\n",
       "      <th>Year Code</th>\n",
       "      <th>Year</th>\n",
       "      <th>Unit</th>\n",
       "      <th>Value</th>\n",
       "      <th>Flag Description</th>\n",
       "    </tr>\n",
       "    <tr>\n",
       "      <th>Flag</th>\n",
       "      <th></th>\n",
       "      <th></th>\n",
       "      <th></th>\n",
       "      <th></th>\n",
       "      <th></th>\n",
       "      <th></th>\n",
       "      <th></th>\n",
       "      <th></th>\n",
       "      <th></th>\n",
       "      <th></th>\n",
       "      <th></th>\n",
       "      <th></th>\n",
       "      <th></th>\n",
       "    </tr>\n",
       "  </thead>\n",
       "  <tbody>\n",
       "    <tr>\n",
       "      <th>A</th>\n",
       "      <td>102669</td>\n",
       "      <td>102669</td>\n",
       "      <td>102669</td>\n",
       "      <td>102669</td>\n",
       "      <td>102669</td>\n",
       "      <td>102669</td>\n",
       "      <td>102669</td>\n",
       "      <td>102669</td>\n",
       "      <td>102669</td>\n",
       "      <td>102669</td>\n",
       "      <td>102669</td>\n",
       "      <td>100483</td>\n",
       "      <td>102669</td>\n",
       "    </tr>\n",
       "  </tbody>\n",
       "</table>\n",
       "</div>"
      ],
      "text/plain": [
       "      Domain Code  Domain  Area Code    Area  Element Code  Element  \\\n",
       "Flag                                                                  \n",
       "A          102669  102669     102669  102669        102669   102669   \n",
       "\n",
       "      Item Code    Item  Year Code    Year    Unit   Value  Flag Description  \n",
       "Flag                                                                          \n",
       "A        102669  102669     102669  102669  102669  100483            102669  "
      ]
     },
     "execution_count": 13,
     "metadata": {},
     "output_type": "execute_result"
    }
   ],
   "source": [
    "raw_crops_production_df.groupby('Flag').count()"
   ]
  },
  {
   "cell_type": "code",
   "execution_count": 14,
   "metadata": {},
   "outputs": [
    {
     "data": {
      "text/html": [
       "<div>\n",
       "<style scoped>\n",
       "    .dataframe tbody tr th:only-of-type {\n",
       "        vertical-align: middle;\n",
       "    }\n",
       "\n",
       "    .dataframe tbody tr th {\n",
       "        vertical-align: top;\n",
       "    }\n",
       "\n",
       "    .dataframe thead th {\n",
       "        text-align: right;\n",
       "    }\n",
       "</style>\n",
       "<table border=\"1\" class=\"dataframe\">\n",
       "  <thead>\n",
       "    <tr style=\"text-align: right;\">\n",
       "      <th></th>\n",
       "      <th>Domain Code</th>\n",
       "      <th>Domain</th>\n",
       "      <th>Area Code</th>\n",
       "      <th>Area</th>\n",
       "      <th>Element Code</th>\n",
       "      <th>Element</th>\n",
       "      <th>Item Code</th>\n",
       "      <th>Item</th>\n",
       "      <th>Year Code</th>\n",
       "      <th>Year</th>\n",
       "      <th>Value</th>\n",
       "      <th>Flag</th>\n",
       "      <th>Flag Description</th>\n",
       "    </tr>\n",
       "    <tr>\n",
       "      <th>Unit</th>\n",
       "      <th></th>\n",
       "      <th></th>\n",
       "      <th></th>\n",
       "      <th></th>\n",
       "      <th></th>\n",
       "      <th></th>\n",
       "      <th></th>\n",
       "      <th></th>\n",
       "      <th></th>\n",
       "      <th></th>\n",
       "      <th></th>\n",
       "      <th></th>\n",
       "      <th></th>\n",
       "    </tr>\n",
       "  </thead>\n",
       "  <tbody>\n",
       "    <tr>\n",
       "      <th>tonnes</th>\n",
       "      <td>102669</td>\n",
       "      <td>102669</td>\n",
       "      <td>102669</td>\n",
       "      <td>102669</td>\n",
       "      <td>102669</td>\n",
       "      <td>102669</td>\n",
       "      <td>102669</td>\n",
       "      <td>102669</td>\n",
       "      <td>102669</td>\n",
       "      <td>102669</td>\n",
       "      <td>100483</td>\n",
       "      <td>102669</td>\n",
       "      <td>102669</td>\n",
       "    </tr>\n",
       "  </tbody>\n",
       "</table>\n",
       "</div>"
      ],
      "text/plain": [
       "        Domain Code  Domain  Area Code    Area  Element Code  Element  \\\n",
       "Unit                                                                    \n",
       "tonnes       102669  102669     102669  102669        102669   102669   \n",
       "\n",
       "        Item Code    Item  Year Code    Year   Value    Flag  Flag Description  \n",
       "Unit                                                                            \n",
       "tonnes     102669  102669     102669  102669  100483  102669            102669  "
      ]
     },
     "execution_count": 14,
     "metadata": {},
     "output_type": "execute_result"
    }
   ],
   "source": [
    "raw_crops_production_df.groupby('Unit').count()"
   ]
  },
  {
   "cell_type": "code",
   "execution_count": 15,
   "metadata": {},
   "outputs": [
    {
     "data": {
      "text/html": [
       "<div>\n",
       "<style scoped>\n",
       "    .dataframe tbody tr th:only-of-type {\n",
       "        vertical-align: middle;\n",
       "    }\n",
       "\n",
       "    .dataframe tbody tr th {\n",
       "        vertical-align: top;\n",
       "    }\n",
       "\n",
       "    .dataframe thead th {\n",
       "        text-align: right;\n",
       "    }\n",
       "</style>\n",
       "<table border=\"1\" class=\"dataframe\">\n",
       "  <thead>\n",
       "    <tr style=\"text-align: right;\">\n",
       "      <th></th>\n",
       "      <th>Domain Code</th>\n",
       "      <th>Domain</th>\n",
       "      <th>Area Code</th>\n",
       "      <th>Area</th>\n",
       "      <th>Element Code</th>\n",
       "      <th>Item Code</th>\n",
       "      <th>Item</th>\n",
       "      <th>Year Code</th>\n",
       "      <th>Year</th>\n",
       "      <th>Unit</th>\n",
       "      <th>Value</th>\n",
       "      <th>Flag</th>\n",
       "      <th>Flag Description</th>\n",
       "    </tr>\n",
       "    <tr>\n",
       "      <th>Element</th>\n",
       "      <th></th>\n",
       "      <th></th>\n",
       "      <th></th>\n",
       "      <th></th>\n",
       "      <th></th>\n",
       "      <th></th>\n",
       "      <th></th>\n",
       "      <th></th>\n",
       "      <th></th>\n",
       "      <th></th>\n",
       "      <th></th>\n",
       "      <th></th>\n",
       "      <th></th>\n",
       "    </tr>\n",
       "  </thead>\n",
       "  <tbody>\n",
       "    <tr>\n",
       "      <th>Production</th>\n",
       "      <td>102669</td>\n",
       "      <td>102669</td>\n",
       "      <td>102669</td>\n",
       "      <td>102669</td>\n",
       "      <td>102669</td>\n",
       "      <td>102669</td>\n",
       "      <td>102669</td>\n",
       "      <td>102669</td>\n",
       "      <td>102669</td>\n",
       "      <td>102669</td>\n",
       "      <td>100483</td>\n",
       "      <td>102669</td>\n",
       "      <td>102669</td>\n",
       "    </tr>\n",
       "  </tbody>\n",
       "</table>\n",
       "</div>"
      ],
      "text/plain": [
       "            Domain Code  Domain  Area Code    Area  Element Code  Item Code  \\\n",
       "Element                                                                       \n",
       "Production       102669  102669     102669  102669        102669     102669   \n",
       "\n",
       "              Item  Year Code    Year    Unit   Value    Flag  \\\n",
       "Element                                                         \n",
       "Production  102669     102669  102669  102669  100483  102669   \n",
       "\n",
       "            Flag Description  \n",
       "Element                       \n",
       "Production            102669  "
      ]
     },
     "execution_count": 15,
     "metadata": {},
     "output_type": "execute_result"
    }
   ],
   "source": [
    "raw_crops_production_df.groupby('Element').count()"
   ]
  },
  {
   "cell_type": "code",
   "execution_count": 16,
   "metadata": {},
   "outputs": [
    {
     "data": {
      "text/html": [
       "<div>\n",
       "<style scoped>\n",
       "    .dataframe tbody tr th:only-of-type {\n",
       "        vertical-align: middle;\n",
       "    }\n",
       "\n",
       "    .dataframe tbody tr th {\n",
       "        vertical-align: top;\n",
       "    }\n",
       "\n",
       "    .dataframe thead th {\n",
       "        text-align: right;\n",
       "    }\n",
       "</style>\n",
       "<table border=\"1\" class=\"dataframe\">\n",
       "  <thead>\n",
       "    <tr style=\"text-align: right;\">\n",
       "      <th></th>\n",
       "      <th>Domain Code</th>\n",
       "      <th>Area Code</th>\n",
       "      <th>Area</th>\n",
       "      <th>Element Code</th>\n",
       "      <th>Element</th>\n",
       "      <th>Item Code</th>\n",
       "      <th>Item</th>\n",
       "      <th>Year Code</th>\n",
       "      <th>Year</th>\n",
       "      <th>Unit</th>\n",
       "      <th>Value</th>\n",
       "      <th>Flag</th>\n",
       "      <th>Flag Description</th>\n",
       "    </tr>\n",
       "    <tr>\n",
       "      <th>Domain</th>\n",
       "      <th></th>\n",
       "      <th></th>\n",
       "      <th></th>\n",
       "      <th></th>\n",
       "      <th></th>\n",
       "      <th></th>\n",
       "      <th></th>\n",
       "      <th></th>\n",
       "      <th></th>\n",
       "      <th></th>\n",
       "      <th></th>\n",
       "      <th></th>\n",
       "      <th></th>\n",
       "    </tr>\n",
       "  </thead>\n",
       "  <tbody>\n",
       "    <tr>\n",
       "      <th>Crops</th>\n",
       "      <td>102669</td>\n",
       "      <td>102669</td>\n",
       "      <td>102669</td>\n",
       "      <td>102669</td>\n",
       "      <td>102669</td>\n",
       "      <td>102669</td>\n",
       "      <td>102669</td>\n",
       "      <td>102669</td>\n",
       "      <td>102669</td>\n",
       "      <td>102669</td>\n",
       "      <td>100483</td>\n",
       "      <td>102669</td>\n",
       "      <td>102669</td>\n",
       "    </tr>\n",
       "  </tbody>\n",
       "</table>\n",
       "</div>"
      ],
      "text/plain": [
       "        Domain Code  Area Code    Area  Element Code  Element  Item Code  \\\n",
       "Domain                                                                     \n",
       "Crops        102669     102669  102669        102669   102669     102669   \n",
       "\n",
       "          Item  Year Code    Year    Unit   Value    Flag  Flag Description  \n",
       "Domain                                                                       \n",
       "Crops   102669     102669  102669  102669  100483  102669            102669  "
      ]
     },
     "execution_count": 16,
     "metadata": {},
     "output_type": "execute_result"
    }
   ],
   "source": [
    "raw_crops_production_df.groupby('Domain').count()"
   ]
  },
  {
   "cell_type": "markdown",
   "metadata": {},
   "source": [
    "Since we have only one value for those columns, we can drop them. We just need to keep in mind that the unit used is tonnes. Let us drop useless columns, and rename the remaing ones to be more consistent with the wars dataframe naming."
   ]
  },
  {
   "cell_type": "code",
   "execution_count": 17,
   "metadata": {},
   "outputs": [],
   "source": [
    "def drop_useless_columns(fao_df):\n",
    "\n",
    "    fao_df = fao_df.drop(columns=[\n",
    "        'Domain Code',\n",
    "        'Area Code',\n",
    "        'Domain',\n",
    "        'Element Code',\n",
    "        'Element',\n",
    "        'Item Code',\n",
    "        'Year Code',\n",
    "        'Unit',\n",
    "        'Flag',\n",
    "        'Flag Description'\n",
    "    ])\n",
    "    \n",
    "    try:\n",
    "        fao_df = fao_df.drop('Note', axis=1)\n",
    "    except KeyError:\n",
    "        pass\n",
    "    \n",
    "    try:\n",
    "        fao_df = fao_df.drop('Unnamed: 0', axis=1)\n",
    "    except KeyError:\n",
    "        pass\n",
    "\n",
    "    fao_df = fao_df.rename(columns={\n",
    "        'Area': 'country',\n",
    "        'Item': 'item',\n",
    "        'Year': 'year',\n",
    "        'Value': 'value'\n",
    "    })\n",
    "\n",
    "    fao_df['year'] = pd.to_datetime(fao_df['year'], format='%Y')\n",
    "    \n",
    "    return fao_df\n",
    "\n",
    "dropped_agricultural_dfs = list(map(drop_useless_columns, agricultural_dfs))"
   ]
  },
  {
   "cell_type": "markdown",
   "metadata": {},
   "source": [
    "Now, let us see if there are missing values:"
   ]
  },
  {
   "cell_type": "code",
   "execution_count": 18,
   "metadata": {},
   "outputs": [
    {
     "name": "stdout",
     "output_type": "stream",
     "text": [
      "In the crops dataset there are 8744 missing values.\n",
      "In the livestock dataset there are 1512 missing values.\n",
      "In the trading dataset there are 132140 missing values.\n",
      "In the population dataset there are 0 missing values.\n",
      "In the land dataset there are 0 missing values.\n"
     ]
    }
   ],
   "source": [
    "for name, df in zip(agricultural_dfs_names, dropped_agricultural_dfs):\n",
    "    print(\"In the {name} dataset there are {missing} missing values.\".format(\n",
    "        name=name,\n",
    "        missing=df[df.isnull().any(axis=1)].size\n",
    "    ))"
   ]
  },
  {
   "cell_type": "markdown",
   "metadata": {},
   "source": [
    "We can see that many values are missing. However, since we are going to aggregate the data, we assume that the impact of missing data will be low. Moreover, we will need to know in which years we are missing data, in order to weight better the averages we are going to compute. When we will need more specific data about some particular countries, we will decide how to handle the problem in a more elaborate way."
   ]
  },
  {
   "cell_type": "markdown",
   "metadata": {},
   "source": [
    "## Distributions\n",
    "\n",
    "We are now going to see the distribution of the number of years in which a country had a war."
   ]
  },
  {
   "cell_type": "code",
   "execution_count": 34,
   "metadata": {},
   "outputs": [
    {
     "data": {
      "image/png": "[encoded data removed]",
      "text/plain": [
       "<Figure size 1080x720 with 1 Axes>"
      ]
     },
     "metadata": {
      "needs_background": "light"
     },
     "output_type": "display_data"
    }
   ],
   "source": [
    "country_wars_df = final_wars_df.groupby(['country', 'name', 'start_year', 'end_year']).count().reset_index()\n",
    "\n",
    "country_wars_df['range'] = country_wars_df.apply(\n",
    "    lambda row: list(range(row['start_year'].year, row['end_year'].year + 1)),\n",
    "    axis=1\n",
    ")\n",
    "\n",
    "unique_years_df = country_wars_df.explode('range')[['country', 'range']].drop_duplicates().reset_index().drop('index', axis=1)\n",
    "\n",
    "years_per_country = unique_years_df.groupby('country').count().sort_values(by='range').reset_index()\n",
    "\n",
    "plt.figure(figsize=(15,10))\n",
    "plt.bar(years_per_country['country'], years_per_country['range'])\n",
    "_ = plt.xticks(rotation=90)"
   ]
  },
  {
   "cell_type": "code",
   "execution_count": 44,
   "metadata": {},
   "outputs": [
    {
     "data": {
      "image/png": "[encoded data removed]",
      "text/plain": [
       "<Figure size 1080x720 with 1 Axes>"
      ]
     },
     "metadata": {
      "needs_background": "light"
     },
     "output_type": "display_data"
    }
   ],
   "source": [
    "plt.figure(figsize=(15,10))\n",
    "_ = plt.hist(years_per_country['range'], bins=years_per_country.shape[0] // 2)"
   ]
  },
  {
   "cell_type": "code",
   "execution_count": null,
   "metadata": {},
   "outputs": [],
   "source": []
  }
 ],
 "metadata": {
  "kernelspec": {
   "display_name": "Python 3",
   "language": "python",
   "name": "python3"
  },
  "language_info": {
   "codemirror_mode": {
    "name": "ipython",
    "version": 3
   },
   "file_extension": ".py",
   "mimetype": "text/x-python",
   "name": "python",
   "nbconvert_exporter": "python",
   "pygments_lexer": "ipython3",
   "version": "3.7.5"
  }
 },
 "nbformat": 4,
 "nbformat_minor": 4
}
