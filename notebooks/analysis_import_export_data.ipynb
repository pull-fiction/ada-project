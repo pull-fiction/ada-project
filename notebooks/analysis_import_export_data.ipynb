{
 "cells": [
  {
   "cell_type": "code",
   "execution_count": 116,
   "metadata": {},
   "outputs": [],
   "source": [
    "import pandas as pd\n",
    "import matplotlib.pyplot as plt\n",
    "import seaborn as sns\n",
    "import numpy as np\n",
    "import matplotlib\n",
    "\n",
    "%matplotlib inline\n",
    "\n",
    "sns.set_style('whitegrid')  # set a fancy seaborn style for the plots\n",
    "\n",
    "# add time converter for matplotlib visualisation\n",
    "pd.plotting.register_matplotlib_converters()"
   ]
  },
  {
   "cell_type": "markdown",
   "metadata": {},
   "source": [
    "# The analysis of the import/export data\n",
    "\n",
    "In this notebook you can find the analysis of the trading data that was gained from two different sources:\n",
    "\n",
    "- **[FAOSTAT](http://www.fao.org/faostat/en/#data) website** which contains the data about the *agricultural production*, *livestock quantit*y, and more importantly *the trading data of crop and livestock products*.\n",
    "- **[OEC](https://oec.world/en/resources/data/) website** which contains the bilateral data about the product trade between different countries. It initially uses the \\[[1](#References)\\] paper which is a study that comprises the analysis of 50-year trading data."
   ]
  },
  {
   "cell_type": "markdown",
   "metadata": {},
   "source": [
    "## FAOSTAT DATA\n",
    "\n",
    "We will start with the reading and preprocessing of the FAOSTAT dataset. The necessary data is [here](http://fenixservices.fao.org/faostat/static/bulkdownloads/Trade_Crops_Livestock_E_All_Data_(Normalized).zip) and it consists of folder with two files: `Trade_Crops_Livestock_E_All_Data_(Normalized).csv` and `Trade_Crops_Livestock_E_Flags.csv`. The initial *Normalised* version of the data will be used for future analysis and should be renamed as `trading_data.csv`.\n",
    "\n",
    "The obtained `trading_data.csv` file is quite big \\~ 1.6 GB, so we will not upload it to the remote GitHub version of the project."
   ]
  },
  {
   "cell_type": "code",
   "execution_count": 117,
   "metadata": {},
   "outputs": [],
   "source": [
    "# The path to FAO data\n",
    "fao_path = '../data/fao/'\n",
    "\n",
    "# Reading the dataset from csv file and leaving only needed columns\n",
    "trading_data_normalized = pd.read_csv(fao_path + 'trading_data.csv', encoding='latin-1')\n",
    "trading_data = trading_data_normalized[['Area', 'Item', 'Element', 'Year', 'Unit', 'Value']]\n",
    "\n",
    "# Renaming columns\n",
    "trading_data = trading_data.rename(columns={\n",
    "    'Area': 'country',\n",
    "    'Item': 'item',\n",
    "    'Element': 'value_meaning',\n",
    "    'Year': 'year',\n",
    "    'Value': 'value',\n",
    "    'Unit': 'unit'\n",
    "})\n",
    "\n",
    "# Convert the year to a datetime object\n",
    "trading_data['year'] = pd.to_datetime(trading_data['year'], format='%Y')\n",
    "\n",
    "# Leaving only the Import Quantity and the Export Quantity\n",
    "trading_data = trading_data[(trading_data['value_meaning'] == 'Import Quantity') | (trading_data['value_meaning'] == 'Export Quantity')]"
   ]
  },
  {
   "cell_type": "markdown",
   "metadata": {},
   "source": [
    "Let us get the list of countries in the `trading_data` dataframe."
   ]
  },
  {
   "cell_type": "code",
   "execution_count": 118,
   "metadata": {},
   "outputs": [
    {
     "data": {
      "text/plain": [
       "array(['Afghanistan', 'Albania', 'Algeria', 'American Samoa', 'Angola',\n",
       "       'Antigua and Barbuda', 'Argentina', 'Armenia', 'Aruba',\n",
       "       'Australia', 'Austria', 'Azerbaijan', 'Bahamas', 'Bahrain',\n",
       "       'Bangladesh', 'Barbados', 'Belarus', 'Belgium',\n",
       "       'Belgium-Luxembourg', 'Belize', 'Benin', 'Bermuda', 'Bhutan',\n",
       "       'Bolivia (Plurinational State of)', 'Bosnia and Herzegovina',\n",
       "       'Botswana', 'Brazil', 'British Virgin Islands',\n",
       "       'Brunei Darussalam', 'Bulgaria', 'Burkina Faso', 'Burundi',\n",
       "       'Cabo Verde', 'Cambodia', 'Cameroon', 'Canada', 'Cayman Islands',\n",
       "       'Central African Republic', 'Chad', 'Chile', 'China',\n",
       "       'China, Hong Kong SAR', 'China, Macao SAR', 'China, mainland',\n",
       "       'China, Taiwan Province of', 'Colombia', 'Comoros', 'Congo',\n",
       "       'Cook Islands', 'Costa Rica', \"Côte d'Ivoire\", 'Croatia', 'Cuba',\n",
       "       'Cyprus', 'Czechia', 'Czechoslovakia',\n",
       "       \"Democratic People's Republic of Korea\",\n",
       "       'Democratic Republic of the Congo', 'Denmark', 'Djibouti',\n",
       "       'Dominica', 'Dominican Republic', 'Ecuador', 'Egypt',\n",
       "       'El Salvador', 'Equatorial Guinea', 'Eritrea', 'Estonia',\n",
       "       'Eswatini', 'Ethiopia', 'Ethiopia PDR',\n",
       "       'Falkland Islands (Malvinas)', 'Faroe Islands', 'Fiji', 'Finland',\n",
       "       'France', 'French Polynesia', 'Gabon', 'Gambia', 'Georgia',\n",
       "       'Germany', 'Ghana', 'Greece', 'Grenada', 'Guam', 'Guatemala',\n",
       "       'Guinea', 'Guinea-Bissau', 'Guyana', 'Haiti', 'Honduras',\n",
       "       'Hungary', 'Iceland', 'India', 'Indonesia',\n",
       "       'Iran (Islamic Republic of)', 'Iraq', 'Ireland', 'Israel', 'Italy',\n",
       "       'Jamaica', 'Japan', 'Jordan', 'Kazakhstan', 'Kenya', 'Kiribati',\n",
       "       'Kuwait', 'Kyrgyzstan', \"Lao People's Democratic Republic\",\n",
       "       'Latvia', 'Lebanon', 'Lesotho', 'Liberia', 'Libya', 'Lithuania',\n",
       "       'Luxembourg', 'Madagascar', 'Malawi', 'Malaysia', 'Maldives',\n",
       "       'Mali', 'Malta', 'Mauritania', 'Mauritius', 'Mexico', 'Mongolia',\n",
       "       'Montenegro', 'Morocco', 'Mozambique', 'Myanmar', 'Namibia',\n",
       "       'Nauru', 'Nepal', 'Netherlands', 'Netherlands Antilles (former)',\n",
       "       'New Caledonia', 'New Zealand', 'Nicaragua', 'Niger', 'Nigeria',\n",
       "       'Niue', 'Norfolk Island', 'Norway',\n",
       "       'Occupied Palestinian Territory', 'Oman',\n",
       "       'Pacific Islands Trust Territory', 'Pakistan', 'Panama',\n",
       "       'Papua New Guinea', 'Paraguay', 'Peru', 'Philippines', 'Poland',\n",
       "       'Portugal', 'Qatar', 'Republic of Korea', 'Republic of Moldova',\n",
       "       'Romania', 'Russian Federation', 'Rwanda', 'Saint Kitts and Nevis',\n",
       "       'Saint Lucia', 'Saint Pierre and Miquelon',\n",
       "       'Saint Vincent and the Grenadines', 'Samoa',\n",
       "       'Sao Tome and Principe', 'Saudi Arabia', 'Senegal', 'Serbia',\n",
       "       'Serbia and Montenegro', 'Seychelles', 'Sierra Leone', 'Singapore',\n",
       "       'Slovakia', 'Slovenia', 'Solomon Islands', 'Somalia',\n",
       "       'South Africa', 'South Sudan', 'Spain', 'Sri Lanka', 'Sudan',\n",
       "       'Sudan (former)', 'Suriname', 'Sweden', 'Switzerland',\n",
       "       'Syrian Arab Republic', 'Tajikistan', 'Thailand',\n",
       "       'The former Yugoslav Republic of Macedonia', 'Timor-Leste', 'Togo',\n",
       "       'Tonga', 'Trinidad and Tobago', 'Tunisia', 'Turkey',\n",
       "       'Turkmenistan', 'Tuvalu', 'Uganda', 'Ukraine',\n",
       "       'United Arab Emirates', 'United Kingdom',\n",
       "       'United Republic of Tanzania', 'United States of America',\n",
       "       'Uruguay', 'USSR', 'Uzbekistan', 'Vanuatu',\n",
       "       'Venezuela (Bolivarian Republic of)', 'Viet Nam', 'Yemen',\n",
       "       'Yugoslav SFR', 'Zambia', 'Zimbabwe', 'World', 'Africa',\n",
       "       'Eastern Africa', 'Middle Africa', 'Northern Africa',\n",
       "       'Southern Africa', 'Western Africa', 'Americas',\n",
       "       'Northern America', 'Central America', 'Caribbean',\n",
       "       'South America', 'Asia', 'Central Asia', 'Eastern Asia',\n",
       "       'Southern Asia', 'South-Eastern Asia', 'Western Asia', 'Europe',\n",
       "       'Eastern Europe', 'Northern Europe', 'Southern Europe',\n",
       "       'Western Europe', 'Oceania', 'Australia & New Zealand',\n",
       "       'Melanesia', 'Micronesia', 'Polynesia', 'EU(12)ex.int',\n",
       "       'EU(15)ex.int', 'EU(25)ex.int', 'EU(27)ex.int', 'European Union',\n",
       "       'European Union (exc intra-trade)', 'Least Developed Countries',\n",
       "       'Land Locked Developing Countries',\n",
       "       'Small Island Developing States',\n",
       "       'Low Income Food Deficit Countries',\n",
       "       'Net Food Importing Developing Countries'], dtype=object)"
      ]
     },
     "execution_count": 118,
     "metadata": {},
     "output_type": "execute_result"
    }
   ],
   "source": [
    "trading_data['country'].unique()"
   ]
  },
  {
   "cell_type": "markdown",
   "metadata": {},
   "source": [
    "We can see that in the end of this list we have rows indicating not the countries but the aggregated data (e.g. 'World', 'Africa', 'European Union trade', etc). Let us drop this columns."
   ]
  },
  {
   "cell_type": "code",
   "execution_count": 119,
   "metadata": {},
   "outputs": [],
   "source": [
    "# Creating the list of row labels that we need to drop\n",
    "list_of_aggregated_data_rows = ['World', 'Africa',\n",
    "       'Eastern Africa', 'Middle Africa', 'Northern Africa',\n",
    "       'Southern Africa', 'Western Africa', 'Americas',\n",
    "       'Northern America', 'Central America', 'Caribbean',\n",
    "       'South America', 'Asia', 'Central Asia', 'Eastern Asia',\n",
    "       'Southern Asia', 'South-Eastern Asia', 'Western Asia', 'Europe',\n",
    "       'Eastern Europe', 'Northern Europe', 'Southern Europe',\n",
    "       'Western Europe', 'Oceania', 'Australia & New Zealand',\n",
    "       'Melanesia', 'Micronesia', 'Polynesia', 'EU(12)ex.int',\n",
    "       'EU(15)ex.int', 'EU(25)ex.int', 'EU(27)ex.int', 'European Union',\n",
    "       'European Union (exc intra-trade)', 'Least Developed Countries',\n",
    "       'Land Locked Developing Countries',\n",
    "       'Small Island Developing States',\n",
    "       'Low Income Food Deficit Countries',\n",
    "       'Net Food Importing Developing Countries']\n",
    "\n",
    "# Drop the unnecessary rows\n",
    "trading_data = trading_data.set_index('country').drop(index=list_of_aggregated_data_rows).reset_index()"
   ]
  },
  {
   "cell_type": "markdown",
   "metadata": {},
   "source": [
    "Let us calculate the number of rows with NaN values."
   ]
  },
  {
   "cell_type": "code",
   "execution_count": 120,
   "metadata": {},
   "outputs": [
    {
     "name": "stdout",
     "output_type": "stream",
     "text": [
      "The number of rows with NaN values is: 1321355 out of 5922832\n"
     ]
    }
   ],
   "source": [
    "print('The number of rows with NaN values is: %d out of %d' % (trading_data[pd.isnull(trading_data).any(axis=1)].shape[0], trading_data.shape[0]))"
   ]
  },
  {
   "cell_type": "markdown",
   "metadata": {},
   "source": [
    "We can see that we have a **huge** number of rows with NaN values. In scope of our project we treat these values as zero, because in most cases we will focus only on the specific major trading products when comparing different countries that do not contain NaN values."
   ]
  },
  {
   "cell_type": "code",
   "execution_count": 121,
   "metadata": {},
   "outputs": [],
   "source": [
    "# Filling the NaN values with 0\n",
    "trading_data.fillna(0, inplace=True)"
   ]
  },
  {
   "cell_type": "markdown",
   "metadata": {},
   "source": [
    "Now we can separate the import data and the export data for future analysis."
   ]
  },
  {
   "cell_type": "code",
   "execution_count": 122,
   "metadata": {},
   "outputs": [],
   "source": [
    "# Creating additional dataframes for keeping import and export data\n",
    "import_data = trading_data[trading_data['value_meaning'] == 'Import Quantity']\n",
    "export_data = trading_data[trading_data['value_meaning'] == 'Export Quantity']"
   ]
  },
  {
   "cell_type": "markdown",
   "metadata": {},
   "source": [
    "Let us see how many distinct trading products do we have in each dataset."
   ]
  },
  {
   "cell_type": "code",
   "execution_count": 123,
   "metadata": {},
   "outputs": [
    {
     "name": "stdout",
     "output_type": "stream",
     "text": [
      "The number of distinct trading products in import dataset is: 452\n",
      "The number of distinct trading products in export dataset is: 446\n"
     ]
    }
   ],
   "source": [
    "print('The number of distinct trading products in import dataset is: %d' % len(import_data['item'].unique()))\n",
    "print('The number of distinct trading products in export dataset is: %d' % len(export_data['item'].unique()))"
   ]
  },
  {
   "cell_type": "markdown",
   "metadata": {},
   "source": [
    "We can see that in our dataset we have a **huge** diversity of the trading products. It will be convenient to sort them by the average import and export value over the time period - in that case we will have the most important products with the biggest trading (import or export) value above. We will create two additional dataframes `import_data_sorted` and `export_data_sorted` which keeps the biggest trading (based on the average import/export value) products above."
   ]
  },
  {
   "cell_type": "code",
   "execution_count": 124,
   "metadata": {},
   "outputs": [],
   "source": [
    "# Create the dataframe which contains the biggest import products for each country\n",
    "import_data_sorted = (import_data.groupby(['country', 'item'])\n",
    "                           # calculate the mean for each country and for each item over the time period\n",
    "                           .mean()\n",
    "                              # then group by country\n",
    "                               .groupby(level='country', group_keys=False)\n",
    "                                  # and sort the items by the average values over the years\n",
    "                                   .apply(lambda x: x.sort_values(by='value', ascending=False))\n",
    "                                      # create a column which contains the average import value \n",
    "                                      # for each item for specific country\n",
    "                                       .rename(columns={'value': 'average_import_value'})\n",
    "                      )\n",
    "\n",
    "# Create the dataframe which contains the biggest export products for each country\n",
    "export_data_sorted = (export_data.groupby(['country', 'item'])\n",
    "                           # calculate the mean for each country and for each item over the time period\n",
    "                           .mean()\n",
    "                               # then group by country\n",
    "                               .groupby(level='country', group_keys=False)\n",
    "                                   # and sort the items by the average values over the years\n",
    "                                   .apply(lambda x: x.sort_values(by='value', ascending=False))\n",
    "                                       # create a column which contains the average import value \n",
    "                                       # for each item for specific country\n",
    "                                       .rename(columns={'value': 'average_export_value'})\n",
    "                      )"
   ]
  },
  {
   "cell_type": "code",
   "execution_count": 125,
   "metadata": {},
   "outputs": [
    {
     "data": {
      "text/html": [
       "<div>\n",
       "<style scoped>\n",
       "    .dataframe tbody tr th:only-of-type {\n",
       "        vertical-align: middle;\n",
       "    }\n",
       "\n",
       "    .dataframe tbody tr th {\n",
       "        vertical-align: top;\n",
       "    }\n",
       "\n",
       "    .dataframe thead th {\n",
       "        text-align: right;\n",
       "    }\n",
       "</style>\n",
       "<table border=\"1\" class=\"dataframe\">\n",
       "  <thead>\n",
       "    <tr style=\"text-align: right;\">\n",
       "      <th></th>\n",
       "      <th></th>\n",
       "      <th>average_import_value</th>\n",
       "    </tr>\n",
       "    <tr>\n",
       "      <th>country</th>\n",
       "      <th>item</th>\n",
       "      <th></th>\n",
       "    </tr>\n",
       "  </thead>\n",
       "  <tbody>\n",
       "    <tr>\n",
       "      <th rowspan=\"3\" valign=\"top\">Afghanistan</th>\n",
       "      <th>Cereals</th>\n",
       "      <td>5.898406e+05</td>\n",
       "    </tr>\n",
       "    <tr>\n",
       "      <th>Wheat+Flour,Wheat Equivalent</th>\n",
       "      <td>5.210205e+05</td>\n",
       "    </tr>\n",
       "    <tr>\n",
       "      <th>Sugar Raw Centrifugal</th>\n",
       "      <td>2.988893e+05</td>\n",
       "    </tr>\n",
       "    <tr>\n",
       "      <th rowspan=\"3\" valign=\"top\">Albania</th>\n",
       "      <th>Cereals</th>\n",
       "      <td>2.358327e+05</td>\n",
       "    </tr>\n",
       "    <tr>\n",
       "      <th>Wheat+Flour,Wheat Equivalent</th>\n",
       "      <td>1.977996e+05</td>\n",
       "    </tr>\n",
       "    <tr>\n",
       "      <th>Wheat</th>\n",
       "      <td>1.473262e+05</td>\n",
       "    </tr>\n",
       "    <tr>\n",
       "      <th rowspan=\"3\" valign=\"top\">Algeria</th>\n",
       "      <th>Cereals</th>\n",
       "      <td>5.005716e+06</td>\n",
       "    </tr>\n",
       "    <tr>\n",
       "      <th>Wheat+Flour,Wheat Equivalent</th>\n",
       "      <td>3.571040e+06</td>\n",
       "    </tr>\n",
       "    <tr>\n",
       "      <th>Wheat</th>\n",
       "      <td>3.093106e+06</td>\n",
       "    </tr>\n",
       "    <tr>\n",
       "      <th rowspan=\"3\" valign=\"top\">American Samoa</th>\n",
       "      <th>Milk Equivalent</th>\n",
       "      <td>3.368625e+03</td>\n",
       "    </tr>\n",
       "    <tr>\n",
       "      <th>Total Meat</th>\n",
       "      <td>2.858214e+03</td>\n",
       "    </tr>\n",
       "    <tr>\n",
       "      <th>Cereals</th>\n",
       "      <td>2.556804e+03</td>\n",
       "    </tr>\n",
       "    <tr>\n",
       "      <th rowspan=\"3\" valign=\"top\">Angola</th>\n",
       "      <th>Cereals</th>\n",
       "      <td>4.163060e+05</td>\n",
       "    </tr>\n",
       "    <tr>\n",
       "      <th>Wheat+Flour,Wheat Equivalent</th>\n",
       "      <td>2.449849e+05</td>\n",
       "    </tr>\n",
       "    <tr>\n",
       "      <th>Beverages</th>\n",
       "      <td>1.509927e+05</td>\n",
       "    </tr>\n",
       "    <tr>\n",
       "      <th rowspan=\"3\" valign=\"top\">Antigua and Barbuda</th>\n",
       "      <th>Beverages</th>\n",
       "      <td>5.920536e+03</td>\n",
       "    </tr>\n",
       "    <tr>\n",
       "      <th>Cereals</th>\n",
       "      <td>5.452268e+03</td>\n",
       "    </tr>\n",
       "    <tr>\n",
       "      <th>Milk Equivalent</th>\n",
       "      <td>5.032839e+03</td>\n",
       "    </tr>\n",
       "    <tr>\n",
       "      <th rowspan=\"2\" valign=\"top\">Argentina</th>\n",
       "      <th>Oilseeds</th>\n",
       "      <td>2.167728e+05</td>\n",
       "    </tr>\n",
       "    <tr>\n",
       "      <th>Bananas and plantains</th>\n",
       "      <td>2.110490e+05</td>\n",
       "    </tr>\n",
       "  </tbody>\n",
       "</table>\n",
       "</div>"
      ],
      "text/plain": [
       "                                                  average_import_value\n",
       "country             item                                              \n",
       "Afghanistan         Cereals                               5.898406e+05\n",
       "                    Wheat+Flour,Wheat Equivalent          5.210205e+05\n",
       "                    Sugar Raw Centrifugal                 2.988893e+05\n",
       "Albania             Cereals                               2.358327e+05\n",
       "                    Wheat+Flour,Wheat Equivalent          1.977996e+05\n",
       "                    Wheat                                 1.473262e+05\n",
       "Algeria             Cereals                               5.005716e+06\n",
       "                    Wheat+Flour,Wheat Equivalent          3.571040e+06\n",
       "                    Wheat                                 3.093106e+06\n",
       "American Samoa      Milk Equivalent                       3.368625e+03\n",
       "                    Total Meat                            2.858214e+03\n",
       "                    Cereals                               2.556804e+03\n",
       "Angola              Cereals                               4.163060e+05\n",
       "                    Wheat+Flour,Wheat Equivalent          2.449849e+05\n",
       "                    Beverages                             1.509927e+05\n",
       "Antigua and Barbuda Beverages                             5.920536e+03\n",
       "                    Cereals                               5.452268e+03\n",
       "                    Milk Equivalent                       5.032839e+03\n",
       "Argentina           Oilseeds                              2.167728e+05\n",
       "                    Bananas and plantains                 2.110490e+05"
      ]
     },
     "execution_count": 125,
     "metadata": {},
     "output_type": "execute_result"
    }
   ],
   "source": [
    "# Show the country and the biggest import products in a nice way\n",
    "import_data_sorted.groupby(level='country', group_keys=False).apply(lambda df: df.nlargest(n=3, columns='average_import_value')).head(20)"
   ]
  },
  {
   "cell_type": "code",
   "execution_count": 126,
   "metadata": {},
   "outputs": [
    {
     "data": {
      "text/html": [
       "<div>\n",
       "<style scoped>\n",
       "    .dataframe tbody tr th:only-of-type {\n",
       "        vertical-align: middle;\n",
       "    }\n",
       "\n",
       "    .dataframe tbody tr th {\n",
       "        vertical-align: top;\n",
       "    }\n",
       "\n",
       "    .dataframe thead th {\n",
       "        text-align: right;\n",
       "    }\n",
       "</style>\n",
       "<table border=\"1\" class=\"dataframe\">\n",
       "  <thead>\n",
       "    <tr style=\"text-align: right;\">\n",
       "      <th></th>\n",
       "      <th></th>\n",
       "      <th>average_export_value</th>\n",
       "    </tr>\n",
       "    <tr>\n",
       "      <th>country</th>\n",
       "      <th>item</th>\n",
       "      <th></th>\n",
       "    </tr>\n",
       "  </thead>\n",
       "  <tbody>\n",
       "    <tr>\n",
       "      <th rowspan=\"3\" valign=\"top\">Afghanistan</th>\n",
       "      <th>Raisins</th>\n",
       "      <td>3.588202e+04</td>\n",
       "    </tr>\n",
       "    <tr>\n",
       "      <th>Grapes</th>\n",
       "      <td>3.018829e+04</td>\n",
       "    </tr>\n",
       "    <tr>\n",
       "      <th>Vegetables, fresh nes</th>\n",
       "      <td>1.763130e+04</td>\n",
       "    </tr>\n",
       "    <tr>\n",
       "      <th rowspan=\"3\" valign=\"top\">Albania</th>\n",
       "      <th>Vegetables, fresh nes</th>\n",
       "      <td>1.886545e+04</td>\n",
       "    </tr>\n",
       "    <tr>\n",
       "      <th>Tomatoes</th>\n",
       "      <td>1.068041e+04</td>\n",
       "    </tr>\n",
       "    <tr>\n",
       "      <th>Beverages</th>\n",
       "      <td>7.931393e+03</td>\n",
       "    </tr>\n",
       "    <tr>\n",
       "      <th rowspan=\"3\" valign=\"top\">Algeria</th>\n",
       "      <th>Beverages</th>\n",
       "      <td>2.902509e+05</td>\n",
       "    </tr>\n",
       "    <tr>\n",
       "      <th>Wine+Vermouth+Sim.</th>\n",
       "      <td>2.828663e+05</td>\n",
       "    </tr>\n",
       "    <tr>\n",
       "      <th>Wine</th>\n",
       "      <td>2.792099e+05</td>\n",
       "    </tr>\n",
       "    <tr>\n",
       "      <th rowspan=\"3\" valign=\"top\">American Samoa</th>\n",
       "      <th>Pet food</th>\n",
       "      <td>6.626418e+03</td>\n",
       "    </tr>\n",
       "    <tr>\n",
       "      <th>Fodder &amp; Feeding stuff</th>\n",
       "      <td>6.508786e+03</td>\n",
       "    </tr>\n",
       "    <tr>\n",
       "      <th>Cotton lint</th>\n",
       "      <td>1.574500e+03</td>\n",
       "    </tr>\n",
       "    <tr>\n",
       "      <th rowspan=\"3\" valign=\"top\">Angola</th>\n",
       "      <th>Coffee Green+Roast</th>\n",
       "      <td>5.623784e+04</td>\n",
       "    </tr>\n",
       "    <tr>\n",
       "      <th>Coffee, green</th>\n",
       "      <td>5.623650e+04</td>\n",
       "    </tr>\n",
       "    <tr>\n",
       "      <th>Cereals</th>\n",
       "      <td>3.117533e+04</td>\n",
       "    </tr>\n",
       "    <tr>\n",
       "      <th rowspan=\"3\" valign=\"top\">Antigua and Barbuda</th>\n",
       "      <th>Sugar and Honey</th>\n",
       "      <td>2.764107e+03</td>\n",
       "    </tr>\n",
       "    <tr>\n",
       "      <th>Sugar,Total (Raw Equiv.)</th>\n",
       "      <td>2.327019e+03</td>\n",
       "    </tr>\n",
       "    <tr>\n",
       "      <th>Sugar Raw Centrifugal</th>\n",
       "      <td>2.327019e+03</td>\n",
       "    </tr>\n",
       "    <tr>\n",
       "      <th rowspan=\"2\" valign=\"top\">Argentina</th>\n",
       "      <th>Cereals</th>\n",
       "      <td>1.619998e+07</td>\n",
       "    </tr>\n",
       "    <tr>\n",
       "      <th>Fodder &amp; Feeding stuff</th>\n",
       "      <td>1.084092e+07</td>\n",
       "    </tr>\n",
       "  </tbody>\n",
       "</table>\n",
       "</div>"
      ],
      "text/plain": [
       "                                              average_export_value\n",
       "country             item                                          \n",
       "Afghanistan         Raisins                           3.588202e+04\n",
       "                    Grapes                            3.018829e+04\n",
       "                    Vegetables, fresh nes             1.763130e+04\n",
       "Albania             Vegetables, fresh nes             1.886545e+04\n",
       "                    Tomatoes                          1.068041e+04\n",
       "                    Beverages                         7.931393e+03\n",
       "Algeria             Beverages                         2.902509e+05\n",
       "                    Wine+Vermouth+Sim.                2.828663e+05\n",
       "                    Wine                              2.792099e+05\n",
       "American Samoa      Pet food                          6.626418e+03\n",
       "                    Fodder & Feeding stuff            6.508786e+03\n",
       "                    Cotton lint                       1.574500e+03\n",
       "Angola              Coffee Green+Roast                5.623784e+04\n",
       "                    Coffee, green                     5.623650e+04\n",
       "                    Cereals                           3.117533e+04\n",
       "Antigua and Barbuda Sugar and Honey                   2.764107e+03\n",
       "                    Sugar,Total (Raw Equiv.)          2.327019e+03\n",
       "                    Sugar Raw Centrifugal             2.327019e+03\n",
       "Argentina           Cereals                           1.619998e+07\n",
       "                    Fodder & Feeding stuff            1.084092e+07"
      ]
     },
     "execution_count": 126,
     "metadata": {},
     "output_type": "execute_result"
    }
   ],
   "source": [
    "# Show the country and the biggest export products in a nice way\n",
    "export_data_sorted.groupby(level='country', group_keys=False).apply(lambda df: df.nlargest(n=3, columns='average_export_value')).head(20)"
   ]
  },
  {
   "cell_type": "markdown",
   "metadata": {},
   "source": [
    "For future analysis we will focus on the Lebanon. This country has been in civil war (which is called [Lebanese Civil War](https://en.wikipedia.org/wiki/Lebanese_Civil_War)) from 1975 to 1990 which we are particularly interested in this project.\n",
    "\n",
    "Let us show the top 3 biggest import and export products in Lebanon."
   ]
  },
  {
   "cell_type": "code",
   "execution_count": 127,
   "metadata": {},
   "outputs": [
    {
     "name": "stdout",
     "output_type": "stream",
     "text": [
      "The top 3 import products in Lebanon are: ['Cereals', 'Wheat+Flour,Wheat Equivalent', 'Wheat'] \n",
      "The top 3 export products in Lebanon are: ['Oranges+Tang+Clem', 'Potatoes', 'Oranges']\n"
     ]
    }
   ],
   "source": [
    "print('The top 3 import products in Lebanon are:', import_data_sorted.loc['Lebanon'].nlargest(n=3, columns='average_import_value').index.tolist(),\n",
    "      '\\nThe top 3 export products in Lebanon are:', export_data_sorted.loc['Lebanon'].nlargest(n=3, columns='average_export_value').index.tolist())"
   ]
  },
  {
   "cell_type": "markdown",
   "metadata": {},
   "source": [
    "## OEC DATA\n",
    "\n",
    "Let us also download the raw version of the OEC dataset which contains the bilateral trading information - every import/export value has the *origin_country* and *destination_country*. This way we can know between which countries the trade was done.\n",
    "\n",
    "The file provided [here](https://atlas.media.mit.edu/static/db/raw/year_origin_destination_sitc_rev2.tsv.bz2) is very big (compressed version is \\~ 700 MB), that is why we will create a pickle file that will contain only necessary data. The next cell, that creates this pickle file, will be run once and then not used.\n",
    "\n",
    "The initial `year_origin_destination_sitc_rev2.tsv.bz2` file has product attributes that are classified using [SITC (Standard International Trade Classification)](https://en.wikipedia.org/wiki/Standard_International_Trade_Classification), and country attributes which are 3-char coded. The deciphering of the attributes is presented [here](https://atlas.media.mit.edu/static/db/raw/products_sitc_rev2.tsv.bz2) for product attributes and [here](https://atlas.media.mit.edu/static/db/raw/country_names.tsv.bz2) for country attributes. The product attributes comprise a huge diversity of products: from technical machinery, pharmacy products, to agricultural products. In this project we focus on the impact of the war on the crop trading so we define manually a list of the crop product attributes in the `food_titles` variable.\n",
    "\n",
    "We again focus only on Lebanon trading data, hence the preprocessed `lebanon_trading_data_destinations.pkl` will contain only info about Lebanon. The country and product attributes will be renamed and presented in a more friendly manner."
   ]
  },
  {
   "cell_type": "raw",
   "metadata": {
    "jupyter": {
     "source_hidden": true
    }
   },
   "source": [
    "# DO NOT RUN THIS CELL\n",
    "\n",
    "# The path to the OEC data\n",
    "oec_path = '../data/oec/'\n",
    "\n",
    "# Reading the needed files for the analysis\n",
    "trading_data_destinations = pd.read_csv('year_origin_destination_sitc_rev2.tsv.bz2', sep='\\t')\n",
    "country_code_names = pd.read_csv('country_names.tsv.bz2', sep='\\t')\n",
    "products_code_names = pd.read_csv('products_sitc_rev2.tsv.bz2', sep='\\t')\n",
    "\n",
    "# Drop the first few trash rows from the file\n",
    "trading_data_destinations.drop(index=[0, 1, 2], inplace=True)\n",
    "\n",
    "# Select only trading data about Lebanon\n",
    "trading_data_destinations = trading_data_destinations[(trading_data_destinations['origin'] == 'lbn') | (trading_data_destinations['dest'] == 'lbn')]\n",
    "\n",
    "# Renaming columns for better interpretation\n",
    "trading_data_destinations = trading_data_destinations.rename(columns={\n",
    "    'origin': 'origin_country',\n",
    "    'dest': 'destination_country',\n",
    "    'sitc4': 'item',\n",
    "    'export_val': 'export_value',\n",
    "    'import_val': 'import_value'\n",
    "})\n",
    "\n",
    "# Create the dictionaries to rename the product attributes and country attributes\n",
    "country_code_names_dict = dict(zip(country_code_names['id_3char'], country_code_names['name']))\n",
    "products_code_names_dict = dict(zip(products_code_names['sitc'], products_code_names['name']))\n",
    "\n",
    "# Renaming the product and country attributes\n",
    "trading_data_destinations['origin_country'] = trading_data_destinations['origin_country'].map(country_code_names_dict)\n",
    "trading_data_destinations['destination_country'] = trading_data_destinations['destination_country'].map(country_code_names_dict)\n",
    "trading_data_destinations['item'] = trading_data_destinations['item'].map(products_code_names_dict)\n",
    "\n",
    "# Drop the rows that have NaN value attributes in 'item' column\n",
    "trading_data_destinations.dropna(subset=['item'], inplace=True)\n",
    "\n",
    "# Convert the year to a datetime object\n",
    "trading_data_destinations['year'] = pd.to_datetime(trading_data_destinations['year'], format='%Y')\n",
    "\n",
    "# Select only the food attributes\n",
    "food_titles = ['Sugar Syrups', 'Miscellaneous Fermented Beverages', 'Beer', 'Liquor', 'Cigars', 'Acyclic Alcohols', 'Miscellaneous Animal Entrails', 'Pasta',\n",
    " 'Baked Goods', 'Vegetables, fresh or simply preserved; roots and tubers', 'Miscellaneous Vegetables', 'Frozen Vegetables', 'Vegetables, roots and tubers',\n",
    " 'Dried Vegetables', 'Flour', 'Vegetables', 'Fruit and nuts, fresh, dried', 'Miscellaneous Fruit', 'Fruit, preserved, and fruits preparations',\n",
    " 'Fruit Jams', 'Fruit or Vegetable Juices', 'Temporarily Preserved Fruit', 'Prepared Fruit', 'Sugar and honey', 'Confectionary Sugar', 'Chocolate',\n",
    " 'Margarine and shortening', 'Margarine', 'Miscellaneous Edibles', 'Miscellaneous Beverages', 'Alcoholic beverages', 'Wine', 'Fertilizers, crude',\n",
    " 'Crude Fertilizer', 'Olive Oil', 'Hydrogenated Oils', 'Fatty and Oil Acids', 'Feed for animals', 'Food Waste and Animal Feed', 'Coffee Extracts',\n",
    " 'Wheat and meslin, unmilled', 'Durum Wheat', 'Miscellaneous Wheat', 'Unmilled Barley', 'Maize', 'Cereals, unmilled', \n",
    " 'Cereal, flour or starch preparations of fruits or vegetables', 'Tea and mate', 'Maté', 'Oilcake', 'Oil seeds and oleaginous fruit', 'Soy Beans',\n",
    " 'Sunflower Seeds', 'Rape Seeds', 'Seeds and oleaginous fruit, whole or broken, for other fixed oils', 'Linseed', 'Miscellaneous Oil Seeds and Fruits',\n",
    " 'Oil Seeds Flour', 'Fixed vegetable oils and fats', 'Fixed vegetable oils, soft, crude refined or purified', 'Soy Bean Oil', 'Peanut Oil',\n",
    " 'Sunflower Seed Oil', 'Miscellaneous Vegetable Oils', 'Other fixed vegetable oils, fluid or solid, crude, refined', 'Linseed Oil', 'Castor Oil',\n",
    " 'Fixed Vegetable Oils', 'Animal and vegetable oils and fats, processed, and waxes', 'Processed Animal and Vegetable Oils', 'Essential Oils',\n",
    " 'Rice', 'Milled Rice', 'Miscellaneous Unmilled Cereals', 'Nuts', 'Tea', 'Hay', 'Green Groundnuts', 'Cotton Seeds', 'Sesame Seeds', 'Castor Oil Seeds',\n",
    " 'Bananas', 'Cane Sugar', 'Cocoa', 'Cocoa Beans', 'Unsweetened Cocoa Powder', 'Cocoa Butter', 'Copra', 'Palm Nuts and Kernels', 'Planting Seeds and Spores',\n",
    " 'Live Plants', 'Flowers', 'Palm Oil', 'Coconut Oil', 'Palm Kernel Oil', 'Waxes', 'Tobacco unmanufactured; tobacco refuse', 'Unstripped Tobacco',\n",
    " 'Stripped Tobacco', 'Tobacco Refuse', 'Manufactured tobacco', 'Cigarretes', 'Tobacco Substitutes', 'Manila Hemp', 'Oranges', 'Miscellaneous Citrus',\n",
    " 'Apples', 'Grapes and Raisins', 'Unmilled Oats', 'Wheat Flour', 'Non-Wheat Cereal Flour', 'Miscellaneous Cereal Grains', 'Malt',\n",
    " 'Malt Extract', 'Potatoes', 'Legumes', 'Tomatoes', 'Miscellaneous Root and Tuber Vegetables', 'Figs', 'Fruit Preserved by Sugar', 'Refined Sugars',\n",
    " 'Molasses', 'Coffee and coffee substitutes', 'Coffee', 'Spices', 'Pepper',  'Bran and Other Cereals Residues', 'Miscellaneous Vegetable Origin Materials',\n",
    " 'Preserved fish', 'Fish', 'Fresh Fish', 'Frozen Fish', 'Fish fillets', 'Frozen Fish Fillets', 'Fish, preserved', 'Crustaceans and Molluscs',\n",
    " 'Fish, crustaceans and molluscs, misc', 'Miscellaneous Fish', 'Crustaceans and molluscs, misc', 'Inedible Flours of Meat and Fish',\n",
    " 'Bones, Ivory and Horns', 'Animal oils and fats', 'Fat and Oils of Marine Animals', 'Bovine', 'Sheep and goat', 'Swine', 'Poultry', 'Equine',\n",
    " 'live animals used for food, misc', 'Bovine meat', 'Sheep and Goat Meat', 'Pig Meat', 'Poultry meat', 'Horse Meat', 'Bovine and Equine Entrails',\n",
    " 'Animal meat, misc', 'Preserved meat', 'Preserved meat', 'Meat and fish extract', 'Sausage', 'Miscellaneous Prepared Meats', 'Eggs',\n",
    " 'Eggs, in shell', 'Eggs, Shelled', 'Honey', 'Lard', 'Miscellaneous Animal Oils', 'Tanned Furskins', 'Fur Clothing', 'Wool and other animal hair (excluding tops)',\n",
    " 'Greasy Wool', 'Degreased Sheep Wool', 'Fine Animal Hair', 'Coarse Animal Hair', 'Wood and Animal Hair Waste', 'Carded Animal Hair',\n",
    " 'Crude animal materials', 'Crude vegetable materials, nes', 'Wool Yarn', 'Milk and cream', 'Milk', 'Preserved Milk', 'Butter',\n",
    " 'Butter products', 'Cheese', 'Unmilled Rye', 'Raw Furs', 'Hides and skins, excluding furs, raw', 'Raw Hides of Bovine and Equine',\n",
    " 'Raw Calf Skins', 'Raw Goat Skins', 'Raw Sheep Skin with Wool', 'Raw Sheep Skin without Wool', 'Miscellaneous Hides and Skins',\n",
    " 'Miscellaneous Animal Origin Materials', 'Leather', 'Calf leather', 'Bovine and Equine Leather', 'Sheep and Lamb Leather',\n",
    " 'Leather of Miscellaneous Animal Hides', 'Finished Leather', 'Manufactures of leather or of composition leather, nes; etc',\n",
    " 'Leather Articles Used in Machinery', 'Miscellaneous Articles of Leather', 'Live animals chiefly for food', 'Meat'\n",
    "              ]\n",
    "trading_data_destinations = trading_data_destinations.loc[trading_data_destinations['item'].isin(food_titles)]\n",
    "\n",
    "# Save the preprocessed version of the dataset\n",
    "trading_data_destinations.to_pickle(oec_path + 'lebanon_trading_data_destinations.pkl')"
   ]
  },
  {
   "cell_type": "code",
   "execution_count": 128,
   "metadata": {},
   "outputs": [],
   "source": [
    "# RUN THE ANALYSIS OF OEC DATA FROM THIS CELL\n",
    "\n",
    "# The path to the OEC data\n",
    "oec_path = '../data/oec/'\n",
    "\n",
    "# Read the preprocessed pickle file of the OEC data\n",
    "lebanon_trading_data_destinations = pd.read_pickle(oec_path + 'lebanon_trading_data_destinations.pkl')"
   ]
  },
  {
   "cell_type": "markdown",
   "metadata": {},
   "source": [
    "Let us calculate the number of rows with NaN values as we did before with FAO data."
   ]
  },
  {
   "cell_type": "code",
   "execution_count": 129,
   "metadata": {},
   "outputs": [
    {
     "name": "stdout",
     "output_type": "stream",
     "text": [
      "The number of rows with NaN values is: 41485 our of 257433\n"
     ]
    }
   ],
   "source": [
    "print('The number of rows with NaN values is: %d our of %d' % (lebanon_trading_data_destinations[pd.isnull(lebanon_trading_data_destinations).any(axis=1)].shape[0], lebanon_trading_data_destinations.shape[0]))"
   ]
  },
  {
   "cell_type": "markdown",
   "metadata": {},
   "source": [
    "Again we fill NaN values with zero."
   ]
  },
  {
   "cell_type": "code",
   "execution_count": 130,
   "metadata": {},
   "outputs": [],
   "source": [
    "# Filling the NaN values with 0\n",
    "lebanon_trading_data_destinations.fillna(0, inplace=True)"
   ]
  },
  {
   "cell_type": "markdown",
   "metadata": {},
   "source": [
    "As we will show after, the trading data for some products is doubled - both *the origin* and *the destination countries* have reported about the trade, hence some rows are contain information about the same trade. To erase this ambuguity we implemented a function `delete_twin_rows` that finds and delete one of the duplicate rows."
   ]
  },
  {
   "cell_type": "code",
   "execution_count": 131,
   "metadata": {},
   "outputs": [
    {
     "name": "stdout",
     "output_type": "stream",
     "text": [
      "The length of the initial dataset was 257433\n",
      "The length of the processed dataset was 151611\n"
     ]
    }
   ],
   "source": [
    "# The processing of this cell will take a while... \n",
    "def reverse_attributes(row):   \n",
    "    \"\"\"\n",
    "        The function is used to reverse the origin_country/destination_country attributes and \n",
    "        import_value/export_value attributes to erase the ambuguity of the data. The function\n",
    "        is applied for each row. After applying the function the origin_country column\n",
    "        has only Lebanon attribute.\n",
    "    \"\"\"\n",
    "    \n",
    "    changed_row = row.copy()\n",
    "\n",
    "    if row['origin_country'] != 'Lebanon':\n",
    "        changed_row['origin_country'], changed_row['destination_country'] = row['destination_country'], row['origin_country']\n",
    "        changed_row['import_value'], changed_row['export_value'] = row['export_value'], row['import_value']\n",
    "    \n",
    "    return changed_row\n",
    "\n",
    "print('The length of the initial dataset was %d' % lebanon_trading_data_destinations.shape[0])\n",
    "\n",
    "# Deleting the duplicate rows\n",
    "lebanon_trading_data_destinations = lebanon_trading_data_destinations.transform(reverse_attributes, axis='columns') \\\n",
    "                                                                         .drop_duplicates()\n",
    "print('The length of the processed dataset was %d' % lebanon_trading_data_destinations.shape[0])\n",
    "\n",
    "# Delete the origin_country column as it is useless now\n",
    "lebanon_trading_data_destinations.drop(columns='origin_country', inplace=True)"
   ]
  },
  {
   "cell_type": "markdown",
   "metadata": {},
   "source": [
    "## Main analysis of the datasets\n",
    "\n",
    "Firsly, let us plot the import and export values for the Lebanon."
   ]
  },
  {
   "cell_type": "code",
   "execution_count": 132,
   "metadata": {},
   "outputs": [],
   "source": [
    "# Calculating the summed import and export values for each country\n",
    "import_summed_data = import_data.groupby(['country', 'year']).sum().rename(columns={'value': 'total_import_value'})\n",
    "export_summed_data = export_data.groupby(['country', 'year']).sum().rename(columns={'value': 'total_export_value'})"
   ]
  },
  {
   "cell_type": "code",
   "execution_count": 133,
   "metadata": {},
   "outputs": [
    {
     "data": {
      "image/png": "[encoded data removed]",
      "text/plain": [
       "<Figure size 1080x504 with 1 Axes>"
      ]
     },
     "metadata": {},
     "output_type": "display_data"
    }
   ],
   "source": [
    "import matplotlib.ticker as ticker\n",
    "\n",
    "def plot_import_export(import_data, export_data, country):\n",
    "    \n",
    "    f, ax = plt.subplots(figsize=(15, 7))\n",
    "    timedates = export_data.loc[country].index\n",
    "    \n",
    "    ax.bar(timedates, export_data.loc[country]['total_export_value'].values, width=300, align='center', label='Total export value')\n",
    "    ax.bar(timedates, (-import_data).loc[country]['total_import_value'].values, width=300, align='center', label='Total import value')\n",
    "    \n",
    "    #ax.set_yscale('symlog')\n",
    "    ax.set_title('The import and the export values in %s' % country)\n",
    "    ax.set_ylabel('The amount in tonnes');\n",
    "    ax.legend()\n",
    "    \n",
    "    @ticker.FuncFormatter\n",
    "    def yaxis_formatter(x, pos):\n",
    "        label = f'{-int(x):,}' if x < 0 else f'{int(x):,}'\n",
    "        return label\n",
    "    \n",
    "    ax.yaxis.set_major_formatter(yaxis_formatter)\n",
    "    \n",
    "\n",
    "plot_import_export(import_summed_data, export_summed_data, 'Lebanon')"
   ]
  },
  {
   "cell_type": "markdown",
   "metadata": {},
   "source": [
    "## References\n",
    "\n",
    "[1] Feenstra, R. C., et al. (2005). World Trade Flows, 1962–2000. NBER working paper 11040"
   ]
  }
 ],
 "metadata": {
  "kernelspec": {
   "display_name": "Python 3",
   "language": "python",
   "name": "python3"
  },
  "language_info": {
   "codemirror_mode": {
    "name": "ipython",
    "version": 3
   },
   "file_extension": ".py",
   "mimetype": "text/x-python",
   "name": "python",
   "nbconvert_exporter": "python",
   "pygments_lexer": "ipython3",
   "version": "3.7.3"
  }
 },
 "nbformat": 4,
 "nbformat_minor": 4
}
