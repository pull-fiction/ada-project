{
 "cells": [
  {
   "cell_type": "code",
   "execution_count": 244,
   "metadata": {},
   "outputs": [],
   "source": [
    "import pandas as pd\n",
    "import matplotlib.pyplot as plt\n",
    "import seaborn as sns\n",
    "import numpy as np\n",
    "import matplotlib\n",
    "\n",
    "%matplotlib inline\n",
    "\n",
    "sns.set_style('whitegrid')\n",
    "\n",
    "# add time converter for matplotlib visualisation\n",
    "pd.plotting.register_matplotlib_converters()"
   ]
  },
  {
   "cell_type": "code",
   "execution_count": 245,
   "metadata": {},
   "outputs": [],
   "source": [
    "# The path to the raw crops and livestock dataset from FAO site (import/export data)\n",
    "fao_path_normalized = '../data/fao/'\n",
    "\n",
    "# Reading the dataset from csv file and leaving only needed columns\n",
    "trading_data_normalized = pd.read_csv(fao_path_normalized + 'trading_data.csv', encoding='latin-1')\n",
    "trading_data = trading_data_normalized[['Area', 'Item', 'Element', 'Year', 'Unit', 'Value']]\n",
    "\n",
    "# Renaming columns\n",
    "trading_data = trading_data.rename(columns={\n",
    "    'Area': 'country',\n",
    "    'Item': 'item',\n",
    "    'Element': 'value_meaning',\n",
    "    'Year': 'year',\n",
    "    'Value': 'value',\n",
    "    'Unit': 'unit'\n",
    "})\n",
    "\n",
    "# Convert the year to a datetime object\n",
    "trading_data['year'] = pd.to_datetime(trading_data['year'], format='%Y')\n",
    "\n",
    "# Leaving only the Import Quantity and the Export Quantity\n",
    "trading_data = trading_data[(trading_data['value_meaning'] == 'Import Quantity') | (trading_data['value_meaning'] == 'Export Quantity')]"
   ]
  },
  {
   "cell_type": "markdown",
   "metadata": {},
   "source": [
    "Let us get the list of countries in the `trading_data` dataframe."
   ]
  },
  {
   "cell_type": "code",
   "execution_count": 246,
   "metadata": {},
   "outputs": [
    {
     "data": {
      "text/plain": [
       "array(['Afghanistan', 'Albania', 'Algeria', 'American Samoa', 'Angola',\n",
       "       'Antigua and Barbuda', 'Argentina', 'Armenia', 'Aruba',\n",
       "       'Australia', 'Austria', 'Azerbaijan', 'Bahamas', 'Bahrain',\n",
       "       'Bangladesh', 'Barbados', 'Belarus', 'Belgium',\n",
       "       'Belgium-Luxembourg', 'Belize', 'Benin', 'Bermuda', 'Bhutan',\n",
       "       'Bolivia (Plurinational State of)', 'Bosnia and Herzegovina',\n",
       "       'Botswana', 'Brazil', 'British Virgin Islands',\n",
       "       'Brunei Darussalam', 'Bulgaria', 'Burkina Faso', 'Burundi',\n",
       "       'Cabo Verde', 'Cambodia', 'Cameroon', 'Canada', 'Cayman Islands',\n",
       "       'Central African Republic', 'Chad', 'Chile', 'China',\n",
       "       'China, Hong Kong SAR', 'China, Macao SAR', 'China, mainland',\n",
       "       'China, Taiwan Province of', 'Colombia', 'Comoros', 'Congo',\n",
       "       'Cook Islands', 'Costa Rica', \"Côte d'Ivoire\", 'Croatia', 'Cuba',\n",
       "       'Cyprus', 'Czechia', 'Czechoslovakia',\n",
       "       \"Democratic People's Republic of Korea\",\n",
       "       'Democratic Republic of the Congo', 'Denmark', 'Djibouti',\n",
       "       'Dominica', 'Dominican Republic', 'Ecuador', 'Egypt',\n",
       "       'El Salvador', 'Equatorial Guinea', 'Eritrea', 'Estonia',\n",
       "       'Eswatini', 'Ethiopia', 'Ethiopia PDR',\n",
       "       'Falkland Islands (Malvinas)', 'Faroe Islands', 'Fiji', 'Finland',\n",
       "       'France', 'French Polynesia', 'Gabon', 'Gambia', 'Georgia',\n",
       "       'Germany', 'Ghana', 'Greece', 'Grenada', 'Guam', 'Guatemala',\n",
       "       'Guinea', 'Guinea-Bissau', 'Guyana', 'Haiti', 'Honduras',\n",
       "       'Hungary', 'Iceland', 'India', 'Indonesia',\n",
       "       'Iran (Islamic Republic of)', 'Iraq', 'Ireland', 'Israel', 'Italy',\n",
       "       'Jamaica', 'Japan', 'Jordan', 'Kazakhstan', 'Kenya', 'Kiribati',\n",
       "       'Kuwait', 'Kyrgyzstan', \"Lao People's Democratic Republic\",\n",
       "       'Latvia', 'Lebanon', 'Lesotho', 'Liberia', 'Libya', 'Lithuania',\n",
       "       'Luxembourg', 'Madagascar', 'Malawi', 'Malaysia', 'Maldives',\n",
       "       'Mali', 'Malta', 'Mauritania', 'Mauritius', 'Mexico', 'Mongolia',\n",
       "       'Montenegro', 'Morocco', 'Mozambique', 'Myanmar', 'Namibia',\n",
       "       'Nauru', 'Nepal', 'Netherlands', 'Netherlands Antilles (former)',\n",
       "       'New Caledonia', 'New Zealand', 'Nicaragua', 'Niger', 'Nigeria',\n",
       "       'Niue', 'Norfolk Island', 'Norway',\n",
       "       'Occupied Palestinian Territory', 'Oman',\n",
       "       'Pacific Islands Trust Territory', 'Pakistan', 'Panama',\n",
       "       'Papua New Guinea', 'Paraguay', 'Peru', 'Philippines', 'Poland',\n",
       "       'Portugal', 'Qatar', 'Republic of Korea', 'Republic of Moldova',\n",
       "       'Romania', 'Russian Federation', 'Rwanda', 'Saint Kitts and Nevis',\n",
       "       'Saint Lucia', 'Saint Pierre and Miquelon',\n",
       "       'Saint Vincent and the Grenadines', 'Samoa',\n",
       "       'Sao Tome and Principe', 'Saudi Arabia', 'Senegal', 'Serbia',\n",
       "       'Serbia and Montenegro', 'Seychelles', 'Sierra Leone', 'Singapore',\n",
       "       'Slovakia', 'Slovenia', 'Solomon Islands', 'Somalia',\n",
       "       'South Africa', 'South Sudan', 'Spain', 'Sri Lanka', 'Sudan',\n",
       "       'Sudan (former)', 'Suriname', 'Sweden', 'Switzerland',\n",
       "       'Syrian Arab Republic', 'Tajikistan', 'Thailand',\n",
       "       'The former Yugoslav Republic of Macedonia', 'Timor-Leste', 'Togo',\n",
       "       'Tonga', 'Trinidad and Tobago', 'Tunisia', 'Turkey',\n",
       "       'Turkmenistan', 'Tuvalu', 'Uganda', 'Ukraine',\n",
       "       'United Arab Emirates', 'United Kingdom',\n",
       "       'United Republic of Tanzania', 'United States of America',\n",
       "       'Uruguay', 'USSR', 'Uzbekistan', 'Vanuatu',\n",
       "       'Venezuela (Bolivarian Republic of)', 'Viet Nam', 'Yemen',\n",
       "       'Yugoslav SFR', 'Zambia', 'Zimbabwe', 'World', 'Africa',\n",
       "       'Eastern Africa', 'Middle Africa', 'Northern Africa',\n",
       "       'Southern Africa', 'Western Africa', 'Americas',\n",
       "       'Northern America', 'Central America', 'Caribbean',\n",
       "       'South America', 'Asia', 'Central Asia', 'Eastern Asia',\n",
       "       'Southern Asia', 'South-Eastern Asia', 'Western Asia', 'Europe',\n",
       "       'Eastern Europe', 'Northern Europe', 'Southern Europe',\n",
       "       'Western Europe', 'Oceania', 'Australia & New Zealand',\n",
       "       'Melanesia', 'Micronesia', 'Polynesia', 'EU(12)ex.int',\n",
       "       'EU(15)ex.int', 'EU(25)ex.int', 'EU(27)ex.int', 'European Union',\n",
       "       'European Union (exc intra-trade)', 'Least Developed Countries',\n",
       "       'Land Locked Developing Countries',\n",
       "       'Small Island Developing States',\n",
       "       'Low Income Food Deficit Countries',\n",
       "       'Net Food Importing Developing Countries'], dtype=object)"
      ]
     },
     "execution_count": 246,
     "metadata": {},
     "output_type": "execute_result"
    }
   ],
   "source": [
    "trading_data['country'].unique()"
   ]
  },
  {
   "cell_type": "markdown",
   "metadata": {},
   "source": [
    "We can see that in the end of this list we have rows indicating not the countries but the aggregated data (e.g. 'World', 'Africa', 'European Union trade', etc). Let us drop this columns."
   ]
  },
  {
   "cell_type": "code",
   "execution_count": 247,
   "metadata": {},
   "outputs": [],
   "source": [
    "list_of_aggregated_data_rows = ['World', 'Africa',\n",
    "       'Eastern Africa', 'Middle Africa', 'Northern Africa',\n",
    "       'Southern Africa', 'Western Africa', 'Americas',\n",
    "       'Northern America', 'Central America', 'Caribbean',\n",
    "       'South America', 'Asia', 'Central Asia', 'Eastern Asia',\n",
    "       'Southern Asia', 'South-Eastern Asia', 'Western Asia', 'Europe',\n",
    "       'Eastern Europe', 'Northern Europe', 'Southern Europe',\n",
    "       'Western Europe', 'Oceania', 'Australia & New Zealand',\n",
    "       'Melanesia', 'Micronesia', 'Polynesia', 'EU(12)ex.int',\n",
    "       'EU(15)ex.int', 'EU(25)ex.int', 'EU(27)ex.int', 'European Union',\n",
    "       'European Union (exc intra-trade)', 'Least Developed Countries',\n",
    "       'Land Locked Developing Countries',\n",
    "       'Small Island Developing States',\n",
    "       'Low Income Food Deficit Countries',\n",
    "       'Net Food Importing Developing Countries']\n",
    "\n",
    "trading_data = trading_data.set_index('country').drop(index=list_of_aggregated_data_rows).reset_index()"
   ]
  },
  {
   "cell_type": "markdown",
   "metadata": {},
   "source": [
    "Let us calculate the number of rows with NaN values."
   ]
  },
  {
   "cell_type": "code",
   "execution_count": 248,
   "metadata": {},
   "outputs": [
    {
     "name": "stdout",
     "output_type": "stream",
     "text": [
      "The number of rows with NaN values is: 1321355\n"
     ]
    }
   ],
   "source": [
    "print('The number of rows with NaN values is: %d' % trading_data[pd.isnull(trading_data).any(axis=1)].shape[0])"
   ]
  },
  {
   "cell_type": "markdown",
   "metadata": {},
   "source": [
    "We can see that we have a **huge** number of rows with NaN values. In scope of our project we treat these values as zero, because in most cases we will focus only on the major trading products when comparing different countries."
   ]
  },
  {
   "cell_type": "code",
   "execution_count": 249,
   "metadata": {},
   "outputs": [],
   "source": [
    "# Filling the NaN values with 0\n",
    "trading_data.fillna(0, inplace=True)"
   ]
  },
  {
   "cell_type": "markdown",
   "metadata": {},
   "source": [
    "Now we can separate the import data and the export data for future analysis."
   ]
  },
  {
   "cell_type": "code",
   "execution_count": 250,
   "metadata": {},
   "outputs": [],
   "source": [
    "# Creating additional dataframes for keeping import and export data\n",
    "import_data = trading_data[trading_data['value_meaning'] == 'Import Quantity']\n",
    "export_data = trading_data[trading_data['value_meaning'] == 'Export Quantity']"
   ]
  },
  {
   "cell_type": "markdown",
   "metadata": {},
   "source": [
    "Let us see how many distinct trading products do we have in each dataset."
   ]
  },
  {
   "cell_type": "code",
   "execution_count": 251,
   "metadata": {},
   "outputs": [
    {
     "name": "stdout",
     "output_type": "stream",
     "text": [
      "The number of distinct trading products in import dataset is: 452\n",
      "The number of distinct trading products in export dataset is: 446\n"
     ]
    }
   ],
   "source": [
    "print('The number of distinct trading products in import dataset is: %d' % len(import_data['item'].unique()))\n",
    "print('The number of distinct trading products in export dataset is: %d' % len(export_data['item'].unique()))"
   ]
  },
  {
   "cell_type": "markdown",
   "metadata": {},
   "source": [
    "We can see that in our dataset we have a **huge** diversity of the trading products. It will be convenient to sort them by the average import and export value over the time period - in that case we will have the most important products with the biggest trading (import or export) value above. We will create two additional dataframes `import_data_sorted` and `export_data_sorted` which keeps the biggest trading (based on the average import/export value) products above."
   ]
  },
  {
   "cell_type": "code",
   "execution_count": 252,
   "metadata": {},
   "outputs": [],
   "source": [
    "# Create the dataframe which contains the biggest import products for each country\n",
    "import_data_sorted = (import_data.groupby(['country', 'item'])\n",
    "                           .mean()\n",
    "                               .groupby(level='country', group_keys=False)\n",
    "                                   .apply(lambda x: x.sort_values(by='value', ascending=False))\n",
    "                                       .rename(columns={'value': 'average_import_value'})\n",
    "                      )\n",
    "\n",
    "# Create the dataframe which contains the biggest export products for each country\n",
    "export_data_sorted = (export_data.groupby(['country', 'item'])\n",
    "                           .mean()\n",
    "                               .groupby(level='country', group_keys=False)\n",
    "                                   .apply(lambda x: x.sort_values(by='value', ascending=False))\n",
    "                                       .rename(columns={'value': 'average_export_value'})\n",
    "                      )"
   ]
  },
  {
   "cell_type": "code",
   "execution_count": 253,
   "metadata": {},
   "outputs": [
    {
     "data": {
      "text/html": [
       "<div>\n",
       "<style scoped>\n",
       "    .dataframe tbody tr th:only-of-type {\n",
       "        vertical-align: middle;\n",
       "    }\n",
       "\n",
       "    .dataframe tbody tr th {\n",
       "        vertical-align: top;\n",
       "    }\n",
       "\n",
       "    .dataframe thead th {\n",
       "        text-align: right;\n",
       "    }\n",
       "</style>\n",
       "<table border=\"1\" class=\"dataframe\">\n",
       "  <thead>\n",
       "    <tr style=\"text-align: right;\">\n",
       "      <th></th>\n",
       "      <th></th>\n",
       "      <th></th>\n",
       "      <th>average_import_value</th>\n",
       "    </tr>\n",
       "    <tr>\n",
       "      <th>country</th>\n",
       "      <th>country</th>\n",
       "      <th>item</th>\n",
       "      <th></th>\n",
       "    </tr>\n",
       "  </thead>\n",
       "  <tbody>\n",
       "    <tr>\n",
       "      <th rowspan=\"3\" valign=\"top\">Afghanistan</th>\n",
       "      <th rowspan=\"3\" valign=\"top\">Afghanistan</th>\n",
       "      <th>Cereals</th>\n",
       "      <td>5.898406e+05</td>\n",
       "    </tr>\n",
       "    <tr>\n",
       "      <th>Wheat+Flour,Wheat Equivalent</th>\n",
       "      <td>5.210205e+05</td>\n",
       "    </tr>\n",
       "    <tr>\n",
       "      <th>Sugar Raw Centrifugal</th>\n",
       "      <td>2.988893e+05</td>\n",
       "    </tr>\n",
       "    <tr>\n",
       "      <th rowspan=\"3\" valign=\"top\">Albania</th>\n",
       "      <th rowspan=\"3\" valign=\"top\">Albania</th>\n",
       "      <th>Cereals</th>\n",
       "      <td>2.358327e+05</td>\n",
       "    </tr>\n",
       "    <tr>\n",
       "      <th>Wheat+Flour,Wheat Equivalent</th>\n",
       "      <td>1.977996e+05</td>\n",
       "    </tr>\n",
       "    <tr>\n",
       "      <th>Wheat</th>\n",
       "      <td>1.473262e+05</td>\n",
       "    </tr>\n",
       "    <tr>\n",
       "      <th rowspan=\"3\" valign=\"top\">Algeria</th>\n",
       "      <th rowspan=\"3\" valign=\"top\">Algeria</th>\n",
       "      <th>Cereals</th>\n",
       "      <td>5.005716e+06</td>\n",
       "    </tr>\n",
       "    <tr>\n",
       "      <th>Wheat+Flour,Wheat Equivalent</th>\n",
       "      <td>3.571040e+06</td>\n",
       "    </tr>\n",
       "    <tr>\n",
       "      <th>Wheat</th>\n",
       "      <td>3.093106e+06</td>\n",
       "    </tr>\n",
       "    <tr>\n",
       "      <th rowspan=\"3\" valign=\"top\">American Samoa</th>\n",
       "      <th rowspan=\"3\" valign=\"top\">American Samoa</th>\n",
       "      <th>Milk Equivalent</th>\n",
       "      <td>3.368625e+03</td>\n",
       "    </tr>\n",
       "    <tr>\n",
       "      <th>Total Meat</th>\n",
       "      <td>2.858214e+03</td>\n",
       "    </tr>\n",
       "    <tr>\n",
       "      <th>Cereals</th>\n",
       "      <td>2.556804e+03</td>\n",
       "    </tr>\n",
       "    <tr>\n",
       "      <th rowspan=\"3\" valign=\"top\">Angola</th>\n",
       "      <th rowspan=\"3\" valign=\"top\">Angola</th>\n",
       "      <th>Cereals</th>\n",
       "      <td>4.163060e+05</td>\n",
       "    </tr>\n",
       "    <tr>\n",
       "      <th>Wheat+Flour,Wheat Equivalent</th>\n",
       "      <td>2.449849e+05</td>\n",
       "    </tr>\n",
       "    <tr>\n",
       "      <th>Beverages</th>\n",
       "      <td>1.509927e+05</td>\n",
       "    </tr>\n",
       "    <tr>\n",
       "      <th rowspan=\"3\" valign=\"top\">Antigua and Barbuda</th>\n",
       "      <th rowspan=\"3\" valign=\"top\">Antigua and Barbuda</th>\n",
       "      <th>Beverages</th>\n",
       "      <td>5.920536e+03</td>\n",
       "    </tr>\n",
       "    <tr>\n",
       "      <th>Cereals</th>\n",
       "      <td>5.452268e+03</td>\n",
       "    </tr>\n",
       "    <tr>\n",
       "      <th>Milk Equivalent</th>\n",
       "      <td>5.032839e+03</td>\n",
       "    </tr>\n",
       "    <tr>\n",
       "      <th rowspan=\"2\" valign=\"top\">Argentina</th>\n",
       "      <th rowspan=\"2\" valign=\"top\">Argentina</th>\n",
       "      <th>Oilseeds</th>\n",
       "      <td>2.167728e+05</td>\n",
       "    </tr>\n",
       "    <tr>\n",
       "      <th>Bananas and plantains</th>\n",
       "      <td>2.110490e+05</td>\n",
       "    </tr>\n",
       "  </tbody>\n",
       "</table>\n",
       "</div>"
      ],
      "text/plain": [
       "                                                                      average_import_value\n",
       "country             country             item                                              \n",
       "Afghanistan         Afghanistan         Cereals                               5.898406e+05\n",
       "                                        Wheat+Flour,Wheat Equivalent          5.210205e+05\n",
       "                                        Sugar Raw Centrifugal                 2.988893e+05\n",
       "Albania             Albania             Cereals                               2.358327e+05\n",
       "                                        Wheat+Flour,Wheat Equivalent          1.977996e+05\n",
       "                                        Wheat                                 1.473262e+05\n",
       "Algeria             Algeria             Cereals                               5.005716e+06\n",
       "                                        Wheat+Flour,Wheat Equivalent          3.571040e+06\n",
       "                                        Wheat                                 3.093106e+06\n",
       "American Samoa      American Samoa      Milk Equivalent                       3.368625e+03\n",
       "                                        Total Meat                            2.858214e+03\n",
       "                                        Cereals                               2.556804e+03\n",
       "Angola              Angola              Cereals                               4.163060e+05\n",
       "                                        Wheat+Flour,Wheat Equivalent          2.449849e+05\n",
       "                                        Beverages                             1.509927e+05\n",
       "Antigua and Barbuda Antigua and Barbuda Beverages                             5.920536e+03\n",
       "                                        Cereals                               5.452268e+03\n",
       "                                        Milk Equivalent                       5.032839e+03\n",
       "Argentina           Argentina           Oilseeds                              2.167728e+05\n",
       "                                        Bananas and plantains                 2.110490e+05"
      ]
     },
     "execution_count": 253,
     "metadata": {},
     "output_type": "execute_result"
    }
   ],
   "source": [
    "# Show the country and the biggest import products in a nice way\n",
    "import_data_sorted.groupby(level='country', group_keys=True).apply(lambda df: df.nlargest(n=3, columns='average_import_value')).head(20)"
   ]
  },
  {
   "cell_type": "code",
   "execution_count": 254,
   "metadata": {},
   "outputs": [
    {
     "data": {
      "text/html": [
       "<div>\n",
       "<style scoped>\n",
       "    .dataframe tbody tr th:only-of-type {\n",
       "        vertical-align: middle;\n",
       "    }\n",
       "\n",
       "    .dataframe tbody tr th {\n",
       "        vertical-align: top;\n",
       "    }\n",
       "\n",
       "    .dataframe thead th {\n",
       "        text-align: right;\n",
       "    }\n",
       "</style>\n",
       "<table border=\"1\" class=\"dataframe\">\n",
       "  <thead>\n",
       "    <tr style=\"text-align: right;\">\n",
       "      <th></th>\n",
       "      <th></th>\n",
       "      <th></th>\n",
       "      <th>average_export_value</th>\n",
       "    </tr>\n",
       "    <tr>\n",
       "      <th>country</th>\n",
       "      <th>country</th>\n",
       "      <th>item</th>\n",
       "      <th></th>\n",
       "    </tr>\n",
       "  </thead>\n",
       "  <tbody>\n",
       "    <tr>\n",
       "      <th rowspan=\"3\" valign=\"top\">Afghanistan</th>\n",
       "      <th rowspan=\"3\" valign=\"top\">Afghanistan</th>\n",
       "      <th>Raisins</th>\n",
       "      <td>3.588202e+04</td>\n",
       "    </tr>\n",
       "    <tr>\n",
       "      <th>Grapes</th>\n",
       "      <td>3.018829e+04</td>\n",
       "    </tr>\n",
       "    <tr>\n",
       "      <th>Vegetables, fresh nes</th>\n",
       "      <td>1.763130e+04</td>\n",
       "    </tr>\n",
       "    <tr>\n",
       "      <th rowspan=\"3\" valign=\"top\">Albania</th>\n",
       "      <th rowspan=\"3\" valign=\"top\">Albania</th>\n",
       "      <th>Vegetables, fresh nes</th>\n",
       "      <td>1.886545e+04</td>\n",
       "    </tr>\n",
       "    <tr>\n",
       "      <th>Tomatoes</th>\n",
       "      <td>1.068041e+04</td>\n",
       "    </tr>\n",
       "    <tr>\n",
       "      <th>Beverages</th>\n",
       "      <td>7.931393e+03</td>\n",
       "    </tr>\n",
       "    <tr>\n",
       "      <th rowspan=\"3\" valign=\"top\">Algeria</th>\n",
       "      <th rowspan=\"3\" valign=\"top\">Algeria</th>\n",
       "      <th>Beverages</th>\n",
       "      <td>2.902509e+05</td>\n",
       "    </tr>\n",
       "    <tr>\n",
       "      <th>Wine+Vermouth+Sim.</th>\n",
       "      <td>2.828663e+05</td>\n",
       "    </tr>\n",
       "    <tr>\n",
       "      <th>Wine</th>\n",
       "      <td>2.792099e+05</td>\n",
       "    </tr>\n",
       "    <tr>\n",
       "      <th rowspan=\"3\" valign=\"top\">American Samoa</th>\n",
       "      <th rowspan=\"3\" valign=\"top\">American Samoa</th>\n",
       "      <th>Pet food</th>\n",
       "      <td>6.626418e+03</td>\n",
       "    </tr>\n",
       "    <tr>\n",
       "      <th>Fodder &amp; Feeding stuff</th>\n",
       "      <td>6.508786e+03</td>\n",
       "    </tr>\n",
       "    <tr>\n",
       "      <th>Cotton lint</th>\n",
       "      <td>1.574500e+03</td>\n",
       "    </tr>\n",
       "    <tr>\n",
       "      <th rowspan=\"3\" valign=\"top\">Angola</th>\n",
       "      <th rowspan=\"3\" valign=\"top\">Angola</th>\n",
       "      <th>Coffee Green+Roast</th>\n",
       "      <td>5.623784e+04</td>\n",
       "    </tr>\n",
       "    <tr>\n",
       "      <th>Coffee, green</th>\n",
       "      <td>5.623650e+04</td>\n",
       "    </tr>\n",
       "    <tr>\n",
       "      <th>Cereals</th>\n",
       "      <td>3.117533e+04</td>\n",
       "    </tr>\n",
       "    <tr>\n",
       "      <th rowspan=\"3\" valign=\"top\">Antigua and Barbuda</th>\n",
       "      <th rowspan=\"3\" valign=\"top\">Antigua and Barbuda</th>\n",
       "      <th>Sugar and Honey</th>\n",
       "      <td>2.764107e+03</td>\n",
       "    </tr>\n",
       "    <tr>\n",
       "      <th>Sugar,Total (Raw Equiv.)</th>\n",
       "      <td>2.327019e+03</td>\n",
       "    </tr>\n",
       "    <tr>\n",
       "      <th>Sugar Raw Centrifugal</th>\n",
       "      <td>2.327019e+03</td>\n",
       "    </tr>\n",
       "    <tr>\n",
       "      <th rowspan=\"2\" valign=\"top\">Argentina</th>\n",
       "      <th rowspan=\"2\" valign=\"top\">Argentina</th>\n",
       "      <th>Cereals</th>\n",
       "      <td>1.619998e+07</td>\n",
       "    </tr>\n",
       "    <tr>\n",
       "      <th>Fodder &amp; Feeding stuff</th>\n",
       "      <td>1.084092e+07</td>\n",
       "    </tr>\n",
       "  </tbody>\n",
       "</table>\n",
       "</div>"
      ],
      "text/plain": [
       "                                                                  average_export_value\n",
       "country             country             item                                          \n",
       "Afghanistan         Afghanistan         Raisins                           3.588202e+04\n",
       "                                        Grapes                            3.018829e+04\n",
       "                                        Vegetables, fresh nes             1.763130e+04\n",
       "Albania             Albania             Vegetables, fresh nes             1.886545e+04\n",
       "                                        Tomatoes                          1.068041e+04\n",
       "                                        Beverages                         7.931393e+03\n",
       "Algeria             Algeria             Beverages                         2.902509e+05\n",
       "                                        Wine+Vermouth+Sim.                2.828663e+05\n",
       "                                        Wine                              2.792099e+05\n",
       "American Samoa      American Samoa      Pet food                          6.626418e+03\n",
       "                                        Fodder & Feeding stuff            6.508786e+03\n",
       "                                        Cotton lint                       1.574500e+03\n",
       "Angola              Angola              Coffee Green+Roast                5.623784e+04\n",
       "                                        Coffee, green                     5.623650e+04\n",
       "                                        Cereals                           3.117533e+04\n",
       "Antigua and Barbuda Antigua and Barbuda Sugar and Honey                   2.764107e+03\n",
       "                                        Sugar,Total (Raw Equiv.)          2.327019e+03\n",
       "                                        Sugar Raw Centrifugal             2.327019e+03\n",
       "Argentina           Argentina           Cereals                           1.619998e+07\n",
       "                                        Fodder & Feeding stuff            1.084092e+07"
      ]
     },
     "execution_count": 254,
     "metadata": {},
     "output_type": "execute_result"
    }
   ],
   "source": [
    "# Show the country and the biggest export products in a nice way\n",
    "export_data_sorted.groupby(level='country', group_keys=True).apply(lambda df: df.nlargest(n=3, columns='average_export_value')).head(20)"
   ]
  },
  {
   "cell_type": "markdown",
   "metadata": {},
   "source": [
    "Let us plot the import and the export levels of Afghanistan during the period of observation."
   ]
  },
  {
   "cell_type": "code",
   "execution_count": 255,
   "metadata": {},
   "outputs": [],
   "source": [
    "# Calculating the summed import and export values for each country\n",
    "import_summed_data = import_data.groupby(['country', 'year']).sum().rename(columns={'value': 'total_import_value'})\n",
    "export_summed_data = export_data.groupby(['country', 'year']).sum().rename(columns={'value': 'total_export_value'})"
   ]
  },
  {
   "cell_type": "code",
   "execution_count": 256,
   "metadata": {},
   "outputs": [
    {
     "data": {
      "image/png": "[encoded data removed]",
      "text/plain": [
       "<Figure size 1080x504 with 1 Axes>"
      ]
     },
     "metadata": {},
     "output_type": "display_data"
    }
   ],
   "source": [
    "f, ax = plt.subplots(figsize=(15, 7))\n",
    "\n",
    "import_summed_data.loc['Afghanistan'].plot.line(ax=ax, y='total_import_value', label='Total import value')\n",
    "export_summed_data.loc['Afghanistan'].plot.line(ax=ax, y='total_export_value', label='Total export value')\n",
    "ax.set_yscale('log')\n",
    "ax.set_title('The import and the export values in Afghanistan ')\n",
    "ax.set_ylabel('The amount in tonnes');"
   ]
  }
 ],
 "metadata": {
  "kernelspec": {
   "display_name": "Python 3",
   "language": "python",
   "name": "python3"
  },
  "language_info": {
   "codemirror_mode": {
    "name": "ipython",
    "version": 3
   },
   "file_extension": ".py",
   "mimetype": "text/x-python",
   "name": "python",
   "nbconvert_exporter": "python",
   "pygments_lexer": "ipython3",
   "version": "3.7.3"
  }
 },
 "nbformat": 4,
 "nbformat_minor": 4
}
