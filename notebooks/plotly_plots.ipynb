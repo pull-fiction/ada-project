{
 "cells": [
  {
   "cell_type": "code",
   "execution_count": 1,
   "metadata": {},
   "outputs": [
    {
     "data": {
      "text/html": [
       "        <script type=\"text/javascript\">\n",
       "        window.PlotlyConfig = {MathJaxConfig: 'local'};\n",
       "        if (window.MathJax) {MathJax.Hub.Config({SVG: {font: \"STIX-Web\"}});}\n",
       "        if (typeof require !== 'undefined') {\n",
       "        require.undef(\"plotly\");\n",
       "        requirejs.config({\n",
       "            paths: {\n",
       "                'plotly': ['https://cdn.plot.ly/plotly-latest.min']\n",
       "            }\n",
       "        });\n",
       "        require(['plotly'], function(Plotly) {\n",
       "            window._Plotly = Plotly;\n",
       "        });\n",
       "        }\n",
       "        </script>\n",
       "        "
      ]
     },
     "metadata": {},
     "output_type": "display_data"
    }
   ],
   "source": [
    "import pandas as pd\n",
    "import numpy as np\n",
    "import plotly.graph_objects as go\n",
    "import plotly\n",
    "import warnings\n",
    "warnings.filterwarnings('ignore')\n",
    "\n",
    "plotly.offline.init_notebook_mode(connected=True)"
   ]
  },
  {
   "cell_type": "code",
   "execution_count": 2,
   "metadata": {},
   "outputs": [],
   "source": [
    "# Import DFs we need\n",
    "\n",
    "# Set folder name\n",
    "file_path = '../pandas_dfs/'\n",
    "\n",
    "# Set filenames\n",
    "merged_data_file = 'merged_data.csv'\n",
    "final_wars_file = 'final_wars_df.csv'\n",
    "\n",
    "# Read the files\n",
    "merged_data = pd.read_csv(file_path + merged_data_file, encoding='latin-1')\n",
    "final_wars_df = pd.read_csv(file_path + final_wars_file, encoding='latin-1')"
   ]
  },
  {
   "cell_type": "code",
   "execution_count": 3,
   "metadata": {},
   "outputs": [],
   "source": [
    "# wasn't able to import the function from src.plots, so just copied it in for now\n",
    "\n",
    "def year_in_war(country_wars, year_row):\n",
    "    year = year_row['year']\n",
    "    \n",
    "    for index, war_row in country_wars.iterrows():\n",
    "        if war_row['start_year'] <= year <= war_row['end_year']:\n",
    "            return True\n",
    "    \n",
    "    return False"
   ]
  },
  {
   "cell_type": "code",
   "execution_count": 4,
   "metadata": {},
   "outputs": [],
   "source": [
    "def year_war_name(country_wars, year_row):\n",
    "    year = year_row['year']\n",
    "    \n",
    "    for index, war_row in country_wars.iterrows():\n",
    "        if war_row['start_year'] <= year <= war_row['end_year']:\n",
    "            return country_wars.iloc[index, country_wars.columns.get_loc('name')]\n",
    "    \n",
    "    return 0"
   ]
  },
  {
   "cell_type": "code",
   "execution_count": 5,
   "metadata": {},
   "outputs": [],
   "source": [
    "def country_in_war(wars_df, prod_per_year_per_country, country):\n",
    "    country_wars = (\n",
    "        wars_df[wars_df['country'].str.contains(country)]\n",
    "            .groupby(['name', 'start_year', 'end_year'])\n",
    "            .sum()\n",
    "            .reset_index()\n",
    "            .drop('is_state', axis=1)\n",
    "    )\n",
    "\n",
    "    country_crops = (\n",
    "        prod_per_year_per_country[prod_per_year_per_country['country'] == country]\n",
    "            .drop('country', axis=1)\n",
    "    )\n",
    "    \n",
    "    country_crops['in_war'] = country_crops.apply(lambda row: year_in_war(country_wars, row), axis=1)\n",
    "    \n",
    "    country_crops['warName'] = country_crops.apply(lambda row: year_war_name(country_wars, row), axis=1)\n",
    "    \n",
    "    return country_crops"
   ]
  },
  {
   "cell_type": "code",
   "execution_count": 6,
   "metadata": {},
   "outputs": [
    {
     "data": {
      "text/html": [
       "<div>\n",
       "<style scoped>\n",
       "    .dataframe tbody tr th:only-of-type {\n",
       "        vertical-align: middle;\n",
       "    }\n",
       "\n",
       "    .dataframe tbody tr th {\n",
       "        vertical-align: top;\n",
       "    }\n",
       "\n",
       "    .dataframe thead th {\n",
       "        text-align: right;\n",
       "    }\n",
       "</style>\n",
       "<table border=\"1\" class=\"dataframe\">\n",
       "  <thead>\n",
       "    <tr style=\"text-align: right;\">\n",
       "      <th></th>\n",
       "      <th>country</th>\n",
       "      <th>year</th>\n",
       "      <th>value_crop</th>\n",
       "      <th>value_livestock</th>\n",
       "      <th>value_population</th>\n",
       "      <th>value_land_area</th>\n",
       "    </tr>\n",
       "  </thead>\n",
       "  <tbody>\n",
       "    <tr>\n",
       "      <td>0</td>\n",
       "      <td>Afghanistan</td>\n",
       "      <td>1961-01-01</td>\n",
       "      <td>5909080.0</td>\n",
       "      <td>25104700.0</td>\n",
       "      <td>9169.410</td>\n",
       "      <td>37700.0</td>\n",
       "    </tr>\n",
       "    <tr>\n",
       "      <td>1</td>\n",
       "      <td>Afghanistan</td>\n",
       "      <td>1962-01-01</td>\n",
       "      <td>5934534.0</td>\n",
       "      <td>25442170.0</td>\n",
       "      <td>9351.441</td>\n",
       "      <td>37760.0</td>\n",
       "    </tr>\n",
       "    <tr>\n",
       "      <td>2</td>\n",
       "      <td>Afghanistan</td>\n",
       "      <td>1963-01-01</td>\n",
       "      <td>5686583.0</td>\n",
       "      <td>25605000.0</td>\n",
       "      <td>9543.205</td>\n",
       "      <td>37810.0</td>\n",
       "    </tr>\n",
       "    <tr>\n",
       "      <td>3</td>\n",
       "      <td>Afghanistan</td>\n",
       "      <td>1964-01-01</td>\n",
       "      <td>6147934.0</td>\n",
       "      <td>25855300.0</td>\n",
       "      <td>9744.781</td>\n",
       "      <td>37873.0</td>\n",
       "    </tr>\n",
       "    <tr>\n",
       "      <td>4</td>\n",
       "      <td>Afghanistan</td>\n",
       "      <td>1965-01-01</td>\n",
       "      <td>6274668.0</td>\n",
       "      <td>26205500.0</td>\n",
       "      <td>9956.320</td>\n",
       "      <td>37875.0</td>\n",
       "    </tr>\n",
       "  </tbody>\n",
       "</table>\n",
       "</div>"
      ],
      "text/plain": [
       "       country        year  value_crop  value_livestock  value_population  \\\n",
       "0  Afghanistan  1961-01-01   5909080.0       25104700.0          9169.410   \n",
       "1  Afghanistan  1962-01-01   5934534.0       25442170.0          9351.441   \n",
       "2  Afghanistan  1963-01-01   5686583.0       25605000.0          9543.205   \n",
       "3  Afghanistan  1964-01-01   6147934.0       25855300.0          9744.781   \n",
       "4  Afghanistan  1965-01-01   6274668.0       26205500.0          9956.320   \n",
       "\n",
       "   value_land_area  \n",
       "0          37700.0  \n",
       "1          37760.0  \n",
       "2          37810.0  \n",
       "3          37873.0  \n",
       "4          37875.0  "
      ]
     },
     "execution_count": 6,
     "metadata": {},
     "output_type": "execute_result"
    }
   ],
   "source": [
    "merged_data.head()"
   ]
  },
  {
   "cell_type": "code",
   "execution_count": 7,
   "metadata": {},
   "outputs": [],
   "source": [
    "list_countries = merged_data.country.unique()"
   ]
  },
  {
   "cell_type": "code",
   "execution_count": 8,
   "metadata": {},
   "outputs": [
    {
     "data": {
      "text/plain": [
       "['Afghanistan', 'Lebanon', 'Congo', 'Brazil']"
      ]
     },
     "execution_count": 8,
     "metadata": {},
     "output_type": "execute_result"
    }
   ],
   "source": [
    "list_countries = ['Afghanistan', 'Lebanon', 'Congo', 'Brazil']\n",
    "list_countries"
   ]
  },
  {
   "cell_type": "code",
   "execution_count": 9,
   "metadata": {},
   "outputs": [],
   "source": [
    "fig = go.Figure()\n",
    "\n",
    "for country in list_countries:\n",
    "    try:\n",
    "        country_prod_war = country_in_war(final_wars_df, merged_data, country)\n",
    "        prod_in_war = country_prod_war.copy()\n",
    "        prod_no_war = country_prod_war.copy()\n",
    "\n",
    "        prod_in_war['value_crop'][~prod_in_war['in_war']] = None\n",
    "        prod_no_war['value_crop'][prod_no_war['in_war']] = None\n",
    "\n",
    "\n",
    "\n",
    "        fig.add_trace(go.Scatter( x=prod_no_war[\"year\"], y=prod_no_war[\"value_crop\"],\n",
    "                        mode='lines+markers',\n",
    "                        name='not in conflict',\n",
    "                        hovertext='Not in Conflict',\n",
    "                        hoverinfo=\"text\",\n",
    "                        connectgaps=False,\n",
    "                        visible = False,\n",
    "                        line=dict(color='blue', width=2)))\n",
    "\n",
    "\n",
    "        fig.add_trace(go.Scatter(x=prod_in_war[\"year\"], y=prod_in_war[\"value_crop\"],\n",
    "                        mode='lines+markers',\n",
    "                        name='In war',\n",
    "                        connectgaps=False,\n",
    "                        hovertext='In war',\n",
    "                        hoverinfo=\"text\",\n",
    "                        visible = False,\n",
    "                        line=dict(color='red', width=2)))\n",
    "\n",
    "        \n",
    "        fig.update_layout(title='Production in Years',\n",
    "                           xaxis_title='Year',\n",
    "                           yaxis_title='Production',\n",
    "                          )\n",
    "    except:\n",
    "        pass"
   ]
  },
  {
   "cell_type": "code",
   "execution_count": 10,
   "metadata": {},
   "outputs": [],
   "source": [
    "buttons = []\n",
    "\n",
    "buttons.append(dict(method='update',\n",
    "                args=[{'visible': [False]*len(list_countries)*2}],\n",
    "                label='Select Country'))\n",
    "\n",
    "for i in range(0, len(list_countries)):\n",
    "    show = [False]*len(list_countries)*2\n",
    "    show[i*2] = True\n",
    "    show[i*2+1] = True\n",
    "    but = dict(method='update',\n",
    "                args=[{'visible': show}],\n",
    "                label=list_countries[i])\n",
    "    buttons.append(but)"
   ]
  },
  {
   "cell_type": "code",
   "execution_count": 11,
   "metadata": {},
   "outputs": [],
   "source": [
    "menus=list([dict(\n",
    "            x=0.01,\n",
    "            y=1,\n",
    "            yanchor='top',\n",
    "            xanchor='left',\n",
    "            buttons= buttons)])"
   ]
  },
  {
   "cell_type": "code",
   "execution_count": 12,
   "metadata": {},
   "outputs": [
    {
     "data": {
      "application/vnd.plotly.v1+json": {
       "config": {
        "plotlyServerURL": "https://plot.ly"
       },
       "data": [
        {
         "connectgaps": false,
         "hoverinfo": "text",
         "hovertext": "Not in Conflict",
         "line": {
          "color": "blue",
          "width": 2
         },
         "mode": "lines+markers",
         "name": "not in conflict",
         "type": "scatter",
         "visible": false,
         "x": [
          "1961-01-01",
          "1962-01-01",
          "1963-01-01",
          "1964-01-01",
          "1965-01-01",
          "1966-01-01",
          "1967-01-01",
          "1968-01-01",
          "1969-01-01",
          "1970-01-01",
          "1971-01-01",
          "1972-01-01",
          "1973-01-01",
          "1974-01-01",
          "1975-01-01",
          "1976-01-01",
          "1977-01-01",
          "1978-01-01",
          "1979-01-01",
          "1980-01-01",
          "1981-01-01",
          "1982-01-01",
          "1983-01-01",
          "1984-01-01",
          "1985-01-01",
          "1986-01-01",
          "1987-01-01",
          "1988-01-01",
          "1989-01-01",
          "1990-01-01",
          "1991-01-01",
          "1992-01-01",
          "1993-01-01",
          "1994-01-01",
          "1995-01-01",
          "1996-01-01",
          "1997-01-01",
          "1998-01-01",
          "1999-01-01",
          "2000-01-01",
          "2001-01-01",
          "2002-01-01",
          "2003-01-01",
          "2004-01-01",
          "2005-01-01",
          "2006-01-01",
          "2007-01-01",
          "2008-01-01",
          "2009-01-01",
          "2010-01-01",
          "2011-01-01",
          "2012-01-01",
          "2013-01-01",
          "2014-01-01",
          "2015-01-01",
          "2016-01-01",
          "2017-01-01"
         ],
         "y": [
          5909080,
          5934534,
          5686583,
          6147934,
          6274668,
          6041771,
          6587527,
          6724021,
          6902583,
          6175993,
          5884188,
          6658349,
          7139534,
          7328859,
          7519993,
          7923378,
          6802964,
          7325291,
          null,
          null,
          null,
          null,
          null,
          null,
          null,
          null,
          null,
          null,
          null,
          4927784,
          5781032,
          5335220,
          6065099,
          6247869,
          6369866,
          6243198,
          6650599,
          6872681,
          6158225,
          4525040,
          null,
          null,
          null,
          null,
          null,
          null,
          null,
          null,
          null,
          null,
          null,
          null,
          null,
          null,
          null,
          null,
          null
         ]
        },
        {
         "connectgaps": false,
         "hoverinfo": "text",
         "hovertext": "In war",
         "line": {
          "color": "red",
          "width": 2
         },
         "mode": "lines+markers",
         "name": "In war",
         "type": "scatter",
         "visible": false,
         "x": [
          "1961-01-01",
          "1962-01-01",
          "1963-01-01",
          "1964-01-01",
          "1965-01-01",
          "1966-01-01",
          "1967-01-01",
          "1968-01-01",
          "1969-01-01",
          "1970-01-01",
          "1971-01-01",
          "1972-01-01",
          "1973-01-01",
          "1974-01-01",
          "1975-01-01",
          "1976-01-01",
          "1977-01-01",
          "1978-01-01",
          "1979-01-01",
          "1980-01-01",
          "1981-01-01",
          "1982-01-01",
          "1983-01-01",
          "1984-01-01",
          "1985-01-01",
          "1986-01-01",
          "1987-01-01",
          "1988-01-01",
          "1989-01-01",
          "1990-01-01",
          "1991-01-01",
          "1992-01-01",
          "1993-01-01",
          "1994-01-01",
          "1995-01-01",
          "1996-01-01",
          "1997-01-01",
          "1998-01-01",
          "1999-01-01",
          "2000-01-01",
          "2001-01-01",
          "2002-01-01",
          "2003-01-01",
          "2004-01-01",
          "2005-01-01",
          "2006-01-01",
          "2007-01-01",
          "2008-01-01",
          "2009-01-01",
          "2010-01-01",
          "2011-01-01",
          "2012-01-01",
          "2013-01-01",
          "2014-01-01",
          "2015-01-01",
          "2016-01-01",
          "2017-01-01"
         ],
         "y": [
          null,
          null,
          null,
          null,
          null,
          null,
          null,
          null,
          null,
          null,
          null,
          null,
          null,
          null,
          null,
          null,
          null,
          null,
          7114380,
          6966106,
          6715254,
          6455036,
          6259991,
          6000580,
          5722984,
          5443979,
          5629412,
          5217483,
          4960269,
          null,
          null,
          null,
          null,
          null,
          null,
          null,
          null,
          null,
          null,
          null,
          4776265,
          6801890,
          7391178,
          6592152,
          8749275,
          8097004,
          9309367,
          7374494,
          10282548,
          9472974,
          7756875,
          9827094,
          10001966,
          10809792,
          9860308,
          10800514,
          9199215
         ]
        },
        {
         "connectgaps": false,
         "hoverinfo": "text",
         "hovertext": "Not in Conflict",
         "line": {
          "color": "blue",
          "width": 2
         },
         "mode": "lines+markers",
         "name": "not in conflict",
         "type": "scatter",
         "visible": false,
         "x": [
          "1961-01-01",
          "1962-01-01",
          "1963-01-01",
          "1964-01-01",
          "1965-01-01",
          "1966-01-01",
          "1967-01-01",
          "1968-01-01",
          "1969-01-01",
          "1970-01-01",
          "1971-01-01",
          "1972-01-01",
          "1973-01-01",
          "1974-01-01",
          "1975-01-01",
          "1976-01-01",
          "1977-01-01",
          "1978-01-01",
          "1979-01-01",
          "1980-01-01",
          "1981-01-01",
          "1982-01-01",
          "1983-01-01",
          "1984-01-01",
          "1985-01-01",
          "1986-01-01",
          "1987-01-01",
          "1988-01-01",
          "1989-01-01",
          "1990-01-01",
          "1991-01-01",
          "1992-01-01",
          "1993-01-01",
          "1994-01-01",
          "1995-01-01",
          "1996-01-01",
          "1997-01-01",
          "1998-01-01",
          "1999-01-01",
          "2000-01-01",
          "2001-01-01",
          "2002-01-01",
          "2003-01-01",
          "2004-01-01",
          "2005-01-01",
          "2006-01-01",
          "2007-01-01",
          "2008-01-01",
          "2009-01-01",
          "2010-01-01",
          "2011-01-01",
          "2012-01-01",
          "2013-01-01",
          "2014-01-01",
          "2015-01-01",
          "2016-01-01",
          "2017-01-01"
         ],
         "y": [
          1082027,
          1123471,
          1143291,
          1225920,
          1174548,
          1222130,
          1301316,
          1304833,
          1130030,
          1296779,
          1421886,
          1575982,
          1487203,
          1706556,
          null,
          null,
          null,
          null,
          null,
          null,
          null,
          null,
          null,
          null,
          null,
          null,
          null,
          null,
          null,
          null,
          3190002,
          3154568,
          2964608,
          3031613,
          3304977,
          3360062,
          3135755,
          2747076,
          2774841,
          2557031,
          2511455,
          2605760,
          2763392,
          2952553,
          2908938,
          null,
          2933188,
          2978220,
          2592092,
          2466275,
          2395096,
          2549976,
          2668916,
          2743968,
          2669856,
          2579943,
          2564765
         ]
        },
        {
         "connectgaps": false,
         "hoverinfo": "text",
         "hovertext": "In war",
         "line": {
          "color": "red",
          "width": 2
         },
         "mode": "lines+markers",
         "name": "In war",
         "type": "scatter",
         "visible": false,
         "x": [
          "1961-01-01",
          "1962-01-01",
          "1963-01-01",
          "1964-01-01",
          "1965-01-01",
          "1966-01-01",
          "1967-01-01",
          "1968-01-01",
          "1969-01-01",
          "1970-01-01",
          "1971-01-01",
          "1972-01-01",
          "1973-01-01",
          "1974-01-01",
          "1975-01-01",
          "1976-01-01",
          "1977-01-01",
          "1978-01-01",
          "1979-01-01",
          "1980-01-01",
          "1981-01-01",
          "1982-01-01",
          "1983-01-01",
          "1984-01-01",
          "1985-01-01",
          "1986-01-01",
          "1987-01-01",
          "1988-01-01",
          "1989-01-01",
          "1990-01-01",
          "1991-01-01",
          "1992-01-01",
          "1993-01-01",
          "1994-01-01",
          "1995-01-01",
          "1996-01-01",
          "1997-01-01",
          "1998-01-01",
          "1999-01-01",
          "2000-01-01",
          "2001-01-01",
          "2002-01-01",
          "2003-01-01",
          "2004-01-01",
          "2005-01-01",
          "2006-01-01",
          "2007-01-01",
          "2008-01-01",
          "2009-01-01",
          "2010-01-01",
          "2011-01-01",
          "2012-01-01",
          "2013-01-01",
          "2014-01-01",
          "2015-01-01",
          "2016-01-01",
          "2017-01-01"
         ],
         "y": [
          null,
          null,
          null,
          null,
          null,
          null,
          null,
          null,
          null,
          null,
          null,
          null,
          null,
          null,
          1440545,
          1353377,
          1427428,
          1506924,
          1604184,
          1617655,
          1550622,
          1684054,
          1717345,
          1645310,
          1940149,
          2069817,
          2393676,
          2497863,
          2678731,
          2856243,
          null,
          null,
          null,
          null,
          null,
          null,
          null,
          null,
          null,
          null,
          null,
          null,
          null,
          null,
          null,
          2781558,
          null,
          null,
          null,
          null,
          null,
          null,
          null,
          null,
          null,
          null,
          null
         ]
        },
        {
         "connectgaps": false,
         "hoverinfo": "text",
         "hovertext": "Not in Conflict",
         "line": {
          "color": "blue",
          "width": 2
         },
         "mode": "lines+markers",
         "name": "not in conflict",
         "type": "scatter",
         "visible": false,
         "x": [
          "1961-01-01",
          "1962-01-01",
          "1963-01-01",
          "1964-01-01",
          "1965-01-01",
          "1966-01-01",
          "1967-01-01",
          "1968-01-01",
          "1969-01-01",
          "1970-01-01",
          "1971-01-01",
          "1972-01-01",
          "1973-01-01",
          "1974-01-01",
          "1975-01-01",
          "1976-01-01",
          "1977-01-01",
          "1978-01-01",
          "1979-01-01",
          "1980-01-01",
          "1981-01-01",
          "1982-01-01",
          "1983-01-01",
          "1984-01-01",
          "1985-01-01",
          "1986-01-01",
          "1987-01-01",
          "1988-01-01",
          "1989-01-01",
          "1990-01-01",
          "1991-01-01",
          "1992-01-01",
          "1993-01-01",
          "1994-01-01",
          "1995-01-01",
          "1996-01-01",
          "1997-01-01",
          "1998-01-01",
          "1999-01-01",
          "2000-01-01",
          "2001-01-01",
          "2002-01-01",
          "2003-01-01",
          "2004-01-01",
          "2005-01-01",
          "2006-01-01",
          "2007-01-01",
          "2008-01-01",
          "2009-01-01",
          "2010-01-01",
          "2011-01-01",
          "2012-01-01",
          "2013-01-01",
          "2014-01-01",
          "2015-01-01",
          "2016-01-01",
          "2017-01-01"
         ],
         "y": [
          647587,
          652299,
          653136,
          685282,
          691263,
          679105,
          669793,
          680846,
          662900,
          680217,
          703237,
          725488,
          740851,
          736664,
          783823,
          795389,
          804395,
          808387,
          848522,
          878364,
          924386,
          937049,
          930064,
          961760,
          987782,
          986636,
          null,
          null,
          null,
          null,
          null,
          null,
          null,
          null,
          null,
          null,
          null,
          null,
          null,
          null,
          null,
          null,
          null,
          null,
          null,
          null,
          null,
          null,
          null,
          null,
          null,
          null,
          null,
          null,
          null,
          null,
          null
         ]
        },
        {
         "connectgaps": false,
         "hoverinfo": "text",
         "hovertext": "In war",
         "line": {
          "color": "red",
          "width": 2
         },
         "mode": "lines+markers",
         "name": "In war",
         "type": "scatter",
         "visible": false,
         "x": [
          "1961-01-01",
          "1962-01-01",
          "1963-01-01",
          "1964-01-01",
          "1965-01-01",
          "1966-01-01",
          "1967-01-01",
          "1968-01-01",
          "1969-01-01",
          "1970-01-01",
          "1971-01-01",
          "1972-01-01",
          "1973-01-01",
          "1974-01-01",
          "1975-01-01",
          "1976-01-01",
          "1977-01-01",
          "1978-01-01",
          "1979-01-01",
          "1980-01-01",
          "1981-01-01",
          "1982-01-01",
          "1983-01-01",
          "1984-01-01",
          "1985-01-01",
          "1986-01-01",
          "1987-01-01",
          "1988-01-01",
          "1989-01-01",
          "1990-01-01",
          "1991-01-01",
          "1992-01-01",
          "1993-01-01",
          "1994-01-01",
          "1995-01-01",
          "1996-01-01",
          "1997-01-01",
          "1998-01-01",
          "1999-01-01",
          "2000-01-01",
          "2001-01-01",
          "2002-01-01",
          "2003-01-01",
          "2004-01-01",
          "2005-01-01",
          "2006-01-01",
          "2007-01-01",
          "2008-01-01",
          "2009-01-01",
          "2010-01-01",
          "2011-01-01",
          "2012-01-01",
          "2013-01-01",
          "2014-01-01",
          "2015-01-01",
          "2016-01-01",
          "2017-01-01"
         ],
         "y": [
          null,
          null,
          null,
          null,
          null,
          null,
          null,
          null,
          null,
          null,
          null,
          null,
          null,
          null,
          null,
          null,
          null,
          null,
          null,
          null,
          null,
          null,
          null,
          null,
          null,
          null,
          1035533,
          1064706,
          1008890,
          1032941,
          919129,
          942233,
          986539,
          1088969,
          1141889,
          1195110,
          1202581,
          1158183,
          1255746,
          1280409,
          1316994,
          1332536,
          1350367,
          1418492,
          1502291,
          1585680,
          1663640,
          1750517,
          1815957,
          1750692,
          1780066,
          1908985,
          1949692,
          1978536,
          1968942,
          2020078,
          2067564
         ]
        },
        {
         "connectgaps": false,
         "hoverinfo": "text",
         "hovertext": "Not in Conflict",
         "line": {
          "color": "blue",
          "width": 2
         },
         "mode": "lines+markers",
         "name": "not in conflict",
         "type": "scatter",
         "visible": false,
         "x": [
          "1961-01-01",
          "1962-01-01",
          "1963-01-01",
          "1964-01-01",
          "1965-01-01",
          "1966-01-01",
          "1967-01-01",
          "1968-01-01",
          "1969-01-01",
          "1970-01-01",
          "1971-01-01",
          "1972-01-01",
          "1973-01-01",
          "1974-01-01",
          "1975-01-01",
          "1976-01-01",
          "1977-01-01",
          "1978-01-01",
          "1979-01-01",
          "1980-01-01",
          "1981-01-01",
          "1982-01-01",
          "1983-01-01",
          "1984-01-01",
          "1985-01-01",
          "1986-01-01",
          "1987-01-01",
          "1988-01-01",
          "1989-01-01",
          "1990-01-01",
          "1991-01-01",
          "1992-01-01",
          "1993-01-01",
          "1994-01-01",
          "1995-01-01",
          "1996-01-01",
          "1997-01-01",
          "1998-01-01",
          "1999-01-01",
          "2000-01-01",
          "2001-01-01",
          "2002-01-01",
          "2003-01-01",
          "2004-01-01",
          "2005-01-01",
          "2006-01-01",
          "2007-01-01",
          "2008-01-01",
          "2009-01-01",
          "2010-01-01",
          "2011-01-01",
          "2012-01-01",
          "2013-01-01",
          "2014-01-01",
          "2015-01-01",
          "2016-01-01",
          "2017-01-01"
         ],
         "y": [
          59844544,
          64271635,
          69274826,
          70530690,
          79524171,
          76813723,
          85278787,
          88312324,
          90296446,
          95834234,
          97695553,
          101162024,
          98440841,
          106479612,
          110743066,
          119692263,
          123814059,
          109104037,
          116552937,
          134781310,
          137246855,
          139288265,
          128552779,
          141487303,
          153901951,
          148648280,
          166709710,
          165551277,
          180381672,
          159941297,
          166287201,
          184138924,
          183697537,
          193377624,
          207339759,
          183116674,
          200698413,
          192565373,
          210202454,
          211680213,
          230922556,
          229096405,
          265566696,
          258812378,
          246387682,
          261388992,
          288985732,
          308850045,
          284143081,
          307176019,
          323103461,
          333766349,
          366161540,
          373413069,
          293115650,
          247370957,
          314289555
         ]
        },
        {
         "connectgaps": false,
         "hoverinfo": "text",
         "hovertext": "In war",
         "line": {
          "color": "red",
          "width": 2
         },
         "mode": "lines+markers",
         "name": "In war",
         "type": "scatter",
         "visible": false,
         "x": [
          "1961-01-01",
          "1962-01-01",
          "1963-01-01",
          "1964-01-01",
          "1965-01-01",
          "1966-01-01",
          "1967-01-01",
          "1968-01-01",
          "1969-01-01",
          "1970-01-01",
          "1971-01-01",
          "1972-01-01",
          "1973-01-01",
          "1974-01-01",
          "1975-01-01",
          "1976-01-01",
          "1977-01-01",
          "1978-01-01",
          "1979-01-01",
          "1980-01-01",
          "1981-01-01",
          "1982-01-01",
          "1983-01-01",
          "1984-01-01",
          "1985-01-01",
          "1986-01-01",
          "1987-01-01",
          "1988-01-01",
          "1989-01-01",
          "1990-01-01",
          "1991-01-01",
          "1992-01-01",
          "1993-01-01",
          "1994-01-01",
          "1995-01-01",
          "1996-01-01",
          "1997-01-01",
          "1998-01-01",
          "1999-01-01",
          "2000-01-01",
          "2001-01-01",
          "2002-01-01",
          "2003-01-01",
          "2004-01-01",
          "2005-01-01",
          "2006-01-01",
          "2007-01-01",
          "2008-01-01",
          "2009-01-01",
          "2010-01-01",
          "2011-01-01",
          "2012-01-01",
          "2013-01-01",
          "2014-01-01",
          "2015-01-01",
          "2016-01-01",
          "2017-01-01"
         ],
         "y": [
          null,
          null,
          null,
          null,
          null,
          null,
          null,
          null,
          null,
          null,
          null,
          null,
          null,
          null,
          null,
          null,
          null,
          null,
          null,
          null,
          null,
          null,
          null,
          null,
          null,
          null,
          null,
          null,
          null,
          null,
          null,
          null,
          null,
          null,
          null,
          null,
          null,
          null,
          null,
          null,
          null,
          null,
          null,
          null,
          null,
          null,
          null,
          null,
          null,
          null,
          null,
          null,
          null,
          null,
          null,
          null,
          null
         ]
        }
       ],
       "layout": {
        "autosize": true,
        "template": {
         "data": {
          "bar": [
           {
            "error_x": {
             "color": "#2a3f5f"
            },
            "error_y": {
             "color": "#2a3f5f"
            },
            "marker": {
             "line": {
              "color": "#E5ECF6",
              "width": 0.5
             }
            },
            "type": "bar"
           }
          ],
          "barpolar": [
           {
            "marker": {
             "line": {
              "color": "#E5ECF6",
              "width": 0.5
             }
            },
            "type": "barpolar"
           }
          ],
          "carpet": [
           {
            "aaxis": {
             "endlinecolor": "#2a3f5f",
             "gridcolor": "white",
             "linecolor": "white",
             "minorgridcolor": "white",
             "startlinecolor": "#2a3f5f"
            },
            "baxis": {
             "endlinecolor": "#2a3f5f",
             "gridcolor": "white",
             "linecolor": "white",
             "minorgridcolor": "white",
             "startlinecolor": "#2a3f5f"
            },
            "type": "carpet"
           }
          ],
          "choropleth": [
           {
            "colorbar": {
             "outlinewidth": 0,
             "ticks": ""
            },
            "type": "choropleth"
           }
          ],
          "contour": [
           {
            "colorbar": {
             "outlinewidth": 0,
             "ticks": ""
            },
            "colorscale": [
             [
              0,
              "#0d0887"
             ],
             [
              0.1111111111111111,
              "#46039f"
             ],
             [
              0.2222222222222222,
              "#7201a8"
             ],
             [
              0.3333333333333333,
              "#9c179e"
             ],
             [
              0.4444444444444444,
              "#bd3786"
             ],
             [
              0.5555555555555556,
              "#d8576b"
             ],
             [
              0.6666666666666666,
              "#ed7953"
             ],
             [
              0.7777777777777778,
              "#fb9f3a"
             ],
             [
              0.8888888888888888,
              "#fdca26"
             ],
             [
              1,
              "#f0f921"
             ]
            ],
            "type": "contour"
           }
          ],
          "contourcarpet": [
           {
            "colorbar": {
             "outlinewidth": 0,
             "ticks": ""
            },
            "type": "contourcarpet"
           }
          ],
          "heatmap": [
           {
            "colorbar": {
             "outlinewidth": 0,
             "ticks": ""
            },
            "colorscale": [
             [
              0,
              "#0d0887"
             ],
             [
              0.1111111111111111,
              "#46039f"
             ],
             [
              0.2222222222222222,
              "#7201a8"
             ],
             [
              0.3333333333333333,
              "#9c179e"
             ],
             [
              0.4444444444444444,
              "#bd3786"
             ],
             [
              0.5555555555555556,
              "#d8576b"
             ],
             [
              0.6666666666666666,
              "#ed7953"
             ],
             [
              0.7777777777777778,
              "#fb9f3a"
             ],
             [
              0.8888888888888888,
              "#fdca26"
             ],
             [
              1,
              "#f0f921"
             ]
            ],
            "type": "heatmap"
           }
          ],
          "heatmapgl": [
           {
            "colorbar": {
             "outlinewidth": 0,
             "ticks": ""
            },
            "colorscale": [
             [
              0,
              "#0d0887"
             ],
             [
              0.1111111111111111,
              "#46039f"
             ],
             [
              0.2222222222222222,
              "#7201a8"
             ],
             [
              0.3333333333333333,
              "#9c179e"
             ],
             [
              0.4444444444444444,
              "#bd3786"
             ],
             [
              0.5555555555555556,
              "#d8576b"
             ],
             [
              0.6666666666666666,
              "#ed7953"
             ],
             [
              0.7777777777777778,
              "#fb9f3a"
             ],
             [
              0.8888888888888888,
              "#fdca26"
             ],
             [
              1,
              "#f0f921"
             ]
            ],
            "type": "heatmapgl"
           }
          ],
          "histogram": [
           {
            "marker": {
             "colorbar": {
              "outlinewidth": 0,
              "ticks": ""
             }
            },
            "type": "histogram"
           }
          ],
          "histogram2d": [
           {
            "colorbar": {
             "outlinewidth": 0,
             "ticks": ""
            },
            "colorscale": [
             [
              0,
              "#0d0887"
             ],
             [
              0.1111111111111111,
              "#46039f"
             ],
             [
              0.2222222222222222,
              "#7201a8"
             ],
             [
              0.3333333333333333,
              "#9c179e"
             ],
             [
              0.4444444444444444,
              "#bd3786"
             ],
             [
              0.5555555555555556,
              "#d8576b"
             ],
             [
              0.6666666666666666,
              "#ed7953"
             ],
             [
              0.7777777777777778,
              "#fb9f3a"
             ],
             [
              0.8888888888888888,
              "#fdca26"
             ],
             [
              1,
              "#f0f921"
             ]
            ],
            "type": "histogram2d"
           }
          ],
          "histogram2dcontour": [
           {
            "colorbar": {
             "outlinewidth": 0,
             "ticks": ""
            },
            "colorscale": [
             [
              0,
              "#0d0887"
             ],
             [
              0.1111111111111111,
              "#46039f"
             ],
             [
              0.2222222222222222,
              "#7201a8"
             ],
             [
              0.3333333333333333,
              "#9c179e"
             ],
             [
              0.4444444444444444,
              "#bd3786"
             ],
             [
              0.5555555555555556,
              "#d8576b"
             ],
             [
              0.6666666666666666,
              "#ed7953"
             ],
             [
              0.7777777777777778,
              "#fb9f3a"
             ],
             [
              0.8888888888888888,
              "#fdca26"
             ],
             [
              1,
              "#f0f921"
             ]
            ],
            "type": "histogram2dcontour"
           }
          ],
          "mesh3d": [
           {
            "colorbar": {
             "outlinewidth": 0,
             "ticks": ""
            },
            "type": "mesh3d"
           }
          ],
          "parcoords": [
           {
            "line": {
             "colorbar": {
              "outlinewidth": 0,
              "ticks": ""
             }
            },
            "type": "parcoords"
           }
          ],
          "pie": [
           {
            "automargin": true,
            "type": "pie"
           }
          ],
          "scatter": [
           {
            "marker": {
             "colorbar": {
              "outlinewidth": 0,
              "ticks": ""
             }
            },
            "type": "scatter"
           }
          ],
          "scatter3d": [
           {
            "line": {
             "colorbar": {
              "outlinewidth": 0,
              "ticks": ""
             }
            },
            "marker": {
             "colorbar": {
              "outlinewidth": 0,
              "ticks": ""
             }
            },
            "type": "scatter3d"
           }
          ],
          "scattercarpet": [
           {
            "marker": {
             "colorbar": {
              "outlinewidth": 0,
              "ticks": ""
             }
            },
            "type": "scattercarpet"
           }
          ],
          "scattergeo": [
           {
            "marker": {
             "colorbar": {
              "outlinewidth": 0,
              "ticks": ""
             }
            },
            "type": "scattergeo"
           }
          ],
          "scattergl": [
           {
            "marker": {
             "colorbar": {
              "outlinewidth": 0,
              "ticks": ""
             }
            },
            "type": "scattergl"
           }
          ],
          "scattermapbox": [
           {
            "marker": {
             "colorbar": {
              "outlinewidth": 0,
              "ticks": ""
             }
            },
            "type": "scattermapbox"
           }
          ],
          "scatterpolar": [
           {
            "marker": {
             "colorbar": {
              "outlinewidth": 0,
              "ticks": ""
             }
            },
            "type": "scatterpolar"
           }
          ],
          "scatterpolargl": [
           {
            "marker": {
             "colorbar": {
              "outlinewidth": 0,
              "ticks": ""
             }
            },
            "type": "scatterpolargl"
           }
          ],
          "scatterternary": [
           {
            "marker": {
             "colorbar": {
              "outlinewidth": 0,
              "ticks": ""
             }
            },
            "type": "scatterternary"
           }
          ],
          "surface": [
           {
            "colorbar": {
             "outlinewidth": 0,
             "ticks": ""
            },
            "colorscale": [
             [
              0,
              "#0d0887"
             ],
             [
              0.1111111111111111,
              "#46039f"
             ],
             [
              0.2222222222222222,
              "#7201a8"
             ],
             [
              0.3333333333333333,
              "#9c179e"
             ],
             [
              0.4444444444444444,
              "#bd3786"
             ],
             [
              0.5555555555555556,
              "#d8576b"
             ],
             [
              0.6666666666666666,
              "#ed7953"
             ],
             [
              0.7777777777777778,
              "#fb9f3a"
             ],
             [
              0.8888888888888888,
              "#fdca26"
             ],
             [
              1,
              "#f0f921"
             ]
            ],
            "type": "surface"
           }
          ],
          "table": [
           {
            "cells": {
             "fill": {
              "color": "#EBF0F8"
             },
             "line": {
              "color": "white"
             }
            },
            "header": {
             "fill": {
              "color": "#C8D4E3"
             },
             "line": {
              "color": "white"
             }
            },
            "type": "table"
           }
          ]
         },
         "layout": {
          "annotationdefaults": {
           "arrowcolor": "#2a3f5f",
           "arrowhead": 0,
           "arrowwidth": 1
          },
          "coloraxis": {
           "colorbar": {
            "outlinewidth": 0,
            "ticks": ""
           }
          },
          "colorscale": {
           "diverging": [
            [
             0,
             "#8e0152"
            ],
            [
             0.1,
             "#c51b7d"
            ],
            [
             0.2,
             "#de77ae"
            ],
            [
             0.3,
             "#f1b6da"
            ],
            [
             0.4,
             "#fde0ef"
            ],
            [
             0.5,
             "#f7f7f7"
            ],
            [
             0.6,
             "#e6f5d0"
            ],
            [
             0.7,
             "#b8e186"
            ],
            [
             0.8,
             "#7fbc41"
            ],
            [
             0.9,
             "#4d9221"
            ],
            [
             1,
             "#276419"
            ]
           ],
           "sequential": [
            [
             0,
             "#0d0887"
            ],
            [
             0.1111111111111111,
             "#46039f"
            ],
            [
             0.2222222222222222,
             "#7201a8"
            ],
            [
             0.3333333333333333,
             "#9c179e"
            ],
            [
             0.4444444444444444,
             "#bd3786"
            ],
            [
             0.5555555555555556,
             "#d8576b"
            ],
            [
             0.6666666666666666,
             "#ed7953"
            ],
            [
             0.7777777777777778,
             "#fb9f3a"
            ],
            [
             0.8888888888888888,
             "#fdca26"
            ],
            [
             1,
             "#f0f921"
            ]
           ],
           "sequentialminus": [
            [
             0,
             "#0d0887"
            ],
            [
             0.1111111111111111,
             "#46039f"
            ],
            [
             0.2222222222222222,
             "#7201a8"
            ],
            [
             0.3333333333333333,
             "#9c179e"
            ],
            [
             0.4444444444444444,
             "#bd3786"
            ],
            [
             0.5555555555555556,
             "#d8576b"
            ],
            [
             0.6666666666666666,
             "#ed7953"
            ],
            [
             0.7777777777777778,
             "#fb9f3a"
            ],
            [
             0.8888888888888888,
             "#fdca26"
            ],
            [
             1,
             "#f0f921"
            ]
           ]
          },
          "colorway": [
           "#636efa",
           "#EF553B",
           "#00cc96",
           "#ab63fa",
           "#FFA15A",
           "#19d3f3",
           "#FF6692",
           "#B6E880",
           "#FF97FF",
           "#FECB52"
          ],
          "font": {
           "color": "#2a3f5f"
          },
          "geo": {
           "bgcolor": "white",
           "lakecolor": "white",
           "landcolor": "#E5ECF6",
           "showlakes": true,
           "showland": true,
           "subunitcolor": "white"
          },
          "hoverlabel": {
           "align": "left"
          },
          "hovermode": "closest",
          "mapbox": {
           "style": "light"
          },
          "paper_bgcolor": "white",
          "plot_bgcolor": "#E5ECF6",
          "polar": {
           "angularaxis": {
            "gridcolor": "white",
            "linecolor": "white",
            "ticks": ""
           },
           "bgcolor": "#E5ECF6",
           "radialaxis": {
            "gridcolor": "white",
            "linecolor": "white",
            "ticks": ""
           }
          },
          "scene": {
           "xaxis": {
            "backgroundcolor": "#E5ECF6",
            "gridcolor": "white",
            "gridwidth": 2,
            "linecolor": "white",
            "showbackground": true,
            "ticks": "",
            "zerolinecolor": "white"
           },
           "yaxis": {
            "backgroundcolor": "#E5ECF6",
            "gridcolor": "white",
            "gridwidth": 2,
            "linecolor": "white",
            "showbackground": true,
            "ticks": "",
            "zerolinecolor": "white"
           },
           "zaxis": {
            "backgroundcolor": "#E5ECF6",
            "gridcolor": "white",
            "gridwidth": 2,
            "linecolor": "white",
            "showbackground": true,
            "ticks": "",
            "zerolinecolor": "white"
           }
          },
          "shapedefaults": {
           "line": {
            "color": "#2a3f5f"
           }
          },
          "ternary": {
           "aaxis": {
            "gridcolor": "white",
            "linecolor": "white",
            "ticks": ""
           },
           "baxis": {
            "gridcolor": "white",
            "linecolor": "white",
            "ticks": ""
           },
           "bgcolor": "#E5ECF6",
           "caxis": {
            "gridcolor": "white",
            "linecolor": "white",
            "ticks": ""
           }
          },
          "title": {
           "x": 0.05
          },
          "xaxis": {
           "automargin": true,
           "gridcolor": "white",
           "linecolor": "white",
           "ticks": "",
           "title": {
            "standoff": 15
           },
           "zerolinecolor": "white",
           "zerolinewidth": 2
          },
          "yaxis": {
           "automargin": true,
           "gridcolor": "white",
           "linecolor": "white",
           "ticks": "",
           "title": {
            "standoff": 15
           },
           "zerolinecolor": "white",
           "zerolinewidth": 2
          }
         }
        },
        "title": {
         "text": "Production in Years"
        },
        "updatemenus": [
         {
          "buttons": [
           {
            "args": [
             {
              "visible": [
               false,
               false,
               false,
               false,
               false,
               false,
               false,
               false
              ]
             }
            ],
            "label": "Select Country",
            "method": "update"
           },
           {
            "args": [
             {
              "visible": [
               true,
               true,
               false,
               false,
               false,
               false,
               false,
               false
              ]
             }
            ],
            "label": "Afghanistan",
            "method": "update"
           },
           {
            "args": [
             {
              "visible": [
               false,
               false,
               true,
               true,
               false,
               false,
               false,
               false
              ]
             }
            ],
            "label": "Lebanon",
            "method": "update"
           },
           {
            "args": [
             {
              "visible": [
               false,
               false,
               false,
               false,
               true,
               true,
               false,
               false
              ]
             }
            ],
            "label": "Congo",
            "method": "update"
           },
           {
            "args": [
             {
              "visible": [
               false,
               false,
               false,
               false,
               false,
               false,
               true,
               true
              ]
             }
            ],
            "label": "Brazil",
            "method": "update"
           }
          ],
          "x": 0.01,
          "xanchor": "left",
          "y": 1,
          "yanchor": "top"
         }
        ],
        "xaxis": {
         "autorange": true,
         "range": [
          -1,
          6
         ],
         "title": {
          "text": "Year"
         }
        },
        "yaxis": {
         "autorange": true,
         "range": [
          -1,
          4
         ],
         "title": {
          "text": "Production"
         }
        }
       }
      },
      "image/png": "[encoded data removed]",
      "text/html": [
       "<div>\n",
       "        \n",
       "        \n",
       "            <div id=\"215bad4d-f15e-4642-abd0-47899843f1fb\" class=\"plotly-graph-div\" style=\"height:525px; width:100%;\"></div>\n",
       "            <script type=\"text/javascript\">\n",
       "                require([\"plotly\"], function(Plotly) {\n",
       "                    window.PLOTLYENV=window.PLOTLYENV || {};\n",
       "                    \n",
       "                if (document.getElementById(\"215bad4d-f15e-4642-abd0-47899843f1fb\")) {\n",
       "                    Plotly.newPlot(\n",
       "                        '215bad4d-f15e-4642-abd0-47899843f1fb',\n",
       "                        [{\"connectgaps\": false, \"hoverinfo\": \"text\", \"hovertext\": \"Not in Conflict\", \"line\": {\"color\": \"blue\", \"width\": 2}, \"mode\": \"lines+markers\", \"name\": \"not in conflict\", \"type\": \"scatter\", \"visible\": false, \"x\": [\"1961-01-01\", \"1962-01-01\", \"1963-01-01\", \"1964-01-01\", \"1965-01-01\", \"1966-01-01\", \"1967-01-01\", \"1968-01-01\", \"1969-01-01\", \"1970-01-01\", \"1971-01-01\", \"1972-01-01\", \"1973-01-01\", \"1974-01-01\", \"1975-01-01\", \"1976-01-01\", \"1977-01-01\", \"1978-01-01\", \"1979-01-01\", \"1980-01-01\", \"1981-01-01\", \"1982-01-01\", \"1983-01-01\", \"1984-01-01\", \"1985-01-01\", \"1986-01-01\", \"1987-01-01\", \"1988-01-01\", \"1989-01-01\", \"1990-01-01\", \"1991-01-01\", \"1992-01-01\", \"1993-01-01\", \"1994-01-01\", \"1995-01-01\", \"1996-01-01\", \"1997-01-01\", \"1998-01-01\", \"1999-01-01\", \"2000-01-01\", \"2001-01-01\", \"2002-01-01\", \"2003-01-01\", \"2004-01-01\", \"2005-01-01\", \"2006-01-01\", \"2007-01-01\", \"2008-01-01\", \"2009-01-01\", \"2010-01-01\", \"2011-01-01\", \"2012-01-01\", \"2013-01-01\", \"2014-01-01\", \"2015-01-01\", \"2016-01-01\", \"2017-01-01\"], \"y\": [5909080.0, 5934534.0, 5686583.0, 6147934.0, 6274668.0, 6041771.0, 6587527.0, 6724021.0, 6902583.0, 6175993.0, 5884188.0, 6658349.0, 7139534.0, 7328859.0, 7519993.0, 7923378.0, 6802964.0, 7325291.0, null, null, null, null, null, null, null, null, null, null, null, 4927784.0, 5781032.0, 5335220.0, 6065099.0, 6247869.0, 6369866.0, 6243198.0, 6650599.0, 6872681.0, 6158225.0, 4525040.0, null, null, null, null, null, null, null, null, null, null, null, null, null, null, null, null, null]}, {\"connectgaps\": false, \"hoverinfo\": \"text\", \"hovertext\": \"In war\", \"line\": {\"color\": \"red\", \"width\": 2}, \"mode\": \"lines+markers\", \"name\": \"In war\", \"type\": \"scatter\", \"visible\": false, \"x\": [\"1961-01-01\", \"1962-01-01\", \"1963-01-01\", \"1964-01-01\", \"1965-01-01\", \"1966-01-01\", \"1967-01-01\", \"1968-01-01\", \"1969-01-01\", \"1970-01-01\", \"1971-01-01\", \"1972-01-01\", \"1973-01-01\", \"1974-01-01\", \"1975-01-01\", \"1976-01-01\", \"1977-01-01\", \"1978-01-01\", \"1979-01-01\", \"1980-01-01\", \"1981-01-01\", \"1982-01-01\", \"1983-01-01\", \"1984-01-01\", \"1985-01-01\", \"1986-01-01\", \"1987-01-01\", \"1988-01-01\", \"1989-01-01\", \"1990-01-01\", \"1991-01-01\", \"1992-01-01\", \"1993-01-01\", \"1994-01-01\", \"1995-01-01\", \"1996-01-01\", \"1997-01-01\", \"1998-01-01\", \"1999-01-01\", \"2000-01-01\", \"2001-01-01\", \"2002-01-01\", \"2003-01-01\", \"2004-01-01\", \"2005-01-01\", \"2006-01-01\", \"2007-01-01\", \"2008-01-01\", \"2009-01-01\", \"2010-01-01\", \"2011-01-01\", \"2012-01-01\", \"2013-01-01\", \"2014-01-01\", \"2015-01-01\", \"2016-01-01\", \"2017-01-01\"], \"y\": [null, null, null, null, null, null, null, null, null, null, null, null, null, null, null, null, null, null, 7114380.0, 6966106.0, 6715254.0, 6455036.0, 6259991.0, 6000580.0, 5722984.0, 5443979.0, 5629412.0, 5217483.0, 4960269.0, null, null, null, null, null, null, null, null, null, null, null, 4776265.0, 6801890.0, 7391178.0, 6592152.0, 8749275.0, 8097004.0, 9309367.0, 7374494.0, 10282548.0, 9472974.0, 7756875.0, 9827094.0, 10001966.0, 10809792.0, 9860308.0, 10800514.0, 9199215.0]}, {\"connectgaps\": false, \"hoverinfo\": \"text\", \"hovertext\": \"Not in Conflict\", \"line\": {\"color\": \"blue\", \"width\": 2}, \"mode\": \"lines+markers\", \"name\": \"not in conflict\", \"type\": \"scatter\", \"visible\": false, \"x\": [\"1961-01-01\", \"1962-01-01\", \"1963-01-01\", \"1964-01-01\", \"1965-01-01\", \"1966-01-01\", \"1967-01-01\", \"1968-01-01\", \"1969-01-01\", \"1970-01-01\", \"1971-01-01\", \"1972-01-01\", \"1973-01-01\", \"1974-01-01\", \"1975-01-01\", \"1976-01-01\", \"1977-01-01\", \"1978-01-01\", \"1979-01-01\", \"1980-01-01\", \"1981-01-01\", \"1982-01-01\", \"1983-01-01\", \"1984-01-01\", \"1985-01-01\", \"1986-01-01\", \"1987-01-01\", \"1988-01-01\", \"1989-01-01\", \"1990-01-01\", \"1991-01-01\", \"1992-01-01\", \"1993-01-01\", \"1994-01-01\", \"1995-01-01\", \"1996-01-01\", \"1997-01-01\", \"1998-01-01\", \"1999-01-01\", \"2000-01-01\", \"2001-01-01\", \"2002-01-01\", \"2003-01-01\", \"2004-01-01\", \"2005-01-01\", \"2006-01-01\", \"2007-01-01\", \"2008-01-01\", \"2009-01-01\", \"2010-01-01\", \"2011-01-01\", \"2012-01-01\", \"2013-01-01\", \"2014-01-01\", \"2015-01-01\", \"2016-01-01\", \"2017-01-01\"], \"y\": [1082027.0, 1123471.0, 1143291.0, 1225920.0, 1174548.0, 1222130.0, 1301316.0, 1304833.0, 1130030.0, 1296779.0, 1421886.0, 1575982.0, 1487203.0, 1706556.0, null, null, null, null, null, null, null, null, null, null, null, null, null, null, null, null, 3190002.0, 3154568.0, 2964608.0, 3031613.0, 3304977.0, 3360062.0, 3135755.0, 2747076.0, 2774841.0, 2557031.0, 2511455.0, 2605760.0, 2763392.0, 2952553.0, 2908938.0, null, 2933188.0, 2978220.0, 2592092.0, 2466275.0, 2395096.0, 2549976.0, 2668916.0, 2743968.0, 2669856.0, 2579943.0, 2564765.0]}, {\"connectgaps\": false, \"hoverinfo\": \"text\", \"hovertext\": \"In war\", \"line\": {\"color\": \"red\", \"width\": 2}, \"mode\": \"lines+markers\", \"name\": \"In war\", \"type\": \"scatter\", \"visible\": false, \"x\": [\"1961-01-01\", \"1962-01-01\", \"1963-01-01\", \"1964-01-01\", \"1965-01-01\", \"1966-01-01\", \"1967-01-01\", \"1968-01-01\", \"1969-01-01\", \"1970-01-01\", \"1971-01-01\", \"1972-01-01\", \"1973-01-01\", \"1974-01-01\", \"1975-01-01\", \"1976-01-01\", \"1977-01-01\", \"1978-01-01\", \"1979-01-01\", \"1980-01-01\", \"1981-01-01\", \"1982-01-01\", \"1983-01-01\", \"1984-01-01\", \"1985-01-01\", \"1986-01-01\", \"1987-01-01\", \"1988-01-01\", \"1989-01-01\", \"1990-01-01\", \"1991-01-01\", \"1992-01-01\", \"1993-01-01\", \"1994-01-01\", \"1995-01-01\", \"1996-01-01\", \"1997-01-01\", \"1998-01-01\", \"1999-01-01\", \"2000-01-01\", \"2001-01-01\", \"2002-01-01\", \"2003-01-01\", \"2004-01-01\", \"2005-01-01\", \"2006-01-01\", \"2007-01-01\", \"2008-01-01\", \"2009-01-01\", \"2010-01-01\", \"2011-01-01\", \"2012-01-01\", \"2013-01-01\", \"2014-01-01\", \"2015-01-01\", \"2016-01-01\", \"2017-01-01\"], \"y\": [null, null, null, null, null, null, null, null, null, null, null, null, null, null, 1440545.0, 1353377.0, 1427428.0, 1506924.0, 1604184.0, 1617655.0, 1550622.0, 1684054.0, 1717345.0, 1645310.0, 1940149.0, 2069817.0, 2393676.0, 2497863.0, 2678731.0, 2856243.0, null, null, null, null, null, null, null, null, null, null, null, null, null, null, null, 2781558.0, null, null, null, null, null, null, null, null, null, null, null]}, {\"connectgaps\": false, \"hoverinfo\": \"text\", \"hovertext\": \"Not in Conflict\", \"line\": {\"color\": \"blue\", \"width\": 2}, \"mode\": \"lines+markers\", \"name\": \"not in conflict\", \"type\": \"scatter\", \"visible\": false, \"x\": [\"1961-01-01\", \"1962-01-01\", \"1963-01-01\", \"1964-01-01\", \"1965-01-01\", \"1966-01-01\", \"1967-01-01\", \"1968-01-01\", \"1969-01-01\", \"1970-01-01\", \"1971-01-01\", \"1972-01-01\", \"1973-01-01\", \"1974-01-01\", \"1975-01-01\", \"1976-01-01\", \"1977-01-01\", \"1978-01-01\", \"1979-01-01\", \"1980-01-01\", \"1981-01-01\", \"1982-01-01\", \"1983-01-01\", \"1984-01-01\", \"1985-01-01\", \"1986-01-01\", \"1987-01-01\", \"1988-01-01\", \"1989-01-01\", \"1990-01-01\", \"1991-01-01\", \"1992-01-01\", \"1993-01-01\", \"1994-01-01\", \"1995-01-01\", \"1996-01-01\", \"1997-01-01\", \"1998-01-01\", \"1999-01-01\", \"2000-01-01\", \"2001-01-01\", \"2002-01-01\", \"2003-01-01\", \"2004-01-01\", \"2005-01-01\", \"2006-01-01\", \"2007-01-01\", \"2008-01-01\", \"2009-01-01\", \"2010-01-01\", \"2011-01-01\", \"2012-01-01\", \"2013-01-01\", \"2014-01-01\", \"2015-01-01\", \"2016-01-01\", \"2017-01-01\"], \"y\": [647587.0, 652299.0, 653136.0, 685282.0, 691263.0, 679105.0, 669793.0, 680846.0, 662900.0, 680217.0, 703237.0, 725488.0, 740851.0, 736664.0, 783823.0, 795389.0, 804395.0, 808387.0, 848522.0, 878364.0, 924386.0, 937049.0, 930064.0, 961760.0, 987782.0, 986636.0, null, null, null, null, null, null, null, null, null, null, null, null, null, null, null, null, null, null, null, null, null, null, null, null, null, null, null, null, null, null, null]}, {\"connectgaps\": false, \"hoverinfo\": \"text\", \"hovertext\": \"In war\", \"line\": {\"color\": \"red\", \"width\": 2}, \"mode\": \"lines+markers\", \"name\": \"In war\", \"type\": \"scatter\", \"visible\": false, \"x\": [\"1961-01-01\", \"1962-01-01\", \"1963-01-01\", \"1964-01-01\", \"1965-01-01\", \"1966-01-01\", \"1967-01-01\", \"1968-01-01\", \"1969-01-01\", \"1970-01-01\", \"1971-01-01\", \"1972-01-01\", \"1973-01-01\", \"1974-01-01\", \"1975-01-01\", \"1976-01-01\", \"1977-01-01\", \"1978-01-01\", \"1979-01-01\", \"1980-01-01\", \"1981-01-01\", \"1982-01-01\", \"1983-01-01\", \"1984-01-01\", \"1985-01-01\", \"1986-01-01\", \"1987-01-01\", \"1988-01-01\", \"1989-01-01\", \"1990-01-01\", \"1991-01-01\", \"1992-01-01\", \"1993-01-01\", \"1994-01-01\", \"1995-01-01\", \"1996-01-01\", \"1997-01-01\", \"1998-01-01\", \"1999-01-01\", \"2000-01-01\", \"2001-01-01\", \"2002-01-01\", \"2003-01-01\", \"2004-01-01\", \"2005-01-01\", \"2006-01-01\", \"2007-01-01\", \"2008-01-01\", \"2009-01-01\", \"2010-01-01\", \"2011-01-01\", \"2012-01-01\", \"2013-01-01\", \"2014-01-01\", \"2015-01-01\", \"2016-01-01\", \"2017-01-01\"], \"y\": [null, null, null, null, null, null, null, null, null, null, null, null, null, null, null, null, null, null, null, null, null, null, null, null, null, null, 1035533.0, 1064706.0, 1008890.0, 1032941.0, 919129.0, 942233.0, 986539.0, 1088969.0, 1141889.0, 1195110.0, 1202581.0, 1158183.0, 1255746.0, 1280409.0, 1316994.0, 1332536.0, 1350367.0, 1418492.0, 1502291.0, 1585680.0, 1663640.0, 1750517.0, 1815957.0, 1750692.0, 1780066.0, 1908985.0, 1949692.0, 1978536.0, 1968942.0, 2020078.0, 2067564.0]}, {\"connectgaps\": false, \"hoverinfo\": \"text\", \"hovertext\": \"Not in Conflict\", \"line\": {\"color\": \"blue\", \"width\": 2}, \"mode\": \"lines+markers\", \"name\": \"not in conflict\", \"type\": \"scatter\", \"visible\": false, \"x\": [\"1961-01-01\", \"1962-01-01\", \"1963-01-01\", \"1964-01-01\", \"1965-01-01\", \"1966-01-01\", \"1967-01-01\", \"1968-01-01\", \"1969-01-01\", \"1970-01-01\", \"1971-01-01\", \"1972-01-01\", \"1973-01-01\", \"1974-01-01\", \"1975-01-01\", \"1976-01-01\", \"1977-01-01\", \"1978-01-01\", \"1979-01-01\", \"1980-01-01\", \"1981-01-01\", \"1982-01-01\", \"1983-01-01\", \"1984-01-01\", \"1985-01-01\", \"1986-01-01\", \"1987-01-01\", \"1988-01-01\", \"1989-01-01\", \"1990-01-01\", \"1991-01-01\", \"1992-01-01\", \"1993-01-01\", \"1994-01-01\", \"1995-01-01\", \"1996-01-01\", \"1997-01-01\", \"1998-01-01\", \"1999-01-01\", \"2000-01-01\", \"2001-01-01\", \"2002-01-01\", \"2003-01-01\", \"2004-01-01\", \"2005-01-01\", \"2006-01-01\", \"2007-01-01\", \"2008-01-01\", \"2009-01-01\", \"2010-01-01\", \"2011-01-01\", \"2012-01-01\", \"2013-01-01\", \"2014-01-01\", \"2015-01-01\", \"2016-01-01\", \"2017-01-01\"], \"y\": [59844544.0, 64271635.0, 69274826.0, 70530690.0, 79524171.0, 76813723.0, 85278787.0, 88312324.0, 90296446.0, 95834234.0, 97695553.0, 101162024.0, 98440841.0, 106479612.0, 110743066.0, 119692263.0, 123814059.0, 109104037.0, 116552937.0, 134781310.0, 137246855.0, 139288265.0, 128552779.0, 141487303.0, 153901951.0, 148648280.0, 166709710.0, 165551277.0, 180381672.0, 159941297.0, 166287201.0, 184138924.0, 183697537.0, 193377624.0, 207339759.0, 183116674.0, 200698413.0, 192565373.0, 210202454.0, 211680213.0, 230922556.0, 229096405.0, 265566696.0, 258812378.0, 246387682.0, 261388992.0, 288985732.0, 308850045.0, 284143081.0, 307176019.0, 323103461.0, 333766349.0, 366161540.0, 373413069.0, 293115650.0, 247370957.0, 314289555.0]}, {\"connectgaps\": false, \"hoverinfo\": \"text\", \"hovertext\": \"In war\", \"line\": {\"color\": \"red\", \"width\": 2}, \"mode\": \"lines+markers\", \"name\": \"In war\", \"type\": \"scatter\", \"visible\": false, \"x\": [\"1961-01-01\", \"1962-01-01\", \"1963-01-01\", \"1964-01-01\", \"1965-01-01\", \"1966-01-01\", \"1967-01-01\", \"1968-01-01\", \"1969-01-01\", \"1970-01-01\", \"1971-01-01\", \"1972-01-01\", \"1973-01-01\", \"1974-01-01\", \"1975-01-01\", \"1976-01-01\", \"1977-01-01\", \"1978-01-01\", \"1979-01-01\", \"1980-01-01\", \"1981-01-01\", \"1982-01-01\", \"1983-01-01\", \"1984-01-01\", \"1985-01-01\", \"1986-01-01\", \"1987-01-01\", \"1988-01-01\", \"1989-01-01\", \"1990-01-01\", \"1991-01-01\", \"1992-01-01\", \"1993-01-01\", \"1994-01-01\", \"1995-01-01\", \"1996-01-01\", \"1997-01-01\", \"1998-01-01\", \"1999-01-01\", \"2000-01-01\", \"2001-01-01\", \"2002-01-01\", \"2003-01-01\", \"2004-01-01\", \"2005-01-01\", \"2006-01-01\", \"2007-01-01\", \"2008-01-01\", \"2009-01-01\", \"2010-01-01\", \"2011-01-01\", \"2012-01-01\", \"2013-01-01\", \"2014-01-01\", \"2015-01-01\", \"2016-01-01\", \"2017-01-01\"], \"y\": [null, null, null, null, null, null, null, null, null, null, null, null, null, null, null, null, null, null, null, null, null, null, null, null, null, null, null, null, null, null, null, null, null, null, null, null, null, null, null, null, null, null, null, null, null, null, null, null, null, null, null, null, null, null, null, null, null]}],\n",
       "                        {\"template\": {\"data\": {\"bar\": [{\"error_x\": {\"color\": \"#2a3f5f\"}, \"error_y\": {\"color\": \"#2a3f5f\"}, \"marker\": {\"line\": {\"color\": \"#E5ECF6\", \"width\": 0.5}}, \"type\": \"bar\"}], \"barpolar\": [{\"marker\": {\"line\": {\"color\": \"#E5ECF6\", \"width\": 0.5}}, \"type\": \"barpolar\"}], \"carpet\": [{\"aaxis\": {\"endlinecolor\": \"#2a3f5f\", \"gridcolor\": \"white\", \"linecolor\": \"white\", \"minorgridcolor\": \"white\", \"startlinecolor\": \"#2a3f5f\"}, \"baxis\": {\"endlinecolor\": \"#2a3f5f\", \"gridcolor\": \"white\", \"linecolor\": \"white\", \"minorgridcolor\": \"white\", \"startlinecolor\": \"#2a3f5f\"}, \"type\": \"carpet\"}], \"choropleth\": [{\"colorbar\": {\"outlinewidth\": 0, \"ticks\": \"\"}, \"type\": \"choropleth\"}], \"contour\": [{\"colorbar\": {\"outlinewidth\": 0, \"ticks\": \"\"}, \"colorscale\": [[0.0, \"#0d0887\"], [0.1111111111111111, \"#46039f\"], [0.2222222222222222, \"#7201a8\"], [0.3333333333333333, \"#9c179e\"], [0.4444444444444444, \"#bd3786\"], [0.5555555555555556, \"#d8576b\"], [0.6666666666666666, \"#ed7953\"], [0.7777777777777778, \"#fb9f3a\"], [0.8888888888888888, \"#fdca26\"], [1.0, \"#f0f921\"]], \"type\": \"contour\"}], \"contourcarpet\": [{\"colorbar\": {\"outlinewidth\": 0, \"ticks\": \"\"}, \"type\": \"contourcarpet\"}], \"heatmap\": [{\"colorbar\": {\"outlinewidth\": 0, \"ticks\": \"\"}, \"colorscale\": [[0.0, \"#0d0887\"], [0.1111111111111111, \"#46039f\"], [0.2222222222222222, \"#7201a8\"], [0.3333333333333333, \"#9c179e\"], [0.4444444444444444, \"#bd3786\"], [0.5555555555555556, \"#d8576b\"], [0.6666666666666666, \"#ed7953\"], [0.7777777777777778, \"#fb9f3a\"], [0.8888888888888888, \"#fdca26\"], [1.0, \"#f0f921\"]], \"type\": \"heatmap\"}], \"heatmapgl\": [{\"colorbar\": {\"outlinewidth\": 0, \"ticks\": \"\"}, \"colorscale\": [[0.0, \"#0d0887\"], [0.1111111111111111, \"#46039f\"], [0.2222222222222222, \"#7201a8\"], [0.3333333333333333, \"#9c179e\"], [0.4444444444444444, \"#bd3786\"], [0.5555555555555556, \"#d8576b\"], [0.6666666666666666, \"#ed7953\"], [0.7777777777777778, \"#fb9f3a\"], [0.8888888888888888, \"#fdca26\"], [1.0, \"#f0f921\"]], \"type\": \"heatmapgl\"}], \"histogram\": [{\"marker\": {\"colorbar\": {\"outlinewidth\": 0, \"ticks\": \"\"}}, \"type\": \"histogram\"}], \"histogram2d\": [{\"colorbar\": {\"outlinewidth\": 0, \"ticks\": \"\"}, \"colorscale\": [[0.0, \"#0d0887\"], [0.1111111111111111, \"#46039f\"], [0.2222222222222222, \"#7201a8\"], [0.3333333333333333, \"#9c179e\"], [0.4444444444444444, \"#bd3786\"], [0.5555555555555556, \"#d8576b\"], [0.6666666666666666, \"#ed7953\"], [0.7777777777777778, \"#fb9f3a\"], [0.8888888888888888, \"#fdca26\"], [1.0, \"#f0f921\"]], \"type\": \"histogram2d\"}], \"histogram2dcontour\": [{\"colorbar\": {\"outlinewidth\": 0, \"ticks\": \"\"}, \"colorscale\": [[0.0, \"#0d0887\"], [0.1111111111111111, \"#46039f\"], [0.2222222222222222, \"#7201a8\"], [0.3333333333333333, \"#9c179e\"], [0.4444444444444444, \"#bd3786\"], [0.5555555555555556, \"#d8576b\"], [0.6666666666666666, \"#ed7953\"], [0.7777777777777778, \"#fb9f3a\"], [0.8888888888888888, \"#fdca26\"], [1.0, \"#f0f921\"]], \"type\": \"histogram2dcontour\"}], \"mesh3d\": [{\"colorbar\": {\"outlinewidth\": 0, \"ticks\": \"\"}, \"type\": \"mesh3d\"}], \"parcoords\": [{\"line\": {\"colorbar\": {\"outlinewidth\": 0, \"ticks\": \"\"}}, \"type\": \"parcoords\"}], \"pie\": [{\"automargin\": true, \"type\": \"pie\"}], \"scatter\": [{\"marker\": {\"colorbar\": {\"outlinewidth\": 0, \"ticks\": \"\"}}, \"type\": \"scatter\"}], \"scatter3d\": [{\"line\": {\"colorbar\": {\"outlinewidth\": 0, \"ticks\": \"\"}}, \"marker\": {\"colorbar\": {\"outlinewidth\": 0, \"ticks\": \"\"}}, \"type\": \"scatter3d\"}], \"scattercarpet\": [{\"marker\": {\"colorbar\": {\"outlinewidth\": 0, \"ticks\": \"\"}}, \"type\": \"scattercarpet\"}], \"scattergeo\": [{\"marker\": {\"colorbar\": {\"outlinewidth\": 0, \"ticks\": \"\"}}, \"type\": \"scattergeo\"}], \"scattergl\": [{\"marker\": {\"colorbar\": {\"outlinewidth\": 0, \"ticks\": \"\"}}, \"type\": \"scattergl\"}], \"scattermapbox\": [{\"marker\": {\"colorbar\": {\"outlinewidth\": 0, \"ticks\": \"\"}}, \"type\": \"scattermapbox\"}], \"scatterpolar\": [{\"marker\": {\"colorbar\": {\"outlinewidth\": 0, \"ticks\": \"\"}}, \"type\": \"scatterpolar\"}], \"scatterpolargl\": [{\"marker\": {\"colorbar\": {\"outlinewidth\": 0, \"ticks\": \"\"}}, \"type\": \"scatterpolargl\"}], \"scatterternary\": [{\"marker\": {\"colorbar\": {\"outlinewidth\": 0, \"ticks\": \"\"}}, \"type\": \"scatterternary\"}], \"surface\": [{\"colorbar\": {\"outlinewidth\": 0, \"ticks\": \"\"}, \"colorscale\": [[0.0, \"#0d0887\"], [0.1111111111111111, \"#46039f\"], [0.2222222222222222, \"#7201a8\"], [0.3333333333333333, \"#9c179e\"], [0.4444444444444444, \"#bd3786\"], [0.5555555555555556, \"#d8576b\"], [0.6666666666666666, \"#ed7953\"], [0.7777777777777778, \"#fb9f3a\"], [0.8888888888888888, \"#fdca26\"], [1.0, \"#f0f921\"]], \"type\": \"surface\"}], \"table\": [{\"cells\": {\"fill\": {\"color\": \"#EBF0F8\"}, \"line\": {\"color\": \"white\"}}, \"header\": {\"fill\": {\"color\": \"#C8D4E3\"}, \"line\": {\"color\": \"white\"}}, \"type\": \"table\"}]}, \"layout\": {\"annotationdefaults\": {\"arrowcolor\": \"#2a3f5f\", \"arrowhead\": 0, \"arrowwidth\": 1}, \"coloraxis\": {\"colorbar\": {\"outlinewidth\": 0, \"ticks\": \"\"}}, \"colorscale\": {\"diverging\": [[0, \"#8e0152\"], [0.1, \"#c51b7d\"], [0.2, \"#de77ae\"], [0.3, \"#f1b6da\"], [0.4, \"#fde0ef\"], [0.5, \"#f7f7f7\"], [0.6, \"#e6f5d0\"], [0.7, \"#b8e186\"], [0.8, \"#7fbc41\"], [0.9, \"#4d9221\"], [1, \"#276419\"]], \"sequential\": [[0.0, \"#0d0887\"], [0.1111111111111111, \"#46039f\"], [0.2222222222222222, \"#7201a8\"], [0.3333333333333333, \"#9c179e\"], [0.4444444444444444, \"#bd3786\"], [0.5555555555555556, \"#d8576b\"], [0.6666666666666666, \"#ed7953\"], [0.7777777777777778, \"#fb9f3a\"], [0.8888888888888888, \"#fdca26\"], [1.0, \"#f0f921\"]], \"sequentialminus\": [[0.0, \"#0d0887\"], [0.1111111111111111, \"#46039f\"], [0.2222222222222222, \"#7201a8\"], [0.3333333333333333, \"#9c179e\"], [0.4444444444444444, \"#bd3786\"], [0.5555555555555556, \"#d8576b\"], [0.6666666666666666, \"#ed7953\"], [0.7777777777777778, \"#fb9f3a\"], [0.8888888888888888, \"#fdca26\"], [1.0, \"#f0f921\"]]}, \"colorway\": [\"#636efa\", \"#EF553B\", \"#00cc96\", \"#ab63fa\", \"#FFA15A\", \"#19d3f3\", \"#FF6692\", \"#B6E880\", \"#FF97FF\", \"#FECB52\"], \"font\": {\"color\": \"#2a3f5f\"}, \"geo\": {\"bgcolor\": \"white\", \"lakecolor\": \"white\", \"landcolor\": \"#E5ECF6\", \"showlakes\": true, \"showland\": true, \"subunitcolor\": \"white\"}, \"hoverlabel\": {\"align\": \"left\"}, \"hovermode\": \"closest\", \"mapbox\": {\"style\": \"light\"}, \"paper_bgcolor\": \"white\", \"plot_bgcolor\": \"#E5ECF6\", \"polar\": {\"angularaxis\": {\"gridcolor\": \"white\", \"linecolor\": \"white\", \"ticks\": \"\"}, \"bgcolor\": \"#E5ECF6\", \"radialaxis\": {\"gridcolor\": \"white\", \"linecolor\": \"white\", \"ticks\": \"\"}}, \"scene\": {\"xaxis\": {\"backgroundcolor\": \"#E5ECF6\", \"gridcolor\": \"white\", \"gridwidth\": 2, \"linecolor\": \"white\", \"showbackground\": true, \"ticks\": \"\", \"zerolinecolor\": \"white\"}, \"yaxis\": {\"backgroundcolor\": \"#E5ECF6\", \"gridcolor\": \"white\", \"gridwidth\": 2, \"linecolor\": \"white\", \"showbackground\": true, \"ticks\": \"\", \"zerolinecolor\": \"white\"}, \"zaxis\": {\"backgroundcolor\": \"#E5ECF6\", \"gridcolor\": \"white\", \"gridwidth\": 2, \"linecolor\": \"white\", \"showbackground\": true, \"ticks\": \"\", \"zerolinecolor\": \"white\"}}, \"shapedefaults\": {\"line\": {\"color\": \"#2a3f5f\"}}, \"ternary\": {\"aaxis\": {\"gridcolor\": \"white\", \"linecolor\": \"white\", \"ticks\": \"\"}, \"baxis\": {\"gridcolor\": \"white\", \"linecolor\": \"white\", \"ticks\": \"\"}, \"bgcolor\": \"#E5ECF6\", \"caxis\": {\"gridcolor\": \"white\", \"linecolor\": \"white\", \"ticks\": \"\"}}, \"title\": {\"x\": 0.05}, \"xaxis\": {\"automargin\": true, \"gridcolor\": \"white\", \"linecolor\": \"white\", \"ticks\": \"\", \"title\": {\"standoff\": 15}, \"zerolinecolor\": \"white\", \"zerolinewidth\": 2}, \"yaxis\": {\"automargin\": true, \"gridcolor\": \"white\", \"linecolor\": \"white\", \"ticks\": \"\", \"title\": {\"standoff\": 15}, \"zerolinecolor\": \"white\", \"zerolinewidth\": 2}}}, \"title\": {\"text\": \"Production in Years\"}, \"updatemenus\": [{\"buttons\": [{\"args\": [{\"visible\": [false, false, false, false, false, false, false, false]}], \"label\": \"Select Country\", \"method\": \"update\"}, {\"args\": [{\"visible\": [true, true, false, false, false, false, false, false]}], \"label\": \"Afghanistan\", \"method\": \"update\"}, {\"args\": [{\"visible\": [false, false, true, true, false, false, false, false]}], \"label\": \"Lebanon\", \"method\": \"update\"}, {\"args\": [{\"visible\": [false, false, false, false, true, true, false, false]}], \"label\": \"Congo\", \"method\": \"update\"}, {\"args\": [{\"visible\": [false, false, false, false, false, false, true, true]}], \"label\": \"Brazil\", \"method\": \"update\"}], \"x\": 0.01, \"xanchor\": \"left\", \"y\": 1, \"yanchor\": \"top\"}], \"xaxis\": {\"title\": {\"text\": \"Year\"}}, \"yaxis\": {\"title\": {\"text\": \"Production\"}}},\n",
       "                        {\"responsive\": true}\n",
       "                    ).then(function(){\n",
       "                            \n",
       "var gd = document.getElementById('215bad4d-f15e-4642-abd0-47899843f1fb');\n",
       "var x = new MutationObserver(function (mutations, observer) {{\n",
       "        var display = window.getComputedStyle(gd).display;\n",
       "        if (!display || display === 'none') {{\n",
       "            console.log([gd, 'removed!']);\n",
       "            Plotly.purge(gd);\n",
       "            observer.disconnect();\n",
       "        }}\n",
       "}});\n",
       "\n",
       "// Listen for the removal of the full notebook cells\n",
       "var notebookContainer = gd.closest('#notebook-container');\n",
       "if (notebookContainer) {{\n",
       "    x.observe(notebookContainer, {childList: true});\n",
       "}}\n",
       "\n",
       "// Listen for the clearing of the current output cell\n",
       "var outputEl = gd.closest('.output');\n",
       "if (outputEl) {{\n",
       "    x.observe(outputEl, {childList: true});\n",
       "}}\n",
       "\n",
       "                        })\n",
       "                };\n",
       "                });\n",
       "            </script>\n",
       "        </div>"
      ]
     },
     "metadata": {},
     "output_type": "display_data"
    }
   ],
   "source": [
    "fig.update_layout(updatemenus = menus)                        "
   ]
  },
  {
   "cell_type": "code",
   "execution_count": 13,
   "metadata": {},
   "outputs": [
    {
     "data": {
      "text/plain": [
       "'country-crops.html'"
      ]
     },
     "execution_count": 13,
     "metadata": {},
     "output_type": "execute_result"
    }
   ],
   "source": [
    "plotly.offline.plot(fig, filename='country-crops.html')"
   ]
  },
  {
   "cell_type": "code",
   "execution_count": 20,
   "metadata": {},
   "outputs": [],
   "source": [
    "country = 'Lebanon'    \n",
    "country_prod_war = country_in_war(final_wars_df, merged_data, country)"
   ]
  },
  {
   "cell_type": "code",
   "execution_count": 21,
   "metadata": {},
   "outputs": [],
   "source": [
    "prod_in_war = country_prod_war.copy()\n",
    "prod_no_war = country_prod_war.copy()\n",
    "\n",
    "\n",
    "prod_in_war['value_crop'][~prod_in_war['in_war']] = None\n",
    "prod_no_war['value_crop'][prod_no_war['in_war']] = None\n",
    "\n",
    "# Get list of unique conflicts for each country\n",
    "raw_list_conflicts = prod_in_war.warName.unique()\n",
    "list_conflicts = np.delete(raw_list_conflicts, np.where(raw_list_conflicts == 0))\n",
    "\n",
    "#prod_in_war.head()"
   ]
  },
  {
   "cell_type": "code",
   "execution_count": 22,
   "metadata": {},
   "outputs": [],
   "source": [
    "# Make list of dfs\n",
    "\n",
    "dfs = []\n",
    "\n",
    "for i in range(len(list_conflicts)):\n",
    "    dfs.append(prod_in_war.loc[prod_in_war['warName'] == list_conflicts[i]])"
   ]
  },
  {
   "cell_type": "code",
   "execution_count": 23,
   "metadata": {},
   "outputs": [],
   "source": [
    "# Make list of colors (this will need to be bigger when plotting countries with many wars)\n",
    "\n",
    "colors_list = ['rgb(220,20,60)', 'rgb(139,0,0)', 'rgb(250,128,114)']"
   ]
  },
  {
   "cell_type": "code",
   "execution_count": 29,
   "metadata": {},
   "outputs": [
    {
     "data": {
      "application/vnd.plotly.v1+json": {
       "config": {
        "plotlyServerURL": "https://plot.ly"
       },
       "data": [
        {
         "connectgaps": false,
         "hoverinfo": "text",
         "hovertext": "Not in Conflict",
         "line": {
          "color": "blue",
          "width": 2
         },
         "mode": "lines+markers",
         "name": "not in conflict",
         "type": "scatter",
         "x": [
          "1961-01-01",
          "1962-01-01",
          "1963-01-01",
          "1964-01-01",
          "1965-01-01",
          "1966-01-01",
          "1967-01-01",
          "1968-01-01",
          "1969-01-01",
          "1970-01-01",
          "1971-01-01",
          "1972-01-01",
          "1973-01-01",
          "1974-01-01",
          "1975-01-01",
          "1976-01-01",
          "1977-01-01",
          "1978-01-01",
          "1979-01-01",
          "1980-01-01",
          "1981-01-01",
          "1982-01-01",
          "1983-01-01",
          "1984-01-01",
          "1985-01-01",
          "1986-01-01",
          "1987-01-01",
          "1988-01-01",
          "1989-01-01",
          "1990-01-01",
          "1991-01-01",
          "1992-01-01",
          "1993-01-01",
          "1994-01-01",
          "1995-01-01",
          "1996-01-01",
          "1997-01-01",
          "1998-01-01",
          "1999-01-01",
          "2000-01-01",
          "2001-01-01",
          "2002-01-01",
          "2003-01-01",
          "2004-01-01",
          "2005-01-01",
          "2006-01-01",
          "2007-01-01",
          "2008-01-01",
          "2009-01-01",
          "2010-01-01",
          "2011-01-01",
          "2012-01-01",
          "2013-01-01",
          "2014-01-01",
          "2015-01-01",
          "2016-01-01",
          "2017-01-01"
         ],
         "y": [
          1082027,
          1123471,
          1143291,
          1225920,
          1174548,
          1222130,
          1301316,
          1304833,
          1130030,
          1296779,
          1421886,
          1575982,
          1487203,
          1706556,
          null,
          null,
          null,
          null,
          null,
          null,
          null,
          null,
          null,
          null,
          null,
          null,
          null,
          null,
          null,
          null,
          3190002,
          3154568,
          2964608,
          3031613,
          3304977,
          3360062,
          3135755,
          2747076,
          2774841,
          2557031,
          2511455,
          2605760,
          2763392,
          2952553,
          2908938,
          null,
          2933188,
          2978220,
          2592092,
          2466275,
          2395096,
          2549976,
          2668916,
          2743968,
          2669856,
          2579943,
          2564765
         ]
        },
        {
         "connectgaps": false,
         "hoverinfo": "text",
         "hovertext": "In war",
         "line": {
          "color": "red",
          "width": 2
         },
         "mode": "lines+markers",
         "name": "In war",
         "type": "scatter",
         "x": [
          "1975-01-01",
          "1976-01-01",
          "1977-01-01",
          "1978-01-01",
          "1979-01-01",
          "1980-01-01",
          "1981-01-01",
          "1982-01-01",
          "1983-01-01",
          "1984-01-01",
          "1985-01-01",
          "1986-01-01",
          "1987-01-01",
          "1988-01-01",
          "1989-01-01",
          "1990-01-01"
         ],
         "y": [
          1440545,
          1353377,
          1427428,
          1506924,
          1604184,
          1617655,
          1550622,
          1684054,
          1717345,
          1645310,
          1940149,
          2069817,
          2393676,
          2497863,
          2678731,
          2856243
         ]
        },
        {
         "connectgaps": false,
         "hoverinfo": "text",
         "hovertext": "In war",
         "line": {
          "color": "red",
          "width": 2
         },
         "mode": "lines+markers",
         "name": "In war",
         "type": "scatter",
         "x": [
          "2006-01-01"
         ],
         "y": [
          2781558
         ]
        }
       ],
       "layout": {
        "autosize": true,
        "template": {
         "data": {
          "bar": [
           {
            "error_x": {
             "color": "#2a3f5f"
            },
            "error_y": {
             "color": "#2a3f5f"
            },
            "marker": {
             "line": {
              "color": "#E5ECF6",
              "width": 0.5
             }
            },
            "type": "bar"
           }
          ],
          "barpolar": [
           {
            "marker": {
             "line": {
              "color": "#E5ECF6",
              "width": 0.5
             }
            },
            "type": "barpolar"
           }
          ],
          "carpet": [
           {
            "aaxis": {
             "endlinecolor": "#2a3f5f",
             "gridcolor": "white",
             "linecolor": "white",
             "minorgridcolor": "white",
             "startlinecolor": "#2a3f5f"
            },
            "baxis": {
             "endlinecolor": "#2a3f5f",
             "gridcolor": "white",
             "linecolor": "white",
             "minorgridcolor": "white",
             "startlinecolor": "#2a3f5f"
            },
            "type": "carpet"
           }
          ],
          "choropleth": [
           {
            "colorbar": {
             "outlinewidth": 0,
             "ticks": ""
            },
            "type": "choropleth"
           }
          ],
          "contour": [
           {
            "colorbar": {
             "outlinewidth": 0,
             "ticks": ""
            },
            "colorscale": [
             [
              0,
              "#0d0887"
             ],
             [
              0.1111111111111111,
              "#46039f"
             ],
             [
              0.2222222222222222,
              "#7201a8"
             ],
             [
              0.3333333333333333,
              "#9c179e"
             ],
             [
              0.4444444444444444,
              "#bd3786"
             ],
             [
              0.5555555555555556,
              "#d8576b"
             ],
             [
              0.6666666666666666,
              "#ed7953"
             ],
             [
              0.7777777777777778,
              "#fb9f3a"
             ],
             [
              0.8888888888888888,
              "#fdca26"
             ],
             [
              1,
              "#f0f921"
             ]
            ],
            "type": "contour"
           }
          ],
          "contourcarpet": [
           {
            "colorbar": {
             "outlinewidth": 0,
             "ticks": ""
            },
            "type": "contourcarpet"
           }
          ],
          "heatmap": [
           {
            "colorbar": {
             "outlinewidth": 0,
             "ticks": ""
            },
            "colorscale": [
             [
              0,
              "#0d0887"
             ],
             [
              0.1111111111111111,
              "#46039f"
             ],
             [
              0.2222222222222222,
              "#7201a8"
             ],
             [
              0.3333333333333333,
              "#9c179e"
             ],
             [
              0.4444444444444444,
              "#bd3786"
             ],
             [
              0.5555555555555556,
              "#d8576b"
             ],
             [
              0.6666666666666666,
              "#ed7953"
             ],
             [
              0.7777777777777778,
              "#fb9f3a"
             ],
             [
              0.8888888888888888,
              "#fdca26"
             ],
             [
              1,
              "#f0f921"
             ]
            ],
            "type": "heatmap"
           }
          ],
          "heatmapgl": [
           {
            "colorbar": {
             "outlinewidth": 0,
             "ticks": ""
            },
            "colorscale": [
             [
              0,
              "#0d0887"
             ],
             [
              0.1111111111111111,
              "#46039f"
             ],
             [
              0.2222222222222222,
              "#7201a8"
             ],
             [
              0.3333333333333333,
              "#9c179e"
             ],
             [
              0.4444444444444444,
              "#bd3786"
             ],
             [
              0.5555555555555556,
              "#d8576b"
             ],
             [
              0.6666666666666666,
              "#ed7953"
             ],
             [
              0.7777777777777778,
              "#fb9f3a"
             ],
             [
              0.8888888888888888,
              "#fdca26"
             ],
             [
              1,
              "#f0f921"
             ]
            ],
            "type": "heatmapgl"
           }
          ],
          "histogram": [
           {
            "marker": {
             "colorbar": {
              "outlinewidth": 0,
              "ticks": ""
             }
            },
            "type": "histogram"
           }
          ],
          "histogram2d": [
           {
            "colorbar": {
             "outlinewidth": 0,
             "ticks": ""
            },
            "colorscale": [
             [
              0,
              "#0d0887"
             ],
             [
              0.1111111111111111,
              "#46039f"
             ],
             [
              0.2222222222222222,
              "#7201a8"
             ],
             [
              0.3333333333333333,
              "#9c179e"
             ],
             [
              0.4444444444444444,
              "#bd3786"
             ],
             [
              0.5555555555555556,
              "#d8576b"
             ],
             [
              0.6666666666666666,
              "#ed7953"
             ],
             [
              0.7777777777777778,
              "#fb9f3a"
             ],
             [
              0.8888888888888888,
              "#fdca26"
             ],
             [
              1,
              "#f0f921"
             ]
            ],
            "type": "histogram2d"
           }
          ],
          "histogram2dcontour": [
           {
            "colorbar": {
             "outlinewidth": 0,
             "ticks": ""
            },
            "colorscale": [
             [
              0,
              "#0d0887"
             ],
             [
              0.1111111111111111,
              "#46039f"
             ],
             [
              0.2222222222222222,
              "#7201a8"
             ],
             [
              0.3333333333333333,
              "#9c179e"
             ],
             [
              0.4444444444444444,
              "#bd3786"
             ],
             [
              0.5555555555555556,
              "#d8576b"
             ],
             [
              0.6666666666666666,
              "#ed7953"
             ],
             [
              0.7777777777777778,
              "#fb9f3a"
             ],
             [
              0.8888888888888888,
              "#fdca26"
             ],
             [
              1,
              "#f0f921"
             ]
            ],
            "type": "histogram2dcontour"
           }
          ],
          "mesh3d": [
           {
            "colorbar": {
             "outlinewidth": 0,
             "ticks": ""
            },
            "type": "mesh3d"
           }
          ],
          "parcoords": [
           {
            "line": {
             "colorbar": {
              "outlinewidth": 0,
              "ticks": ""
             }
            },
            "type": "parcoords"
           }
          ],
          "pie": [
           {
            "automargin": true,
            "type": "pie"
           }
          ],
          "scatter": [
           {
            "marker": {
             "colorbar": {
              "outlinewidth": 0,
              "ticks": ""
             }
            },
            "type": "scatter"
           }
          ],
          "scatter3d": [
           {
            "line": {
             "colorbar": {
              "outlinewidth": 0,
              "ticks": ""
             }
            },
            "marker": {
             "colorbar": {
              "outlinewidth": 0,
              "ticks": ""
             }
            },
            "type": "scatter3d"
           }
          ],
          "scattercarpet": [
           {
            "marker": {
             "colorbar": {
              "outlinewidth": 0,
              "ticks": ""
             }
            },
            "type": "scattercarpet"
           }
          ],
          "scattergeo": [
           {
            "marker": {
             "colorbar": {
              "outlinewidth": 0,
              "ticks": ""
             }
            },
            "type": "scattergeo"
           }
          ],
          "scattergl": [
           {
            "marker": {
             "colorbar": {
              "outlinewidth": 0,
              "ticks": ""
             }
            },
            "type": "scattergl"
           }
          ],
          "scattermapbox": [
           {
            "marker": {
             "colorbar": {
              "outlinewidth": 0,
              "ticks": ""
             }
            },
            "type": "scattermapbox"
           }
          ],
          "scatterpolar": [
           {
            "marker": {
             "colorbar": {
              "outlinewidth": 0,
              "ticks": ""
             }
            },
            "type": "scatterpolar"
           }
          ],
          "scatterpolargl": [
           {
            "marker": {
             "colorbar": {
              "outlinewidth": 0,
              "ticks": ""
             }
            },
            "type": "scatterpolargl"
           }
          ],
          "scatterternary": [
           {
            "marker": {
             "colorbar": {
              "outlinewidth": 0,
              "ticks": ""
             }
            },
            "type": "scatterternary"
           }
          ],
          "surface": [
           {
            "colorbar": {
             "outlinewidth": 0,
             "ticks": ""
            },
            "colorscale": [
             [
              0,
              "#0d0887"
             ],
             [
              0.1111111111111111,
              "#46039f"
             ],
             [
              0.2222222222222222,
              "#7201a8"
             ],
             [
              0.3333333333333333,
              "#9c179e"
             ],
             [
              0.4444444444444444,
              "#bd3786"
             ],
             [
              0.5555555555555556,
              "#d8576b"
             ],
             [
              0.6666666666666666,
              "#ed7953"
             ],
             [
              0.7777777777777778,
              "#fb9f3a"
             ],
             [
              0.8888888888888888,
              "#fdca26"
             ],
             [
              1,
              "#f0f921"
             ]
            ],
            "type": "surface"
           }
          ],
          "table": [
           {
            "cells": {
             "fill": {
              "color": "#EBF0F8"
             },
             "line": {
              "color": "white"
             }
            },
            "header": {
             "fill": {
              "color": "#C8D4E3"
             },
             "line": {
              "color": "white"
             }
            },
            "type": "table"
           }
          ]
         },
         "layout": {
          "annotationdefaults": {
           "arrowcolor": "#2a3f5f",
           "arrowhead": 0,
           "arrowwidth": 1
          },
          "coloraxis": {
           "colorbar": {
            "outlinewidth": 0,
            "ticks": ""
           }
          },
          "colorscale": {
           "diverging": [
            [
             0,
             "#8e0152"
            ],
            [
             0.1,
             "#c51b7d"
            ],
            [
             0.2,
             "#de77ae"
            ],
            [
             0.3,
             "#f1b6da"
            ],
            [
             0.4,
             "#fde0ef"
            ],
            [
             0.5,
             "#f7f7f7"
            ],
            [
             0.6,
             "#e6f5d0"
            ],
            [
             0.7,
             "#b8e186"
            ],
            [
             0.8,
             "#7fbc41"
            ],
            [
             0.9,
             "#4d9221"
            ],
            [
             1,
             "#276419"
            ]
           ],
           "sequential": [
            [
             0,
             "#0d0887"
            ],
            [
             0.1111111111111111,
             "#46039f"
            ],
            [
             0.2222222222222222,
             "#7201a8"
            ],
            [
             0.3333333333333333,
             "#9c179e"
            ],
            [
             0.4444444444444444,
             "#bd3786"
            ],
            [
             0.5555555555555556,
             "#d8576b"
            ],
            [
             0.6666666666666666,
             "#ed7953"
            ],
            [
             0.7777777777777778,
             "#fb9f3a"
            ],
            [
             0.8888888888888888,
             "#fdca26"
            ],
            [
             1,
             "#f0f921"
            ]
           ],
           "sequentialminus": [
            [
             0,
             "#0d0887"
            ],
            [
             0.1111111111111111,
             "#46039f"
            ],
            [
             0.2222222222222222,
             "#7201a8"
            ],
            [
             0.3333333333333333,
             "#9c179e"
            ],
            [
             0.4444444444444444,
             "#bd3786"
            ],
            [
             0.5555555555555556,
             "#d8576b"
            ],
            [
             0.6666666666666666,
             "#ed7953"
            ],
            [
             0.7777777777777778,
             "#fb9f3a"
            ],
            [
             0.8888888888888888,
             "#fdca26"
            ],
            [
             1,
             "#f0f921"
            ]
           ]
          },
          "colorway": [
           "#636efa",
           "#EF553B",
           "#00cc96",
           "#ab63fa",
           "#FFA15A",
           "#19d3f3",
           "#FF6692",
           "#B6E880",
           "#FF97FF",
           "#FECB52"
          ],
          "font": {
           "color": "#2a3f5f"
          },
          "geo": {
           "bgcolor": "white",
           "lakecolor": "white",
           "landcolor": "#E5ECF6",
           "showlakes": true,
           "showland": true,
           "subunitcolor": "white"
          },
          "hoverlabel": {
           "align": "left"
          },
          "hovermode": "closest",
          "mapbox": {
           "style": "light"
          },
          "paper_bgcolor": "white",
          "plot_bgcolor": "#E5ECF6",
          "polar": {
           "angularaxis": {
            "gridcolor": "white",
            "linecolor": "white",
            "ticks": ""
           },
           "bgcolor": "#E5ECF6",
           "radialaxis": {
            "gridcolor": "white",
            "linecolor": "white",
            "ticks": ""
           }
          },
          "scene": {
           "xaxis": {
            "backgroundcolor": "#E5ECF6",
            "gridcolor": "white",
            "gridwidth": 2,
            "linecolor": "white",
            "showbackground": true,
            "ticks": "",
            "zerolinecolor": "white"
           },
           "yaxis": {
            "backgroundcolor": "#E5ECF6",
            "gridcolor": "white",
            "gridwidth": 2,
            "linecolor": "white",
            "showbackground": true,
            "ticks": "",
            "zerolinecolor": "white"
           },
           "zaxis": {
            "backgroundcolor": "#E5ECF6",
            "gridcolor": "white",
            "gridwidth": 2,
            "linecolor": "white",
            "showbackground": true,
            "ticks": "",
            "zerolinecolor": "white"
           }
          },
          "shapedefaults": {
           "line": {
            "color": "#2a3f5f"
           }
          },
          "ternary": {
           "aaxis": {
            "gridcolor": "white",
            "linecolor": "white",
            "ticks": ""
           },
           "baxis": {
            "gridcolor": "white",
            "linecolor": "white",
            "ticks": ""
           },
           "bgcolor": "#E5ECF6",
           "caxis": {
            "gridcolor": "white",
            "linecolor": "white",
            "ticks": ""
           }
          },
          "title": {
           "x": 0.05
          },
          "xaxis": {
           "automargin": true,
           "gridcolor": "white",
           "linecolor": "white",
           "ticks": "",
           "title": {
            "standoff": 15
           },
           "zerolinecolor": "white",
           "zerolinewidth": 2
          },
          "yaxis": {
           "automargin": true,
           "gridcolor": "white",
           "linecolor": "white",
           "ticks": "",
           "title": {
            "standoff": 15
           },
           "zerolinecolor": "white",
           "zerolinewidth": 2
          }
         }
        },
        "title": {
         "text": "Production in Years"
        },
        "xaxis": {
         "autorange": true,
         "range": [
          "1957-07-24 03:20:23.4196",
          "2020-06-10 20:39:36.5804"
         ],
         "title": {
          "text": "Year"
         },
         "type": "date"
        },
        "yaxis": {
         "autorange": true,
         "range": [
          915164.5636942675,
          3526924.4363057325
         ],
         "title": {
          "text": "Production"
         },
         "type": "linear"
        }
       }
      },
      "image/png": "[encoded data removed]",
      "text/html": [
       "<div>\n",
       "        \n",
       "        \n",
       "            <div id=\"545aacb7-6761-4be0-a0a9-b92b1807222c\" class=\"plotly-graph-div\" style=\"height:525px; width:100%;\"></div>\n",
       "            <script type=\"text/javascript\">\n",
       "                require([\"plotly\"], function(Plotly) {\n",
       "                    window.PLOTLYENV=window.PLOTLYENV || {};\n",
       "                    \n",
       "                if (document.getElementById(\"545aacb7-6761-4be0-a0a9-b92b1807222c\")) {\n",
       "                    Plotly.newPlot(\n",
       "                        '545aacb7-6761-4be0-a0a9-b92b1807222c',\n",
       "                        [{\"connectgaps\": false, \"hoverinfo\": \"text\", \"hovertext\": \"Not in Conflict\", \"line\": {\"color\": \"blue\", \"width\": 2}, \"mode\": \"lines+markers\", \"name\": \"not in conflict\", \"type\": \"scatter\", \"x\": [\"1961-01-01\", \"1962-01-01\", \"1963-01-01\", \"1964-01-01\", \"1965-01-01\", \"1966-01-01\", \"1967-01-01\", \"1968-01-01\", \"1969-01-01\", \"1970-01-01\", \"1971-01-01\", \"1972-01-01\", \"1973-01-01\", \"1974-01-01\", \"1975-01-01\", \"1976-01-01\", \"1977-01-01\", \"1978-01-01\", \"1979-01-01\", \"1980-01-01\", \"1981-01-01\", \"1982-01-01\", \"1983-01-01\", \"1984-01-01\", \"1985-01-01\", \"1986-01-01\", \"1987-01-01\", \"1988-01-01\", \"1989-01-01\", \"1990-01-01\", \"1991-01-01\", \"1992-01-01\", \"1993-01-01\", \"1994-01-01\", \"1995-01-01\", \"1996-01-01\", \"1997-01-01\", \"1998-01-01\", \"1999-01-01\", \"2000-01-01\", \"2001-01-01\", \"2002-01-01\", \"2003-01-01\", \"2004-01-01\", \"2005-01-01\", \"2006-01-01\", \"2007-01-01\", \"2008-01-01\", \"2009-01-01\", \"2010-01-01\", \"2011-01-01\", \"2012-01-01\", \"2013-01-01\", \"2014-01-01\", \"2015-01-01\", \"2016-01-01\", \"2017-01-01\"], \"y\": [1082027.0, 1123471.0, 1143291.0, 1225920.0, 1174548.0, 1222130.0, 1301316.0, 1304833.0, 1130030.0, 1296779.0, 1421886.0, 1575982.0, 1487203.0, 1706556.0, null, null, null, null, null, null, null, null, null, null, null, null, null, null, null, null, 3190002.0, 3154568.0, 2964608.0, 3031613.0, 3304977.0, 3360062.0, 3135755.0, 2747076.0, 2774841.0, 2557031.0, 2511455.0, 2605760.0, 2763392.0, 2952553.0, 2908938.0, null, 2933188.0, 2978220.0, 2592092.0, 2466275.0, 2395096.0, 2549976.0, 2668916.0, 2743968.0, 2669856.0, 2579943.0, 2564765.0]}, {\"connectgaps\": false, \"hoverinfo\": \"text\", \"hovertext\": \"In war\", \"line\": {\"color\": \"red\", \"width\": 2}, \"mode\": \"lines+markers\", \"name\": \"In war\", \"type\": \"scatter\", \"x\": [\"1975-01-01\", \"1976-01-01\", \"1977-01-01\", \"1978-01-01\", \"1979-01-01\", \"1980-01-01\", \"1981-01-01\", \"1982-01-01\", \"1983-01-01\", \"1984-01-01\", \"1985-01-01\", \"1986-01-01\", \"1987-01-01\", \"1988-01-01\", \"1989-01-01\", \"1990-01-01\"], \"y\": [1440545.0, 1353377.0, 1427428.0, 1506924.0, 1604184.0, 1617655.0, 1550622.0, 1684054.0, 1717345.0, 1645310.0, 1940149.0, 2069817.0, 2393676.0, 2497863.0, 2678731.0, 2856243.0]}, {\"connectgaps\": false, \"hoverinfo\": \"text\", \"hovertext\": \"In war\", \"line\": {\"color\": \"red\", \"width\": 2}, \"mode\": \"lines+markers\", \"name\": \"In war\", \"type\": \"scatter\", \"x\": [\"2006-01-01\"], \"y\": [2781558.0]}],\n",
       "                        {\"template\": {\"data\": {\"bar\": [{\"error_x\": {\"color\": \"#2a3f5f\"}, \"error_y\": {\"color\": \"#2a3f5f\"}, \"marker\": {\"line\": {\"color\": \"#E5ECF6\", \"width\": 0.5}}, \"type\": \"bar\"}], \"barpolar\": [{\"marker\": {\"line\": {\"color\": \"#E5ECF6\", \"width\": 0.5}}, \"type\": \"barpolar\"}], \"carpet\": [{\"aaxis\": {\"endlinecolor\": \"#2a3f5f\", \"gridcolor\": \"white\", \"linecolor\": \"white\", \"minorgridcolor\": \"white\", \"startlinecolor\": \"#2a3f5f\"}, \"baxis\": {\"endlinecolor\": \"#2a3f5f\", \"gridcolor\": \"white\", \"linecolor\": \"white\", \"minorgridcolor\": \"white\", \"startlinecolor\": \"#2a3f5f\"}, \"type\": \"carpet\"}], \"choropleth\": [{\"colorbar\": {\"outlinewidth\": 0, \"ticks\": \"\"}, \"type\": \"choropleth\"}], \"contour\": [{\"colorbar\": {\"outlinewidth\": 0, \"ticks\": \"\"}, \"colorscale\": [[0.0, \"#0d0887\"], [0.1111111111111111, \"#46039f\"], [0.2222222222222222, \"#7201a8\"], [0.3333333333333333, \"#9c179e\"], [0.4444444444444444, \"#bd3786\"], [0.5555555555555556, \"#d8576b\"], [0.6666666666666666, \"#ed7953\"], [0.7777777777777778, \"#fb9f3a\"], [0.8888888888888888, \"#fdca26\"], [1.0, \"#f0f921\"]], \"type\": \"contour\"}], \"contourcarpet\": [{\"colorbar\": {\"outlinewidth\": 0, \"ticks\": \"\"}, \"type\": \"contourcarpet\"}], \"heatmap\": [{\"colorbar\": {\"outlinewidth\": 0, \"ticks\": \"\"}, \"colorscale\": [[0.0, \"#0d0887\"], [0.1111111111111111, \"#46039f\"], [0.2222222222222222, \"#7201a8\"], [0.3333333333333333, \"#9c179e\"], [0.4444444444444444, \"#bd3786\"], [0.5555555555555556, \"#d8576b\"], [0.6666666666666666, \"#ed7953\"], [0.7777777777777778, \"#fb9f3a\"], [0.8888888888888888, \"#fdca26\"], [1.0, \"#f0f921\"]], \"type\": \"heatmap\"}], \"heatmapgl\": [{\"colorbar\": {\"outlinewidth\": 0, \"ticks\": \"\"}, \"colorscale\": [[0.0, \"#0d0887\"], [0.1111111111111111, \"#46039f\"], [0.2222222222222222, \"#7201a8\"], [0.3333333333333333, \"#9c179e\"], [0.4444444444444444, \"#bd3786\"], [0.5555555555555556, \"#d8576b\"], [0.6666666666666666, \"#ed7953\"], [0.7777777777777778, \"#fb9f3a\"], [0.8888888888888888, \"#fdca26\"], [1.0, \"#f0f921\"]], \"type\": \"heatmapgl\"}], \"histogram\": [{\"marker\": {\"colorbar\": {\"outlinewidth\": 0, \"ticks\": \"\"}}, \"type\": \"histogram\"}], \"histogram2d\": [{\"colorbar\": {\"outlinewidth\": 0, \"ticks\": \"\"}, \"colorscale\": [[0.0, \"#0d0887\"], [0.1111111111111111, \"#46039f\"], [0.2222222222222222, \"#7201a8\"], [0.3333333333333333, \"#9c179e\"], [0.4444444444444444, \"#bd3786\"], [0.5555555555555556, \"#d8576b\"], [0.6666666666666666, \"#ed7953\"], [0.7777777777777778, \"#fb9f3a\"], [0.8888888888888888, \"#fdca26\"], [1.0, \"#f0f921\"]], \"type\": \"histogram2d\"}], \"histogram2dcontour\": [{\"colorbar\": {\"outlinewidth\": 0, \"ticks\": \"\"}, \"colorscale\": [[0.0, \"#0d0887\"], [0.1111111111111111, \"#46039f\"], [0.2222222222222222, \"#7201a8\"], [0.3333333333333333, \"#9c179e\"], [0.4444444444444444, \"#bd3786\"], [0.5555555555555556, \"#d8576b\"], [0.6666666666666666, \"#ed7953\"], [0.7777777777777778, \"#fb9f3a\"], [0.8888888888888888, \"#fdca26\"], [1.0, \"#f0f921\"]], \"type\": \"histogram2dcontour\"}], \"mesh3d\": [{\"colorbar\": {\"outlinewidth\": 0, \"ticks\": \"\"}, \"type\": \"mesh3d\"}], \"parcoords\": [{\"line\": {\"colorbar\": {\"outlinewidth\": 0, \"ticks\": \"\"}}, \"type\": \"parcoords\"}], \"pie\": [{\"automargin\": true, \"type\": \"pie\"}], \"scatter\": [{\"marker\": {\"colorbar\": {\"outlinewidth\": 0, \"ticks\": \"\"}}, \"type\": \"scatter\"}], \"scatter3d\": [{\"line\": {\"colorbar\": {\"outlinewidth\": 0, \"ticks\": \"\"}}, \"marker\": {\"colorbar\": {\"outlinewidth\": 0, \"ticks\": \"\"}}, \"type\": \"scatter3d\"}], \"scattercarpet\": [{\"marker\": {\"colorbar\": {\"outlinewidth\": 0, \"ticks\": \"\"}}, \"type\": \"scattercarpet\"}], \"scattergeo\": [{\"marker\": {\"colorbar\": {\"outlinewidth\": 0, \"ticks\": \"\"}}, \"type\": \"scattergeo\"}], \"scattergl\": [{\"marker\": {\"colorbar\": {\"outlinewidth\": 0, \"ticks\": \"\"}}, \"type\": \"scattergl\"}], \"scattermapbox\": [{\"marker\": {\"colorbar\": {\"outlinewidth\": 0, \"ticks\": \"\"}}, \"type\": \"scattermapbox\"}], \"scatterpolar\": [{\"marker\": {\"colorbar\": {\"outlinewidth\": 0, \"ticks\": \"\"}}, \"type\": \"scatterpolar\"}], \"scatterpolargl\": [{\"marker\": {\"colorbar\": {\"outlinewidth\": 0, \"ticks\": \"\"}}, \"type\": \"scatterpolargl\"}], \"scatterternary\": [{\"marker\": {\"colorbar\": {\"outlinewidth\": 0, \"ticks\": \"\"}}, \"type\": \"scatterternary\"}], \"surface\": [{\"colorbar\": {\"outlinewidth\": 0, \"ticks\": \"\"}, \"colorscale\": [[0.0, \"#0d0887\"], [0.1111111111111111, \"#46039f\"], [0.2222222222222222, \"#7201a8\"], [0.3333333333333333, \"#9c179e\"], [0.4444444444444444, \"#bd3786\"], [0.5555555555555556, \"#d8576b\"], [0.6666666666666666, \"#ed7953\"], [0.7777777777777778, \"#fb9f3a\"], [0.8888888888888888, \"#fdca26\"], [1.0, \"#f0f921\"]], \"type\": \"surface\"}], \"table\": [{\"cells\": {\"fill\": {\"color\": \"#EBF0F8\"}, \"line\": {\"color\": \"white\"}}, \"header\": {\"fill\": {\"color\": \"#C8D4E3\"}, \"line\": {\"color\": \"white\"}}, \"type\": \"table\"}]}, \"layout\": {\"annotationdefaults\": {\"arrowcolor\": \"#2a3f5f\", \"arrowhead\": 0, \"arrowwidth\": 1}, \"coloraxis\": {\"colorbar\": {\"outlinewidth\": 0, \"ticks\": \"\"}}, \"colorscale\": {\"diverging\": [[0, \"#8e0152\"], [0.1, \"#c51b7d\"], [0.2, \"#de77ae\"], [0.3, \"#f1b6da\"], [0.4, \"#fde0ef\"], [0.5, \"#f7f7f7\"], [0.6, \"#e6f5d0\"], [0.7, \"#b8e186\"], [0.8, \"#7fbc41\"], [0.9, \"#4d9221\"], [1, \"#276419\"]], \"sequential\": [[0.0, \"#0d0887\"], [0.1111111111111111, \"#46039f\"], [0.2222222222222222, \"#7201a8\"], [0.3333333333333333, \"#9c179e\"], [0.4444444444444444, \"#bd3786\"], [0.5555555555555556, \"#d8576b\"], [0.6666666666666666, \"#ed7953\"], [0.7777777777777778, \"#fb9f3a\"], [0.8888888888888888, \"#fdca26\"], [1.0, \"#f0f921\"]], \"sequentialminus\": [[0.0, \"#0d0887\"], [0.1111111111111111, \"#46039f\"], [0.2222222222222222, \"#7201a8\"], [0.3333333333333333, \"#9c179e\"], [0.4444444444444444, \"#bd3786\"], [0.5555555555555556, \"#d8576b\"], [0.6666666666666666, \"#ed7953\"], [0.7777777777777778, \"#fb9f3a\"], [0.8888888888888888, \"#fdca26\"], [1.0, \"#f0f921\"]]}, \"colorway\": [\"#636efa\", \"#EF553B\", \"#00cc96\", \"#ab63fa\", \"#FFA15A\", \"#19d3f3\", \"#FF6692\", \"#B6E880\", \"#FF97FF\", \"#FECB52\"], \"font\": {\"color\": \"#2a3f5f\"}, \"geo\": {\"bgcolor\": \"white\", \"lakecolor\": \"white\", \"landcolor\": \"#E5ECF6\", \"showlakes\": true, \"showland\": true, \"subunitcolor\": \"white\"}, \"hoverlabel\": {\"align\": \"left\"}, \"hovermode\": \"closest\", \"mapbox\": {\"style\": \"light\"}, \"paper_bgcolor\": \"white\", \"plot_bgcolor\": \"#E5ECF6\", \"polar\": {\"angularaxis\": {\"gridcolor\": \"white\", \"linecolor\": \"white\", \"ticks\": \"\"}, \"bgcolor\": \"#E5ECF6\", \"radialaxis\": {\"gridcolor\": \"white\", \"linecolor\": \"white\", \"ticks\": \"\"}}, \"scene\": {\"xaxis\": {\"backgroundcolor\": \"#E5ECF6\", \"gridcolor\": \"white\", \"gridwidth\": 2, \"linecolor\": \"white\", \"showbackground\": true, \"ticks\": \"\", \"zerolinecolor\": \"white\"}, \"yaxis\": {\"backgroundcolor\": \"#E5ECF6\", \"gridcolor\": \"white\", \"gridwidth\": 2, \"linecolor\": \"white\", \"showbackground\": true, \"ticks\": \"\", \"zerolinecolor\": \"white\"}, \"zaxis\": {\"backgroundcolor\": \"#E5ECF6\", \"gridcolor\": \"white\", \"gridwidth\": 2, \"linecolor\": \"white\", \"showbackground\": true, \"ticks\": \"\", \"zerolinecolor\": \"white\"}}, \"shapedefaults\": {\"line\": {\"color\": \"#2a3f5f\"}}, \"ternary\": {\"aaxis\": {\"gridcolor\": \"white\", \"linecolor\": \"white\", \"ticks\": \"\"}, \"baxis\": {\"gridcolor\": \"white\", \"linecolor\": \"white\", \"ticks\": \"\"}, \"bgcolor\": \"#E5ECF6\", \"caxis\": {\"gridcolor\": \"white\", \"linecolor\": \"white\", \"ticks\": \"\"}}, \"title\": {\"x\": 0.05}, \"xaxis\": {\"automargin\": true, \"gridcolor\": \"white\", \"linecolor\": \"white\", \"ticks\": \"\", \"title\": {\"standoff\": 15}, \"zerolinecolor\": \"white\", \"zerolinewidth\": 2}, \"yaxis\": {\"automargin\": true, \"gridcolor\": \"white\", \"linecolor\": \"white\", \"ticks\": \"\", \"title\": {\"standoff\": 15}, \"zerolinecolor\": \"white\", \"zerolinewidth\": 2}}}, \"title\": {\"text\": \"Production in Years\"}, \"xaxis\": {\"title\": {\"text\": \"Year\"}}, \"yaxis\": {\"title\": {\"text\": \"Production\"}}},\n",
       "                        {\"responsive\": true}\n",
       "                    ).then(function(){\n",
       "                            \n",
       "var gd = document.getElementById('545aacb7-6761-4be0-a0a9-b92b1807222c');\n",
       "var x = new MutationObserver(function (mutations, observer) {{\n",
       "        var display = window.getComputedStyle(gd).display;\n",
       "        if (!display || display === 'none') {{\n",
       "            console.log([gd, 'removed!']);\n",
       "            Plotly.purge(gd);\n",
       "            observer.disconnect();\n",
       "        }}\n",
       "}});\n",
       "\n",
       "// Listen for the removal of the full notebook cells\n",
       "var notebookContainer = gd.closest('#notebook-container');\n",
       "if (notebookContainer) {{\n",
       "    x.observe(notebookContainer, {childList: true});\n",
       "}}\n",
       "\n",
       "// Listen for the clearing of the current output cell\n",
       "var outputEl = gd.closest('.output');\n",
       "if (outputEl) {{\n",
       "    x.observe(outputEl, {childList: true});\n",
       "}}\n",
       "\n",
       "                        })\n",
       "                };\n",
       "                });\n",
       "            </script>\n",
       "        </div>"
      ]
     },
     "metadata": {},
     "output_type": "display_data"
    }
   ],
   "source": [
    "fig = go.Figure()\n",
    "\n",
    "fig.add_trace(go.Scatter( x=prod_no_war[\"year\"], y=prod_no_war[\"value_crop\"],\n",
    "                    mode='lines+markers',\n",
    "                    name='not in conflict',\n",
    "                    hovertext='Not in Conflict',\n",
    "                    hoverinfo=\"text\",\n",
    "                    connectgaps=False,\n",
    "                    line=dict(color='blue', width=2)))\n",
    "\n",
    "for i in range(len(list_conflicts)):\n",
    "    prod_war = dfs[i]\n",
    "    fig.add_trace(go.Scatter( x=prod_war[\"year\"], y=prod_war[\"value_crop\"],\n",
    "                    mode='lines+markers',\n",
    "                    name='In war',\n",
    "                    connectgaps=False,\n",
    "                    hovertext='In war',\n",
    "                    hoverinfo=\"text\",\n",
    "                    line=dict(color='red', width=2)))\n",
    "\n",
    "\n",
    "fig.update_layout(title='Production in Years',\n",
    "                   xaxis_title='Year',\n",
    "                   yaxis_title='Production',\n",
    "                  )\n",
    "              \n",
    "fig.show()"
   ]
  },
  {
   "cell_type": "code",
   "execution_count": 11,
   "metadata": {},
   "outputs": [
    {
     "data": {
      "text/html": [
       "<div>\n",
       "<style scoped>\n",
       "    .dataframe tbody tr th:only-of-type {\n",
       "        vertical-align: middle;\n",
       "    }\n",
       "\n",
       "    .dataframe tbody tr th {\n",
       "        vertical-align: top;\n",
       "    }\n",
       "\n",
       "    .dataframe thead th {\n",
       "        text-align: right;\n",
       "    }\n",
       "</style>\n",
       "<table border=\"1\" class=\"dataframe\">\n",
       "  <thead>\n",
       "    <tr style=\"text-align: right;\">\n",
       "      <th></th>\n",
       "      <th>name</th>\n",
       "      <th>country</th>\n",
       "      <th>end_year</th>\n",
       "      <th>is_state</th>\n",
       "      <th>location</th>\n",
       "      <th>participant</th>\n",
       "      <th>start_year</th>\n",
       "    </tr>\n",
       "  </thead>\n",
       "  <tbody>\n",
       "    <tr>\n",
       "      <td>0</td>\n",
       "      <td>Indo-Pakistani War of 1965.</td>\n",
       "      <td>People's Republic of China</td>\n",
       "      <td>1965-01-01</td>\n",
       "      <td>True</td>\n",
       "      <td>Kashmir</td>\n",
       "      <td>India</td>\n",
       "      <td>1965-01-01</td>\n",
       "    </tr>\n",
       "    <tr>\n",
       "      <td>1</td>\n",
       "      <td>Indo-Pakistani War of 1965.</td>\n",
       "      <td>People's Republic of China</td>\n",
       "      <td>1965-01-01</td>\n",
       "      <td>True</td>\n",
       "      <td>Kashmir</td>\n",
       "      <td>Pakistan</td>\n",
       "      <td>1965-01-01</td>\n",
       "    </tr>\n",
       "    <tr>\n",
       "      <td>2</td>\n",
       "      <td>Indo-Pakistani War of 1965.</td>\n",
       "      <td>Pakistan</td>\n",
       "      <td>1965-01-01</td>\n",
       "      <td>True</td>\n",
       "      <td>Kashmir</td>\n",
       "      <td>India</td>\n",
       "      <td>1965-01-01</td>\n",
       "    </tr>\n",
       "    <tr>\n",
       "      <td>3</td>\n",
       "      <td>Indo-Pakistani War of 1965.</td>\n",
       "      <td>Pakistan</td>\n",
       "      <td>1965-01-01</td>\n",
       "      <td>True</td>\n",
       "      <td>Kashmir</td>\n",
       "      <td>Pakistan</td>\n",
       "      <td>1965-01-01</td>\n",
       "    </tr>\n",
       "    <tr>\n",
       "      <td>4</td>\n",
       "      <td>Indo-Pakistani War of 1965.</td>\n",
       "      <td>India</td>\n",
       "      <td>1965-01-01</td>\n",
       "      <td>True</td>\n",
       "      <td>Kashmir</td>\n",
       "      <td>India</td>\n",
       "      <td>1965-01-01</td>\n",
       "    </tr>\n",
       "  </tbody>\n",
       "</table>\n",
       "</div>"
      ],
      "text/plain": [
       "                          name                     country    end_year  \\\n",
       "0  Indo-Pakistani War of 1965.  People's Republic of China  1965-01-01   \n",
       "1  Indo-Pakistani War of 1965.  People's Republic of China  1965-01-01   \n",
       "2  Indo-Pakistani War of 1965.                    Pakistan  1965-01-01   \n",
       "3  Indo-Pakistani War of 1965.                    Pakistan  1965-01-01   \n",
       "4  Indo-Pakistani War of 1965.                       India  1965-01-01   \n",
       "\n",
       "   is_state location participant  start_year  \n",
       "0      True  Kashmir       India  1965-01-01  \n",
       "1      True  Kashmir    Pakistan  1965-01-01  \n",
       "2      True  Kashmir       India  1965-01-01  \n",
       "3      True  Kashmir    Pakistan  1965-01-01  \n",
       "4      True  Kashmir       India  1965-01-01  "
      ]
     },
     "execution_count": 11,
     "metadata": {},
     "output_type": "execute_result"
    }
   ],
   "source": [
    "final_wars_df.head()"
   ]
  },
  {
   "cell_type": "code",
   "execution_count": 12,
   "metadata": {},
   "outputs": [],
   "source": [
    "import plotly.graph_objects as go\n",
    "import pandas as pd"
   ]
  },
  {
   "cell_type": "code",
   "execution_count": 13,
   "metadata": {},
   "outputs": [],
   "source": [
    "# Retrieve geolocations of country centroids\n",
    "\n",
    "# Set folder name\n",
    "file_path = '../pandas_dfs/'\n",
    "\n",
    "# Set filenames\n",
    "centroids_file = 'country_centroids_df.csv'\n",
    "\n",
    "# Read the files\n",
    "country_centroids_df = pd.read_csv(file_path + centroids_file, encoding='latin-1')"
   ]
  },
  {
   "cell_type": "code",
   "execution_count": 14,
   "metadata": {},
   "outputs": [],
   "source": [
    "# Create df for selected wars\n",
    "wars_selected = [];\n",
    "for i in range(len(list_conflicts)):\n",
    "    wars_selected.append(final_wars_df.loc[final_wars_df['name'] == list_conflicts[i]].reset_index(drop=True))"
   ]
  },
  {
   "cell_type": "code",
   "execution_count": 28,
   "metadata": {},
   "outputs": [
    {
     "data": {
      "text/html": [
       "<div>\n",
       "<style scoped>\n",
       "    .dataframe tbody tr th:only-of-type {\n",
       "        vertical-align: middle;\n",
       "    }\n",
       "\n",
       "    .dataframe tbody tr th {\n",
       "        vertical-align: top;\n",
       "    }\n",
       "\n",
       "    .dataframe thead th {\n",
       "        text-align: right;\n",
       "    }\n",
       "</style>\n",
       "<table border=\"1\" class=\"dataframe\">\n",
       "  <thead>\n",
       "    <tr style=\"text-align: right;\">\n",
       "      <th></th>\n",
       "      <th>name</th>\n",
       "      <th>country</th>\n",
       "      <th>end_year</th>\n",
       "      <th>is_state</th>\n",
       "      <th>location</th>\n",
       "      <th>participant</th>\n",
       "      <th>start_year</th>\n",
       "    </tr>\n",
       "  </thead>\n",
       "  <tbody>\n",
       "    <tr>\n",
       "      <td>0</td>\n",
       "      <td>SovietâAfghan War</td>\n",
       "      <td>Afghanistan</td>\n",
       "      <td>1989-01-01</td>\n",
       "      <td>True</td>\n",
       "      <td>Democratic Republic of Afghanistan</td>\n",
       "      <td>Democratic Republic of Afghanistan</td>\n",
       "      <td>1979-01-01</td>\n",
       "    </tr>\n",
       "    <tr>\n",
       "      <td>1</td>\n",
       "      <td>SovietâAfghan War</td>\n",
       "      <td>Afghanistan</td>\n",
       "      <td>1989-01-01</td>\n",
       "      <td>True</td>\n",
       "      <td>Democratic Republic of Afghanistan</td>\n",
       "      <td>Soviet Union</td>\n",
       "      <td>1979-01-01</td>\n",
       "    </tr>\n",
       "  </tbody>\n",
       "</table>\n",
       "</div>"
      ],
      "text/plain": [
       "                  name      country    end_year  is_state  \\\n",
       "0  SovietâAfghan War  Afghanistan  1989-01-01      True   \n",
       "1  SovietâAfghan War  Afghanistan  1989-01-01      True   \n",
       "\n",
       "                             location                         participant  \\\n",
       "0  Democratic Republic of Afghanistan  Democratic Republic of Afghanistan   \n",
       "1  Democratic Republic of Afghanistan                        Soviet Union   \n",
       "\n",
       "   start_year  \n",
       "0  1979-01-01  \n",
       "1  1979-01-01  "
      ]
     },
     "execution_count": 28,
     "metadata": {},
     "output_type": "execute_result"
    }
   ],
   "source": [
    "wars_selected[0]"
   ]
  },
  {
   "cell_type": "code",
   "execution_count": 24,
   "metadata": {},
   "outputs": [],
   "source": [
    "fig3 = go.Figure()\n",
    "for j in range(len(list_conflicts)):\n",
    "    wars_df = wars_selected[j]\n",
    "    for i in range(len(wars_df)):\n",
    "        try:\n",
    "            fig3.add_trace(\n",
    "                go.Scattergeo(\n",
    "                    locationmode = 'country names',\n",
    "                    lon = ([country_centroids_df.loc[country_centroids_df['country'] == wars_df['participant'][i]]['longitude'].values[0], \n",
    "                       country_centroids_df.loc[country_centroids_df['country'] == wars_df['country'][i]]['longitude'].values[0]]),\n",
    "                    lat = ([country_centroids_df.loc[country_centroids_df['country'] == wars_df['participant'][i]]['latitude'].values[0], \n",
    "                       country_centroids_df.loc[country_centroids_df['country'] == wars_df['country'][i]]['latitude'].values[0]]),\n",
    "                    mode = 'lines',  \n",
    "                    line = dict(width = 2,color =colors_list[j]),\n",
    "            )\n",
    "        )\n",
    "        except:\n",
    "            pass\n"
   ]
  },
  {
   "cell_type": "markdown",
   "metadata": {},
   "source": [
    "Define the menu"
   ]
  },
  {
   "cell_type": "code",
   "execution_count": 25,
   "metadata": {},
   "outputs": [],
   "source": [
    "buttons = []\n",
    "for i in range(len(list_conflicts)):\n",
    "    but = dict(method='restyle',\n",
    "                args=['visible', [False] * len(list_conflicts)],\n",
    "                label=list_conflicts[i])\n",
    "    but['args'][1][i] = True\n",
    "    buttons.append(but)"
   ]
  },
  {
   "cell_type": "code",
   "execution_count": 26,
   "metadata": {},
   "outputs": [],
   "source": [
    "menus=list([dict(\n",
    "            x=-0.05,\n",
    "            y=1,\n",
    "            yanchor='top',\n",
    "            buttons= buttons)])"
   ]
  },
  {
   "cell_type": "code",
   "execution_count": null,
   "metadata": {},
   "outputs": [],
   "source": [
    "layout = dict(geo=dict(scope='world',\n",
    "              projection={'type': 'equirectangular'},\n",
    "              showframe=False),\n",
    "              margin={\"r\":0,\"t\":0,\"l\":0,\"b\":0},\n",
    "              mapbox=dict(zoom = 1.5),\n",
    "              updatemenus = menus)"
   ]
  },
  {
   "cell_type": "code",
   "execution_count": 27,
   "metadata": {},
   "outputs": [
    {
     "data": {
      "application/vnd.plotly.v1+json": {
       "config": {
        "plotlyServerURL": "https://plot.ly"
       },
       "data": [
        {
         "lat": [
          54.12387156,
          33.83523073
         ],
         "line": {
          "color": "rgb(139,0,0)",
          "width": 2
         },
         "locationmode": "country names",
         "lon": [
          -2.86563164,
          66.00473366
         ],
         "mode": "lines",
         "type": "scattergeo",
         "visible": false
        },
        {
         "lat": [
          61.36206324,
          33.83523073
         ],
         "line": {
          "color": "rgb(139,0,0)",
          "width": 2
         },
         "locationmode": "country names",
         "lon": [
          -98.30777028,
          66.00473366
         ],
         "mode": "lines",
         "type": "scattergeo",
         "visible": true
        },
        {
         "lat": [
          -25.73288704,
          33.83523073
         ],
         "line": {
          "color": "rgb(139,0,0)",
          "width": 2
         },
         "locationmode": "country names",
         "lon": [
          134.49100008,
          66.00473366
         ],
         "mode": "lines",
         "type": "scattergeo",
         "visible": false
        },
        {
         "lat": [
          45.6795472,
          33.83523073
         ],
         "line": {
          "color": "rgb(139,0,0)",
          "width": 2
         },
         "locationmode": "country names",
         "lon": [
          -112.4616737,
          66.00473366
         ],
         "mode": "lines",
         "type": "scattergeo",
         "visible": false
        },
        {
         "lat": [
          51.10698181,
          33.83523073
         ],
         "line": {
          "color": "rgb(139,0,0)",
          "width": 2
         },
         "locationmode": "country names",
         "lon": [
          10.38578051,
          66.00473366
         ],
         "mode": "lines",
         "type": "scattergeo",
         "visible": true
        },
        {
         "lat": [
          49.73341233,
          33.83523073
         ],
         "line": {
          "color": "rgb(250,128,114)",
          "width": 2
         },
         "locationmode": "country names",
         "lon": [
          15.31240163,
          66.00473366
         ],
         "mode": "lines",
         "type": "scattergeo",
         "visible": false
        },
        {
         "lat": [
          -25.73288704,
          33.83523073
         ],
         "line": {
          "color": "rgb(250,128,114)",
          "width": 2
         },
         "locationmode": "country names",
         "lon": [
          134.49100008,
          66.00473366
         ],
         "mode": "lines",
         "type": "scattergeo",
         "visible": false
        },
        {
         "lat": [
          45.6795472,
          33.83523073
         ],
         "line": {
          "color": "rgb(250,128,114)",
          "width": 2
         },
         "locationmode": "country names",
         "lon": [
          -112.4616737,
          66.00473366
         ],
         "mode": "lines",
         "type": "scattergeo",
         "visible": true
        },
        {
         "lat": [
          42.79662641,
          33.83523073
         ],
         "line": {
          "color": "rgb(250,128,114)",
          "width": 2
         },
         "locationmode": "country names",
         "lon": [
          12.07001339,
          66.00473366
         ],
         "mode": "lines",
         "type": "scattergeo",
         "visible": false
        },
        {
         "lat": [
          51.10698181,
          33.83523073
         ],
         "line": {
          "color": "rgb(250,128,114)",
          "width": 2
         },
         "locationmode": "country names",
         "lon": [
          10.38578051,
          66.00473366
         ],
         "mode": "lines",
         "type": "scattergeo",
         "visible": false
        },
        {
         "lat": [
          42.16855755,
          33.83523073
         ],
         "line": {
          "color": "rgb(250,128,114)",
          "width": 2
         },
         "locationmode": "country names",
         "lon": [
          43.50780252,
          66.00473366
         ],
         "mode": "lines",
         "type": "scattergeo",
         "visible": true
        },
        {
         "lat": [
          52.12759564,
          33.83523073
         ],
         "line": {
          "color": "rgb(250,128,114)",
          "width": 2
         },
         "locationmode": "country names",
         "lon": [
          19.39012835,
          66.00473366
         ],
         "mode": "lines",
         "type": "scattergeo",
         "visible": false
        },
        {
         "lat": [
          45.85243127,
          33.83523073
         ],
         "line": {
          "color": "rgb(250,128,114)",
          "width": 2
         },
         "locationmode": "country names",
         "lon": [
          24.97293039,
          66.00473366
         ],
         "mode": "lines",
         "type": "scattergeo",
         "visible": false
        },
        {
         "lat": [
          39.0616029,
          33.83523073
         ],
         "line": {
          "color": "rgb(250,128,114)",
          "width": 2
         },
         "locationmode": "country names",
         "lon": [
          35.16895346,
          66.00473366
         ],
         "mode": "lines",
         "type": "scattergeo",
         "visible": true
        },
        {
         "lat": [
          54.12387156,
          33.83523073
         ],
         "line": {
          "color": "rgb(250,128,114)",
          "width": 2
         },
         "locationmode": "country names",
         "lon": [
          -2.86563164,
          66.00473366
         ],
         "mode": "lines",
         "type": "scattergeo",
         "visible": false
        }
       ],
       "layout": {
        "geo": {
         "center": {
          "lat": 43.19090164488426,
          "lon": -18.101035948878298
         },
         "countrycolor": "rgb(204, 204, 204)",
         "projection": {
          "rotation": {
           "lon": -18.101035948878298
          },
          "scale": 1.1760912502909653,
          "type": "equirectangular"
         },
         "scope": "world",
         "showcountries": true,
         "showland": true
        },
        "height": 600,
        "showlegend": false,
        "template": {
         "data": {
          "bar": [
           {
            "error_x": {
             "color": "#2a3f5f"
            },
            "error_y": {
             "color": "#2a3f5f"
            },
            "marker": {
             "line": {
              "color": "#E5ECF6",
              "width": 0.5
             }
            },
            "type": "bar"
           }
          ],
          "barpolar": [
           {
            "marker": {
             "line": {
              "color": "#E5ECF6",
              "width": 0.5
             }
            },
            "type": "barpolar"
           }
          ],
          "carpet": [
           {
            "aaxis": {
             "endlinecolor": "#2a3f5f",
             "gridcolor": "white",
             "linecolor": "white",
             "minorgridcolor": "white",
             "startlinecolor": "#2a3f5f"
            },
            "baxis": {
             "endlinecolor": "#2a3f5f",
             "gridcolor": "white",
             "linecolor": "white",
             "minorgridcolor": "white",
             "startlinecolor": "#2a3f5f"
            },
            "type": "carpet"
           }
          ],
          "choropleth": [
           {
            "colorbar": {
             "outlinewidth": 0,
             "ticks": ""
            },
            "type": "choropleth"
           }
          ],
          "contour": [
           {
            "colorbar": {
             "outlinewidth": 0,
             "ticks": ""
            },
            "colorscale": [
             [
              0,
              "#0d0887"
             ],
             [
              0.1111111111111111,
              "#46039f"
             ],
             [
              0.2222222222222222,
              "#7201a8"
             ],
             [
              0.3333333333333333,
              "#9c179e"
             ],
             [
              0.4444444444444444,
              "#bd3786"
             ],
             [
              0.5555555555555556,
              "#d8576b"
             ],
             [
              0.6666666666666666,
              "#ed7953"
             ],
             [
              0.7777777777777778,
              "#fb9f3a"
             ],
             [
              0.8888888888888888,
              "#fdca26"
             ],
             [
              1,
              "#f0f921"
             ]
            ],
            "type": "contour"
           }
          ],
          "contourcarpet": [
           {
            "colorbar": {
             "outlinewidth": 0,
             "ticks": ""
            },
            "type": "contourcarpet"
           }
          ],
          "heatmap": [
           {
            "colorbar": {
             "outlinewidth": 0,
             "ticks": ""
            },
            "colorscale": [
             [
              0,
              "#0d0887"
             ],
             [
              0.1111111111111111,
              "#46039f"
             ],
             [
              0.2222222222222222,
              "#7201a8"
             ],
             [
              0.3333333333333333,
              "#9c179e"
             ],
             [
              0.4444444444444444,
              "#bd3786"
             ],
             [
              0.5555555555555556,
              "#d8576b"
             ],
             [
              0.6666666666666666,
              "#ed7953"
             ],
             [
              0.7777777777777778,
              "#fb9f3a"
             ],
             [
              0.8888888888888888,
              "#fdca26"
             ],
             [
              1,
              "#f0f921"
             ]
            ],
            "type": "heatmap"
           }
          ],
          "heatmapgl": [
           {
            "colorbar": {
             "outlinewidth": 0,
             "ticks": ""
            },
            "colorscale": [
             [
              0,
              "#0d0887"
             ],
             [
              0.1111111111111111,
              "#46039f"
             ],
             [
              0.2222222222222222,
              "#7201a8"
             ],
             [
              0.3333333333333333,
              "#9c179e"
             ],
             [
              0.4444444444444444,
              "#bd3786"
             ],
             [
              0.5555555555555556,
              "#d8576b"
             ],
             [
              0.6666666666666666,
              "#ed7953"
             ],
             [
              0.7777777777777778,
              "#fb9f3a"
             ],
             [
              0.8888888888888888,
              "#fdca26"
             ],
             [
              1,
              "#f0f921"
             ]
            ],
            "type": "heatmapgl"
           }
          ],
          "histogram": [
           {
            "marker": {
             "colorbar": {
              "outlinewidth": 0,
              "ticks": ""
             }
            },
            "type": "histogram"
           }
          ],
          "histogram2d": [
           {
            "colorbar": {
             "outlinewidth": 0,
             "ticks": ""
            },
            "colorscale": [
             [
              0,
              "#0d0887"
             ],
             [
              0.1111111111111111,
              "#46039f"
             ],
             [
              0.2222222222222222,
              "#7201a8"
             ],
             [
              0.3333333333333333,
              "#9c179e"
             ],
             [
              0.4444444444444444,
              "#bd3786"
             ],
             [
              0.5555555555555556,
              "#d8576b"
             ],
             [
              0.6666666666666666,
              "#ed7953"
             ],
             [
              0.7777777777777778,
              "#fb9f3a"
             ],
             [
              0.8888888888888888,
              "#fdca26"
             ],
             [
              1,
              "#f0f921"
             ]
            ],
            "type": "histogram2d"
           }
          ],
          "histogram2dcontour": [
           {
            "colorbar": {
             "outlinewidth": 0,
             "ticks": ""
            },
            "colorscale": [
             [
              0,
              "#0d0887"
             ],
             [
              0.1111111111111111,
              "#46039f"
             ],
             [
              0.2222222222222222,
              "#7201a8"
             ],
             [
              0.3333333333333333,
              "#9c179e"
             ],
             [
              0.4444444444444444,
              "#bd3786"
             ],
             [
              0.5555555555555556,
              "#d8576b"
             ],
             [
              0.6666666666666666,
              "#ed7953"
             ],
             [
              0.7777777777777778,
              "#fb9f3a"
             ],
             [
              0.8888888888888888,
              "#fdca26"
             ],
             [
              1,
              "#f0f921"
             ]
            ],
            "type": "histogram2dcontour"
           }
          ],
          "mesh3d": [
           {
            "colorbar": {
             "outlinewidth": 0,
             "ticks": ""
            },
            "type": "mesh3d"
           }
          ],
          "parcoords": [
           {
            "line": {
             "colorbar": {
              "outlinewidth": 0,
              "ticks": ""
             }
            },
            "type": "parcoords"
           }
          ],
          "pie": [
           {
            "automargin": true,
            "type": "pie"
           }
          ],
          "scatter": [
           {
            "marker": {
             "colorbar": {
              "outlinewidth": 0,
              "ticks": ""
             }
            },
            "type": "scatter"
           }
          ],
          "scatter3d": [
           {
            "line": {
             "colorbar": {
              "outlinewidth": 0,
              "ticks": ""
             }
            },
            "marker": {
             "colorbar": {
              "outlinewidth": 0,
              "ticks": ""
             }
            },
            "type": "scatter3d"
           }
          ],
          "scattercarpet": [
           {
            "marker": {
             "colorbar": {
              "outlinewidth": 0,
              "ticks": ""
             }
            },
            "type": "scattercarpet"
           }
          ],
          "scattergeo": [
           {
            "marker": {
             "colorbar": {
              "outlinewidth": 0,
              "ticks": ""
             }
            },
            "type": "scattergeo"
           }
          ],
          "scattergl": [
           {
            "marker": {
             "colorbar": {
              "outlinewidth": 0,
              "ticks": ""
             }
            },
            "type": "scattergl"
           }
          ],
          "scattermapbox": [
           {
            "marker": {
             "colorbar": {
              "outlinewidth": 0,
              "ticks": ""
             }
            },
            "type": "scattermapbox"
           }
          ],
          "scatterpolar": [
           {
            "marker": {
             "colorbar": {
              "outlinewidth": 0,
              "ticks": ""
             }
            },
            "type": "scatterpolar"
           }
          ],
          "scatterpolargl": [
           {
            "marker": {
             "colorbar": {
              "outlinewidth": 0,
              "ticks": ""
             }
            },
            "type": "scatterpolargl"
           }
          ],
          "scatterternary": [
           {
            "marker": {
             "colorbar": {
              "outlinewidth": 0,
              "ticks": ""
             }
            },
            "type": "scatterternary"
           }
          ],
          "surface": [
           {
            "colorbar": {
             "outlinewidth": 0,
             "ticks": ""
            },
            "colorscale": [
             [
              0,
              "#0d0887"
             ],
             [
              0.1111111111111111,
              "#46039f"
             ],
             [
              0.2222222222222222,
              "#7201a8"
             ],
             [
              0.3333333333333333,
              "#9c179e"
             ],
             [
              0.4444444444444444,
              "#bd3786"
             ],
             [
              0.5555555555555556,
              "#d8576b"
             ],
             [
              0.6666666666666666,
              "#ed7953"
             ],
             [
              0.7777777777777778,
              "#fb9f3a"
             ],
             [
              0.8888888888888888,
              "#fdca26"
             ],
             [
              1,
              "#f0f921"
             ]
            ],
            "type": "surface"
           }
          ],
          "table": [
           {
            "cells": {
             "fill": {
              "color": "#EBF0F8"
             },
             "line": {
              "color": "white"
             }
            },
            "header": {
             "fill": {
              "color": "#C8D4E3"
             },
             "line": {
              "color": "white"
             }
            },
            "type": "table"
           }
          ]
         },
         "layout": {
          "annotationdefaults": {
           "arrowcolor": "#2a3f5f",
           "arrowhead": 0,
           "arrowwidth": 1
          },
          "coloraxis": {
           "colorbar": {
            "outlinewidth": 0,
            "ticks": ""
           }
          },
          "colorscale": {
           "diverging": [
            [
             0,
             "#8e0152"
            ],
            [
             0.1,
             "#c51b7d"
            ],
            [
             0.2,
             "#de77ae"
            ],
            [
             0.3,
             "#f1b6da"
            ],
            [
             0.4,
             "#fde0ef"
            ],
            [
             0.5,
             "#f7f7f7"
            ],
            [
             0.6,
             "#e6f5d0"
            ],
            [
             0.7,
             "#b8e186"
            ],
            [
             0.8,
             "#7fbc41"
            ],
            [
             0.9,
             "#4d9221"
            ],
            [
             1,
             "#276419"
            ]
           ],
           "sequential": [
            [
             0,
             "#0d0887"
            ],
            [
             0.1111111111111111,
             "#46039f"
            ],
            [
             0.2222222222222222,
             "#7201a8"
            ],
            [
             0.3333333333333333,
             "#9c179e"
            ],
            [
             0.4444444444444444,
             "#bd3786"
            ],
            [
             0.5555555555555556,
             "#d8576b"
            ],
            [
             0.6666666666666666,
             "#ed7953"
            ],
            [
             0.7777777777777778,
             "#fb9f3a"
            ],
            [
             0.8888888888888888,
             "#fdca26"
            ],
            [
             1,
             "#f0f921"
            ]
           ],
           "sequentialminus": [
            [
             0,
             "#0d0887"
            ],
            [
             0.1111111111111111,
             "#46039f"
            ],
            [
             0.2222222222222222,
             "#7201a8"
            ],
            [
             0.3333333333333333,
             "#9c179e"
            ],
            [
             0.4444444444444444,
             "#bd3786"
            ],
            [
             0.5555555555555556,
             "#d8576b"
            ],
            [
             0.6666666666666666,
             "#ed7953"
            ],
            [
             0.7777777777777778,
             "#fb9f3a"
            ],
            [
             0.8888888888888888,
             "#fdca26"
            ],
            [
             1,
             "#f0f921"
            ]
           ]
          },
          "colorway": [
           "#636efa",
           "#EF553B",
           "#00cc96",
           "#ab63fa",
           "#FFA15A",
           "#19d3f3",
           "#FF6692",
           "#B6E880",
           "#FF97FF",
           "#FECB52"
          ],
          "font": {
           "color": "#2a3f5f"
          },
          "geo": {
           "bgcolor": "white",
           "lakecolor": "white",
           "landcolor": "#E5ECF6",
           "showlakes": true,
           "showland": true,
           "subunitcolor": "white"
          },
          "hoverlabel": {
           "align": "left"
          },
          "hovermode": "closest",
          "mapbox": {
           "style": "light"
          },
          "paper_bgcolor": "white",
          "plot_bgcolor": "#E5ECF6",
          "polar": {
           "angularaxis": {
            "gridcolor": "white",
            "linecolor": "white",
            "ticks": ""
           },
           "bgcolor": "#E5ECF6",
           "radialaxis": {
            "gridcolor": "white",
            "linecolor": "white",
            "ticks": ""
           }
          },
          "scene": {
           "xaxis": {
            "backgroundcolor": "#E5ECF6",
            "gridcolor": "white",
            "gridwidth": 2,
            "linecolor": "white",
            "showbackground": true,
            "ticks": "",
            "zerolinecolor": "white"
           },
           "yaxis": {
            "backgroundcolor": "#E5ECF6",
            "gridcolor": "white",
            "gridwidth": 2,
            "linecolor": "white",
            "showbackground": true,
            "ticks": "",
            "zerolinecolor": "white"
           },
           "zaxis": {
            "backgroundcolor": "#E5ECF6",
            "gridcolor": "white",
            "gridwidth": 2,
            "linecolor": "white",
            "showbackground": true,
            "ticks": "",
            "zerolinecolor": "white"
           }
          },
          "shapedefaults": {
           "line": {
            "color": "#2a3f5f"
           }
          },
          "ternary": {
           "aaxis": {
            "gridcolor": "white",
            "linecolor": "white",
            "ticks": ""
           },
           "baxis": {
            "gridcolor": "white",
            "linecolor": "white",
            "ticks": ""
           },
           "bgcolor": "#E5ECF6",
           "caxis": {
            "gridcolor": "white",
            "linecolor": "white",
            "ticks": ""
           }
          },
          "title": {
           "x": 0.05
          },
          "xaxis": {
           "automargin": true,
           "gridcolor": "white",
           "linecolor": "white",
           "ticks": "",
           "title": {
            "standoff": 15
           },
           "zerolinecolor": "white",
           "zerolinewidth": 2
          },
          "yaxis": {
           "automargin": true,
           "gridcolor": "white",
           "linecolor": "white",
           "ticks": "",
           "title": {
            "standoff": 15
           },
           "zerolinecolor": "white",
           "zerolinewidth": 2
          }
         }
        },
        "title": {
         "text": "Participants in War"
        },
        "updatemenus": [
         {
          "active": 1,
          "buttons": [
           {
            "args": [
             "visible",
             [
              true,
              false,
              false
             ]
            ],
            "label": "SovietâAfghan War",
            "method": "restyle"
           },
           {
            "args": [
             "visible",
             [
              false,
              true,
              false
             ]
            ],
            "label": "War in Afghanistan",
            "method": "restyle"
           },
           {
            "args": [
             "visible",
             [
              false,
              false,
              true
             ]
            ],
            "label": "War in Afghanistan (2015â)",
            "method": "restyle"
           }
          ],
          "x": -0.05,
          "y": 1,
          "yanchor": "top"
         }
        ],
        "width": 900
       }
      },
      "image/png": "[encoded data removed]",
      "text/html": [
       "<div>\n",
       "        \n",
       "        \n",
       "            <div id=\"7ab613ba-5995-491f-bc5c-cb8aa6a47d75\" class=\"plotly-graph-div\" style=\"height:600px; width:900px;\"></div>\n",
       "            <script type=\"text/javascript\">\n",
       "                require([\"plotly\"], function(Plotly) {\n",
       "                    window.PLOTLYENV=window.PLOTLYENV || {};\n",
       "                    \n",
       "                if (document.getElementById(\"7ab613ba-5995-491f-bc5c-cb8aa6a47d75\")) {\n",
       "                    Plotly.newPlot(\n",
       "                        '7ab613ba-5995-491f-bc5c-cb8aa6a47d75',\n",
       "                        [{\"lat\": [54.12387156, 33.83523073], \"line\": {\"color\": \"rgb(139,0,0)\", \"width\": 2}, \"locationmode\": \"country names\", \"lon\": [-2.86563164, 66.00473366], \"mode\": \"lines\", \"type\": \"scattergeo\"}, {\"lat\": [61.36206324, 33.83523073], \"line\": {\"color\": \"rgb(139,0,0)\", \"width\": 2}, \"locationmode\": \"country names\", \"lon\": [-98.30777028, 66.00473366], \"mode\": \"lines\", \"type\": \"scattergeo\"}, {\"lat\": [-25.73288704, 33.83523073], \"line\": {\"color\": \"rgb(139,0,0)\", \"width\": 2}, \"locationmode\": \"country names\", \"lon\": [134.49100008, 66.00473366], \"mode\": \"lines\", \"type\": \"scattergeo\"}, {\"lat\": [45.6795472, 33.83523073], \"line\": {\"color\": \"rgb(139,0,0)\", \"width\": 2}, \"locationmode\": \"country names\", \"lon\": [-112.4616737, 66.00473366], \"mode\": \"lines\", \"type\": \"scattergeo\"}, {\"lat\": [51.10698181, 33.83523073], \"line\": {\"color\": \"rgb(139,0,0)\", \"width\": 2}, \"locationmode\": \"country names\", \"lon\": [10.38578051, 66.00473366], \"mode\": \"lines\", \"type\": \"scattergeo\"}, {\"lat\": [49.73341233, 33.83523073], \"line\": {\"color\": \"rgb(250,128,114)\", \"width\": 2}, \"locationmode\": \"country names\", \"lon\": [15.31240163, 66.00473366], \"mode\": \"lines\", \"type\": \"scattergeo\"}, {\"lat\": [-25.73288704, 33.83523073], \"line\": {\"color\": \"rgb(250,128,114)\", \"width\": 2}, \"locationmode\": \"country names\", \"lon\": [134.49100008, 66.00473366], \"mode\": \"lines\", \"type\": \"scattergeo\"}, {\"lat\": [45.6795472, 33.83523073], \"line\": {\"color\": \"rgb(250,128,114)\", \"width\": 2}, \"locationmode\": \"country names\", \"lon\": [-112.4616737, 66.00473366], \"mode\": \"lines\", \"type\": \"scattergeo\"}, {\"lat\": [42.79662641, 33.83523073], \"line\": {\"color\": \"rgb(250,128,114)\", \"width\": 2}, \"locationmode\": \"country names\", \"lon\": [12.07001339, 66.00473366], \"mode\": \"lines\", \"type\": \"scattergeo\"}, {\"lat\": [51.10698181, 33.83523073], \"line\": {\"color\": \"rgb(250,128,114)\", \"width\": 2}, \"locationmode\": \"country names\", \"lon\": [10.38578051, 66.00473366], \"mode\": \"lines\", \"type\": \"scattergeo\"}, {\"lat\": [42.16855755, 33.83523073], \"line\": {\"color\": \"rgb(250,128,114)\", \"width\": 2}, \"locationmode\": \"country names\", \"lon\": [43.50780252, 66.00473366], \"mode\": \"lines\", \"type\": \"scattergeo\"}, {\"lat\": [52.12759564, 33.83523073], \"line\": {\"color\": \"rgb(250,128,114)\", \"width\": 2}, \"locationmode\": \"country names\", \"lon\": [19.39012835, 66.00473366], \"mode\": \"lines\", \"type\": \"scattergeo\"}, {\"lat\": [45.85243127, 33.83523073], \"line\": {\"color\": \"rgb(250,128,114)\", \"width\": 2}, \"locationmode\": \"country names\", \"lon\": [24.97293039, 66.00473366], \"mode\": \"lines\", \"type\": \"scattergeo\"}, {\"lat\": [39.0616029, 33.83523073], \"line\": {\"color\": \"rgb(250,128,114)\", \"width\": 2}, \"locationmode\": \"country names\", \"lon\": [35.16895346, 66.00473366], \"mode\": \"lines\", \"type\": \"scattergeo\"}, {\"lat\": [54.12387156, 33.83523073], \"line\": {\"color\": \"rgb(250,128,114)\", \"width\": 2}, \"locationmode\": \"country names\", \"lon\": [-2.86563164, 66.00473366], \"mode\": \"lines\", \"type\": \"scattergeo\"}],\n",
       "                        {\"geo\": {\"countrycolor\": \"rgb(204, 204, 204)\", \"projection\": {\"type\": \"equirectangular\"}, \"scope\": \"world\", \"showcountries\": true, \"showland\": true}, \"height\": 600, \"showlegend\": false, \"template\": {\"data\": {\"bar\": [{\"error_x\": {\"color\": \"#2a3f5f\"}, \"error_y\": {\"color\": \"#2a3f5f\"}, \"marker\": {\"line\": {\"color\": \"#E5ECF6\", \"width\": 0.5}}, \"type\": \"bar\"}], \"barpolar\": [{\"marker\": {\"line\": {\"color\": \"#E5ECF6\", \"width\": 0.5}}, \"type\": \"barpolar\"}], \"carpet\": [{\"aaxis\": {\"endlinecolor\": \"#2a3f5f\", \"gridcolor\": \"white\", \"linecolor\": \"white\", \"minorgridcolor\": \"white\", \"startlinecolor\": \"#2a3f5f\"}, \"baxis\": {\"endlinecolor\": \"#2a3f5f\", \"gridcolor\": \"white\", \"linecolor\": \"white\", \"minorgridcolor\": \"white\", \"startlinecolor\": \"#2a3f5f\"}, \"type\": \"carpet\"}], \"choropleth\": [{\"colorbar\": {\"outlinewidth\": 0, \"ticks\": \"\"}, \"type\": \"choropleth\"}], \"contour\": [{\"colorbar\": {\"outlinewidth\": 0, \"ticks\": \"\"}, \"colorscale\": [[0.0, \"#0d0887\"], [0.1111111111111111, \"#46039f\"], [0.2222222222222222, \"#7201a8\"], [0.3333333333333333, \"#9c179e\"], [0.4444444444444444, \"#bd3786\"], [0.5555555555555556, \"#d8576b\"], [0.6666666666666666, \"#ed7953\"], [0.7777777777777778, \"#fb9f3a\"], [0.8888888888888888, \"#fdca26\"], [1.0, \"#f0f921\"]], \"type\": \"contour\"}], \"contourcarpet\": [{\"colorbar\": {\"outlinewidth\": 0, \"ticks\": \"\"}, \"type\": \"contourcarpet\"}], \"heatmap\": [{\"colorbar\": {\"outlinewidth\": 0, \"ticks\": \"\"}, \"colorscale\": [[0.0, \"#0d0887\"], [0.1111111111111111, \"#46039f\"], [0.2222222222222222, \"#7201a8\"], [0.3333333333333333, \"#9c179e\"], [0.4444444444444444, \"#bd3786\"], [0.5555555555555556, \"#d8576b\"], [0.6666666666666666, \"#ed7953\"], [0.7777777777777778, \"#fb9f3a\"], [0.8888888888888888, \"#fdca26\"], [1.0, \"#f0f921\"]], \"type\": \"heatmap\"}], \"heatmapgl\": [{\"colorbar\": {\"outlinewidth\": 0, \"ticks\": \"\"}, \"colorscale\": [[0.0, \"#0d0887\"], [0.1111111111111111, \"#46039f\"], [0.2222222222222222, \"#7201a8\"], [0.3333333333333333, \"#9c179e\"], [0.4444444444444444, \"#bd3786\"], [0.5555555555555556, \"#d8576b\"], [0.6666666666666666, \"#ed7953\"], [0.7777777777777778, \"#fb9f3a\"], [0.8888888888888888, \"#fdca26\"], [1.0, \"#f0f921\"]], \"type\": \"heatmapgl\"}], \"histogram\": [{\"marker\": {\"colorbar\": {\"outlinewidth\": 0, \"ticks\": \"\"}}, \"type\": \"histogram\"}], \"histogram2d\": [{\"colorbar\": {\"outlinewidth\": 0, \"ticks\": \"\"}, \"colorscale\": [[0.0, \"#0d0887\"], [0.1111111111111111, \"#46039f\"], [0.2222222222222222, \"#7201a8\"], [0.3333333333333333, \"#9c179e\"], [0.4444444444444444, \"#bd3786\"], [0.5555555555555556, \"#d8576b\"], [0.6666666666666666, \"#ed7953\"], [0.7777777777777778, \"#fb9f3a\"], [0.8888888888888888, \"#fdca26\"], [1.0, \"#f0f921\"]], \"type\": \"histogram2d\"}], \"histogram2dcontour\": [{\"colorbar\": {\"outlinewidth\": 0, \"ticks\": \"\"}, \"colorscale\": [[0.0, \"#0d0887\"], [0.1111111111111111, \"#46039f\"], [0.2222222222222222, \"#7201a8\"], [0.3333333333333333, \"#9c179e\"], [0.4444444444444444, \"#bd3786\"], [0.5555555555555556, \"#d8576b\"], [0.6666666666666666, \"#ed7953\"], [0.7777777777777778, \"#fb9f3a\"], [0.8888888888888888, \"#fdca26\"], [1.0, \"#f0f921\"]], \"type\": \"histogram2dcontour\"}], \"mesh3d\": [{\"colorbar\": {\"outlinewidth\": 0, \"ticks\": \"\"}, \"type\": \"mesh3d\"}], \"parcoords\": [{\"line\": {\"colorbar\": {\"outlinewidth\": 0, \"ticks\": \"\"}}, \"type\": \"parcoords\"}], \"pie\": [{\"automargin\": true, \"type\": \"pie\"}], \"scatter\": [{\"marker\": {\"colorbar\": {\"outlinewidth\": 0, \"ticks\": \"\"}}, \"type\": \"scatter\"}], \"scatter3d\": [{\"line\": {\"colorbar\": {\"outlinewidth\": 0, \"ticks\": \"\"}}, \"marker\": {\"colorbar\": {\"outlinewidth\": 0, \"ticks\": \"\"}}, \"type\": \"scatter3d\"}], \"scattercarpet\": [{\"marker\": {\"colorbar\": {\"outlinewidth\": 0, \"ticks\": \"\"}}, \"type\": \"scattercarpet\"}], \"scattergeo\": [{\"marker\": {\"colorbar\": {\"outlinewidth\": 0, \"ticks\": \"\"}}, \"type\": \"scattergeo\"}], \"scattergl\": [{\"marker\": {\"colorbar\": {\"outlinewidth\": 0, \"ticks\": \"\"}}, \"type\": \"scattergl\"}], \"scattermapbox\": [{\"marker\": {\"colorbar\": {\"outlinewidth\": 0, \"ticks\": \"\"}}, \"type\": \"scattermapbox\"}], \"scatterpolar\": [{\"marker\": {\"colorbar\": {\"outlinewidth\": 0, \"ticks\": \"\"}}, \"type\": \"scatterpolar\"}], \"scatterpolargl\": [{\"marker\": {\"colorbar\": {\"outlinewidth\": 0, \"ticks\": \"\"}}, \"type\": \"scatterpolargl\"}], \"scatterternary\": [{\"marker\": {\"colorbar\": {\"outlinewidth\": 0, \"ticks\": \"\"}}, \"type\": \"scatterternary\"}], \"surface\": [{\"colorbar\": {\"outlinewidth\": 0, \"ticks\": \"\"}, \"colorscale\": [[0.0, \"#0d0887\"], [0.1111111111111111, \"#46039f\"], [0.2222222222222222, \"#7201a8\"], [0.3333333333333333, \"#9c179e\"], [0.4444444444444444, \"#bd3786\"], [0.5555555555555556, \"#d8576b\"], [0.6666666666666666, \"#ed7953\"], [0.7777777777777778, \"#fb9f3a\"], [0.8888888888888888, \"#fdca26\"], [1.0, \"#f0f921\"]], \"type\": \"surface\"}], \"table\": [{\"cells\": {\"fill\": {\"color\": \"#EBF0F8\"}, \"line\": {\"color\": \"white\"}}, \"header\": {\"fill\": {\"color\": \"#C8D4E3\"}, \"line\": {\"color\": \"white\"}}, \"type\": \"table\"}]}, \"layout\": {\"annotationdefaults\": {\"arrowcolor\": \"#2a3f5f\", \"arrowhead\": 0, \"arrowwidth\": 1}, \"coloraxis\": {\"colorbar\": {\"outlinewidth\": 0, \"ticks\": \"\"}}, \"colorscale\": {\"diverging\": [[0, \"#8e0152\"], [0.1, \"#c51b7d\"], [0.2, \"#de77ae\"], [0.3, \"#f1b6da\"], [0.4, \"#fde0ef\"], [0.5, \"#f7f7f7\"], [0.6, \"#e6f5d0\"], [0.7, \"#b8e186\"], [0.8, \"#7fbc41\"], [0.9, \"#4d9221\"], [1, \"#276419\"]], \"sequential\": [[0.0, \"#0d0887\"], [0.1111111111111111, \"#46039f\"], [0.2222222222222222, \"#7201a8\"], [0.3333333333333333, \"#9c179e\"], [0.4444444444444444, \"#bd3786\"], [0.5555555555555556, \"#d8576b\"], [0.6666666666666666, \"#ed7953\"], [0.7777777777777778, \"#fb9f3a\"], [0.8888888888888888, \"#fdca26\"], [1.0, \"#f0f921\"]], \"sequentialminus\": [[0.0, \"#0d0887\"], [0.1111111111111111, \"#46039f\"], [0.2222222222222222, \"#7201a8\"], [0.3333333333333333, \"#9c179e\"], [0.4444444444444444, \"#bd3786\"], [0.5555555555555556, \"#d8576b\"], [0.6666666666666666, \"#ed7953\"], [0.7777777777777778, \"#fb9f3a\"], [0.8888888888888888, \"#fdca26\"], [1.0, \"#f0f921\"]]}, \"colorway\": [\"#636efa\", \"#EF553B\", \"#00cc96\", \"#ab63fa\", \"#FFA15A\", \"#19d3f3\", \"#FF6692\", \"#B6E880\", \"#FF97FF\", \"#FECB52\"], \"font\": {\"color\": \"#2a3f5f\"}, \"geo\": {\"bgcolor\": \"white\", \"lakecolor\": \"white\", \"landcolor\": \"#E5ECF6\", \"showlakes\": true, \"showland\": true, \"subunitcolor\": \"white\"}, \"hoverlabel\": {\"align\": \"left\"}, \"hovermode\": \"closest\", \"mapbox\": {\"style\": \"light\"}, \"paper_bgcolor\": \"white\", \"plot_bgcolor\": \"#E5ECF6\", \"polar\": {\"angularaxis\": {\"gridcolor\": \"white\", \"linecolor\": \"white\", \"ticks\": \"\"}, \"bgcolor\": \"#E5ECF6\", \"radialaxis\": {\"gridcolor\": \"white\", \"linecolor\": \"white\", \"ticks\": \"\"}}, \"scene\": {\"xaxis\": {\"backgroundcolor\": \"#E5ECF6\", \"gridcolor\": \"white\", \"gridwidth\": 2, \"linecolor\": \"white\", \"showbackground\": true, \"ticks\": \"\", \"zerolinecolor\": \"white\"}, \"yaxis\": {\"backgroundcolor\": \"#E5ECF6\", \"gridcolor\": \"white\", \"gridwidth\": 2, \"linecolor\": \"white\", \"showbackground\": true, \"ticks\": \"\", \"zerolinecolor\": \"white\"}, \"zaxis\": {\"backgroundcolor\": \"#E5ECF6\", \"gridcolor\": \"white\", \"gridwidth\": 2, \"linecolor\": \"white\", \"showbackground\": true, \"ticks\": \"\", \"zerolinecolor\": \"white\"}}, \"shapedefaults\": {\"line\": {\"color\": \"#2a3f5f\"}}, \"ternary\": {\"aaxis\": {\"gridcolor\": \"white\", \"linecolor\": \"white\", \"ticks\": \"\"}, \"baxis\": {\"gridcolor\": \"white\", \"linecolor\": \"white\", \"ticks\": \"\"}, \"bgcolor\": \"#E5ECF6\", \"caxis\": {\"gridcolor\": \"white\", \"linecolor\": \"white\", \"ticks\": \"\"}}, \"title\": {\"x\": 0.05}, \"xaxis\": {\"automargin\": true, \"gridcolor\": \"white\", \"linecolor\": \"white\", \"ticks\": \"\", \"title\": {\"standoff\": 15}, \"zerolinecolor\": \"white\", \"zerolinewidth\": 2}, \"yaxis\": {\"automargin\": true, \"gridcolor\": \"white\", \"linecolor\": \"white\", \"ticks\": \"\", \"title\": {\"standoff\": 15}, \"zerolinecolor\": \"white\", \"zerolinewidth\": 2}}}, \"title\": {\"text\": \"Participants in War\"}, \"updatemenus\": [{\"buttons\": [{\"args\": [\"visible\", [true, false, false]], \"label\": \"Soviet\\u00e2\\u0080\\u0093Afghan War\", \"method\": \"restyle\"}, {\"args\": [\"visible\", [false, true, false]], \"label\": \"War in Afghanistan\", \"method\": \"restyle\"}, {\"args\": [\"visible\", [false, false, true]], \"label\": \"War in Afghanistan (2015\\u00e2\\u0080\\u0093)\", \"method\": \"restyle\"}], \"x\": -0.05, \"y\": 1, \"yanchor\": \"top\"}], \"width\": 900},\n",
       "                        {\"responsive\": true}\n",
       "                    ).then(function(){\n",
       "                            \n",
       "var gd = document.getElementById('7ab613ba-5995-491f-bc5c-cb8aa6a47d75');\n",
       "var x = new MutationObserver(function (mutations, observer) {{\n",
       "        var display = window.getComputedStyle(gd).display;\n",
       "        if (!display || display === 'none') {{\n",
       "            console.log([gd, 'removed!']);\n",
       "            Plotly.purge(gd);\n",
       "            observer.disconnect();\n",
       "        }}\n",
       "}});\n",
       "\n",
       "// Listen for the removal of the full notebook cells\n",
       "var notebookContainer = gd.closest('#notebook-container');\n",
       "if (notebookContainer) {{\n",
       "    x.observe(notebookContainer, {childList: true});\n",
       "}}\n",
       "\n",
       "// Listen for the clearing of the current output cell\n",
       "var outputEl = gd.closest('.output');\n",
       "if (outputEl) {{\n",
       "    x.observe(outputEl, {childList: true});\n",
       "}}\n",
       "\n",
       "                        })\n",
       "                };\n",
       "                });\n",
       "            </script>\n",
       "        </div>"
      ]
     },
     "metadata": {},
     "output_type": "display_data"
    }
   ],
   "source": [
    "fig3.update_layout(\n",
    "    title_text = 'Participants in War',\n",
    "    showlegend = False,\n",
    "    geo = go.layout.Geo(\n",
    "        scope = 'world',\n",
    "        projection_type = 'equirectangular',\n",
    "        showland = True,\n",
    "        showcountries = True,\n",
    "        countrycolor = 'rgb(204, 204, 204)',\n",
    "    ),\n",
    "    width=900,\n",
    "    height=600,\n",
    "    updatemenus = menus,\n",
    ")\n",
    "\n",
    "fig3.show()"
   ]
  },
  {
   "cell_type": "code",
   "execution_count": null,
   "metadata": {},
   "outputs": [],
   "source": []
  }
 ],
 "metadata": {
  "kernelspec": {
   "display_name": "Python 3",
   "language": "python",
   "name": "python3"
  },
  "language_info": {
   "codemirror_mode": {
    "name": "ipython",
    "version": 3
   },
   "file_extension": ".py",
   "mimetype": "text/x-python",
   "name": "python",
   "nbconvert_exporter": "python",
   "pygments_lexer": "ipython3",
   "version": "3.7.4"
  }
 },
 "nbformat": 4,
 "nbformat_minor": 4
}
