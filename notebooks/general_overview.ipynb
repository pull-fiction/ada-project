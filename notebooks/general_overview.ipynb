{
 "cells": [
  {
   "cell_type": "markdown",
   "metadata": {},
   "source": [
    "# Make crops, not war"
   ]
  },
  {
   "cell_type": "code",
   "execution_count": 2,
   "metadata": {},
   "outputs": [],
   "source": [
    "import sys\n",
    "sys.path.append(\"..\")\n",
    "\n",
    "import pandas as pd\n",
    "import matplotlib.pyplot as plt\n",
    "import seaborn as sns\n",
    "import numpy as np\n",
    "import matplotlib\n",
    "from src.plots import country_in_war\n",
    "\n",
    "%matplotlib inline\n",
    "\n",
    "sns.set_style('whitegrid')\n",
    "\n",
    "# add time converter for matplotlib visualisation\n",
    "pd.plotting.register_matplotlib_converters()"
   ]
  },
  {
   "cell_type": "code",
   "execution_count": 3,
   "metadata": {},
   "outputs": [],
   "source": [
    "prep_data_path = '../pandas_dfs/'\n",
    "\n",
    "merged_data_file = 'merged_data.csv'\n",
    "wars_file = 'final_wars_df.csv'\n",
    "years_per_country_file = 'years_per_country.csv'\n",
    "\n",
    "merged_crops_data = pd.read_csv(prep_data_path + merged_data_file)\n",
    "wars_df = pd.read_csv(prep_data_path + wars_file)\n",
    "years_per_country = pd.read_csv(prep_data_path + years_per_country_file)"
   ]
  },
  {
   "cell_type": "markdown",
   "metadata": {},
   "source": [
    "First, let us change some names which are different among the dataframes:"
   ]
  },
  {
   "cell_type": "code",
   "execution_count": 4,
   "metadata": {},
   "outputs": [],
   "source": [
    "merged_crops_data.loc[merged_crops_data['country'] == 'Viet Nam', 'country'] = 'Vietnam'\n",
    "merged_crops_data.loc[merged_crops_data['country'].str.contains('Syria'), 'country'] = 'Syria'\n",
    "merged_crops_data.loc[merged_crops_data['country'] == 'Sudan (former)', 'country'] = 'Sudan'\n",
    "merged_crops_data.loc[merged_crops_data['country'] == 'Russian Federation', 'country'] = 'Russia'\n",
    "merged_crops_data.loc[merged_crops_data['country'] == 'USSR', 'country'] = 'Soviet Union'\n",
    "merged_crops_data.loc[merged_crops_data['country'] == \"Lao People's Democratic Republic\", 'country'] = 'Laos'"
   ]
  },
  {
   "cell_type": "code",
   "execution_count": 5,
   "metadata": {},
   "outputs": [
    {
     "data": {
      "text/html": [
       "<div>\n",
       "<style scoped>\n",
       "    .dataframe tbody tr th:only-of-type {\n",
       "        vertical-align: middle;\n",
       "    }\n",
       "\n",
       "    .dataframe tbody tr th {\n",
       "        vertical-align: top;\n",
       "    }\n",
       "\n",
       "    .dataframe thead th {\n",
       "        text-align: right;\n",
       "    }\n",
       "</style>\n",
       "<table border=\"1\" class=\"dataframe\">\n",
       "  <thead>\n",
       "    <tr style=\"text-align: right;\">\n",
       "      <th></th>\n",
       "      <th>value_crop</th>\n",
       "      <th>value_livestock</th>\n",
       "      <th>value_population</th>\n",
       "      <th>value_land_area</th>\n",
       "    </tr>\n",
       "  </thead>\n",
       "  <tbody>\n",
       "    <tr>\n",
       "      <td>value_crop</td>\n",
       "      <td>1.000000</td>\n",
       "      <td>0.777054</td>\n",
       "      <td>0.889221</td>\n",
       "      <td>0.762014</td>\n",
       "    </tr>\n",
       "    <tr>\n",
       "      <td>value_livestock</td>\n",
       "      <td>0.777054</td>\n",
       "      <td>1.000000</td>\n",
       "      <td>0.874261</td>\n",
       "      <td>0.791917</td>\n",
       "    </tr>\n",
       "    <tr>\n",
       "      <td>value_population</td>\n",
       "      <td>0.889221</td>\n",
       "      <td>0.874261</td>\n",
       "      <td>1.000000</td>\n",
       "      <td>0.689464</td>\n",
       "    </tr>\n",
       "    <tr>\n",
       "      <td>value_land_area</td>\n",
       "      <td>0.762014</td>\n",
       "      <td>0.791917</td>\n",
       "      <td>0.689464</td>\n",
       "      <td>1.000000</td>\n",
       "    </tr>\n",
       "  </tbody>\n",
       "</table>\n",
       "</div>"
      ],
      "text/plain": [
       "                  value_crop  value_livestock  value_population  \\\n",
       "value_crop          1.000000         0.777054          0.889221   \n",
       "value_livestock     0.777054         1.000000          0.874261   \n",
       "value_population    0.889221         0.874261          1.000000   \n",
       "value_land_area     0.762014         0.791917          0.689464   \n",
       "\n",
       "                  value_land_area  \n",
       "value_crop               0.762014  \n",
       "value_livestock          0.791917  \n",
       "value_population         0.689464  \n",
       "value_land_area          1.000000  "
      ]
     },
     "execution_count": 5,
     "metadata": {},
     "output_type": "execute_result"
    }
   ],
   "source": [
    "merged_crops_data.corr()"
   ]
  },
  {
   "cell_type": "markdown",
   "metadata": {},
   "source": [
    "Even though there is no correlation at the country level, among production and population and land area, there is still a quite strong general one. Thus we can try to normalize production according to population and land area. "
   ]
  },
  {
   "cell_type": "code",
   "execution_count": 6,
   "metadata": {},
   "outputs": [
    {
     "data": {
      "text/html": [
       "<div>\n",
       "<style scoped>\n",
       "    .dataframe tbody tr th:only-of-type {\n",
       "        vertical-align: middle;\n",
       "    }\n",
       "\n",
       "    .dataframe tbody tr th {\n",
       "        vertical-align: top;\n",
       "    }\n",
       "\n",
       "    .dataframe thead th {\n",
       "        text-align: right;\n",
       "    }\n",
       "</style>\n",
       "<table border=\"1\" class=\"dataframe\">\n",
       "  <thead>\n",
       "    <tr style=\"text-align: right;\">\n",
       "      <th></th>\n",
       "      <th>country</th>\n",
       "      <th>norm_value_crop</th>\n",
       "      <th>norm_value_livestock</th>\n",
       "    </tr>\n",
       "  </thead>\n",
       "  <tbody>\n",
       "    <tr>\n",
       "      <td>0</td>\n",
       "      <td>Afghanistan</td>\n",
       "      <td>0.011558</td>\n",
       "      <td>0.041100</td>\n",
       "    </tr>\n",
       "    <tr>\n",
       "      <td>1</td>\n",
       "      <td>Albania</td>\n",
       "      <td>0.581650</td>\n",
       "      <td>1.017409</td>\n",
       "    </tr>\n",
       "    <tr>\n",
       "      <td>2</td>\n",
       "      <td>Algeria</td>\n",
       "      <td>0.009232</td>\n",
       "      <td>0.018848</td>\n",
       "    </tr>\n",
       "    <tr>\n",
       "      <td>3</td>\n",
       "      <td>American Samoa</td>\n",
       "      <td>60.165591</td>\n",
       "      <td>1.652843</td>\n",
       "    </tr>\n",
       "    <tr>\n",
       "      <td>4</td>\n",
       "      <td>Angola</td>\n",
       "      <td>0.009132</td>\n",
       "      <td>0.007849</td>\n",
       "    </tr>\n",
       "    <tr>\n",
       "      <td>...</td>\n",
       "      <td>...</td>\n",
       "      <td>...</td>\n",
       "      <td>...</td>\n",
       "    </tr>\n",
       "    <tr>\n",
       "      <td>215</td>\n",
       "      <td>Western Sahara</td>\n",
       "      <td>0.003364</td>\n",
       "      <td>0.196400</td>\n",
       "    </tr>\n",
       "    <tr>\n",
       "      <td>216</td>\n",
       "      <td>Yemen</td>\n",
       "      <td>0.010243</td>\n",
       "      <td>0.038251</td>\n",
       "    </tr>\n",
       "    <tr>\n",
       "      <td>217</td>\n",
       "      <td>Yugoslav SFR</td>\n",
       "      <td>0.106129</td>\n",
       "      <td>0.045730</td>\n",
       "    </tr>\n",
       "    <tr>\n",
       "      <td>218</td>\n",
       "      <td>Zambia</td>\n",
       "      <td>0.023572</td>\n",
       "      <td>0.019827</td>\n",
       "    </tr>\n",
       "    <tr>\n",
       "      <td>219</td>\n",
       "      <td>Zimbabwe</td>\n",
       "      <td>0.040187</td>\n",
       "      <td>0.072725</td>\n",
       "    </tr>\n",
       "  </tbody>\n",
       "</table>\n",
       "<p>220 rows × 3 columns</p>\n",
       "</div>"
      ],
      "text/plain": [
       "            country  norm_value_crop  norm_value_livestock\n",
       "0       Afghanistan         0.011558              0.041100\n",
       "1           Albania         0.581650              1.017409\n",
       "2           Algeria         0.009232              0.018848\n",
       "3    American Samoa        60.165591              1.652843\n",
       "4            Angola         0.009132              0.007849\n",
       "..              ...              ...                   ...\n",
       "215  Western Sahara         0.003364              0.196400\n",
       "216           Yemen         0.010243              0.038251\n",
       "217    Yugoslav SFR         0.106129              0.045730\n",
       "218          Zambia         0.023572              0.019827\n",
       "219        Zimbabwe         0.040187              0.072725\n",
       "\n",
       "[220 rows x 3 columns]"
      ]
     },
     "execution_count": 6,
     "metadata": {},
     "output_type": "execute_result"
    }
   ],
   "source": [
    "norm_factor = merged_crops_data['value_population'] * merged_crops_data['value_land_area']\n",
    "merged_crops_data['norm_value_crop'] = merged_crops_data['value_crop'] / norm_factor\n",
    "merged_crops_data['norm_value_livestock'] = merged_crops_data['value_livestock'] / norm_factor\n",
    "\n",
    "avg_production_per_country = (\n",
    "    merged_crops_data\n",
    "        .groupby('country')\n",
    "        .mean()\n",
    "        .drop(['value_crop', 'value_livestock', 'value_population', 'value_land_area'], axis=1)\n",
    "        .reset_index()\n",
    ")\n",
    "\n",
    "avg_production_per_country"
   ]
  },
  {
   "cell_type": "code",
   "execution_count": 7,
   "metadata": {},
   "outputs": [],
   "source": [
    "avg_production_years_in_war = (\n",
    "    avg_production_per_country\n",
    "        .merge(years_per_country, on='country', how='left')\n",
    "        .dropna()\n",
    ")\n"
   ]
  },
  {
   "cell_type": "code",
   "execution_count": 8,
   "metadata": {},
   "outputs": [
    {
     "data": {
      "text/html": [
       "<div>\n",
       "<style scoped>\n",
       "    .dataframe tbody tr th:only-of-type {\n",
       "        vertical-align: middle;\n",
       "    }\n",
       "\n",
       "    .dataframe tbody tr th {\n",
       "        vertical-align: top;\n",
       "    }\n",
       "\n",
       "    .dataframe thead th {\n",
       "        text-align: right;\n",
       "    }\n",
       "</style>\n",
       "<table border=\"1\" class=\"dataframe\">\n",
       "  <thead>\n",
       "    <tr style=\"text-align: right;\">\n",
       "      <th></th>\n",
       "      <th>country</th>\n",
       "      <th>norm_value_crop</th>\n",
       "      <th>norm_value_livestock</th>\n",
       "      <th>years</th>\n",
       "    </tr>\n",
       "  </thead>\n",
       "  <tbody>\n",
       "    <tr>\n",
       "      <td>0</td>\n",
       "      <td>Afghanistan</td>\n",
       "      <td>0.011558</td>\n",
       "      <td>0.041100</td>\n",
       "      <td>28.0</td>\n",
       "    </tr>\n",
       "    <tr>\n",
       "      <td>2</td>\n",
       "      <td>Algeria</td>\n",
       "      <td>0.009232</td>\n",
       "      <td>0.018848</td>\n",
       "      <td>27.0</td>\n",
       "    </tr>\n",
       "    <tr>\n",
       "      <td>4</td>\n",
       "      <td>Angola</td>\n",
       "      <td>0.009132</td>\n",
       "      <td>0.007849</td>\n",
       "      <td>57.0</td>\n",
       "    </tr>\n",
       "    <tr>\n",
       "      <td>7</td>\n",
       "      <td>Armenia</td>\n",
       "      <td>0.486339</td>\n",
       "      <td>0.268927</td>\n",
       "      <td>7.0</td>\n",
       "    </tr>\n",
       "    <tr>\n",
       "      <td>10</td>\n",
       "      <td>Azerbaijan</td>\n",
       "      <td>0.130057</td>\n",
       "      <td>0.225317</td>\n",
       "      <td>7.0</td>\n",
       "    </tr>\n",
       "  </tbody>\n",
       "</table>\n",
       "</div>"
      ],
      "text/plain": [
       "        country  norm_value_crop  norm_value_livestock  years\n",
       "0   Afghanistan         0.011558              0.041100   28.0\n",
       "2       Algeria         0.009232              0.018848   27.0\n",
       "4        Angola         0.009132              0.007849   57.0\n",
       "7       Armenia         0.486339              0.268927    7.0\n",
       "10   Azerbaijan         0.130057              0.225317    7.0"
      ]
     },
     "execution_count": 8,
     "metadata": {},
     "output_type": "execute_result"
    }
   ],
   "source": [
    "avg_production_years_in_war.head()"
   ]
  },
  {
   "cell_type": "code",
   "execution_count": 9,
   "metadata": {},
   "outputs": [
    {
     "data": {
      "image/png": "[encoded data removed]",
      "text/plain": [
       "<Figure size 1440x720 with 2 Axes>"
      ]
     },
     "metadata": {
      "needs_background": "light"
     },
     "output_type": "display_data"
    }
   ],
   "source": [
    "years_in_war = avg_production_years_in_war['years']\n",
    "mean_crops = avg_production_years_in_war['norm_value_crop']\n",
    "mean_livestock = avg_production_years_in_war['norm_value_livestock']\n",
    "\n",
    "fig, ax = plt.subplots(1, 2, figsize=(20, 10))\n",
    "\n",
    "ax[0].plot(years_in_war, mean_crops, marker='o', linestyle='None')\n",
    "ax[0].set_title('Crop production vs years in war')\n",
    "ax[0].set_ylabel('Crop production (kg/(person * hectar))')\n",
    "ax[0].set_xlabel('Years in war')\n",
    "ax[0].set_yscale('log')\n",
    "\n",
    "# for i, txt in enumerate(avg_production_years_in_war['country']):\n",
    "#    ax[0].annotate(txt, (years_in_war[i], mean_crops[i]))\n",
    "\n",
    "ax[1].plot(years_in_war, mean_livestock, marker='o', linestyle='None')\n",
    "ax[1].set_title('Livestock production vs number of years in war')\n",
    "ax[1].set_ylabel('Livestock production (head/(person * hectar))')\n",
    "ax[1].set_xlabel('Years in war')\n",
    "_ = ax[1].set_yscale('log')"
   ]
  },
  {
   "cell_type": "code",
   "execution_count": 82,
   "metadata": {},
   "outputs": [
    {
     "data": {
      "text/plain": [
       "(82827.92592592593, 36337.275862068964)"
      ]
     },
     "execution_count": 82,
     "metadata": {},
     "output_type": "execute_result"
    }
   ],
   "source": [
    "afghanistan_crops = (\n",
    "    merged_crops_data[merged_crops_data['country'] == 'Afghanistan']\n",
    "        .drop(['norm_value_crop', 'norm_value_livestock', 'value_population', 'value_land_area', 'value_livestock'], axis=1)\n",
    ")\n",
    "\n",
    "afghanistan_in_war = country_in_war(wars_df, afghanistan_crops, 'Afghanistan')\n",
    "\n",
    "first_row = pd.DataFrame({'in_war': False, 'value_crop': 0, 'year': np.NaN}, index=[0])\n",
    "\n",
    "afghanistan_shifted = (\n",
    "    pd.concat([first_row, afghanistan_in_war[:]], sort=False).reset_index(drop=True)\n",
    "        .drop(['year'], axis=1)[:-1]\n",
    "        .rename(columns={'value_crop': 'previous_crop'})\n",
    ")\n",
    "\n",
    "rated_crops = pd.concat([afghanistan_shifted, afghanistan_crops], axis=1)[1:].reset_index(drop=True)\n",
    "\n",
    "rated_crops['rate'] = rated_crops.apply(lambda row: row['value_crop'] - row['previous_crop'], axis=1)\n",
    "\n",
    "grouped_rated_crops = rated_crops.groupby('in_war').mean().reset_index()\n",
    "\n",
    "rate_in_war = grouped_rated_crops.loc[grouped_rated_crops['in_war'] == True, 'rate'].to_numpy()\n",
    "rate_not_in_war = grouped_rated_crops.loc[grouped_rated_crops['in_war'] == False, 'rate'].to_numpy()\n",
    "\n",
    "rate_in_war[0], rate_not_in_war[0]"
   ]
  },
  {
   "cell_type": "code",
   "execution_count": 84,
   "metadata": {},
   "outputs": [
    {
     "data": {
      "text/plain": [
       "(82827.92592592593, 36337.275862068964)"
      ]
     },
     "execution_count": 84,
     "metadata": {},
     "output_type": "execute_result"
    }
   ],
   "source": [
    "def compute_rate(wars_df, country, agricultural_data):\n",
    "    \n",
    "    country_crops = (\n",
    "        agricultural_data[agricultural_data['country'] == country]\n",
    "            .drop(['norm_value_crop', 'norm_value_livestock', 'value_population', 'value_land_area', 'value_livestock'], axis=1)\n",
    "    )\n",
    "\n",
    "    years_in_war = country_in_war(wars_df, country_crops, country)\n",
    "\n",
    "    first_row = pd.DataFrame({'in_war': False, 'value_crop': 0, 'year': np.NaN}, index=[0])\n",
    "\n",
    "    country_shifted = (\n",
    "        pd.concat([first_row, years_in_war[:]], sort=False).reset_index(drop=True)\n",
    "            .drop(['year'], axis=1)[:-1]\n",
    "            .rename(columns={'value_crop': 'previous_crop'})\n",
    "    )\n",
    "\n",
    "    rated_crops = pd.concat([country_shifted, country_crops], axis=1)[1:].reset_index(drop=True)\n",
    "\n",
    "    rated_crops['rate'] = rated_crops.apply(lambda row: row['value_crop'] - row['previous_crop'], axis=1)\n",
    "\n",
    "    grouped_rated_crops = rated_crops.groupby('in_war').mean().reset_index()\n",
    "\n",
    "    rate_in_war = grouped_rated_crops.loc[grouped_rated_crops['in_war'] == True, 'rate'].to_numpy()\n",
    "    rate_not_in_war = grouped_rated_crops.loc[grouped_rated_crops['in_war'] == False, 'rate'].to_numpy()\n",
    "\n",
    "    return rate_in_war[0], rate_not_in_war[0]\n",
    "    \n",
    "compute_rate(wars_df, 'Afghanistan', merged_crops_data)"
   ]
  },
  {
   "cell_type": "code",
   "execution_count": null,
   "metadata": {},
   "outputs": [],
   "source": [
    "912"
   ]
  }
 ],
 "metadata": {
  "kernelspec": {
   "display_name": "Python 3",
   "language": "python",
   "name": "python3"
  },
  "language_info": {
   "codemirror_mode": {
    "name": "ipython",
    "version": 3
   },
   "file_extension": ".py",
   "mimetype": "text/x-python",
   "name": "python",
   "nbconvert_exporter": "python",
   "pygments_lexer": "ipython3",
   "version": "3.7.4"
  }
 },
 "nbformat": 4,
 "nbformat_minor": 4
}
