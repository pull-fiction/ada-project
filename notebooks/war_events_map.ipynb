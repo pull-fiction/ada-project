{
 "cells": [
  {
   "cell_type": "code",
   "execution_count": 1,
   "metadata": {},
   "outputs": [
    {
     "data": {
      "text/html": [
       "        <script type=\"text/javascript\">\n",
       "        window.PlotlyConfig = {MathJaxConfig: 'local'};\n",
       "        if (window.MathJax) {MathJax.Hub.Config({SVG: {font: \"STIX-Web\"}});}\n",
       "        if (typeof require !== 'undefined') {\n",
       "        require.undef(\"plotly\");\n",
       "        requirejs.config({\n",
       "            paths: {\n",
       "                'plotly': ['https://cdn.plot.ly/plotly-latest.min']\n",
       "            }\n",
       "        });\n",
       "        require(['plotly'], function(Plotly) {\n",
       "            window._Plotly = Plotly;\n",
       "        });\n",
       "        }\n",
       "        </script>\n",
       "        "
      ]
     },
     "metadata": {},
     "output_type": "display_data"
    },
    {
     "data": {
      "text/html": [
       "<div>\n",
       "<style scoped>\n",
       "    .dataframe tbody tr th:only-of-type {\n",
       "        vertical-align: middle;\n",
       "    }\n",
       "\n",
       "    .dataframe tbody tr th {\n",
       "        vertical-align: top;\n",
       "    }\n",
       "\n",
       "    .dataframe thead th {\n",
       "        text-align: right;\n",
       "    }\n",
       "</style>\n",
       "<table border=\"1\" class=\"dataframe\">\n",
       "  <thead>\n",
       "    <tr style=\"text-align: right;\">\n",
       "      <th></th>\n",
       "      <th>lat</th>\n",
       "      <th>lon</th>\n",
       "      <th>popup</th>\n",
       "    </tr>\n",
       "  </thead>\n",
       "  <tbody>\n",
       "    <tr>\n",
       "      <th>0</th>\n",
       "      <td>33.7545</td>\n",
       "      <td>35.6015</td>\n",
       "      <td>&lt;span class=\"date-display-range\"&gt;&lt;span class=\"...</td>\n",
       "    </tr>\n",
       "    <tr>\n",
       "      <th>1</th>\n",
       "      <td>33.7373</td>\n",
       "      <td>35.5977</td>\n",
       "      <td>&lt;span class=\"date-display-range\"&gt;&lt;span class=\"...</td>\n",
       "    </tr>\n",
       "    <tr>\n",
       "      <th>2</th>\n",
       "      <td>33.8338</td>\n",
       "      <td>35.6205</td>\n",
       "      <td>&lt;span class=\"date-display-range\"&gt;&lt;span class=\"...</td>\n",
       "    </tr>\n",
       "    <tr>\n",
       "      <th>3</th>\n",
       "      <td>33.7413</td>\n",
       "      <td>35.6692</td>\n",
       "      <td>&lt;span class=\"date-display-range\"&gt;&lt;span class=\"...</td>\n",
       "    </tr>\n",
       "    <tr>\n",
       "      <th>4</th>\n",
       "      <td>33.7933</td>\n",
       "      <td>35.5162</td>\n",
       "      <td>&lt;span class=\"date-display-single\"&gt;July 1, 1978...</td>\n",
       "    </tr>\n",
       "  </tbody>\n",
       "</table>\n",
       "</div>"
      ],
      "text/plain": [
       "       lat      lon                                              popup\n",
       "0  33.7545  35.6015  <span class=\"date-display-range\"><span class=\"...\n",
       "1  33.7373  35.5977  <span class=\"date-display-range\"><span class=\"...\n",
       "2  33.8338  35.6205  <span class=\"date-display-range\"><span class=\"...\n",
       "3  33.7413  35.6692  <span class=\"date-display-range\"><span class=\"...\n",
       "4  33.7933  35.5162  <span class=\"date-display-single\">July 1, 1978..."
      ]
     },
     "execution_count": 1,
     "metadata": {},
     "output_type": "execute_result"
    }
   ],
   "source": [
    "import json\n",
    "import pandas as pd\n",
    "from bs4 import BeautifulSoup\n",
    "import numpy as np\n",
    "import datetime\n",
    "import plotly.graph_objects as go\n",
    "import plotly.express as px\n",
    "import plotly\n",
    "\n",
    "\n",
    "plotly.offline.init_notebook_mode(connected=True)\n",
    "\n",
    "lebanon_events_file = '../data/lebanon_conflicts.json'\n",
    "\n",
    "with open(lebanon_events_file) as f:\n",
    "    lebanon_conflicts_json = json.load(f)\n",
    "    lebanon_war_events_json = lebanon_conflicts_json['JSON'][0]['settings']['leaflet'][0]['features']\n",
    "    \n",
    "lebanon_war_events = pd.DataFrame(lebanon_war_events_json).drop(['cssClass', 'icon', 'type', 'feature_id'], axis=1)\n",
    "\n",
    "lebanon_war_events.head()"
   ]
  },
  {
   "cell_type": "code",
   "execution_count": 2,
   "metadata": {},
   "outputs": [
    {
     "data": {
      "text/plain": [
       "'<span class=\"date-display-range\"><span class=\"date-display-start\">August 1, 1977</span> to <span class=\"date-display-end\">December 31, 1977</span></span><br /><a href=\"/sir/christians-targeted-upper-metn-and-aley\">Christians targeted in Upper Metn and Aley</a><br />Aabadiye'"
      ]
     },
     "execution_count": 2,
     "metadata": {},
     "output_type": "execute_result"
    }
   ],
   "source": [
    "lebanon_war_events['popup'][2]"
   ]
  },
  {
   "cell_type": "code",
   "execution_count": 3,
   "metadata": {},
   "outputs": [
    {
     "data": {
      "text/html": [
       "<div>\n",
       "<style scoped>\n",
       "    .dataframe tbody tr th:only-of-type {\n",
       "        vertical-align: middle;\n",
       "    }\n",
       "\n",
       "    .dataframe tbody tr th {\n",
       "        vertical-align: top;\n",
       "    }\n",
       "\n",
       "    .dataframe thead th {\n",
       "        text-align: right;\n",
       "    }\n",
       "</style>\n",
       "<table border=\"1\" class=\"dataframe\">\n",
       "  <thead>\n",
       "    <tr style=\"text-align: right;\">\n",
       "      <th></th>\n",
       "      <th>lat</th>\n",
       "      <th>lon</th>\n",
       "      <th>start</th>\n",
       "      <th>end</th>\n",
       "      <th>event</th>\n",
       "      <th>location_name</th>\n",
       "    </tr>\n",
       "  </thead>\n",
       "  <tbody>\n",
       "    <tr>\n",
       "      <th>0</th>\n",
       "      <td>33.7545</td>\n",
       "      <td>35.6015</td>\n",
       "      <td>1977-08-01</td>\n",
       "      <td>1977-12-31</td>\n",
       "      <td>Christians targeted in Upper Metn and Aley</td>\n",
       "      <td>Rouisset en Naamane</td>\n",
       "    </tr>\n",
       "    <tr>\n",
       "      <th>1</th>\n",
       "      <td>33.7373</td>\n",
       "      <td>35.5977</td>\n",
       "      <td>1977-08-01</td>\n",
       "      <td>1977-12-31</td>\n",
       "      <td>Christians targeted in Upper Metn and Aley</td>\n",
       "      <td>Rechmaiya</td>\n",
       "    </tr>\n",
       "    <tr>\n",
       "      <th>2</th>\n",
       "      <td>33.8338</td>\n",
       "      <td>35.6205</td>\n",
       "      <td>1977-08-01</td>\n",
       "      <td>1977-12-31</td>\n",
       "      <td>Christians targeted in Upper Metn and Aley</td>\n",
       "      <td>Aabadiye</td>\n",
       "    </tr>\n",
       "    <tr>\n",
       "      <th>3</th>\n",
       "      <td>33.7413</td>\n",
       "      <td>35.6692</td>\n",
       "      <td>1977-08-01</td>\n",
       "      <td>1977-12-31</td>\n",
       "      <td>Christians targeted in Upper Metn and Aley</td>\n",
       "      <td>Mreijat</td>\n",
       "    </tr>\n",
       "    <tr>\n",
       "      <th>4</th>\n",
       "      <td>33.7933</td>\n",
       "      <td>35.5162</td>\n",
       "      <td>1978-07-01</td>\n",
       "      <td>1978-07-01</td>\n",
       "      <td>Christians executed near Aley</td>\n",
       "      <td>Deir Qoubil</td>\n",
       "    </tr>\n",
       "    <tr>\n",
       "      <th>...</th>\n",
       "      <td>...</td>\n",
       "      <td>...</td>\n",
       "      <td>...</td>\n",
       "      <td>...</td>\n",
       "      <td>...</td>\n",
       "      <td>...</td>\n",
       "    </tr>\n",
       "    <tr>\n",
       "      <th>689</th>\n",
       "      <td>33.8882</td>\n",
       "      <td>35.5009</td>\n",
       "      <td>1985-08-12</td>\n",
       "      <td>1985-08-12</td>\n",
       "      <td>Hundreds of mortar shells fired across East an...</td>\n",
       "      <td>Beirut</td>\n",
       "    </tr>\n",
       "    <tr>\n",
       "      <th>690</th>\n",
       "      <td>34.1204</td>\n",
       "      <td>35.6471</td>\n",
       "      <td>1985-08-21</td>\n",
       "      <td>1985-08-21</td>\n",
       "      <td>Bombing continues, reaching 190 towns, village...</td>\n",
       "      <td>Jbail</td>\n",
       "    </tr>\n",
       "    <tr>\n",
       "      <th>691</th>\n",
       "      <td>34.1204</td>\n",
       "      <td>35.6471</td>\n",
       "      <td>1985-08-20</td>\n",
       "      <td>1985-08-20</td>\n",
       "      <td>Heavy shelling over Beirut, Jbeil and Batroun....</td>\n",
       "      <td>Jbail</td>\n",
       "    </tr>\n",
       "    <tr>\n",
       "      <th>692</th>\n",
       "      <td>34.2563</td>\n",
       "      <td>35.6581</td>\n",
       "      <td>1985-08-20</td>\n",
       "      <td>1985-08-20</td>\n",
       "      <td>Heavy shelling over Beirut, Jbeil and Batroun....</td>\n",
       "      <td>Batroun</td>\n",
       "    </tr>\n",
       "    <tr>\n",
       "      <th>693</th>\n",
       "      <td>33.3634</td>\n",
       "      <td>35.4319</td>\n",
       "      <td>1989-07-28</td>\n",
       "      <td>1989-07-28</td>\n",
       "      <td>Abdel Karim Obeid, a Shi’a sheikh from Jibchit...</td>\n",
       "      <td>Jibchit</td>\n",
       "    </tr>\n",
       "  </tbody>\n",
       "</table>\n",
       "<p>694 rows × 6 columns</p>\n",
       "</div>"
      ],
      "text/plain": [
       "         lat      lon      start        end  \\\n",
       "0    33.7545  35.6015 1977-08-01 1977-12-31   \n",
       "1    33.7373  35.5977 1977-08-01 1977-12-31   \n",
       "2    33.8338  35.6205 1977-08-01 1977-12-31   \n",
       "3    33.7413  35.6692 1977-08-01 1977-12-31   \n",
       "4    33.7933  35.5162 1978-07-01 1978-07-01   \n",
       "..       ...      ...        ...        ...   \n",
       "689  33.8882  35.5009 1985-08-12 1985-08-12   \n",
       "690  34.1204  35.6471 1985-08-21 1985-08-21   \n",
       "691  34.1204  35.6471 1985-08-20 1985-08-20   \n",
       "692  34.2563  35.6581 1985-08-20 1985-08-20   \n",
       "693  33.3634  35.4319 1989-07-28 1989-07-28   \n",
       "\n",
       "                                                 event        location_name  \n",
       "0           Christians targeted in Upper Metn and Aley  Rouisset en Naamane  \n",
       "1           Christians targeted in Upper Metn and Aley            Rechmaiya  \n",
       "2           Christians targeted in Upper Metn and Aley             Aabadiye  \n",
       "3           Christians targeted in Upper Metn and Aley              Mreijat  \n",
       "4                        Christians executed near Aley          Deir Qoubil  \n",
       "..                                                 ...                  ...  \n",
       "689  Hundreds of mortar shells fired across East an...               Beirut  \n",
       "690  Bombing continues, reaching 190 towns, village...                Jbail  \n",
       "691  Heavy shelling over Beirut, Jbeil and Batroun....                Jbail  \n",
       "692  Heavy shelling over Beirut, Jbeil and Batroun....              Batroun  \n",
       "693  Abdel Karim Obeid, a Shi’a sheikh from Jibchit...              Jibchit  \n",
       "\n",
       "[694 rows x 6 columns]"
      ]
     },
     "execution_count": 3,
     "metadata": {},
     "output_type": "execute_result"
    }
   ],
   "source": [
    "def extract_date(row, start_or_end):\n",
    "    assert start_or_end == 'start' or 'end', 'start_or_end should be either \"start\" or \"end\"'\n",
    "    soup = BeautifulSoup(row['popup'])\n",
    "    class_ = 'date-display-' + start_or_end\n",
    "    try:\n",
    "        date = soup.findAll('span', {'class': class_})[0]\n",
    "    \n",
    "    except IndexError:\n",
    "        class_ = 'date-display-single'\n",
    "        date = soup.findAll('span', {'class': class_})[0]\n",
    "    \n",
    "    date_time_obj = datetime.datetime.strptime(date.text, '%B %d, %Y')\n",
    "    return date_time_obj\n",
    "\n",
    "\n",
    "def extract_event(row):\n",
    "    soup = BeautifulSoup(row['popup'])\n",
    "    event = soup.findAll('a')[0]\n",
    "    return event.text\n",
    "\n",
    "\n",
    "def extract_location_name(row):\n",
    "    return row['popup'].split('<br />')[2]\n",
    "    \n",
    "lebanon_war_events['start'] = lebanon_war_events.apply(lambda row: extract_date(row, 'start'), axis=1)\n",
    "lebanon_war_events['end'] = lebanon_war_events.apply(lambda row: extract_date(row, 'end'), axis=1)\n",
    "lebanon_war_events['event'] = lebanon_war_events.apply(extract_event, axis=1)\n",
    "lebanon_war_events['location_name'] = lebanon_war_events.apply(extract_location_name, axis=1)\n",
    "\n",
    "lebanon_war_events_final = lebanon_war_events.drop('popup', axis=1)\n",
    "\n",
    "lebanon_war_events_final"
   ]
  },
  {
   "cell_type": "code",
   "execution_count": 4,
   "metadata": {},
   "outputs": [],
   "source": [
    "def load_geoJson( file_in):\n",
    "    \n",
    "    with open(file_in) as file_in:\n",
    "        districts = json.load(file_in)\n",
    "    \n",
    "    district_features = districts['features']\n",
    "    \n",
    "    return district_features"
   ]
  },
  {
   "cell_type": "code",
   "execution_count": 5,
   "metadata": {},
   "outputs": [],
   "source": [
    "def create_geoDict (geoJson):\n",
    "    \n",
    "    geoJSON=dict(type= 'FeatureCollection', \n",
    "             features = [])\n",
    "    \n",
    "    for k, tfeature in enumerate(geoJson):\n",
    "        geo_feature = dict(id=tfeature['properties']['DISTRICT'], type= \"Feature\")\n",
    "        geo_feature['properties'] = tfeature['properties']\n",
    "        geo_feature['geometry'] = tfeature['geometry']  \n",
    "        geoJSON['features'].append(geo_feature)\n",
    "        \n",
    "    return geoJSON"
   ]
  },
  {
   "cell_type": "code",
   "execution_count": 6,
   "metadata": {},
   "outputs": [],
   "source": [
    "file_in = '2009_districts.geojson'\n",
    "districts_geo = load_geoJson(file_in)\n",
    "districts_geo_dict = create_geoDict (districts_geo)"
   ]
  },
  {
   "cell_type": "code",
   "execution_count": 16,
   "metadata": {},
   "outputs": [
    {
     "data": {
      "application/vnd.plotly.v1+json": {
       "config": {
        "plotlyServerURL": "https://plot.ly"
       },
       "data": [
        {
         "customdata": [
          [
           "Christians targeted in Upper Metn and Aley"
          ],
          [
           "Christians targeted in Upper Metn and Aley"
          ],
          [
           "Christians targeted in Upper Metn and Aley"
          ],
          [
           "Christians targeted in Upper Metn and Aley"
          ],
          [
           "Massacre of St. George Church in Brih"
          ],
          [
           "Maasser el Chouf killing"
          ],
          [
           "Christian massacres in Chouf and in West Beirut"
          ],
          [
           "Christian massacres in Chouf and in West Beirut"
          ],
          [
           "Christian massacres in Chouf and in West Beirut"
          ],
          [
           "Christian massacres in Chouf and in West Beirut"
          ],
          [
           "Christian massacres in Chouf and in West Beirut"
          ],
          [
           "Christian massacres in Chouf and in West Beirut"
          ],
          [
           "Christian massacres in Chouf and in West Beirut"
          ],
          [
           "Christian massacres in Chouf and in West Beirut"
          ],
          [
           "Christian massacres in Chouf and in West Beirut"
          ],
          [
           "Conflicts on the border continue"
          ],
          [
           "Conflicts on the border continue"
          ],
          [
           "Israeli air raids and sea attack on South Lebanon"
          ],
          [
           "Israeli air raids and sea attack on South Lebanon"
          ],
          [
           "Border militias occupy Khiyam"
          ],
          [
           "Christian massacres in Chouf and in West Beirut"
          ],
          [
           "Israeli air raids and sea attack on South Lebanon"
          ],
          [
           "Israeli air raids and sea attack on South Lebanon"
          ],
          [
           "Israeli air raids and sea attack on South Lebanon"
          ]
         ],
         "hoverlabel": {
          "namelength": 0
         },
         "hovertemplate": "animation_frame=1977<br>event=%{customdata[0]}<br>lat=%{lat}<br>lon=%{lon}<br>color=%{marker.color}",
         "lat": [
          33.7545,
          33.7373,
          33.8338,
          33.7413,
          33.7163,
          33.6672,
          33.7409,
          33.6672,
          33.7108,
          33.7042,
          33.6989,
          33.6414,
          33.6642,
          33.7392,
          33.8882,
          33.3001,
          33.2782,
          33.3294,
          33.1794,
          33.3294,
          33.6363,
          33.2741,
          33.1064,
          33.3639
         ],
         "legendgroup": "",
         "lon": [
          35.6015,
          35.5977,
          35.6205,
          35.6692,
          35.6575,
          35.6703,
          35.6993,
          35.6703,
          35.678,
          35.678,
          35.6303,
          35.5866,
          35.6207,
          35.6323,
          35.5009,
          35.5435,
          35.5514,
          35.6139,
          35.2262,
          35.6139,
          35.6181,
          35.1925,
          35.2313,
          35.4906
         ],
         "marker": {
          "color": [
           1,
           1,
           1,
           1,
           1,
           1,
           1,
           1,
           1,
           1,
           1,
           1,
           1,
           1,
           1,
           1,
           1,
           1,
           1,
           1,
           1,
           1,
           1,
           1
          ],
          "coloraxis": "coloraxis",
          "opacity": 0.7,
          "showscale": false,
          "size": 10
         },
         "mode": "markers",
         "name": "",
         "showlegend": false,
         "subplot": "mapbox",
         "type": "scattermapbox"
        }
       ],
       "frames": [
        {
         "data": [
          {
           "customdata": [
            [
             "Christians targeted in Upper Metn and Aley"
            ],
            [
             "Christians targeted in Upper Metn and Aley"
            ],
            [
             "Christians targeted in Upper Metn and Aley"
            ],
            [
             "Christians targeted in Upper Metn and Aley"
            ],
            [
             "Massacre of St. George Church in Brih"
            ],
            [
             "Maasser el Chouf killing"
            ],
            [
             "Christian massacres in Chouf and in West Beirut"
            ],
            [
             "Christian massacres in Chouf and in West Beirut"
            ],
            [
             "Christian massacres in Chouf and in West Beirut"
            ],
            [
             "Christian massacres in Chouf and in West Beirut"
            ],
            [
             "Christian massacres in Chouf and in West Beirut"
            ],
            [
             "Christian massacres in Chouf and in West Beirut"
            ],
            [
             "Christian massacres in Chouf and in West Beirut"
            ],
            [
             "Christian massacres in Chouf and in West Beirut"
            ],
            [
             "Christian massacres in Chouf and in West Beirut"
            ],
            [
             "Conflicts on the border continue"
            ],
            [
             "Conflicts on the border continue"
            ],
            [
             "Israeli air raids and sea attack on South Lebanon"
            ],
            [
             "Israeli air raids and sea attack on South Lebanon"
            ],
            [
             "Border militias occupy Khiyam"
            ],
            [
             "Christian massacres in Chouf and in West Beirut"
            ],
            [
             "Israeli air raids and sea attack on South Lebanon"
            ],
            [
             "Israeli air raids and sea attack on South Lebanon"
            ],
            [
             "Israeli air raids and sea attack on South Lebanon"
            ]
           ],
           "hoverlabel": {
            "namelength": 0
           },
           "hovertemplate": "animation_frame=1977<br>event=%{customdata[0]}<br>lat=%{lat}<br>lon=%{lon}<br>color=%{marker.color}",
           "lat": [
            33.7545,
            33.7373,
            33.8338,
            33.7413,
            33.7163,
            33.6672,
            33.7409,
            33.6672,
            33.7108,
            33.7042,
            33.6989,
            33.6414,
            33.6642,
            33.7392,
            33.8882,
            33.3001,
            33.2782,
            33.3294,
            33.1794,
            33.3294,
            33.6363,
            33.2741,
            33.1064,
            33.3639
           ],
           "legendgroup": "",
           "lon": [
            35.6015,
            35.5977,
            35.6205,
            35.6692,
            35.6575,
            35.6703,
            35.6993,
            35.6703,
            35.678,
            35.678,
            35.6303,
            35.5866,
            35.6207,
            35.6323,
            35.5009,
            35.5435,
            35.5514,
            35.6139,
            35.2262,
            35.6139,
            35.6181,
            35.1925,
            35.2313,
            35.4906
           ],
           "marker": {
            "color": [
             1,
             1,
             1,
             1,
             1,
             1,
             1,
             1,
             1,
             1,
             1,
             1,
             1,
             1,
             1,
             1,
             1,
             1,
             1,
             1,
             1,
             1,
             1,
             1
            ],
            "coloraxis": "coloraxis"
           },
           "mode": "markers",
           "name": "",
           "showlegend": false,
           "subplot": "mapbox",
           "type": "scattermapbox"
          }
         ],
         "name": "1977"
        },
        {
         "data": [
          {
           "customdata": [
            [
             "Christians executed near Aley"
            ],
            [
             "Christians executed near Aley"
            ],
            [
             "Family killed in Baalchmay"
            ],
            [
             "Christians killes in Kfarmata"
            ],
            [
             "Clashes among ADF, and PNL/Kataeb"
            ],
            [
             "ADF bombs Ain al-Remmaneh and Badaro"
            ],
            [
             "ADF bombs Ain al-Remmaneh and Badaro"
            ],
            [
             "ADF bombs Ain al-Remmaneh and Badaro"
            ],
            [
             "Open confrontation begins between Christian militias and ADF"
            ],
            [
             "Open confrontation begins between Christian militias and ADF"
            ],
            [
             "Strategic alliance between Lebanese Front and Syria ends"
            ],
            [
             "Strategic alliance between Lebanese Front and Syria ends"
            ],
            [
             "Strategic alliance between Lebanese Front and Syria ends"
            ],
            [
             "Strategic alliance between Lebanese Front and Syria ends"
            ]
           ],
           "hoverlabel": {
            "namelength": 0
           },
           "hovertemplate": "animation_frame=1978<br>event=%{customdata[0]}<br>lat=%{lat}<br>lon=%{lon}<br>color=%{marker.color}",
           "lat": [
            33.7933,
            33.6408,
            33.8178,
            33.727,
            33.8679,
            33.8852,
            33.8679,
            33.8728,
            33.8634,
            33.8679,
            33.8852,
            33.8728,
            33.8475,
            33.8679
           ],
           "legendgroup": "",
           "lon": [
            35.5162,
            35.6088,
            35.6457,
            35.5267,
            35.5202,
            35.5191,
            35.5202,
            35.5208,
            35.5184,
            35.5202,
            35.5191,
            35.5208,
            35.5516,
            35.5202
           ],
           "marker": {
            "color": [
             1,
             1,
             1,
             1,
             1,
             1,
             1,
             1,
             1,
             1,
             1,
             1,
             1,
             1
            ],
            "coloraxis": "coloraxis"
           },
           "mode": "markers",
           "name": "",
           "showlegend": false,
           "subplot": "mapbox",
           "type": "scattermapbox"
          }
         ],
         "name": "1978"
        },
        {
         "data": [
          {
           "customdata": [
            [
             "Killing in Sirjbal to push out Christians"
            ],
            [
             "Druze attacks on Christian villages at entrances to Aley/Chouf"
            ],
            [
             "Druze attacks on Christian villages at entrances to Aley/Chouf"
            ],
            [
             "Druze attacks on Christian villages at entrances to Aley/Chouf"
            ]
           ],
           "hoverlabel": {
            "namelength": 0
           },
           "hovertemplate": "animation_frame=1979<br>event=%{customdata[0]}<br>lat=%{lat}<br>lon=%{lon}<br>color=%{marker.color}",
           "lat": [
            33.6826,
            33.7326,
            33.7811,
            33.662
           ],
           "legendgroup": "",
           "lon": [
            35.5136,
            35.5115,
            35.7223,
            35.5604
           ],
           "marker": {
            "color": [
             1,
             1,
             1,
             1
            ],
            "coloraxis": "coloraxis"
           },
           "mode": "markers",
           "name": "",
           "showlegend": false,
           "subplot": "mapbox",
           "type": "scattermapbox"
          }
         ],
         "name": "1979"
        },
        {
         "data": [
          {
           "customdata": [
            [
             "More attacks on Christians"
            ],
            [
             "More attacks on Christians"
            ],
            [
             "More attacks on Christians"
            ],
            [
             "More attacks on Christians"
            ]
           ],
           "hoverlabel": {
            "namelength": 0
           },
           "hovertemplate": "animation_frame=1980<br>event=%{customdata[0]}<br>lat=%{lat}<br>lon=%{lon}<br>color=%{marker.color}",
           "lat": [
            33.8116,
            33.7373,
            33.727,
            33.6826
           ],
           "legendgroup": "",
           "lon": [
            35.6718,
            35.5977,
            35.5267,
            35.5136
           ],
           "marker": {
            "color": [
             1,
             1,
             1,
             1
            ],
            "coloraxis": "coloraxis"
           },
           "mode": "markers",
           "name": "",
           "showlegend": false,
           "subplot": "mapbox",
           "type": "scattermapbox"
          }
         ],
         "name": "1980"
        },
        {
         "data": [
          {
           "customdata": [
            [
             "Christian civilians killed and displaced in Chouf"
            ],
            [
             "Syrian Army shells South"
            ],
            [
             "Syrian Army shells South"
            ],
            [
             "Syrian Army shells South"
            ],
            [
             "Clashes in the South among various actors"
            ],
            [
             "Institute of Islamic Studies attacked"
            ],
            [
             "Institute of Islamic Studies attacked"
            ],
            [
             "Syrian Army continues shelling West Beirut"
            ],
            [
             "Syrian Army continues shelling West Beirut"
            ],
            [
             "Syrian Army continues shelling West Beirut"
            ],
            [
             "Syrian Army bombs West Beirut"
            ],
            [
             "Syrian Army continues shelling West Beirut"
            ],
            [
             "Clashes in the South among various actors"
            ],
            [
             "Clashes in the South among various actors"
            ],
            [
             "Druze kidnap Christians from Mansourieh-Bhamdoun"
            ],
            [
             "Druze kidnap Christians from Mansourieh-Bhamdoun"
            ],
            [
             "Syrian Army attack against Joint Forces"
            ],
            [
             "Syrian Army attack against Joint Forces"
            ],
            [
             "Druze kidnap Christians from Mansourieh-Bhamdoun"
            ],
            [
             "Looting and burning of Churches in Mansourieh-Bhamdoun "
            ],
            [
             "Christian militias kill civilians in Mtein"
            ],
            [
             "Druze civilians killed in Upper Metn"
            ],
            [
             "Looting and burning of Churches in Mansourieh-Bhamdoun "
            ],
            [
             "Syrian Army attack against Joint Forces"
            ],
            [
             "Syrian Army attack against Joint Forces"
            ],
            [
             "Airport bombed by Christian militias"
            ],
            [
             "U.S. Ambassador kidnapped and killed"
            ],
            [
             "Joint Forces attack Christian village in Jezzine"
            ],
            [
             "LAA bombards Higher Shia Council"
            ],
            [
             "Attack on Chekka and Hamat"
            ],
            [
             "Syrian Army attack against Joint Forces"
            ],
            [
             "Attack on Chekka and Hamat"
            ],
            [
             "Attack on Chekka and Hamat"
            ],
            [
             "Syrian Army bombs West Beirut"
            ],
            [
             "Syrian Army bombs West Beirut"
            ],
            [
             "Druze offensive on Christian villages"
            ],
            [
             "Druze offensive on Christian villages"
            ],
            [
             "Druze offensive on Christian villages"
            ],
            [
             "Civilians killed in Mtein"
            ],
            [
             "Druze offensive on Christian villages"
            ],
            [
             "Druze offensive on Christian villages"
            ],
            [
             "Druze offensive on Christian villages"
            ],
            [
             "Druze offensive on Christian villages"
            ],
            [
             "Druze offensive on Christian villages"
            ],
            [
             "Druze men attack Abadieh family"
            ],
            [
             "Attack on Qobayat"
            ],
            [
             "Joint Forces attack Christian areas"
            ],
            [
             "LAA bombard presidential palace"
            ],
            [
             "LAA bombard presidential palace"
            ],
            [
             "Attack on Kab-Elias prompts displacement"
            ],
            [
             "Joint Forces attack Christian areas"
            ],
            [
             "Joint Forces attack Christian areas"
            ],
            [
             "Joint Forces attack Christian areas"
            ],
            [
             "Joint Forces attack Christian areas"
            ],
            [
             "Joint Forces attack Christian areas"
            ],
            [
             "Druze offensive on Christian villages"
            ],
            [
             "Druze offensive on Christian villages"
            ],
            [
             "Jounieh and Bkerke bombed"
            ],
            [
             "Elias Sarkis elected president"
            ],
            [
             "Elias Sarkis elected president"
            ],
            [
             "Kataeb take control of Port of Beirut"
            ],
            [
             "Jounieh and Bkerke bombed"
            ],
            [
             "Edde injured in assassination attempt"
            ],
            [
             "Confrontation between Joint Forces and Syrian Army"
            ],
            [
             "Confrontation between Joint Forces and Syrian Army"
            ],
            [
             "Linda Jumblatt killed in apartment"
            ],
            [
             "Kataeb take control of Port of Beirut"
            ],
            [
             "Druze offensive on Christian villages"
            ],
            [
             "Druze offensive on Christian villages"
            ],
            [
             "Druze offensive on Christian villages"
            ],
            [
             "Druze offensive on Christian villages"
            ],
            [
             "Druze offensive on Christian villages"
            ],
            [
             "Druze offensive on Christian villages"
            ],
            [
             "Druze offensive on Christian villages"
            ],
            [
             "Druze offensive on Christian villages"
            ],
            [
             "Druze offensive on Christian villages"
            ],
            [
             "Druze offensive on Christian villages"
            ],
            [
             "Attack on Kab-Elias prompts displacement"
            ],
            [
             "Attack on Kab-Elias prompts displacement"
            ],
            [
             "Fall of Tal el-Zaatar and Jisr el-Basha"
            ],
            [
             "Fall of Tal el-Zaatar and Jisr el-Basha"
            ],
            [
             "Attack on Maslakh-Karantina camp"
            ],
            [
             "Siege of Dbayeh camp"
            ],
            [
             "Shelling of residential East and West Beirut"
            ],
            [
             "Siege of Jiyeh and Damour begins"
            ],
            [
             "Attack to empty Damour and Jiyeh"
            ],
            [
             "Attack to empty Damour and Jiyeh"
            ],
            [
             "Siege of Jiyeh and Damour begins"
            ],
            [
             "Siege of Tal el-Zaatar and Jisr el-Basha camps"
            ],
            [
             "Siege of Tal el-Zaatar and Jisr el-Basha camps"
            ],
            [
             "Sieges set off clashes in other areas"
            ],
            [
             "Sieges set off clashes in other areas"
            ],
            [
             "Hawsh-Barada attacked"
            ],
            [
             "Hawsh-Barada attacked"
            ],
            [
             "Hawsh-Barada attacked"
            ],
            [
             "Civilians killed in Akkar"
            ],
            [
             "Sieges set off clashes in other areas"
            ],
            [
             "Sieges set off clashes in other areas"
            ],
            [
             "Sieges set off clashes in other areas"
            ],
            [
             "Sieges set off clashes in other areas"
            ],
            [
             "Sieges set off clashes in other areas"
            ],
            [
             "As-Saiqa attacks newspaper offices"
            ],
            [
             "Armed men set up West Beirut checkpoints"
            ],
            [
             "Sieges set off clashes in other areas"
            ]
           ],
           "hoverlabel": {
            "namelength": 0
           },
           "hovertemplate": "animation_frame=1976<br>event=%{customdata[0]}<br>lat=%{lat}<br>lon=%{lon}<br>color=%{marker.color}",
           "lat": [
            33.7009,
            33.543,
            33.5475,
            33.5626,
            33.3294,
            33.2741,
            33.2614,
            33.9052,
            33.8693,
            33.8934,
            33.8738,
            33.8963,
            33.3642,
            33.2741,
            33.7802,
            33.7688,
            33.8757,
            33.8915,
            33.7966,
            33.7802,
            33.8915,
            33.8853,
            33.7966,
            33.8238,
            33.8491,
            33.8287,
            33.9052,
            33.409,
            33.8526,
            34.4301,
            33.8374,
            34.3287,
            34.2868,
            33.8787,
            33.8815,
            33.8613,
            33.8757,
            33.6672,
            33.8915,
            33.8203,
            33.7373,
            33.8238,
            33.6656,
            33.6602,
            33.8338,
            34.5717,
            33.8852,
            33.9701,
            33.8349,
            33.7943,
            33.8757,
            33.8915,
            33.8574,
            33.8338,
            33.7966,
            33.8321,
            33.7307,
            33.9679,
            33.8882,
            34.4301,
            33.9052,
            33.9823,
            33.9148,
            33.8882,
            33.5626,
            33.8882,
            33.9011,
            33.7811,
            33.7112,
            33.8652,
            33.8338,
            33.771,
            33.783,
            33.6642,
            33.8286,
            33.8633,
            33.8852,
            33.8882,
            33.7811,
            33.8693,
            33.8664,
            33.9021,
            33.9433,
            33.8882,
            33.7307,
            33.7307,
            33.6674,
            33.6674,
            33.8664,
            33.8693,
            33.8693,
            33.8838,
            33.8491,
            34.0111,
            33.6962,
            34.5056,
            33.8949,
            33.9,
            33.8815,
            33.8953,
            33.8852,
            33.8882,
            33.8882,
            34.4301
           ],
           "legendgroup": "",
           "lon": [
            35.5956,
            35.3966,
            35.3846,
            35.3678,
            35.6139,
            35.1925,
            35.2382,
            35.5063,
            35.5018,
            35.4896,
            35.5022,
            35.482,
            35.5862,
            35.1925,
            35.6265,
            35.6289,
            35.7963,
            35.74,
            35.6499,
            35.6265,
            35.74,
            35.6931,
            35.6499,
            35.7363,
            35.9027,
            35.4953,
            35.5063,
            35.5553,
            35.5399,
            35.8526,
            35.741,
            35.7313,
            35.6929,
            35.5029,
            35.5069,
            35.6293,
            35.7963,
            35.6703,
            35.74,
            35.7073,
            35.5977,
            35.7363,
            35.4884,
            35.4954,
            35.6205,
            36.2804,
            35.7737,
            35.6197,
            35.5455,
            35.8203,
            35.7963,
            35.74,
            35.5715,
            35.6205,
            35.6499,
            35.7152,
            35.4569,
            35.6329,
            35.5009,
            35.8526,
            35.5063,
            35.6382,
            35.5921,
            35.5009,
            35.3678,
            35.5009,
            35.5113,
            35.7223,
            35.5109,
            35.6385,
            35.6205,
            35.646,
            35.4759,
            35.6207,
            35.6084,
            35.7591,
            35.7737,
            35.5009,
            35.7223,
            35.549,
            35.5393,
            35.5312,
            35.5903,
            35.5009,
            35.4569,
            35.4569,
            35.4251,
            35.4251,
            35.5393,
            35.549,
            35.549,
            35.5268,
            35.9027,
            36.1195,
            35.5611,
            36.1446,
            35.5269,
            35.4851,
            35.5069,
            35.4956,
            35.5191,
            35.5009,
            35.5009,
            35.8526
           ],
           "marker": {
            "color": [
             1,
             1,
             1,
             1,
             1,
             1,
             1,
             1,
             1,
             1,
             1,
             1,
             1,
             1,
             1,
             1,
             1,
             1,
             1,
             1,
             1,
             1,
             1,
             1,
             1,
             1,
             1,
             1,
             1,
             1,
             1,
             1,
             1,
             1,
             1,
             1,
             1,
             1,
             1,
             1,
             1,
             1,
             1,
             1,
             1,
             1,
             1,
             1,
             1,
             1,
             1,
             1,
             1,
             1,
             1,
             1,
             1,
             1,
             1,
             1,
             1,
             1,
             1,
             1,
             1,
             1,
             1,
             1,
             1,
             1,
             1,
             1,
             1,
             1,
             1,
             1,
             1,
             1,
             1,
             1,
             1,
             1,
             1,
             1,
             1,
             1,
             1,
             1,
             1,
             1,
             1,
             1,
             1,
             1,
             1,
             1,
             1,
             1,
             1,
             1,
             1,
             1,
             1,
             1
            ],
            "coloraxis": "coloraxis"
           },
           "mode": "markers",
           "name": "",
           "showlegend": false,
           "subplot": "mapbox",
           "type": "scattermapbox"
          }
         ],
         "name": "1976"
        },
        {
         "data": [
          {
           "customdata": [
            [
             "Fighting between Joint Forces and Lebanese Front/Syrian Army"
            ],
            [
             "Fighting between Joint Forces and Lebanese Front/Syrian Army"
            ],
            [
             "Fighting between Joint Forces and Lebanese Front/Syrian Army"
            ],
            [
             "Israeli air strikes against Palestinian camps"
            ],
            [
             "Israeli air strikes against Palestinian camps"
            ],
            [
             "Israeli air strikes against Palestinians"
            ],
            [
             "Israeli air strikes against Palestinian camps"
            ],
            [
             "Israeli attack on Palestinian camps near Sour"
            ],
            [
             "Israeli air strikes against Palestinians"
            ],
            [
             "Fighting resumes in North and Beirut"
            ],
            [
             "Fighting resumes in North and Beirut"
            ],
            [
             "Attacks on Christian in North Lebanon"
            ],
            [
             "Zgharta Christian kills Tripoli Muslims"
            ],
            [
             "Fighting resumes in North and Beirut"
            ],
            [
             "Fighting resumes in North and Beirut"
            ],
            [
             "Fighting resumes in North and Beirut"
            ],
            [
             "Fighting resumes in North and Beirut"
            ],
            [
             "Fighting resumes in North and Beirut"
            ],
            [
             "Clashes in North Lebanon"
            ],
            [
             "Clashes in North Lebanon"
            ],
            [
             "As-Saiqa attack Zahle suburb"
            ],
            [
             "Christian-Muslim clash in Zahle"
            ],
            [
             "Christian-Muslim clash in Zahle"
            ],
            [
             "Christian village of Qa'a in North Bekaa attacked"
            ],
            [
             "Casulaties in Haoush al-Ummarra"
            ],
            [
             "Three found dead in Saadnayel"
            ],
            [
             "Round of clashes in Zahle"
            ],
            [
             "Gunmen attack mill in Taalabaya"
            ],
            [
             "Clashes in Zahle"
            ],
            [
             "Fighting resumes in North and Beirut"
            ],
            [
             "Kataeb attack on BCD"
            ],
            [
             "Siege of Zahle"
            ],
            [
             "Siege of Zahle"
            ],
            [
             "Demonstrations to protest the violence"
            ],
            [
             "Demonstrations to protest the violence"
            ],
            [
             "Siege of Zahle"
            ],
            [
             "Black Saturday"
            ],
            [
             "Forced displacements"
            ],
            [
             "Hotel district battle"
            ],
            [
             "Black Saturday (continued)"
            ],
            [
             "Demonstrations to protest the violence"
            ],
            [
             "Demonstrations to protest the violence"
            ],
            [
             "Demonstrations to protest the violence"
            ],
            [
             "Demonstrations to protest the violence"
            ],
            [
             "Attack on Christians in Akkar"
            ],
            [
             "Attack on Christians in Akkar"
            ],
            [
             "Demonstrations to protest the violence"
            ],
            [
             "Demonstrations to protest the violence"
            ],
            [
             "Demonstrations to protest the violence"
            ],
            [
             "Demonstrations to protest the violence"
            ],
            [
             "Demonstrations to protest the violence"
            ],
            [
             "Fighting spreads to the North, Beqaa, and Shouf"
            ],
            [
             "Fighting spreads to the North, Beqaa, and Shouf"
            ],
            [
             "Fighting broke out in several areas in Beirut"
            ],
            [
             "Fighting broke out in several areas in Beirut"
            ],
            [
             "Fighting broke out in several areas in Beirut"
            ],
            [
             "Fighting broke out in several areas in Beirut"
            ],
            [
             "Fighting broke out in several areas in Beirut"
            ],
            [
             "Fighting broke out in several areas in Beirut"
            ],
            [
             "Clashes between PLO and Kataeb near Tal el-Zaatar and Dekwaneh"
            ],
            [
             "Clashes between PLO and Kataeb near Tal el-Zaatar and Dekwaneh"
            ],
            [
             "Fighting broke out in several areas in Beirut"
            ],
            [
             "Fighting broke out in several areas in Beirut"
            ],
            [
             "Fighting broke out in several areas in Beirut"
            ],
            [
             "Bus transporting Palestinians shot at in Ain Al-Remmaneh killing 27 people"
            ],
            [
             "Dispute between Kataeb security members and a car passenger"
            ],
            [
             "Renewed clashes in Saida"
            ],
            [
             "Maarouf Saad Assassinated in Saida"
            ],
            [
             "Fighting broke out in several areas in Beirut"
            ],
            [
             "Fighting broke out in several areas in Beirut"
            ],
            [
             "Fighting broke out in several areas in Beirut"
            ],
            [
             "Fighting broke out in several areas in Beirut"
            ],
            [
             "Fighting broke out in several areas in Beirut"
            ],
            [
             "Clashes between PLO and Kataeb near Tal el-Zaatar and Dekwaneh"
            ],
            [
             "Clashes between PLO and Kataeb near Tal el-Zaatar and Dekwaneh"
            ],
            [
             "Residential areas of Beirut bombarded"
            ],
            [
             "Shelling of east Beirut and clashes on front lines"
            ],
            [
             "Shelling of east Beirut and clashes on front lines"
            ],
            [
             "Shelling of east Beirut and clashes on front lines"
            ],
            [
             "Residential areas of Beirut bombarded"
            ],
            [
             "Residential areas of Beirut bombarded"
            ],
            [
             "Fighting spreads to the North, Beqaa, and Shouf"
            ],
            [
             "Fighting spreads to the North, Beqaa, and Shouf"
            ],
            [
             "Intense clashes"
            ],
            [
             "Shelling of east Beirut and clashes on front lines"
            ],
            [
             "Shelling of east Beirut and clashes on front lines"
            ],
            [
             "Shelling of Tal el-Zaatar and additional neighborhood shootings"
            ],
            [
             "Shelling of Tal el-Zaatar and additional neighborhood shootings"
            ],
            [
             "Clashes between PLO and Kataeb near Tal el-Zaatar and Dekwaneh"
            ],
            [
             "Shelling of Tal el-Zaatar and additional neighborhood shootings"
            ],
            [
             "Clashes spread in Beirut, dividing the city in two"
            ],
            [
             "Shelling of east Beirut and clashes on front lines"
            ],
            [
             "Black Thursday"
            ],
            [
             "Black Thursday"
            ],
            [
             "Forced displacements"
            ],
            [
             "Forced displacements"
            ],
            [
             "Forced displacement of Sebnay"
            ],
            [
             "First forced displacement occurs in Haret el-Ghawarneh/Antelias"
            ],
            [
             "First forced displacement occurs in Haret el-Ghawarneh/Antelias"
            ],
            [
             "First forced displacement occurs in Haret el-Ghawarneh/Antelias"
            ],
            [
             "Governor of Tripoli assassinated as violence continues in East Beirut"
            ],
            [
             "Governor of Tripoli assassinated as violence continues in East Beirut"
            ],
            [
             "Fighting in Tripoli, Zgharta, and Zahle"
            ],
            [
             "Fighting in Tripoli, Zgharta, and Zahle"
            ],
            [
             "Fighting in Tripoli, Zgharta, and Zahle"
            ],
            [
             "Attack on Taalabaya"
            ],
            [
             "Clashes resume in the North and the Bekaa"
            ],
            [
             "Clashes resume in the North and the Bekaa"
            ],
            [
             "Civilians killed in northern villages"
            ],
            [
             "Civilians killed in northern villages"
            ],
            [
             "Clashes resume in the North and the Bekaa"
            ],
            [
             "Clashes resume in the North and the Bekaa"
            ]
           ],
           "hoverlabel": {
            "namelength": 0
           },
           "hovertemplate": "animation_frame=1975<br>event=%{customdata[0]}<br>lat=%{lat}<br>lon=%{lon}<br>color=%{marker.color}",
           "lat": [
            33.5626,
            33.2741,
            34.4301,
            33.3639,
            34.505,
            33.2741,
            34.454,
            33.2741,
            34.505,
            34.3967,
            33.8634,
            34.5296,
            34.4301,
            33.8679,
            34.4301,
            33.9052,
            33.8491,
            33.8693,
            34.4301,
            34.3967,
            33.8364,
            33.8491,
            33.8205,
            34.3443,
            33.8364,
            33.8205,
            33.8491,
            33.8163,
            33.8491,
            33.8761,
            33.9052,
            34.0052,
            33.8491,
            33.8787,
            33.8882,
            34.4301,
            33.8778,
            33.8845,
            33.9052,
            33.9011,
            33.8773,
            34.3601,
            33.8965,
            33.8039,
            34.4768,
            34.5959,
            33.8447,
            33.8943,
            33.8349,
            33.8845,
            33.8877,
            34.4301,
            34.3967,
            33.6488,
            33.8761,
            33.8529,
            33.8852,
            33.9011,
            33.8634,
            33.8761,
            33.8845,
            33.6466,
            34.4301,
            33.5626,
            33.8679,
            33.8679,
            33.5626,
            33.5626,
            33.8432,
            33.8679,
            33.8693,
            33.838,
            34.3967,
            33.8634,
            33.8664,
            33.9,
            33.8915,
            33.8634,
            33.8851,
            33.8949,
            33.8838,
            33.8491,
            33.8101,
            33.8882,
            33.8728,
            33.8852,
            33.8761,
            33.8778,
            33.8693,
            33.8693,
            33.8882,
            33.8679,
            33.8964,
            33.8882,
            33.8664,
            33.8693,
            33.8329,
            33.9098,
            33.9148,
            33.8432,
            33.8882,
            34.4301,
            33.8491,
            34.4301,
            34.3967,
            33.8163,
            34.3967,
            34.4301,
            34.5648,
            34.5129,
            33.8491,
            34.4768
           ],
           "legendgroup": "",
           "lon": [
            35.3678,
            35.1925,
            35.8526,
            35.4906,
            35.9629,
            35.1925,
            35.8636,
            35.1925,
            35.9629,
            35.8958,
            35.5184,
            36.1618,
            35.8526,
            35.5202,
            35.8526,
            35.5063,
            35.9027,
            35.549,
            35.8526,
            35.8958,
            35.9027,
            35.9027,
            35.8819,
            36.4732,
            35.9027,
            35.8819,
            35.9027,
            35.8629,
            35.9027,
            35.549,
            35.5063,
            36.208,
            35.9027,
            35.5622,
            35.5009,
            35.8526,
            35.5779,
            35.5397,
            35.5063,
            35.5113,
            35.5345,
            35.8889,
            35.5199,
            35.6041,
            36.1816,
            36.0707,
            35.5224,
            35.5578,
            35.5455,
            35.5397,
            35.5412,
            35.8526,
            35.8958,
            35.4552,
            35.549,
            35.5088,
            35.5191,
            35.5113,
            35.5184,
            35.549,
            35.5397,
            35.4579,
            35.8526,
            35.3678,
            35.5202,
            35.5202,
            35.3678,
            35.3678,
            35.5033,
            35.5202,
            35.549,
            35.5104,
            35.8958,
            35.5184,
            35.5393,
            35.4851,
            35.5078,
            35.5184,
            35.5117,
            35.5269,
            35.5268,
            35.9027,
            35.5964,
            35.5009,
            35.5208,
            35.5191,
            35.549,
            35.5779,
            35.549,
            35.549,
            35.5009,
            35.5202,
            35.5039,
            35.5009,
            35.5393,
            35.549,
            35.5362,
            35.5882,
            35.5921,
            35.5033,
            35.5009,
            35.8526,
            35.9027,
            35.8526,
            35.8958,
            35.8629,
            35.8958,
            35.8526,
            36.1758,
            36.0542,
            35.9027,
            36.1816
           ],
           "marker": {
            "color": [
             1,
             1,
             1,
             1,
             1,
             1,
             1,
             1,
             1,
             1,
             1,
             1,
             1,
             1,
             1,
             1,
             1,
             1,
             1,
             1,
             1,
             1,
             1,
             1,
             1,
             1,
             1,
             1,
             1,
             1,
             1,
             1,
             1,
             1,
             1,
             1,
             1,
             1,
             1,
             1,
             1,
             1,
             1,
             1,
             1,
             1,
             1,
             1,
             1,
             1,
             1,
             1,
             1,
             1,
             1,
             1,
             1,
             1,
             1,
             1,
             1,
             1,
             1,
             1,
             1,
             1,
             1,
             1,
             1,
             1,
             1,
             1,
             1,
             1,
             1,
             1,
             1,
             1,
             1,
             1,
             1,
             1,
             1,
             1,
             1,
             1,
             1,
             1,
             1,
             1,
             1,
             1,
             1,
             1,
             1,
             1,
             1,
             1,
             1,
             1,
             1,
             1,
             1,
             1,
             1,
             1,
             1,
             1,
             1,
             1,
             1,
             1
            ],
            "coloraxis": "coloraxis"
           },
           "mode": "markers",
           "name": "",
           "showlegend": false,
           "subplot": "mapbox",
           "type": "scattermapbox"
          }
         ],
         "name": "1975"
        },
        {
         "data": [
          {
           "customdata": [
            [
             "Christian civilians murdered in response to LF checkpoint"
            ],
            [
             "Christian civilians murdered in response to LF checkpoint"
            ],
            [
             "Christian civilians murdered in response to LF checkpoint"
            ],
            [
             "A PSP member murders 63 Christian civilians "
            ],
            [
             "Christian civilians murdered in response to LF checkpoint"
            ],
            [
             "Christian civilians murdered in response to LF checkpoint"
            ],
            [
             " Sectarian-based killings in Baabda"
            ],
            [
             "Christian civilians murdered in Aley and Baabda "
            ],
            [
             "Christian civilians murdered in Aley and Baabda "
            ],
            [
             "Executions of Christian civilians in the Chouf "
            ],
            [
             "PSP murders Christian civilians and LF members "
            ],
            [
             "PSP murder Christians in Aley and in the Chouf"
            ],
            [
             "LF murder Druz civilians in Aley "
            ],
            [
             "LF murder Druz civilians in Aley "
            ],
            [
             "LF murder Druz civilians in Aley "
            ],
            [
             "PSP murder Christians in Aley and in the Chouf"
            ],
            [
             "PSP murder Christians in Aley and in the Chouf"
            ],
            [
             "PSP murders Christian civilians and LF members "
            ],
            [
             "PSP murder Christians in Aley and in the Chouf"
            ],
            [
             "PSP murder Christians in Aley and in the Chouf"
            ],
            [
             " Sectarian-based killings in Baabda"
            ],
            [
             " Sectarian-based killings in Baabda"
            ],
            [
             " Sectarian-based killings in the Chouf "
            ],
            [
             " Sectarian-based killings in the Chouf "
            ],
            [
             "Sectarian-based killings in Aley "
            ],
            [
             "Sectarian-based killings in Aley "
            ],
            [
             " Sectarian-based killings in the Chouf "
            ],
            [
             " Sectarian-based killings in the Chouf "
            ],
            [
             " Sectarian-based killings in the Chouf "
            ],
            [
             " Sectarian-based killings in the Chouf "
            ],
            [
             " Sectarian-based killings in the Chouf "
            ],
            [
             "Sectarian-based killings in Aley "
            ],
            [
             "Sectarian-based killings in Aley "
            ],
            [
             "Sectarian-based killings in Aley "
            ],
            [
             "Sectarian-based killings in Aley "
            ],
            [
             " Sectarian-based killings in Baabda"
            ],
            [
             " Sectarian-based killings in Baabda"
            ],
            [
             "Sectarian-based killings in Aley "
            ],
            [
             "Sectarian-based killings in Aley "
            ],
            [
             "Sectarian-based killings in Aley "
            ],
            [
             "Sectarian-based killings in Aley "
            ],
            [
             "Sectarian-based killings in Aley "
            ],
            [
             "Murder of Christians continues "
            ],
            [
             "Murder of Christians continues "
            ],
            [
             "PSP and Syrian Army shell East Beirut "
            ],
            [
             "PSP and Syrian Army shell East Beirut "
            ],
            [
             "PSP attacks and loots Christian quarters of Aley "
            ],
            [
             "Clashes between LF forces and PSP continue"
            ],
            [
             "PSP and Syrian Army shell East Beirut "
            ],
            [
             "PSP and Syrian Army shell East Beirut "
            ],
            [
             "PSP and Syrian Army shell East Beirut "
            ],
            [
             "PSP and Syrian Army shell East Beirut "
            ],
            [
             "PSP and Syrian Army shell East Beirut "
            ],
            [
             "Clashes between LF forces and PSP continue"
            ],
            [
             "Clashes between LF forces and PSP continue"
            ],
            [
             "Clashes between LF forces and PSP continue"
            ],
            [
             "Clashes between LF forces and PSP continue"
            ],
            [
             "Clashes between LF forces and PSP continue"
            ],
            [
             "Clashes between LF forces and PSP continue"
            ],
            [
             "Clashes between LF forces and PSP continue"
            ],
            [
             "Clashes between LF forces and PSP continue"
            ],
            [
             "Clashes between LF forces and PSP continue"
            ],
            [
             "Clashes between LF forces and PSP continue"
            ],
            [
             "PSP and Syrian Army shell East Beirut "
            ],
            [
             "PSP and Syrian Army shell East Beirut "
            ],
            [
             "Murder of Christians at Ammiq and Selfaya "
            ],
            [
             "Murder of Christians at Ammiq and Selfaya "
            ],
            [
             "Houses in al-Abadieh set on fire "
            ],
            [
             "Executions at Bmaryam "
            ],
            [
             "Murder of Druze civilians in Kfarmatta "
            ],
            [
             "The PSP takes control of Bhmandoun "
            ],
            [
             "Murder of Christians continues "
            ],
            [
             "Murder of Christians continues "
            ],
            [
             "The PSP takes control of Bhmandoun "
            ],
            [
             "Syrian and PSP artillery shells East Beirut "
            ],
            [
             "Shelling on Ashrafieh continues "
            ],
            [
             "Executions and Kidnapping of civilians at Kfarhim and Deir Dourit"
            ],
            [
             "Executions and Kidnapping of civilians at Kfarhim and Deir Dourit"
            ],
            [
             "PSP and Syrian Army shell East Beirut "
            ],
            [
             "Shelling on Ashrafieh "
            ],
            [
             "LF responds to Ashrafieh shelling "
            ],
            [
             "LF responds to Ashrafieh shelling "
            ],
            [
             "LF responds to Ashrafieh shelling "
            ],
            [
             "LF responds to Ashrafieh shelling "
            ],
            [
             " Sectarian-based killings in the Chouf "
            ],
            [
             " Sectarian-based killings in the Chouf "
            ],
            [
             "The LF and PSP abducted members from each other’s militias in Deir Durit and in Kfarhim. 23 of these hostages were killed. "
            ],
            [
             "The LF and PSP abducted members from each other’s militias in Deir Durit and in Kfarhim. 23 of these hostages were killed. "
            ],
            [
             "the Israeli Army carries out unlawful detentions in Saida"
            ],
            [
             "Members close to the LF forced 12 Muslim families to evacuate their homes in the area of Saida"
            ],
            [
             " The Israeli Army lays siege to the village of Deir Qanoun and Ansar"
            ],
            [
             " The Israeli Army lays siege to the village of Deir Qanoun and Ansar"
            ],
            [
             "75,000 residents flee the city of Tripoli"
            ],
            [
             "Displacement of 208 Palestinian families from Saida due to killings and threats"
            ],
            [
             "PSP shelling over East Beirut and its suburbs"
            ],
            [
             "PSP shelling over East Beirut and its suburbs"
            ],
            [
             "PSP shelling over East Beirut and its suburbs"
            ],
            [
             "PSP shelling over East Beirut and its suburbs"
            ],
            [
             "The Lebanese Army resorts to heavy artillery shelling on southern suburbs "
            ],
            [
             "PSP shelling over East Beirut and its suburbs"
            ],
            [
             "Forced displacement of 5,500 Christian civilians from the Shuf to South Lebanon"
            ],
            [
             " PSP militias shelles a monastery in the village of Jun"
            ],
            [
             "Forced displacement of 5,500 Christian civilians from the Shuf to South Lebanon"
            ],
            [
             "Christian quarters in Baabda burned "
            ],
            [
             "Christian quarters in Baabda burned "
            ],
            [
             " Sectarian-based killings in the Chouf "
            ],
            [
             " Sectarian-based killings in the Chouf "
            ],
            [
             " Sectarian-based killings in the Chouf "
            ],
            [
             " Sectarian-based killings in the Chouf "
            ],
            [
             " Sectarian-based killings in the Chouf "
            ],
            [
             "Bombing on Deir al-Qamar "
            ],
            [
             "Christian quarters in Baabda burned "
            ],
            [
             "Seven Christians were found killed in Ammiq"
            ],
            [
             "Deir al-Qamar Siege claims lives of 8 people "
            ],
            [
             "Armed men open fire on civilian cars entering Tripoli"
            ],
            [
             "20 dead and 35 wounded in less than 24 hours in Tripoli"
            ],
            [
             "Heavy bombardment on  Ba’l Mohsen-Qobbeh-Bab al-Tabbaneh"
            ],
            [
             "Blast at Tripoli Mosque claim 20 civilian lives after Friday prayer"
            ],
            [
             "A bomb explodes in front of a hospital and a school in Tripoli"
            ],
            [
             "Shelling claim lives of 600 civilians and combatants, 1055 wounded"
            ],
            [
             "The Islamic Tawhid Party takes over Tripoli and executes 100 leftist"
            ],
            [
             "The Islamic Tawhid Party takes over Tripoli and executes 100 leftist"
            ],
            [
             "Druze Sheikh Halim Takieddin assassinated in his home"
            ],
            [
             "Two suicide attacks targeting U.S troops and French troops claim 303 lives"
            ],
            [
             "Suicide attack at U.S. embassy kills 63 and injures 100"
            ],
            [
             "2 explosions, one in Damascus Road and one inside the Marble Tower Hotel"
            ],
            [
             "2 explosions, one in Damascus Road and one inside the Marble Tower Hotel"
            ],
            [
             " 16 civilians killed and 10 wounded by explosion in front of Makassed Hospital,Tarik al-Jdideh "
            ],
            [
             "6 people killed by an explosion near the offices of the Murabitun in Tarik al-Jdideh"
            ],
            [
             "Haret Hreik explosion kills 13 people and wounds 40"
            ],
            [
             " 30 civilians killed in an explosion in the offices of Palestinian organizations in Shtura, Beqaa "
            ],
            [
             "Bomb placed in front of the Palestinian Research Institute, offices of the PLO on Caracas Street kills 12"
            ],
            [
             "Two civilians killed by a car bomb placed close to offices of the Kataeb Party"
            ],
            [
             "TNT bomb blows up in a busy vegetable market, killing 39 civilians and wounding 133 in Beqaa, Baalbek "
            ],
            [
             "6 employees and 2 security guards killed by an explosion in front of the Summerland Hotel "
            ],
            [
             "An explosive close to offices of the Iranian Revolutionary Guards kills 2 civilians "
            ]
           ],
           "hoverlabel": {
            "namelength": 0
           },
           "hovertemplate": "animation_frame=1983<br>event=%{customdata[0]}<br>lat=%{lat}<br>lon=%{lon}<br>color=%{marker.color}",
           "lat": [
            33.7144,
            33.7009,
            33.7392,
            33.6672,
            33.8488,
            33.6852,
            33.8219,
            33.7555,
            33.8286,
            33.7217,
            33.658,
            33.7217,
            33.7351,
            33.7492,
            33.7364,
            33.7382,
            33.7392,
            33.6947,
            33.7413,
            33.7244,
            33.8116,
            33.8178,
            33.7108,
            33.6789,
            33.8061,
            33.7545,
            33.6826,
            33.6683,
            33.6898,
            33.7409,
            33.7307,
            33.7373,
            33.8101,
            33.7889,
            33.7389,
            33.8633,
            33.8224,
            33.7351,
            33.7867,
            33.7901,
            33.7811,
            33.7567,
            33.7973,
            33.8574,
            33.8943,
            33.8852,
            33.8101,
            33.8169,
            33.8872,
            33.8972,
            33.8972,
            33.8872,
            33.8793,
            33.8574,
            33.8851,
            33.8438,
            33.7717,
            33.7382,
            33.7688,
            33.7878,
            33.8349,
            33.7966,
            33.7373,
            33.8793,
            33.8943,
            33.7175,
            33.7387,
            33.8338,
            33.8321,
            33.727,
            33.8071,
            33.7966,
            33.7109,
            33.7966,
            33.8852,
            33.8852,
            33.6882,
            33.6852,
            33.8852,
            33.8852,
            33.8203,
            33.8374,
            33.8238,
            33.8125,
            33.7382,
            33.7042,
            33.6882,
            33.6852,
            33.5626,
            33.5626,
            33.2053,
            33.3781,
            34.4301,
            33.5626,
            33.8349,
            33.8359,
            33.8574,
            33.8309,
            33.848,
            33.8621,
            33.5626,
            33.5838,
            33.5423,
            33.8604,
            33.8565,
            33.6771,
            33.6989,
            33.6414,
            33.7118,
            33.7163,
            33.6962,
            33.8741,
            33.7175,
            33.6962,
            34.4301,
            34.4301,
            34.4396,
            34.4301,
            34.4301,
            34.4301,
            34.4301,
            34.4301,
            33.8882,
            33.861,
            33.8882,
            33.8783,
            33.3243,
            33.8738,
            33.8738,
            33.8529,
            33.8152,
            33.8963,
            33.9148,
            34.0052,
            33.8611,
            34.0052
           ],
           "legendgroup": "",
           "lon": [
            35.6293,
            35.5956,
            35.6323,
            35.6703,
            35.6652,
            35.5435,
            35.6527,
            35.5719,
            35.6084,
            35.638,
            35.4869,
            35.638,
            35.5298,
            35.5311,
            35.545,
            35.6404,
            35.6323,
            35.5817,
            35.6692,
            35.6222,
            35.6718,
            35.6457,
            35.678,
            35.5231,
            35.6263,
            35.6015,
            35.5136,
            35.5106,
            35.5418,
            35.6993,
            35.4569,
            35.5977,
            35.5964,
            35.5428,
            35.5636,
            35.7591,
            35.6725,
            35.5298,
            35.6103,
            35.6366,
            35.7223,
            35.7163,
            35.6197,
            35.5715,
            35.5578,
            35.5191,
            35.5964,
            35.5351,
            35.5567,
            35.5756,
            35.5756,
            35.5567,
            35.5254,
            35.5715,
            35.633,
            35.5322,
            35.6866,
            35.6404,
            35.6289,
            35.6597,
            35.5455,
            35.6499,
            35.5977,
            35.5254,
            35.5578,
            35.5814,
            35.57,
            35.6205,
            35.7152,
            35.5267,
            35.6593,
            35.6499,
            35.6391,
            35.6499,
            35.5191,
            35.5191,
            35.5233,
            35.5435,
            35.5191,
            35.5191,
            35.7073,
            35.741,
            35.7363,
            35.6958,
            35.6404,
            35.678,
            35.5233,
            35.5435,
            35.3678,
            35.3678,
            35.2547,
            35.353,
            35.8526,
            35.3678,
            35.5455,
            35.5534,
            35.5715,
            35.576,
            35.4847,
            35.5495,
            35.3678,
            35.459,
            35.586,
            35.6896,
            35.7251,
            35.5146,
            35.6303,
            35.5866,
            35.5873,
            35.6575,
            35.5611,
            35.6945,
            35.5814,
            35.5611,
            35.8526,
            35.8526,
            35.8468,
            35.8526,
            35.8526,
            35.8526,
            35.8526,
            35.8526,
            35.5009,
            35.4909,
            35.5009,
            35.5201,
            35.4933,
            35.5022,
            35.5022,
            35.5088,
            35.8522,
            35.482,
            35.5921,
            36.208,
            35.5102,
            36.208
           ],
           "marker": {
            "color": [
             1,
             1,
             1,
             1,
             1,
             1,
             1,
             1,
             1,
             1,
             1,
             1,
             1,
             1,
             1,
             1,
             1,
             1,
             1,
             1,
             1,
             1,
             1,
             1,
             1,
             1,
             1,
             1,
             1,
             1,
             1,
             1,
             1,
             1,
             1,
             1,
             1,
             1,
             1,
             1,
             1,
             1,
             1,
             1,
             1,
             1,
             1,
             1,
             1,
             1,
             1,
             1,
             1,
             1,
             1,
             1,
             1,
             1,
             1,
             1,
             1,
             1,
             1,
             1,
             1,
             1,
             1,
             1,
             1,
             1,
             1,
             1,
             1,
             1,
             1,
             1,
             1,
             1,
             1,
             1,
             1,
             1,
             1,
             1,
             1,
             1,
             1,
             1,
             1,
             1,
             1,
             1,
             1,
             1,
             1,
             1,
             1,
             1,
             1,
             1,
             1,
             1,
             1,
             1,
             1,
             1,
             1,
             1,
             1,
             1,
             1,
             1,
             1,
             1,
             1,
             1,
             1,
             1,
             1,
             1,
             1,
             1,
             1,
             1,
             1,
             1,
             1,
             1,
             1,
             1,
             1,
             1,
             1,
             1,
             1,
             1
            ],
            "coloraxis": "coloraxis"
           },
           "mode": "markers",
           "name": "",
           "showlegend": false,
           "subplot": "mapbox",
           "type": "scattermapbox"
          }
         ],
         "name": "1983"
        },
        {
         "data": [
          {
           "customdata": [
            [
             "French national Michel Brillant was abducted  in Hamra and released four days later in the Beqaa and then transported to  Damascus "
            ],
            [
             "16 civilians, including doctors and nurses who had been abducted in previous days, were released in Nabatiyeh"
            ],
            [
             "The second secretary at the South Korean embassy, Do Chaie Sung, was abducted in Ramlet al-Bayda"
            ],
            [
             "Three employees from the Spanish embassy were abducted in Beirut and released on February 19, 1986"
            ],
            [
             "French national Michel Brillant was abducted  in Hamra and released four days later in the Beqaa and then transported to  Damascus "
            ],
            [
             "Irish national Brian Keenan, an English teacher at AUB, was abducted in Beirut "
            ],
            [
             "Two American nationals were abducted and released at the end of April 199o and  in December 1991."
            ],
            [
             "Eleven Lebanese were captured in Lebanon, transferred to and tried in Israel"
            ],
            [
             " A man from Shaqra died in custody in South Lebanon, in Center 17"
            ],
            [
             " A 36-year-old man detained in Khiyam died after torture and ill-treatment"
            ],
            [
             "Six people were killed and 87 injured by a car bomb parked  in front of a printing press in Sin al-Fil"
            ],
            [
             " 3 people were killed and 36 wounded car bomb parked in Saida"
            ],
            [
             "A bomb in Kesrwan, Jounieh, kills 10 civilians and injures 114"
            ],
            [
             "Another car bomb in Sin al-Fil killes 6 peopleand injures  73 people"
            ],
            [
             "A car bomb explods in Sin al-Fil killing 4 civilians and injuring 17 people"
            ],
            [
             "Eleven Lebanese were captured in Lebanon, transferred to and tried in Israel"
            ],
            [
             "Eleven Lebanese were captured in Lebanon, transferred to and tried in Israel"
            ],
            [
             "Eleven Lebanese were captured in Lebanon, transferred to and tried in Israel"
            ],
            [
             " The PLO responds to Amal’s shelling of the Chatila and Burj al-Barajneh, by shelling West Beirut"
            ],
            [
             " The PLO responds to Amal’s shelling of the Chatila and Burj al-Barajneh, by shelling West Beirut"
            ]
           ],
           "hoverlabel": {
            "namelength": 0
           },
           "hovertemplate": "animation_frame=1986<br>event=%{customdata[0]}<br>lat=%{lat}<br>lon=%{lon}<br>color=%{marker.color}",
           "lat": [
            34.0052,
            33.3639,
            33.8877,
            33.8882,
            33.8963,
            33.8882,
            33.8882,
            33.2217,
            33.1289,
            33.3294,
            33.8773,
            33.5626,
            33.9823,
            33.8773,
            33.8773,
            33.0976,
            33.1692,
            33.194,
            33.8432,
            33.8693
           ],
           "legendgroup": "",
           "lon": [
            36.208,
            35.4906,
            35.4734,
            35.5009,
            35.482,
            35.5009,
            35.5009,
            35.4636,
            35.4385,
            35.6139,
            35.5345,
            35.3678,
            35.6382,
            35.5345,
            35.5345,
            35.3345,
            35.5203,
            35.4088,
            35.5033,
            35.5018
           ],
           "marker": {
            "color": [
             1,
             1,
             1,
             1,
             1,
             1,
             1,
             1,
             1,
             1,
             1,
             1,
             1,
             1,
             1,
             1,
             1,
             1,
             1,
             1
            ],
            "coloraxis": "coloraxis"
           },
           "mode": "markers",
           "name": "",
           "showlegend": false,
           "subplot": "mapbox",
           "type": "scattermapbox"
          }
         ],
         "name": "1986"
        },
        {
         "data": [
          {
           "customdata": [
            [
             "French reporter Roger Auque was abducted in West Beirut and was released  on November 27, 1987, close to the Summerland Hotel in Beirut"
            ],
            [
             "The director of Dar al-Handassah, Saba Abdo, was  abducted in Hamra"
            ],
            [
             "French reporter Roger Auque was abducted in West Beirut and was released  on November 27, 1987, close to the Summerland Hotel in Beirut"
            ],
            [
             "Two West Germans were  abducted in West Beirut"
            ],
            [
             "Two employees of the Middle East Airlines (MEA)were abducted at the Museum crossing in Beirut"
            ],
            [
             "American journalist Charles Glass was abducted with Adel Osseiran and his bodyguard in West Beirut"
            ],
            [
             "U.K. national Terry Waitewas  abducted in the Beqaa and was released in November 1991."
            ],
            [
             " In the area of Zalka, two pupils were killed, and 45 injured as a car bomb blew up as a school bus passed "
            ],
            [
             " A car bomb in Ruweiss killed 15 people and injured 62 civilians"
            ],
            [
             "A car bomb in Ramlet al-Bayda, West Beirut, kills 6 people and injures 12"
            ],
            [
             "In Zalqa and neighboring Jal al-Dib, a car bomb killed 5 and injured 2 "
            ],
            [
             "In Zalqa and neighboring Jal al-Dib, a car bomb killed 5 and injured 2 "
            ],
            [
             "A bomb was set off at the Beirut airport, killing 3 civilians and injuring 65 "
            ],
            [
             " A woman suicide bomber carried a time bomb into the American University  Hospital (AUH) and killed herself and 6 civilians and injured 31."
            ],
            [
             "Two Lebanese were arrested at a LF checkpoint in Beirut; they were detained  in the suburbs of Adonis and allegedly tortured"
            ],
            [
             "One hundred and twenty detainees from Khiyam went on a three-day hunger  strike"
            ],
            [
             "A South Lebanese man in his 50s from Hula was arrested because he refused to  collaborate with Israeli forces"
            ],
            [
             "An Israeli air raid on the camp of Ain al-Hilweh  kills 39 people and injures 70."
            ],
            [
             "Israeli Army bombs 21 villages in South Lebanon and the Western Beqaa"
            ],
            [
             "An Israeli raid on Palestinian bases in Maghdouche kills two civilians and injured nine"
            ],
            [
             "Fighting breaks out between the Nasserite Popular Organization and Fatah fighters in Saida"
            ],
            [
             "The War of the Camps worsenes in Shatila and Burj al-Barajneh"
            ],
            [
             "The War of the Camps worsenes in Shatila and Burj al-Barajneh"
            ],
            [
             "Shelling of residential neighborhoods of Hadath, Baabda, and Hazmieh"
            ],
            [
             "Shelling of residential neighborhoods of Hadath, Baabda, and Hazmieh"
            ],
            [
             "Fighting breaks out between the Nasserite Popular Organization and Fatah fighters in Saida"
            ],
            [
             "Fighting breaks out between the Nasserite Popular Organization and Fatah fighters in Saida"
            ],
            [
             "Shelling of residential neighborhoods of Hadath, Baabda, and Hazmieh"
            ],
            [
             "Car bomb that was targeting President Camille Chamoun killed at least four people"
            ],
            [
             "The Communist intellectual Hussein Mroueh was assassinated in his home"
            ],
            [
             "Assassination of Father André Mass, the director of USJ’s branch in Saida"
            ],
            [
             "Prime Minister Rachid Karami  killed by a bomb placed under his seat"
            ]
           ],
           "hoverlabel": {
            "namelength": 0
           },
           "hovertemplate": "animation_frame=1987<br>event=%{customdata[0]}<br>lat=%{lat}<br>lon=%{lon}<br>color=%{marker.color}",
           "lat": [
            33.8882,
            33.3243,
            33.8611,
            33.8882,
            33.8783,
            33.8882,
            34.0052,
            33.8972,
            33.8529,
            33.8877,
            33.8972,
            33.9062,
            33.8198,
            33.9008,
            33.9624,
            33.3294,
            33.3294,
            33.5475,
            33.5423,
            33.5226,
            33.543,
            33.8693,
            33.8432,
            33.8438,
            33.8349,
            33.5626,
            33.5475,
            33.8526,
            33.8817,
            33.8877,
            33.5626,
            34.4301
           ],
           "legendgroup": "",
           "lon": [
            35.5009,
            35.4933,
            35.5102,
            35.5009,
            35.5201,
            35.5009,
            36.208,
            35.5756,
            35.5088,
            35.4734,
            35.5756,
            35.5798,
            35.4923,
            35.4778,
            35.6103,
            35.6139,
            35.6139,
            35.3846,
            35.586,
            35.3854,
            35.3966,
            35.5018,
            35.5033,
            35.5322,
            35.5455,
            35.3678,
            35.3846,
            35.5399,
            35.5254,
            35.4734,
            35.3678,
            35.8526
           ],
           "marker": {
            "color": [
             1,
             1,
             1,
             1,
             1,
             1,
             1,
             1,
             1,
             1,
             1,
             1,
             1,
             1,
             1,
             1,
             1,
             1,
             1,
             1,
             1,
             1,
             1,
             1,
             1,
             1,
             1,
             1,
             1,
             1,
             1,
             1
            ],
            "coloraxis": "coloraxis"
           },
           "mode": "markers",
           "name": "",
           "showlegend": false,
           "subplot": "mapbox",
           "type": "scattermapbox"
          }
         ],
         "name": "1987"
        },
        {
         "data": [
          {
           "customdata": [
            [
             "Two of the seven Lebanese  Jews who were abducted in Beirut in March and in  May 1985 were found dead"
            ],
            [
             "Fifteen Syrian civilians who had been detained were released in Ain al Tuffaheh"
            ],
            [
             " Zahi Khouryand four of his family members were kidnapped in Hamra"
            ],
            [
             "Lebanese national and LCP member Mudieddine  Hashisho, was abducted in Sidon "
            ],
            [
             "Three Lebanese executives from the Banque du Liban were abducted and Lebanese Red Cross  volunteers were abducted in Barbir"
            ],
            [
             "Three Lebanese executives from the Banque du Liban were abducted and Lebanese Red Cross  volunteers were abducted in Barbir"
            ],
            [
             "UK nationals Hazel Moss and Amanda McGrath who was an AUB teacher  were abducted in West Beirut. They were released on October 8, 1985"
            ],
            [
             "Four Soviet diplomats were abducted in Mar Elias and in the Cola area. Three were released and one was killed"
            ],
            [
             "Lebanese nationals Munir Shma’a and Joe Salameh were abducted as they were  leaving their home in Bliss, West Beirut"
            ],
            [
             " Amal and the LF exchange 12 hostages at the Beirut Hippodrome"
            ],
            [
             "Four Soviet diplomats were abducted in Mar Elias and in the Cola area. Three were released and one was killed"
            ],
            [
             "Israel releases 113 Lebanese and Palestinians it had been detaining in Haifa,  Israel. They were transported by bus to Saida and Sour"
            ],
            [
             "Israel releases 113 Lebanese and Palestinians it had been detaining in Haifa,  Israel. They were transported by bus to Saida and Sour"
            ],
            [
             "Israel releases 752 prisoners detained at the Ansar Prison and transports 1,131 other detainees to prisons inside Israel"
            ],
            [
             "Jamal Sharara was abducted from his home, detained and tortured. He was released on May 1, 1996."
            ],
            [
             "Jamal Sharara was abducted from his home, detained and tortured. He was released on May 1, 1996."
            ],
            [
             "Swiss national Stephane Jacquemet, head of the ICRC delegation, was abducted  in ‘Adlun in South Lebanon and released on August 20, 1985."
            ],
            [
             "Shakib Sa’id Hmaydan, director of ABC News in Lebanon, was abducted in  Rawsheh in West Beirut"
            ],
            [
             "A car bomb in Zahleh kills 14 and injures 42 civilians"
            ],
            [
             "13 people were killed in an explosion  in Sed al-Bawshriyyeh, in Beirut’s eastern suburbs"
            ],
            [
             "In Tripoli, a car bomb in front of an ice cream parlor kills 50 people"
            ],
            [
             " Car bomb parked at a checkpoint of the Lebanese Army kills 15 people at Jnah"
            ],
            [
             " Thirty civilians were killed, 177 wounded in a bomb blast in Sin al-Fil"
            ],
            [
             " 31  civilians killed in explosion in front of a supermarket  on the Jal al-Dib–Antelias Highway"
            ],
            [
             " A car bomb close to a supermarket in Ashrafieh kills 30 people and wounds 80."
            ],
            [
             "56 civilians killed  and 120 injured by a car bomb in Tripoli "
            ],
            [
             "3 separate car bombs, 2 in the southern suburbs and one in West Beirut claim 24 lives"
            ],
            [
             "3 separate car bombs, 2 in the southern suburbs and one in West Beirut claim 24 lives"
            ],
            [
             "Isaac Sasson, president of the Jewish Council, was abducted en route from the  airport"
            ],
            [
             "Gilles Peyrolles, head of the French Cultural Center in Tripoli, was abducted. He was released on April 2, 1985."
            ],
            [
             "Nicolas Kluiters, a Dutch Roman Catholic priest, was abducted and tortured. His body was  found in the Caza of B’albeq on April 1, 1985."
            ],
            [
             "The Swiss Chargé d’Affaires, Eric Wehrli, was abducted and released 4 days after in Rawcheh, West Beirut "
            ],
            [
             "French writer/researcher Michel Seurat was abducted in Beirut by the Islamic  Jihad. A year later, the group announced that Seurat was dead. "
            ],
            [
             "Jean-Paul Kauffmann was abducted in West Beirut with  Michel Seurat by the Islamic Jihad"
            ],
            [
             "Wajed Doumani was  abducted in Saqiet al-Janzir"
            ],
            [
             "Thomas Sutherland, AUB’s dean of agriculture, was abducted in Beirut on his way to the university"
            ],
            [
             "David Jacobsen, an American and AUH director was abducted in West Beirut. He  was released on November 2, 1986.Islamic Jihad claimed responsibility"
            ],
            [
             " A truck loaded with explosives kills 4 civilians and injures 42 in Hayy Madi"
            ],
            [
             "A car bomb placed in the southern suburbs of Beirut kills 5 and injures 44 "
            ],
            [
             " The Israeli Army attacks the village of Zrarieh killing 21 residents"
            ],
            [
             "10 dead at a checkpoint at Tripoli exit "
            ],
            [
             "Murder of civilians continues at Tripoli claiming  124 civilians and 550 wounded"
            ],
            [
             "Heavy Artillery claims 110 civilian lives in Tripoli"
            ],
            [
             "Fierce clashes claim 70 civilian lives and 50 combatant at Tripoli"
            ],
            [
             "55000 refugees flee Tripoli fighting to Koura, Batroun and Akkar"
            ],
            [
             "55000 refugees flee Tripoli fighting to Koura, Batroun and Akkar"
            ],
            [
             "55000 refugees flee Tripoli fighting to Koura, Batroun and Akkar"
            ],
            [
             "An Israeli air raid targets the camps of Beddawi and Nahr al-Bared"
            ],
            [
             "An Israeli air raid targets the camps of Beddawi and Nahr al-Bared"
            ],
            [
             "Shelling on Tripoli kills 30 civilians and 10 Lebanese Army officers"
            ],
            [
             "40 civilians killed in clashes between al-Liqa’ al-Islami and the Arab Democratic Party."
            ],
            [
             "Six people killed and 43 injured in Saida "
            ],
            [
             "Heavy bombing of residential areas in Saida and in the nearby Palestinian camps"
            ],
            [
             "Shelling and gunfire in and around Saida "
            ],
            [
             "Lebanese and Palestinian civilians targeted in Saida "
            ],
            [
             "Heavy bombing of residential areas in Saida and in the nearby Palestinian camps"
            ],
            [
             "Heavy bombing of residential areas in Saida and in the nearby Palestinian camps"
            ],
            [
             "Displacement of around 100,000 people from 86 villages"
            ],
            [
             "Displacement of around 100,000 people from 86 villages"
            ],
            [
             "Displacement of around 100,000 people from 86 villages"
            ],
            [
             "Forced displacement of 1000 people from Jiyeh to Jounieh and Beirut"
            ],
            [
             "Forced displacement of 1000 people from Jiyeh to Jounieh and Beirut"
            ],
            [
             "Forced displacement of 1000 people from Jiyeh to Jounieh and Beirut"
            ],
            [
             "The PSP and its allies shelles, loots and sets on fire houses at Darb al-Seem"
            ],
            [
             "Christian civilians executed in  Jiyeh, Alman, and in at least 13 other villages"
            ],
            [
             "Displacement of around 100,000 people from 86 villages"
            ],
            [
             "Displacement of around 100,000 people from 86 villages"
            ],
            [
             "Christian civilians executed in  Jiyeh, Alman, and in at least 13 other villages"
            ],
            [
             "Explosion targeting Sayyed Muhammad Hussein Fadlallah kills 80 people and injures 200 "
            ],
            [
             "11 people killed in explosion in Amal office"
            ],
            [
             "A bomb explods in a bank in Musseitbeh killing 3 civilians "
            ],
            [
             "2 Car bombs, one in Tripoli and one in Verdun claim 9 lives and injures 21"
            ],
            [
             "2 Car bombs, one in Tripoli and one in Verdun claim 9 lives and injures 21"
            ],
            [
             "Car bomb  parked in front of the mosque during Friday prayers kills 6 and injures 80 in Tripoli"
            ],
            [
             " Fighting between Amal and Palestinian militias in Burj al-Barajneh claim 42 lives"
            ],
            [
             "Executions of Palestinian captives by Amal militias"
            ],
            [
             "Heavy shelling over Baabda, Metn, Achrafieh and Keserouan "
            ],
            [
             "Heavy shelling over Baabda, Metn, Achrafieh and Keserouan "
            ],
            [
             "Heavy shelling over Baabda, Metn, Achrafieh and Keserouan "
            ],
            [
             "Heavy shelling over Baabda, Metn, Achrafieh and Keserouan "
            ],
            [
             "Heavy shelling over Baabda, Metn, Achrafieh and Keserouan "
            ],
            [
             "Heavy shelling over Baabda, Metn, Achrafieh and Keserouan "
            ],
            [
             "Heavy shelling over Baabda, Metn, Achrafieh and Keserouan "
            ],
            [
             "Heavy shelling over Baabda, Metn, Achrafieh and Keserouan "
            ],
            [
             "Heavy shelling over Baabda, Metn, Achrafieh and Keserouan "
            ],
            [
             "Heavy shelling over Baabda, Metn, Achrafieh and Keserouan "
            ],
            [
             "Heavy shelling over Baabda, Metn, Achrafieh and Keserouan "
            ],
            [
             "Heavy shelling over Baabda, Metn, Achrafieh and Keserouan "
            ],
            [
             "Heavy shelling over Baabda, Metn, Achrafieh and Keserouan "
            ],
            [
             "Heavy shelling over Baabda, Metn, Achrafieh and Keserouan "
            ],
            [
             "Heavy shelling over Baabda, Metn, Achrafieh and Keserouan "
            ],
            [
             "Fighting between Amal and Murabitun militias in Sabra leave 4 dead"
            ],
            [
             "Heavy shelling on East and West Beirut, the southern suburbs, the northern and southern Metn, and Kesrouan, as well as the presidential palace, the airport, and the Ministry of Defense"
            ],
            [
             "Bombing continues, reaching 190 towns, villages, and residential sections of Beirut, Metn, Kesrouan, Aley, and Jbeil,"
            ],
            [
             "Heavy fighting between Amal and Murabitun militias claim lives of 35 civilians"
            ],
            [
             "Bomb inside the American University of Beirut kills one student"
            ],
            [
             "Artillery  shelling on Burj al-Barajneh and Chatila claim 96 lives"
            ],
            [
             "Artillery  shelling on Burj al-Barajneh and Chatila claim 96 lives"
            ],
            [
             "Intense fighting in West Beirut between Amal and PSP leave 53 civilians dead"
            ],
            [
             "Bombing continues, reaching 190 towns, villages, and residential sections of Beirut, Metn, Kesrouan, Aley, and Jbeil,"
            ],
            [
             "Bombing continues, reaching 190 towns, villages, and residential sections of Beirut, Metn, Kesrouan, Aley, and Jbeil,"
            ],
            [
             "Shelling on East Beirut continues"
            ],
            [
             "Shelling on East Beirut continues"
            ],
            [
             "Shelling on East Beirut continues"
            ],
            [
             "Clashes between East and West Beirut claim 40 lives"
            ],
            [
             "Hundreds of mortar shells fired across East and West Beirut claims eight people injures 55 "
            ],
            [
             "Bombing continues, reaching 190 towns, villages, and residential sections of Beirut, Metn, Kesrouan, Aley, and Jbeil,"
            ],
            [
             "Heavy shelling over Beirut, Jbeil and Batroun.  Thirty-one civilians killed that day and at least 121 injured."
            ],
            [
             "Heavy shelling over Beirut, Jbeil and Batroun.  Thirty-one civilians killed that day and at least 121 injured."
            ]
           ],
           "hoverlabel": {
            "namelength": 0
           },
           "hovertemplate": "animation_frame=1985<br>event=%{customdata[0]}<br>lat=%{lat}<br>lon=%{lon}<br>color=%{marker.color}",
           "lat": [
            33.8882,
            33.9332,
            33.8963,
            33.5626,
            33.8787,
            33.8963,
            33.9008,
            33.8841,
            33.9008,
            33.8769,
            33.8823,
            33.5626,
            33.2741,
            33.4607,
            33.3294,
            33.1289,
            33.4054,
            33.8877,
            33.8491,
            33.8787,
            34.4301,
            33.866,
            33.8773,
            33.9062,
            33.8852,
            34.4301,
            33.8996,
            33.8634,
            33.8198,
            34.4301,
            34.0052,
            33.8877,
            33.8882,
            33.8198,
            33.8946,
            33.9008,
            33.9008,
            33.8529,
            33.8634,
            33.3421,
            34.4301,
            34.4301,
            34.4301,
            34.4301,
            34.2563,
            34.525,
            34.4301,
            34.505,
            34.454,
            34.4301,
            34.4301,
            33.5626,
            33.5475,
            33.5626,
            33.5626,
            33.543,
            33.5626,
            33.5946,
            33.6003,
            33.5626,
            33.6674,
            33.8882,
            33.9835,
            33.5305,
            33.5945,
            33.6585,
            33.6674,
            33.6674,
            33.8634,
            33.2741,
            33.8841,
            34.4301,
            33.8841,
            34.4301,
            33.8432,
            33.8693,
            33.9488,
            33.8349,
            33.8852,
            33.8574,
            33.8633,
            33.8761,
            33.8851,
            33.9722,
            33.8438,
            33.8101,
            33.8317,
            33.8903,
            33.9659,
            33.8773,
            33.8169,
            33.8693,
            33.8198,
            33.8101,
            33.8882,
            33.9008,
            33.8693,
            33.8432,
            33.8882,
            33.8882,
            33.8198,
            33.8438,
            33.8048,
            33.8852,
            33.8882,
            33.8882,
            34.1204,
            34.1204,
            34.2563
           ],
           "legendgroup": "",
           "lon": [
            35.5009,
            35.7256,
            35.482,
            35.3678,
            35.5029,
            35.482,
            35.4778,
            35.4931,
            35.4778,
            35.5094,
            35.4915,
            35.3678,
            35.1925,
            35.5091,
            35.6139,
            35.4385,
            35.2728,
            35.4734,
            35.9027,
            35.5622,
            35.8526,
            35.4878,
            35.5345,
            35.5798,
            35.5191,
            35.8526,
            35.4955,
            35.5184,
            35.4923,
            35.8526,
            36.208,
            35.4734,
            35.5009,
            35.4923,
            35.4782,
            35.4778,
            35.4778,
            35.5088,
            35.5184,
            35.3317,
            35.8526,
            35.8526,
            35.8526,
            35.8526,
            35.6581,
            36.2407,
            35.8526,
            35.9629,
            35.8636,
            35.8526,
            35.8526,
            35.3678,
            35.3846,
            35.3678,
            35.3678,
            35.3966,
            35.3678,
            35.4475,
            35.4255,
            35.3678,
            35.4251,
            35.5009,
            35.6207,
            35.3799,
            35.4103,
            35.4472,
            35.4251,
            35.4251,
            35.5184,
            35.1925,
            35.4931,
            35.8526,
            35.4931,
            35.8526,
            35.5033,
            35.5018,
            35.6722,
            35.5455,
            35.5191,
            35.5715,
            35.6042,
            35.549,
            35.633,
            35.7128,
            35.5322,
            35.5964,
            35.591,
            35.5663,
            35.6799,
            35.5345,
            35.5351,
            35.5018,
            35.4923,
            35.5964,
            35.5009,
            35.4778,
            35.5018,
            35.5033,
            35.5009,
            35.5009,
            35.4923,
            35.5322,
            35.5867,
            35.5191,
            35.5009,
            35.5009,
            35.6471,
            35.6471,
            35.6581
           ],
           "marker": {
            "color": [
             1,
             1,
             1,
             1,
             1,
             1,
             1,
             1,
             1,
             1,
             1,
             1,
             1,
             1,
             1,
             1,
             1,
             1,
             1,
             1,
             1,
             1,
             1,
             1,
             1,
             1,
             1,
             1,
             1,
             1,
             1,
             1,
             1,
             1,
             1,
             1,
             1,
             1,
             1,
             1,
             1,
             1,
             1,
             1,
             1,
             1,
             1,
             1,
             1,
             1,
             1,
             1,
             1,
             1,
             1,
             1,
             1,
             1,
             1,
             1,
             1,
             1,
             1,
             1,
             1,
             1,
             1,
             1,
             1,
             1,
             1,
             1,
             1,
             1,
             1,
             1,
             1,
             1,
             1,
             1,
             1,
             1,
             1,
             1,
             1,
             1,
             1,
             1,
             1,
             1,
             1,
             1,
             1,
             1,
             1,
             1,
             1,
             1,
             1,
             1,
             1,
             1,
             1,
             1,
             1,
             1,
             1,
             1,
             1
            ],
            "coloraxis": "coloraxis"
           },
           "mode": "markers",
           "name": "",
           "showlegend": false,
           "subplot": "mapbox",
           "type": "scattermapbox"
          }
         ],
         "name": "1985"
        },
        {
         "data": [
          {
           "customdata": [
            [
             "Peter Winkler, head of the ICRC mission in Saida, was abducted. "
            ],
            [
             "Jan Cools, a Belgian doctor working with the Norwegian Aid Committee, was  abducted at the Rashidiyyeh camp in South Lebanon. He was released on June 16, 1989"
            ],
            [
             "Monseignor Albert Khreish was abducted from his home in Ghadir"
            ],
            [
             "West German Ralph Schray was abducted in West Beirut"
            ],
            [
             "Two UNRWA employees were abducted on the road between Sour and Saida.They were released on March 1,  1988, in West Beirut"
            ],
            [
             "Two UNRWA employees were abducted on the road between Sour and Saida.They were released on March 1,  1988, in West Beirut"
            ],
            [
             "Monseignor Albert Khreish was abducted from his home in Ghadir"
            ],
            [
             "Monseignor Albert Khreish was abducted from his home in Ghadir"
            ],
            [
             "Two UNRWA employees were abducted on the road between Sour and Saida.They were released on March 1,  1988, in West Beirut"
            ],
            [
             "A car bomb in the area of Ouza’i, West Beirut, targeted a checkpoint controlled by  the Syrian Army and the Lebanese ISF, killing 4 civilians and injuring 40"
            ],
            [
             "Car bomb exploded  close to the Greek Orthodox Hospital, killed 16 civilians and injured  81"
            ],
            [
             " A car bomb blew up in Tripoli, in the neighborhood of Bab al-Tabbaneh 66 people were killed and 90 injured "
            ],
            [
             "A car rigged with explosives was driven into an Israeli position in Marje’yun killing 7 Israeli soldiers and 2 civilians"
            ],
            [
             " Souha Bechara arrested and detained without charge or trial until 1998 at  Khiyam for attempting to kill SLA leader Antoine Lahd"
            ],
            [
             " Clashes in West Beirut and the southern suburbs leave 30 people dead and 85  wounded"
            ],
            [
             " Clashes in West Beirut and the southern suburbs leave 30 people dead and 85  wounded"
            ],
            [
             " Clashes in West Beirut and the southern suburbs leave 30 people dead and 85  wounded"
            ],
            [
             "The fighting resumed in the southern suburbs of Beirut between Amal and Hezbollah killing 76 people and wounding 337 in May"
            ],
            [
             "Clashes in the areas of Nabatieh, Zawter, Sour and Ghazieh took place"
            ],
            [
             "Clashes in the areas of Nabatieh, Zawter, Sour and Ghazieh took place"
            ],
            [
             "Clashes in the areas of Nabatieh, Zawter, Sour and Ghazieh took place"
            ],
            [
             "Clashes in the areas of Nabatieh, Zawter, Sour and Ghazieh took place"
            ],
            [
             "Israel launchs a series of air and sea raids on Lebanese and Palestinian residential neighborhoods in the Ain al-Hilweh camp and Iqlim al-Kharoub"
            ],
            [
             "Israel launchs a series of air and sea raids on Lebanese and Palestinian residential neighborhoods in the Ain al-Hilweh camp and Iqlim al-Kharoub"
            ],
            [
             "The Israeli Army conducts air raids on the camp of Mieh w Mieh and Naameh"
            ],
            [
             "Israel carries out a series of raids against Lebanese and Palestinian civilian areas and military positions "
            ],
            [
             "Israel carries out a series of raids against Lebanese and Palestinian civilian areas and military positions "
            ],
            [
             "Israel launchs a series of air and sea raids on Lebanese and Palestinian residential neighborhoods in the Ain al-Hilweh camp and Iqlim al-Kharoub"
            ],
            [
             "The Israeli Army conducts air raids on the camp of Mieh w Mieh and Naameh"
            ]
           ],
           "hoverlabel": {
            "namelength": 0
           },
           "hovertemplate": "animation_frame=1988<br>event=%{customdata[0]}<br>lat=%{lat}<br>lon=%{lon}<br>color=%{marker.color}",
           "lat": [
            33.5626,
            33.238,
            33.9786,
            33.8882,
            33.8882,
            33.2741,
            33.8914,
            33.8851,
            33.5626,
            33.848,
            33.8937,
            34.4396,
            33.2782,
            33.3294,
            33.8829,
            33.8834,
            33.889,
            33.8529,
            33.2741,
            33.5175,
            33.377,
            33.3218,
            33.6497,
            33.6674,
            33.7472,
            33.5626,
            33.4376,
            33.5475,
            33.5475
           ],
           "legendgroup": "",
           "lon": [
            35.3678,
            35.2176,
            35.636,
            35.5009,
            35.5009,
            35.1925,
            35.6685,
            35.633,
            35.3678,
            35.4847,
            35.523,
            35.8468,
            35.5514,
            35.6139,
            35.4986,
            35.5015,
            35.5026,
            35.5088,
            35.1925,
            35.369,
            35.4846,
            35.4618,
            35.4418,
            35.4251,
            35.4649,
            35.3678,
            35.3712,
            35.3846,
            35.3846
           ],
           "marker": {
            "color": [
             1,
             1,
             1,
             1,
             1,
             1,
             1,
             1,
             1,
             1,
             1,
             1,
             1,
             1,
             1,
             1,
             1,
             1,
             1,
             1,
             1,
             1,
             1,
             1,
             1,
             1,
             1,
             1,
             1
            ],
            "coloraxis": "coloraxis"
           },
           "mode": "markers",
           "name": "",
           "showlegend": false,
           "subplot": "mapbox",
           "type": "scattermapbox"
          }
         ],
         "name": "1988"
        },
        {
         "data": [
          {
           "customdata": [
            [
             "Rev. Benjamin Weir, teacher at the Protestant school in Hamra, was abducted and released"
            ],
            [
             " William Buckley, political officer at the U.S. embassy, was abducted and killed by the Islamic Jihad "
            ],
            [
             "Peter Kilburn, an AUB employee, was abducted. His body was found one month later, in Sofar"
            ],
            [
             "Jeremy Levin, the Beirut bureau chief of Cable News Network (CNN) was  abducted by the Islamic Jihad"
            ],
            [
             "the SLA opens fire on civilians in Sohmor killing 13 "
            ],
            [
             "Riots erupt in the town of Hallusiaan as an Israeli unit arrestes Sheikh Abbas Harb"
            ],
            [
             "Civilian boat at the Saida port bombed, 2 people killed"
            ],
            [
             "Assault on school bus transporting children in Kfarshima"
            ],
            [
             "Heavy shelling on Greater Beirut claims 22 civilians and more than 75 people injured."
            ],
            [
             "Heavy shelling on Greater Beirut claims 22 civilians and more than 75 people injured."
            ],
            [
             "Assault on school bus transporting children in Kfarshima"
            ],
            [
             " Israeli air raid hit Baalbeck "
            ],
            [
             " Israeli raid against a Palestinian base located between Taanayel and Bar Elias"
            ],
            [
             " Israeli raid against a Palestinian base located between Taanayel and Bar Elias"
            ],
            [
             "14 Christians were killed in Mechref "
            ],
            [
             " 13 Christians killed in Bayqun "
            ],
            [
             "Heavy shelling on Greater Beirut claims 22 civilians and more than 75 people injured."
            ],
            [
             "Intensive bombings covers Greater Beirut, Metn, Kesrouan, Aley, and the Shuf"
            ],
            [
             "Sheikh Ragheb Harb shot to death in his home"
            ],
            [
             "AUB President Malcolm Kerr was shot and killed on campus"
            ],
            [
             "Bomb meant for Prime Minister Salim el-Hoss kills 4 and injures 27"
            ],
            [
             "Suicide attack at U.S. embassy kills eight people and injures between 50 and 100 people"
            ],
            [
             "Druze Sheikh Khalil al Tawil assassinated "
            ],
            [
             " Car packed with dynamite in Tallet al-Khayyat kills 2 and injures 60"
            ],
            [
             "Car bomb in Aley kills 4 and injures 16"
            ],
            [
             "Heavy clashes between the Lebanese Army and Amal leave 50 civilians killed and 200 injured."
            ],
            [
             "Bomb falls on a factory in Kfarshima killing six employees"
            ],
            [
             "Intensive bombings covers Greater Beirut, Metn, Kesrouan, Aley, and the Shuf"
            ],
            [
             "Intensive bombings covers Greater Beirut, Metn, Kesrouan, Aley, and the Shuf"
            ],
            [
             "Shelling on residential area of Ashrafieh kills one and injures 23"
            ],
            [
             "Shelling on Greater Beirut kills 55 and injures 390"
            ],
            [
             "Intense shelling concentrated on the front lines kills 90 and injures 353"
            ],
            [
             "The Syrian Army shells Zahleh "
            ]
           ],
           "hoverlabel": {
            "namelength": 0
           },
           "hovertemplate": "animation_frame=1984<br>event=%{customdata[0]}<br>lat=%{lat}<br>lon=%{lon}<br>color=%{marker.color}",
           "lat": [
            33.8963,
            33.8882,
            33.8022,
            33.8882,
            33.5198,
            33.3079,
            33.6674,
            33.8169,
            33.8101,
            33.9823,
            33.8349,
            34.0052,
            33.8011,
            33.7764,
            33.7588,
            33.6174,
            33.8882,
            33.8882,
            33.3634,
            33.9008,
            33.8877,
            33.9229,
            33.6788,
            33.885,
            33.8101,
            33.8101,
            33.8169,
            33.8101,
            33.9823,
            33.8852,
            33.8882,
            33.8882,
            33.8491
           ],
           "legendgroup": "",
           "lon": [
            35.482,
            35.5009,
            35.7023,
            35.5009,
            35.6853,
            35.3253,
            35.4251,
            35.5351,
            35.5964,
            35.6382,
            35.5455,
            36.208,
            35.8687,
            35.9033,
            35.655,
            35.5815,
            35.5009,
            35.5009,
            35.4319,
            35.4778,
            35.4734,
            35.5921,
            35.5579,
            35.487,
            35.5964,
            35.5964,
            35.5351,
            35.5964,
            35.6382,
            35.5191,
            35.5009,
            35.5009,
            35.9027
           ],
           "marker": {
            "color": [
             1,
             1,
             1,
             1,
             1,
             1,
             1,
             1,
             1,
             1,
             1,
             1,
             1,
             1,
             1,
             1,
             1,
             1,
             1,
             1,
             1,
             1,
             1,
             1,
             1,
             1,
             1,
             1,
             1,
             1,
             1,
             1,
             1
            ],
            "coloraxis": "coloraxis"
           },
           "mode": "markers",
           "name": "",
           "showlegend": false,
           "subplot": "mapbox",
           "type": "scattermapbox"
          }
         ],
         "name": "1984"
        },
        {
         "data": [
          {
           "customdata": [
            [
             "Extrajudicial execution of both soldiers and  civilian supporters of Aoun were carried out by Syrian troops in several towns in Mount Lebanon"
            ],
            [
             "Extrajudicial execution of both soldiers and  civilian supporters of Aoun were carried out by Syrian troops in several towns in Mount Lebanon"
            ],
            [
             "73 soldiers taken prisoner were reportedly executed following their capture by Syrian troops in Baabda "
            ],
            [
             "The LF opens fire on a pro-Aoun demonstration in Nahr al-Mot claiming 25 lives"
            ],
            [
             "Extrajudicial execution of both soldiers and  civilian supporters of Aoun were carried out by Syrian troops in several towns in Mount Lebanon"
            ],
            [
             "Two hundred Christian supporters of Aoun were arrested by Syrian forces and were transferred to Syria or to Anjar"
            ],
            [
             "240 prisoners were executed by Syrian forces and the  pro-Damascus Christian militia headed by Elie Hobeika in Mount Lebanon"
            ],
            [
             "240 prisoners were executed by Syrian forces and the  pro-Damascus Christian militia headed by Elie Hobeika in Mount Lebanon"
            ],
            [
             "240 prisoners were executed by Syrian forces and the  pro-Damascus Christian militia headed by Elie Hobeika in Mount Lebanon"
            ],
            [
             " A school bus driving through the museum area in Beirut was attacked by the LF"
            ],
            [
             " A school bus driving through the museum area in Beirut was attacked by the LF"
            ],
            [
             "240 prisoners were executed by Syrian forces and the  pro-Damascus Christian militia headed by Elie Hobeika in Mount Lebanon"
            ],
            [
             "240 prisoners were executed by Syrian forces and the  pro-Damascus Christian militia headed by Elie Hobeika in Mount Lebanon"
            ],
            [
             "Elias Zayek, leader of the Kataeb shot and killed in Jbeil"
            ],
            [
             " 14 high-ranking officers loyal to Aoun were abducted in Baabda"
            ],
            [
             "Fighting between the two militias spread to the town of Baalbeck, in the  Beqaa. Fifteen people were killed that day and dozens were injured"
            ],
            [
             "Fighting in West Beirut and the southern suburbs left 9 people dead and 34  wounded"
            ],
            [
             "Fighting in West Beirut and the southern suburbs left 9 people dead and 34  wounded"
            ],
            [
             "Clashes between Amal and Hezbollah in the southern suburbs of Beirut resulted  in 4 deaths and 33 wounded"
            ]
           ],
           "hoverlabel": {
            "namelength": 0
           },
           "hovertemplate": "animation_frame=1990<br>event=%{customdata[0]}<br>lat=%{lat}<br>lon=%{lon}<br>color=%{marker.color}",
           "lat": [
            33.8552,
            33.8164,
            33.8349,
            33.8997,
            33.8438,
            33.7095,
            33.8108,
            33.8349,
            33.8633,
            33.8852,
            33.8783,
            33.8164,
            33.8227,
            34.1204,
            33.8349,
            34.0052,
            33.8529,
            33.8882,
            33.8529
           ],
           "legendgroup": "",
           "lon": [
            35.5966,
            35.577,
            35.5455,
            35.5692,
            35.5322,
            35.905,
            35.5556,
            35.5455,
            35.6042,
            35.5191,
            35.5201,
            35.577,
            35.5972,
            35.6471,
            35.5455,
            36.208,
            35.5088,
            35.5009,
            35.5088
           ],
           "marker": {
            "color": [
             1,
             1,
             1,
             1,
             1,
             1,
             1,
             1,
             1,
             1,
             1,
             1,
             1,
             1,
             1,
             1,
             1,
             1,
             1
            ],
            "coloraxis": "coloraxis"
           },
           "mode": "markers",
           "name": "",
           "showlegend": false,
           "subplot": "mapbox",
           "type": "scattermapbox"
          }
         ],
         "name": "1990"
        },
        {
         "data": [
          {
           "customdata": [
            [
             "Particularly intense fighting in August extends to Beirut, its suburbs, Metn, the  Mountain, Kesrwan, Jbeil, and the Beqaa"
            ],
            [
             "Particularly intense fighting in August extends to Beirut, its suburbs, Metn, the  Mountain, Kesrwan, Jbeil, and the Beqaa"
            ],
            [
             "Particularly intense fighting in August extends to Beirut, its suburbs, Metn, the  Mountain, Kesrwan, Jbeil, and the Beqaa"
            ],
            [
             "Fierce clashes in the battle of Ain al-Remmaneh"
            ],
            [
             "Particularly intense fighting in August extends to Beirut, its suburbs, Metn, the  Mountain, Kesrwan, Jbeil, and the Beqaa"
            ],
            [
             "Particularly intense fighting in August extends to Beirut, its suburbs, Metn, the  Mountain, Kesrwan, Jbeil, and the Beqaa"
            ],
            [
             " Both sides pounded the Christian enclave daily  claiming the lives of 615  people died, and more than 2,000 were wounded, half of them civilians"
            ],
            [
             " Both sides pounded the Christian enclave daily  claiming the lives of 615  people died, and more than 2,000 were wounded, half of them civilians"
            ],
            [
             " Both sides pounded the Christian enclave daily  claiming the lives of 615  people died, and more than 2,000 were wounded, half of them civilians"
            ],
            [
             "An explosion in the church of Sabtieh, in Beirut’s eastern suburbs, kills one person and injures four people"
            ],
            [
             "A car bomb in Raouche, West Beirut killed four and injured six"
            ],
            [
             "Sheikh Subhi al-Saleh, a Muslim scholar was assassinated"
            ],
            [
             "A car bomb explods as the convoy of the Sunni Grand  Mufti of the Republic of Lebanon, Sheikh Hassan Khaled, was passing through West Beirut, killing  him and 9 other people, and wounds 76"
            ],
            [
             "Eighty kilograms of explosives kills two people and wounds seven in  Mkalles, in the eastern suburb of Beirut"
            ],
            [
             "MP Nazem el-Qadri and his bodyguard shot and killed by unknown  assailants in Verdun, West Beirut"
            ],
            [
             " Dany Chamoun, his wife, and his two sons were killed in their house by unidentified gunmen"
            ],
            [
             "An explosion kills President-elect René Mouawad and tens of others as his convoy traveled through West Beirut on Independence Day"
            ],
            [
             "A car bomb in Jal al-Dib, in Beirut’s northern suburbs, killed 13 people and  injured 119"
            ],
            [
             "A car bomb in Hamra, West Beirut, killed 2 civilians and injured 21"
            ],
            [
             "Israeli and SLA shelling of Nabatieh, Kfar Rumman, and other villages and  towns kills four people and left several dozens injured"
            ],
            [
             "Israeli and SLA shelling of Nabatieh, Kfar Rumman, and other villages and  towns kills four people and left several dozens injured"
            ],
            [
             " An Israeli air raid in the village of Aynab  kills and 27 injures 27, including two students and a teacher"
            ],
            [
             "The SLA bombed Saida, killing four people and injuring six"
            ],
            [
             "A car bomb in Rweiss in Beirut’s southern suburbs killed 1 civilian and injured 20"
            ],
            [
             "Anwar al-Fatayri, a senior member of the PSP, and his driver were assassinated in  Deir al-Qamar"
            ],
            [
             "A car bomb in Furn al-Chebbak, East Beirut killed 2 civilians and at wounded  least 18"
            ],
            [
             "A car bomb in the Beqaa killed 1 civilian and wounded 25"
            ],
            [
             " 76 people killed and 200 wounded after three days of fighting in East Beirut between the LF and the Lebanese Army "
            ],
            [
             " 23 people killed by the Syrian Army's continued shelling throughout April 1989, hitting residential areas in Beirut  and its southern suburbs, Metn, Kesrwan, Aley, Jbayl, the Beqaa, and Batroun"
            ],
            [
             " 23 people killed by the Syrian Army's continued shelling throughout April 1989, hitting residential areas in Beirut  and its southern suburbs, Metn, Kesrwan, Aley, Jbayl, the Beqaa, and Batroun"
            ],
            [
             " 23 people killed by the Syrian Army's continued shelling throughout April 1989, hitting residential areas in Beirut  and its southern suburbs, Metn, Kesrwan, Aley, Jbayl, the Beqaa, and Batroun"
            ],
            [
             " 23 people killed by the Syrian Army's continued shelling throughout April 1989, hitting residential areas in Beirut  and its southern suburbs, Metn, Kesrwan, Aley, Jbayl, the Beqaa, and Batroun"
            ],
            [
             "Daily bombardment of residential areas covered Beirut, Kesrwan, Metn,  Monteverde, Mkalles, Mansurieh, and North Lebanon"
            ],
            [
             "Daily bombardment of residential areas covered Beirut, Kesrwan, Metn,  Monteverde, Mkalles, Mansurieh, and North Lebanon"
            ],
            [
             "Daily bombardment of residential areas covered Beirut, Kesrwan, Metn,  Monteverde, Mkalles, Mansurieh, and North Lebanon"
            ],
            [
             "Daily bombardment of residential areas covered Beirut, Kesrwan, Metn,  Monteverde, Mkalles, Mansurieh, and North Lebanon"
            ],
            [
             "Daily bombardment of residential areas covered Beirut, Kesrwan, Metn,  Monteverde, Mkalles, Mansurieh, and North Lebanon"
            ],
            [
             " 23 people killed by the Syrian Army's continued shelling throughout April 1989, hitting residential areas in Beirut  and its southern suburbs, Metn, Kesrwan, Aley, Jbayl, the Beqaa, and Batroun"
            ],
            [
             " 23 people killed by the Syrian Army's continued shelling throughout April 1989, hitting residential areas in Beirut  and its southern suburbs, Metn, Kesrwan, Aley, Jbayl, the Beqaa, and Batroun"
            ],
            [
             "Five civilians  killed in Ain al-Remmaneh by a Grad missile fired by the  Syrian Army. 40 people killed and 165 wounded by seperate clashes"
            ],
            [
             "101 people were  killed and 474 wounded during the 17 days of shelling over the areas of Beirut, Metn, Aley, and  Kesrwan"
            ],
            [
             "101 people were  killed and 474 wounded during the 17 days of shelling over the areas of Beirut, Metn, Aley, and  Kesrwan"
            ],
            [
             "101 people were  killed and 474 wounded during the 17 days of shelling over the areas of Beirut, Metn, Aley, and  Kesrwan"
            ],
            [
             "Daily bombardment of residential areas covered Beirut, Kesrwan, Metn,  Monteverde, Mkalles, Mansurieh, and North Lebanon"
            ],
            [
             "Daily bombardment of residential areas covered Beirut, Kesrwan, Metn,  Monteverde, Mkalles, Mansurieh, and North Lebanon"
            ],
            [
             "660 people killed in the month of January, 500 of whom victims of the Amal-Hezbollah war"
            ],
            [
             "660 people killed in the month of January, 500 of whom victims of the Amal-Hezbollah war"
            ],
            [
             "90 people killed during the month of December by clashes between Amal and Hezbollah"
            ],
            [
             "90 people killed during the month of December by clashes between Amal and Hezbollah"
            ],
            [
             "The Syrian Army drops 20,000 bombs over East Beirut"
            ],
            [
             "Daily bombardment of residential areas covered Beirut, Kesrwan, Metn,  Monteverde, Mkalles, Mansurieh, and North Lebanon"
            ],
            [
             "Daily bombardment of residential areas covered Beirut, Kesrwan, Metn,  Monteverde, Mkalles, Mansurieh, and North Lebanon"
            ],
            [
             "The bombardments between the Lebanese and Syrian armies left around 850 dead and another 3,000 wounded"
            ],
            [
             "Abdel Karim Obeid, a Shi’a sheikh from Jibchit  was taken prisoner in South Lebanon by an Israeli commando"
            ]
           ],
           "hoverlabel": {
            "namelength": 0
           },
           "hovertemplate": "animation_frame=1989<br>event=%{customdata[0]}<br>lat=%{lat}<br>lon=%{lon}<br>color=%{marker.color}",
           "lat": [
            34.1204,
            33.8882,
            34.0052,
            33.8679,
            33.9835,
            33.9148,
            33.9835,
            33.8852,
            33.9148,
            33.8739,
            33.8877,
            33.8882,
            33.8882,
            33.8621,
            33.8811,
            33.8349,
            33.8882,
            33.9062,
            33.8963,
            33.377,
            33.3886,
            33.7673,
            33.5626,
            33.8432,
            33.6962,
            33.8728,
            34.0052,
            33.8852,
            34.2563,
            33.9835,
            34.1204,
            33.9148,
            34.2984,
            33.9835,
            33.8882,
            33.8574,
            33.8959,
            33.8101,
            34.0052,
            33.8679,
            33.8882,
            33.9835,
            33.8101,
            34.1204,
            33.8621,
            33.2782,
            33.8529,
            33.8882,
            33.2782,
            33.8852,
            33.8511,
            34.2563,
            33.8882,
            33.3634
           ],
           "legendgroup": "",
           "lon": [
            35.6471,
            35.5009,
            36.208,
            35.5202,
            35.6207,
            35.5921,
            35.6207,
            35.5191,
            35.5921,
            35.5671,
            35.4734,
            35.5009,
            35.5009,
            35.5495,
            35.4851,
            35.5455,
            35.5009,
            35.5798,
            35.482,
            35.4846,
            35.5015,
            35.5481,
            35.3678,
            35.5033,
            35.5611,
            35.5208,
            36.208,
            35.5191,
            35.6581,
            35.6207,
            35.6471,
            35.5921,
            35.8504,
            35.6207,
            35.5009,
            35.5715,
            35.4991,
            35.5964,
            36.208,
            35.5202,
            35.5009,
            35.6207,
            35.5964,
            35.6471,
            35.5495,
            35.5514,
            35.5088,
            35.5009,
            35.5514,
            35.5191,
            35.5901,
            35.6581,
            35.5009,
            35.4319
           ],
           "marker": {
            "color": [
             1,
             1,
             1,
             1,
             1,
             1,
             1,
             1,
             1,
             1,
             1,
             1,
             1,
             1,
             1,
             1,
             1,
             1,
             1,
             1,
             1,
             1,
             1,
             1,
             1,
             1,
             1,
             1,
             1,
             1,
             1,
             1,
             1,
             1,
             1,
             1,
             1,
             1,
             1,
             1,
             1,
             1,
             1,
             1,
             1,
             1,
             1,
             1,
             1,
             1,
             1,
             1,
             1,
             1
            ],
            "coloraxis": "coloraxis"
           },
           "mode": "markers",
           "name": "",
           "showlegend": false,
           "subplot": "mapbox",
           "type": "scattermapbox"
          }
         ],
         "name": "1989"
        }
       ],
       "layout": {
        "autosize": true,
        "coloraxis": {
         "colorbar": {
          "title": {
           "text": "color"
          }
         },
         "colorscale": [
          [
           0,
           "#0d0887"
          ],
          [
           0.1111111111111111,
           "#46039f"
          ],
          [
           0.2222222222222222,
           "#7201a8"
          ],
          [
           0.3333333333333333,
           "#9c179e"
          ],
          [
           0.4444444444444444,
           "#bd3786"
          ],
          [
           0.5555555555555556,
           "#d8576b"
          ],
          [
           0.6666666666666666,
           "#ed7953"
          ],
          [
           0.7777777777777778,
           "#fb9f3a"
          ],
          [
           0.8888888888888888,
           "#fdca26"
          ],
          [
           1,
           "#f0f921"
          ]
         ]
        },
        "legend": {
         "tracegroupgap": 0
        },
        "mapbox": {
         "accesstoken": "pk.eyJ1IjoiZGVkZXN3aW0iLCJhIjoiY2s0NWZ3eDEzMDhicTNzcGppN2plazR3dyJ9.vwOaKZJU07PsRV1GJO87ag",
         "bearing": 0,
         "center": {
          "lat": 33.84979271556763,
          "lon": 36.166817733159746
         },
         "domain": {
          "x": [
           0,
           1
          ],
          "y": [
           0,
           1
          ]
         },
         "pitch": 0,
         "zoom": 6.66598048087831
        },
        "margin": {
         "t": 60
        },
        "sliders": [
         {
          "active": 0,
          "currentvalue": {
           "prefix": "animation_frame="
          },
          "len": 0.9,
          "pad": {
           "b": 10,
           "t": 60
          },
          "steps": [
           {
            "args": [
             [
              "1977"
             ],
             {
              "frame": {
               "duration": 0,
               "redraw": true
              },
              "fromcurrent": true,
              "mode": "immediate",
              "transition": {
               "duration": 0,
               "easing": "linear"
              }
             }
            ],
            "label": "1977",
            "method": "animate"
           },
           {
            "args": [
             [
              "1978"
             ],
             {
              "frame": {
               "duration": 0,
               "redraw": true
              },
              "fromcurrent": true,
              "mode": "immediate",
              "transition": {
               "duration": 0,
               "easing": "linear"
              }
             }
            ],
            "label": "1978",
            "method": "animate"
           },
           {
            "args": [
             [
              "1979"
             ],
             {
              "frame": {
               "duration": 0,
               "redraw": true
              },
              "fromcurrent": true,
              "mode": "immediate",
              "transition": {
               "duration": 0,
               "easing": "linear"
              }
             }
            ],
            "label": "1979",
            "method": "animate"
           },
           {
            "args": [
             [
              "1980"
             ],
             {
              "frame": {
               "duration": 0,
               "redraw": true
              },
              "fromcurrent": true,
              "mode": "immediate",
              "transition": {
               "duration": 0,
               "easing": "linear"
              }
             }
            ],
            "label": "1980",
            "method": "animate"
           },
           {
            "args": [
             [
              "1976"
             ],
             {
              "frame": {
               "duration": 0,
               "redraw": true
              },
              "fromcurrent": true,
              "mode": "immediate",
              "transition": {
               "duration": 0,
               "easing": "linear"
              }
             }
            ],
            "label": "1976",
            "method": "animate"
           },
           {
            "args": [
             [
              "1975"
             ],
             {
              "frame": {
               "duration": 0,
               "redraw": true
              },
              "fromcurrent": true,
              "mode": "immediate",
              "transition": {
               "duration": 0,
               "easing": "linear"
              }
             }
            ],
            "label": "1975",
            "method": "animate"
           },
           {
            "args": [
             [
              "1983"
             ],
             {
              "frame": {
               "duration": 0,
               "redraw": true
              },
              "fromcurrent": true,
              "mode": "immediate",
              "transition": {
               "duration": 0,
               "easing": "linear"
              }
             }
            ],
            "label": "1983",
            "method": "animate"
           },
           {
            "args": [
             [
              "1986"
             ],
             {
              "frame": {
               "duration": 0,
               "redraw": true
              },
              "fromcurrent": true,
              "mode": "immediate",
              "transition": {
               "duration": 0,
               "easing": "linear"
              }
             }
            ],
            "label": "1986",
            "method": "animate"
           },
           {
            "args": [
             [
              "1987"
             ],
             {
              "frame": {
               "duration": 0,
               "redraw": true
              },
              "fromcurrent": true,
              "mode": "immediate",
              "transition": {
               "duration": 0,
               "easing": "linear"
              }
             }
            ],
            "label": "1987",
            "method": "animate"
           },
           {
            "args": [
             [
              "1985"
             ],
             {
              "frame": {
               "duration": 0,
               "redraw": true
              },
              "fromcurrent": true,
              "mode": "immediate",
              "transition": {
               "duration": 0,
               "easing": "linear"
              }
             }
            ],
            "label": "1985",
            "method": "animate"
           },
           {
            "args": [
             [
              "1988"
             ],
             {
              "frame": {
               "duration": 0,
               "redraw": true
              },
              "fromcurrent": true,
              "mode": "immediate",
              "transition": {
               "duration": 0,
               "easing": "linear"
              }
             }
            ],
            "label": "1988",
            "method": "animate"
           },
           {
            "args": [
             [
              "1984"
             ],
             {
              "frame": {
               "duration": 0,
               "redraw": true
              },
              "fromcurrent": true,
              "mode": "immediate",
              "transition": {
               "duration": 0,
               "easing": "linear"
              }
             }
            ],
            "label": "1984",
            "method": "animate"
           },
           {
            "args": [
             [
              "1990"
             ],
             {
              "frame": {
               "duration": 0,
               "redraw": true
              },
              "fromcurrent": true,
              "mode": "immediate",
              "transition": {
               "duration": 0,
               "easing": "linear"
              }
             }
            ],
            "label": "1990",
            "method": "animate"
           },
           {
            "args": [
             [
              "1989"
             ],
             {
              "frame": {
               "duration": 0,
               "redraw": true
              },
              "fromcurrent": true,
              "mode": "immediate",
              "transition": {
               "duration": 0,
               "easing": "linear"
              }
             }
            ],
            "label": "1989",
            "method": "animate"
           }
          ],
          "x": 0.1,
          "xanchor": "left",
          "y": 0,
          "yanchor": "top"
         }
        ],
        "template": {
         "data": {
          "bar": [
           {
            "error_x": {
             "color": "#2a3f5f"
            },
            "error_y": {
             "color": "#2a3f5f"
            },
            "marker": {
             "line": {
              "color": "#E5ECF6",
              "width": 0.5
             }
            },
            "type": "bar"
           }
          ],
          "barpolar": [
           {
            "marker": {
             "line": {
              "color": "#E5ECF6",
              "width": 0.5
             }
            },
            "type": "barpolar"
           }
          ],
          "carpet": [
           {
            "aaxis": {
             "endlinecolor": "#2a3f5f",
             "gridcolor": "white",
             "linecolor": "white",
             "minorgridcolor": "white",
             "startlinecolor": "#2a3f5f"
            },
            "baxis": {
             "endlinecolor": "#2a3f5f",
             "gridcolor": "white",
             "linecolor": "white",
             "minorgridcolor": "white",
             "startlinecolor": "#2a3f5f"
            },
            "type": "carpet"
           }
          ],
          "choropleth": [
           {
            "colorbar": {
             "outlinewidth": 0,
             "ticks": ""
            },
            "type": "choropleth"
           }
          ],
          "contour": [
           {
            "colorbar": {
             "outlinewidth": 0,
             "ticks": ""
            },
            "colorscale": [
             [
              0,
              "#0d0887"
             ],
             [
              0.1111111111111111,
              "#46039f"
             ],
             [
              0.2222222222222222,
              "#7201a8"
             ],
             [
              0.3333333333333333,
              "#9c179e"
             ],
             [
              0.4444444444444444,
              "#bd3786"
             ],
             [
              0.5555555555555556,
              "#d8576b"
             ],
             [
              0.6666666666666666,
              "#ed7953"
             ],
             [
              0.7777777777777778,
              "#fb9f3a"
             ],
             [
              0.8888888888888888,
              "#fdca26"
             ],
             [
              1,
              "#f0f921"
             ]
            ],
            "type": "contour"
           }
          ],
          "contourcarpet": [
           {
            "colorbar": {
             "outlinewidth": 0,
             "ticks": ""
            },
            "type": "contourcarpet"
           }
          ],
          "heatmap": [
           {
            "colorbar": {
             "outlinewidth": 0,
             "ticks": ""
            },
            "colorscale": [
             [
              0,
              "#0d0887"
             ],
             [
              0.1111111111111111,
              "#46039f"
             ],
             [
              0.2222222222222222,
              "#7201a8"
             ],
             [
              0.3333333333333333,
              "#9c179e"
             ],
             [
              0.4444444444444444,
              "#bd3786"
             ],
             [
              0.5555555555555556,
              "#d8576b"
             ],
             [
              0.6666666666666666,
              "#ed7953"
             ],
             [
              0.7777777777777778,
              "#fb9f3a"
             ],
             [
              0.8888888888888888,
              "#fdca26"
             ],
             [
              1,
              "#f0f921"
             ]
            ],
            "type": "heatmap"
           }
          ],
          "heatmapgl": [
           {
            "colorbar": {
             "outlinewidth": 0,
             "ticks": ""
            },
            "colorscale": [
             [
              0,
              "#0d0887"
             ],
             [
              0.1111111111111111,
              "#46039f"
             ],
             [
              0.2222222222222222,
              "#7201a8"
             ],
             [
              0.3333333333333333,
              "#9c179e"
             ],
             [
              0.4444444444444444,
              "#bd3786"
             ],
             [
              0.5555555555555556,
              "#d8576b"
             ],
             [
              0.6666666666666666,
              "#ed7953"
             ],
             [
              0.7777777777777778,
              "#fb9f3a"
             ],
             [
              0.8888888888888888,
              "#fdca26"
             ],
             [
              1,
              "#f0f921"
             ]
            ],
            "type": "heatmapgl"
           }
          ],
          "histogram": [
           {
            "marker": {
             "colorbar": {
              "outlinewidth": 0,
              "ticks": ""
             }
            },
            "type": "histogram"
           }
          ],
          "histogram2d": [
           {
            "colorbar": {
             "outlinewidth": 0,
             "ticks": ""
            },
            "colorscale": [
             [
              0,
              "#0d0887"
             ],
             [
              0.1111111111111111,
              "#46039f"
             ],
             [
              0.2222222222222222,
              "#7201a8"
             ],
             [
              0.3333333333333333,
              "#9c179e"
             ],
             [
              0.4444444444444444,
              "#bd3786"
             ],
             [
              0.5555555555555556,
              "#d8576b"
             ],
             [
              0.6666666666666666,
              "#ed7953"
             ],
             [
              0.7777777777777778,
              "#fb9f3a"
             ],
             [
              0.8888888888888888,
              "#fdca26"
             ],
             [
              1,
              "#f0f921"
             ]
            ],
            "type": "histogram2d"
           }
          ],
          "histogram2dcontour": [
           {
            "colorbar": {
             "outlinewidth": 0,
             "ticks": ""
            },
            "colorscale": [
             [
              0,
              "#0d0887"
             ],
             [
              0.1111111111111111,
              "#46039f"
             ],
             [
              0.2222222222222222,
              "#7201a8"
             ],
             [
              0.3333333333333333,
              "#9c179e"
             ],
             [
              0.4444444444444444,
              "#bd3786"
             ],
             [
              0.5555555555555556,
              "#d8576b"
             ],
             [
              0.6666666666666666,
              "#ed7953"
             ],
             [
              0.7777777777777778,
              "#fb9f3a"
             ],
             [
              0.8888888888888888,
              "#fdca26"
             ],
             [
              1,
              "#f0f921"
             ]
            ],
            "type": "histogram2dcontour"
           }
          ],
          "mesh3d": [
           {
            "colorbar": {
             "outlinewidth": 0,
             "ticks": ""
            },
            "type": "mesh3d"
           }
          ],
          "parcoords": [
           {
            "line": {
             "colorbar": {
              "outlinewidth": 0,
              "ticks": ""
             }
            },
            "type": "parcoords"
           }
          ],
          "pie": [
           {
            "automargin": true,
            "type": "pie"
           }
          ],
          "scatter": [
           {
            "marker": {
             "colorbar": {
              "outlinewidth": 0,
              "ticks": ""
             }
            },
            "type": "scatter"
           }
          ],
          "scatter3d": [
           {
            "line": {
             "colorbar": {
              "outlinewidth": 0,
              "ticks": ""
             }
            },
            "marker": {
             "colorbar": {
              "outlinewidth": 0,
              "ticks": ""
             }
            },
            "type": "scatter3d"
           }
          ],
          "scattercarpet": [
           {
            "marker": {
             "colorbar": {
              "outlinewidth": 0,
              "ticks": ""
             }
            },
            "type": "scattercarpet"
           }
          ],
          "scattergeo": [
           {
            "marker": {
             "colorbar": {
              "outlinewidth": 0,
              "ticks": ""
             }
            },
            "type": "scattergeo"
           }
          ],
          "scattergl": [
           {
            "marker": {
             "colorbar": {
              "outlinewidth": 0,
              "ticks": ""
             }
            },
            "type": "scattergl"
           }
          ],
          "scattermapbox": [
           {
            "marker": {
             "colorbar": {
              "outlinewidth": 0,
              "ticks": ""
             }
            },
            "type": "scattermapbox"
           }
          ],
          "scatterpolar": [
           {
            "marker": {
             "colorbar": {
              "outlinewidth": 0,
              "ticks": ""
             }
            },
            "type": "scatterpolar"
           }
          ],
          "scatterpolargl": [
           {
            "marker": {
             "colorbar": {
              "outlinewidth": 0,
              "ticks": ""
             }
            },
            "type": "scatterpolargl"
           }
          ],
          "scatterternary": [
           {
            "marker": {
             "colorbar": {
              "outlinewidth": 0,
              "ticks": ""
             }
            },
            "type": "scatterternary"
           }
          ],
          "surface": [
           {
            "colorbar": {
             "outlinewidth": 0,
             "ticks": ""
            },
            "colorscale": [
             [
              0,
              "#0d0887"
             ],
             [
              0.1111111111111111,
              "#46039f"
             ],
             [
              0.2222222222222222,
              "#7201a8"
             ],
             [
              0.3333333333333333,
              "#9c179e"
             ],
             [
              0.4444444444444444,
              "#bd3786"
             ],
             [
              0.5555555555555556,
              "#d8576b"
             ],
             [
              0.6666666666666666,
              "#ed7953"
             ],
             [
              0.7777777777777778,
              "#fb9f3a"
             ],
             [
              0.8888888888888888,
              "#fdca26"
             ],
             [
              1,
              "#f0f921"
             ]
            ],
            "type": "surface"
           }
          ],
          "table": [
           {
            "cells": {
             "fill": {
              "color": "#EBF0F8"
             },
             "line": {
              "color": "white"
             }
            },
            "header": {
             "fill": {
              "color": "#C8D4E3"
             },
             "line": {
              "color": "white"
             }
            },
            "type": "table"
           }
          ]
         },
         "layout": {
          "annotationdefaults": {
           "arrowcolor": "#2a3f5f",
           "arrowhead": 0,
           "arrowwidth": 1
          },
          "coloraxis": {
           "colorbar": {
            "outlinewidth": 0,
            "ticks": ""
           }
          },
          "colorscale": {
           "diverging": [
            [
             0,
             "#8e0152"
            ],
            [
             0.1,
             "#c51b7d"
            ],
            [
             0.2,
             "#de77ae"
            ],
            [
             0.3,
             "#f1b6da"
            ],
            [
             0.4,
             "#fde0ef"
            ],
            [
             0.5,
             "#f7f7f7"
            ],
            [
             0.6,
             "#e6f5d0"
            ],
            [
             0.7,
             "#b8e186"
            ],
            [
             0.8,
             "#7fbc41"
            ],
            [
             0.9,
             "#4d9221"
            ],
            [
             1,
             "#276419"
            ]
           ],
           "sequential": [
            [
             0,
             "#0d0887"
            ],
            [
             0.1111111111111111,
             "#46039f"
            ],
            [
             0.2222222222222222,
             "#7201a8"
            ],
            [
             0.3333333333333333,
             "#9c179e"
            ],
            [
             0.4444444444444444,
             "#bd3786"
            ],
            [
             0.5555555555555556,
             "#d8576b"
            ],
            [
             0.6666666666666666,
             "#ed7953"
            ],
            [
             0.7777777777777778,
             "#fb9f3a"
            ],
            [
             0.8888888888888888,
             "#fdca26"
            ],
            [
             1,
             "#f0f921"
            ]
           ],
           "sequentialminus": [
            [
             0,
             "#0d0887"
            ],
            [
             0.1111111111111111,
             "#46039f"
            ],
            [
             0.2222222222222222,
             "#7201a8"
            ],
            [
             0.3333333333333333,
             "#9c179e"
            ],
            [
             0.4444444444444444,
             "#bd3786"
            ],
            [
             0.5555555555555556,
             "#d8576b"
            ],
            [
             0.6666666666666666,
             "#ed7953"
            ],
            [
             0.7777777777777778,
             "#fb9f3a"
            ],
            [
             0.8888888888888888,
             "#fdca26"
            ],
            [
             1,
             "#f0f921"
            ]
           ]
          },
          "colorway": [
           "#636efa",
           "#EF553B",
           "#00cc96",
           "#ab63fa",
           "#FFA15A",
           "#19d3f3",
           "#FF6692",
           "#B6E880",
           "#FF97FF",
           "#FECB52"
          ],
          "font": {
           "color": "#2a3f5f"
          },
          "geo": {
           "bgcolor": "white",
           "lakecolor": "white",
           "landcolor": "#E5ECF6",
           "showlakes": true,
           "showland": true,
           "subunitcolor": "white"
          },
          "hoverlabel": {
           "align": "left"
          },
          "hovermode": "closest",
          "mapbox": {
           "style": "light"
          },
          "paper_bgcolor": "white",
          "plot_bgcolor": "#E5ECF6",
          "polar": {
           "angularaxis": {
            "gridcolor": "white",
            "linecolor": "white",
            "ticks": ""
           },
           "bgcolor": "#E5ECF6",
           "radialaxis": {
            "gridcolor": "white",
            "linecolor": "white",
            "ticks": ""
           }
          },
          "scene": {
           "xaxis": {
            "backgroundcolor": "#E5ECF6",
            "gridcolor": "white",
            "gridwidth": 2,
            "linecolor": "white",
            "showbackground": true,
            "ticks": "",
            "zerolinecolor": "white"
           },
           "yaxis": {
            "backgroundcolor": "#E5ECF6",
            "gridcolor": "white",
            "gridwidth": 2,
            "linecolor": "white",
            "showbackground": true,
            "ticks": "",
            "zerolinecolor": "white"
           },
           "zaxis": {
            "backgroundcolor": "#E5ECF6",
            "gridcolor": "white",
            "gridwidth": 2,
            "linecolor": "white",
            "showbackground": true,
            "ticks": "",
            "zerolinecolor": "white"
           }
          },
          "shapedefaults": {
           "line": {
            "color": "#2a3f5f"
           }
          },
          "ternary": {
           "aaxis": {
            "gridcolor": "white",
            "linecolor": "white",
            "ticks": ""
           },
           "baxis": {
            "gridcolor": "white",
            "linecolor": "white",
            "ticks": ""
           },
           "bgcolor": "#E5ECF6",
           "caxis": {
            "gridcolor": "white",
            "linecolor": "white",
            "ticks": ""
           }
          },
          "title": {
           "x": 0.05
          },
          "xaxis": {
           "automargin": true,
           "gridcolor": "white",
           "linecolor": "white",
           "ticks": "",
           "title": {
            "standoff": 15
           },
           "zerolinecolor": "white",
           "zerolinewidth": 2
          },
          "yaxis": {
           "automargin": true,
           "gridcolor": "white",
           "linecolor": "white",
           "ticks": "",
           "title": {
            "standoff": 15
           },
           "zerolinecolor": "white",
           "zerolinewidth": 2
          }
         }
        },
        "updatemenus": [
         {
          "active": 1,
          "buttons": [
           {
            "args": [
             null,
             {
              "frame": {
               "duration": 500,
               "redraw": true
              },
              "fromcurrent": true,
              "mode": "immediate",
              "transition": {
               "duration": 500,
               "easing": "linear"
              }
             }
            ],
            "label": "&#9654;",
            "method": "animate"
           },
           {
            "args": [
             [
              null
             ],
             {
              "frame": {
               "duration": 0,
               "redraw": true
              },
              "fromcurrent": true,
              "mode": "immediate",
              "transition": {
               "duration": 0,
               "easing": "linear"
              }
             }
            ],
            "label": "&#9724;",
            "method": "animate"
           }
          ],
          "direction": "left",
          "pad": {
           "r": 10,
           "t": 70
          },
          "showactive": false,
          "type": "buttons",
          "x": 0.1,
          "xanchor": "right",
          "y": 0,
          "yanchor": "top"
         }
        ]
       }
      },
      "image/png": "[encoded data removed]",
      "text/html": [
       "<div>\n",
       "        \n",
       "        \n",
       "            <div id=\"1026fa41-0ca0-4037-b6d0-000da5cc2e17\" class=\"plotly-graph-div\" style=\"height:600px; width:100%;\"></div>\n",
       "            <script type=\"text/javascript\">\n",
       "                require([\"plotly\"], function(Plotly) {\n",
       "                    window.PLOTLYENV=window.PLOTLYENV || {};\n",
       "                    \n",
       "                if (document.getElementById(\"1026fa41-0ca0-4037-b6d0-000da5cc2e17\")) {\n",
       "                    Plotly.newPlot(\n",
       "                        '1026fa41-0ca0-4037-b6d0-000da5cc2e17',\n",
       "                        [{\"customdata\": [[\"Christians targeted in Upper Metn and Aley\"], [\"Christians targeted in Upper Metn and Aley\"], [\"Christians targeted in Upper Metn and Aley\"], [\"Christians targeted in Upper Metn and Aley\"], [\"Massacre of St. George Church in Brih\"], [\"Maasser el Chouf killing\"], [\"Christian massacres in Chouf and in West Beirut\"], [\"Christian massacres in Chouf and in West Beirut\"], [\"Christian massacres in Chouf and in West Beirut\"], [\"Christian massacres in Chouf and in West Beirut\"], [\"Christian massacres in Chouf and in West Beirut\"], [\"Christian massacres in Chouf and in West Beirut\"], [\"Christian massacres in Chouf and in West Beirut\"], [\"Christian massacres in Chouf and in West Beirut\"], [\"Christian massacres in Chouf and in West Beirut\"], [\"Conflicts on the border continue\"], [\"Conflicts on the border continue\"], [\"Israeli air raids and sea attack on South Lebanon\"], [\"Israeli air raids and sea attack on South Lebanon\"], [\"Border militias occupy Khiyam\"], [\"Christian massacres in Chouf and in West Beirut\"], [\"Israeli air raids and sea attack on South Lebanon\"], [\"Israeli air raids and sea attack on South Lebanon\"], [\"Israeli air raids and sea attack on South Lebanon\"]], \"hoverlabel\": {\"namelength\": 0}, \"hovertemplate\": \"animation_frame=1977<br>event=%{customdata[0]}<br>lat=%{lat}<br>lon=%{lon}<br>color=%{marker.color}\", \"lat\": [33.7545, 33.7373, 33.8338, 33.7413, 33.7163, 33.6672, 33.7409, 33.6672, 33.7108, 33.7042, 33.6989, 33.6414, 33.6642, 33.7392, 33.8882, 33.3001, 33.2782, 33.3294, 33.1794, 33.3294, 33.6363, 33.2741, 33.1064, 33.3639], \"legendgroup\": \"\", \"lon\": [35.6015, 35.5977, 35.6205, 35.6692, 35.6575, 35.6703, 35.6993, 35.6703, 35.678, 35.678, 35.6303, 35.5866, 35.6207, 35.6323, 35.5009, 35.5435, 35.5514, 35.6139, 35.2262, 35.6139, 35.6181, 35.1925, 35.2313, 35.4906], \"marker\": {\"color\": \"#e85a4f\", \"opacity\": 0.7, \"showscale\": false, \"size\": 10}, \"mode\": \"markers\", \"name\": \"\", \"showlegend\": false, \"subplot\": \"mapbox\", \"type\": \"scattermapbox\"}],\n",
       "                        {\"coloraxis\": {\"colorbar\": {\"title\": {\"text\": \"color\"}}, \"colorscale\": [[0.0, \"#0d0887\"], [0.1111111111111111, \"#46039f\"], [0.2222222222222222, \"#7201a8\"], [0.3333333333333333, \"#9c179e\"], [0.4444444444444444, \"#bd3786\"], [0.5555555555555556, \"#d8576b\"], [0.6666666666666666, \"#ed7953\"], [0.7777777777777778, \"#fb9f3a\"], [0.8888888888888888, \"#fdca26\"], [1.0, \"#f0f921\"]]}, \"height\": 600, \"legend\": {\"tracegroupgap\": 0}, \"mapbox\": {\"accesstoken\": \"pk.eyJ1IjoiZGVkZXN3aW0iLCJhIjoiY2s0NWZ3eDEzMDhicTNzcGppN2plazR3dyJ9.vwOaKZJU07PsRV1GJO87ag\", \"center\": {\"lat\": 33.83758976945244, \"lon\": 35.59312103746398}, \"domain\": {\"x\": [0.0, 1.0], \"y\": [0.0, 1.0]}, \"zoom\": 7}, \"margin\": {\"t\": 60}, \"sliders\": [{\"active\": 0, \"currentvalue\": {\"prefix\": \"animation_frame=\"}, \"len\": 0.9, \"pad\": {\"b\": 10, \"t\": 60}, \"steps\": [{\"args\": [[\"1977\"], {\"frame\": {\"duration\": 0, \"redraw\": true}, \"fromcurrent\": true, \"mode\": \"immediate\", \"transition\": {\"duration\": 0, \"easing\": \"linear\"}}], \"label\": \"1977\", \"method\": \"animate\"}, {\"args\": [[\"1978\"], {\"frame\": {\"duration\": 0, \"redraw\": true}, \"fromcurrent\": true, \"mode\": \"immediate\", \"transition\": {\"duration\": 0, \"easing\": \"linear\"}}], \"label\": \"1978\", \"method\": \"animate\"}, {\"args\": [[\"1979\"], {\"frame\": {\"duration\": 0, \"redraw\": true}, \"fromcurrent\": true, \"mode\": \"immediate\", \"transition\": {\"duration\": 0, \"easing\": \"linear\"}}], \"label\": \"1979\", \"method\": \"animate\"}, {\"args\": [[\"1980\"], {\"frame\": {\"duration\": 0, \"redraw\": true}, \"fromcurrent\": true, \"mode\": \"immediate\", \"transition\": {\"duration\": 0, \"easing\": \"linear\"}}], \"label\": \"1980\", \"method\": \"animate\"}, {\"args\": [[\"1976\"], {\"frame\": {\"duration\": 0, \"redraw\": true}, \"fromcurrent\": true, \"mode\": \"immediate\", \"transition\": {\"duration\": 0, \"easing\": \"linear\"}}], \"label\": \"1976\", \"method\": \"animate\"}, {\"args\": [[\"1975\"], {\"frame\": {\"duration\": 0, \"redraw\": true}, \"fromcurrent\": true, \"mode\": \"immediate\", \"transition\": {\"duration\": 0, \"easing\": \"linear\"}}], \"label\": \"1975\", \"method\": \"animate\"}, {\"args\": [[\"1983\"], {\"frame\": {\"duration\": 0, \"redraw\": true}, \"fromcurrent\": true, \"mode\": \"immediate\", \"transition\": {\"duration\": 0, \"easing\": \"linear\"}}], \"label\": \"1983\", \"method\": \"animate\"}, {\"args\": [[\"1986\"], {\"frame\": {\"duration\": 0, \"redraw\": true}, \"fromcurrent\": true, \"mode\": \"immediate\", \"transition\": {\"duration\": 0, \"easing\": \"linear\"}}], \"label\": \"1986\", \"method\": \"animate\"}, {\"args\": [[\"1987\"], {\"frame\": {\"duration\": 0, \"redraw\": true}, \"fromcurrent\": true, \"mode\": \"immediate\", \"transition\": {\"duration\": 0, \"easing\": \"linear\"}}], \"label\": \"1987\", \"method\": \"animate\"}, {\"args\": [[\"1985\"], {\"frame\": {\"duration\": 0, \"redraw\": true}, \"fromcurrent\": true, \"mode\": \"immediate\", \"transition\": {\"duration\": 0, \"easing\": \"linear\"}}], \"label\": \"1985\", \"method\": \"animate\"}, {\"args\": [[\"1988\"], {\"frame\": {\"duration\": 0, \"redraw\": true}, \"fromcurrent\": true, \"mode\": \"immediate\", \"transition\": {\"duration\": 0, \"easing\": \"linear\"}}], \"label\": \"1988\", \"method\": \"animate\"}, {\"args\": [[\"1984\"], {\"frame\": {\"duration\": 0, \"redraw\": true}, \"fromcurrent\": true, \"mode\": \"immediate\", \"transition\": {\"duration\": 0, \"easing\": \"linear\"}}], \"label\": \"1984\", \"method\": \"animate\"}, {\"args\": [[\"1990\"], {\"frame\": {\"duration\": 0, \"redraw\": true}, \"fromcurrent\": true, \"mode\": \"immediate\", \"transition\": {\"duration\": 0, \"easing\": \"linear\"}}], \"label\": \"1990\", \"method\": \"animate\"}, {\"args\": [[\"1989\"], {\"frame\": {\"duration\": 0, \"redraw\": true}, \"fromcurrent\": true, \"mode\": \"immediate\", \"transition\": {\"duration\": 0, \"easing\": \"linear\"}}], \"label\": \"1989\", \"method\": \"animate\"}], \"x\": 0.1, \"xanchor\": \"left\", \"y\": 0, \"yanchor\": \"top\"}], \"template\": {\"data\": {\"bar\": [{\"error_x\": {\"color\": \"#2a3f5f\"}, \"error_y\": {\"color\": \"#2a3f5f\"}, \"marker\": {\"line\": {\"color\": \"#E5ECF6\", \"width\": 0.5}}, \"type\": \"bar\"}], \"barpolar\": [{\"marker\": {\"line\": {\"color\": \"#E5ECF6\", \"width\": 0.5}}, \"type\": \"barpolar\"}], \"carpet\": [{\"aaxis\": {\"endlinecolor\": \"#2a3f5f\", \"gridcolor\": \"white\", \"linecolor\": \"white\", \"minorgridcolor\": \"white\", \"startlinecolor\": \"#2a3f5f\"}, \"baxis\": {\"endlinecolor\": \"#2a3f5f\", \"gridcolor\": \"white\", \"linecolor\": \"white\", \"minorgridcolor\": \"white\", \"startlinecolor\": \"#2a3f5f\"}, \"type\": \"carpet\"}], \"choropleth\": [{\"colorbar\": {\"outlinewidth\": 0, \"ticks\": \"\"}, \"type\": \"choropleth\"}], \"contour\": [{\"colorbar\": {\"outlinewidth\": 0, \"ticks\": \"\"}, \"colorscale\": [[0.0, \"#0d0887\"], [0.1111111111111111, \"#46039f\"], [0.2222222222222222, \"#7201a8\"], [0.3333333333333333, \"#9c179e\"], [0.4444444444444444, \"#bd3786\"], [0.5555555555555556, \"#d8576b\"], [0.6666666666666666, \"#ed7953\"], [0.7777777777777778, \"#fb9f3a\"], [0.8888888888888888, \"#fdca26\"], [1.0, \"#f0f921\"]], \"type\": \"contour\"}], \"contourcarpet\": [{\"colorbar\": {\"outlinewidth\": 0, \"ticks\": \"\"}, \"type\": \"contourcarpet\"}], \"heatmap\": [{\"colorbar\": {\"outlinewidth\": 0, \"ticks\": \"\"}, \"colorscale\": [[0.0, \"#0d0887\"], [0.1111111111111111, \"#46039f\"], [0.2222222222222222, \"#7201a8\"], [0.3333333333333333, \"#9c179e\"], [0.4444444444444444, \"#bd3786\"], [0.5555555555555556, \"#d8576b\"], [0.6666666666666666, \"#ed7953\"], [0.7777777777777778, \"#fb9f3a\"], [0.8888888888888888, \"#fdca26\"], [1.0, \"#f0f921\"]], \"type\": \"heatmap\"}], \"heatmapgl\": [{\"colorbar\": {\"outlinewidth\": 0, \"ticks\": \"\"}, \"colorscale\": [[0.0, \"#0d0887\"], [0.1111111111111111, \"#46039f\"], [0.2222222222222222, \"#7201a8\"], [0.3333333333333333, \"#9c179e\"], [0.4444444444444444, \"#bd3786\"], [0.5555555555555556, \"#d8576b\"], [0.6666666666666666, \"#ed7953\"], [0.7777777777777778, \"#fb9f3a\"], [0.8888888888888888, \"#fdca26\"], [1.0, \"#f0f921\"]], \"type\": \"heatmapgl\"}], \"histogram\": [{\"marker\": {\"colorbar\": {\"outlinewidth\": 0, \"ticks\": \"\"}}, \"type\": \"histogram\"}], \"histogram2d\": [{\"colorbar\": {\"outlinewidth\": 0, \"ticks\": \"\"}, \"colorscale\": [[0.0, \"#0d0887\"], [0.1111111111111111, \"#46039f\"], [0.2222222222222222, \"#7201a8\"], [0.3333333333333333, \"#9c179e\"], [0.4444444444444444, \"#bd3786\"], [0.5555555555555556, \"#d8576b\"], [0.6666666666666666, \"#ed7953\"], [0.7777777777777778, \"#fb9f3a\"], [0.8888888888888888, \"#fdca26\"], [1.0, \"#f0f921\"]], \"type\": \"histogram2d\"}], \"histogram2dcontour\": [{\"colorbar\": {\"outlinewidth\": 0, \"ticks\": \"\"}, \"colorscale\": [[0.0, \"#0d0887\"], [0.1111111111111111, \"#46039f\"], [0.2222222222222222, \"#7201a8\"], [0.3333333333333333, \"#9c179e\"], [0.4444444444444444, \"#bd3786\"], [0.5555555555555556, \"#d8576b\"], [0.6666666666666666, \"#ed7953\"], [0.7777777777777778, \"#fb9f3a\"], [0.8888888888888888, \"#fdca26\"], [1.0, \"#f0f921\"]], \"type\": \"histogram2dcontour\"}], \"mesh3d\": [{\"colorbar\": {\"outlinewidth\": 0, \"ticks\": \"\"}, \"type\": \"mesh3d\"}], \"parcoords\": [{\"line\": {\"colorbar\": {\"outlinewidth\": 0, \"ticks\": \"\"}}, \"type\": \"parcoords\"}], \"pie\": [{\"automargin\": true, \"type\": \"pie\"}], \"scatter\": [{\"marker\": {\"colorbar\": {\"outlinewidth\": 0, \"ticks\": \"\"}}, \"type\": \"scatter\"}], \"scatter3d\": [{\"line\": {\"colorbar\": {\"outlinewidth\": 0, \"ticks\": \"\"}}, \"marker\": {\"colorbar\": {\"outlinewidth\": 0, \"ticks\": \"\"}}, \"type\": \"scatter3d\"}], \"scattercarpet\": [{\"marker\": {\"colorbar\": {\"outlinewidth\": 0, \"ticks\": \"\"}}, \"type\": \"scattercarpet\"}], \"scattergeo\": [{\"marker\": {\"colorbar\": {\"outlinewidth\": 0, \"ticks\": \"\"}}, \"type\": \"scattergeo\"}], \"scattergl\": [{\"marker\": {\"colorbar\": {\"outlinewidth\": 0, \"ticks\": \"\"}}, \"type\": \"scattergl\"}], \"scattermapbox\": [{\"marker\": {\"colorbar\": {\"outlinewidth\": 0, \"ticks\": \"\"}}, \"type\": \"scattermapbox\"}], \"scatterpolar\": [{\"marker\": {\"colorbar\": {\"outlinewidth\": 0, \"ticks\": \"\"}}, \"type\": \"scatterpolar\"}], \"scatterpolargl\": [{\"marker\": {\"colorbar\": {\"outlinewidth\": 0, \"ticks\": \"\"}}, \"type\": \"scatterpolargl\"}], \"scatterternary\": [{\"marker\": {\"colorbar\": {\"outlinewidth\": 0, \"ticks\": \"\"}}, \"type\": \"scatterternary\"}], \"surface\": [{\"colorbar\": {\"outlinewidth\": 0, \"ticks\": \"\"}, \"colorscale\": [[0.0, \"#0d0887\"], [0.1111111111111111, \"#46039f\"], [0.2222222222222222, \"#7201a8\"], [0.3333333333333333, \"#9c179e\"], [0.4444444444444444, \"#bd3786\"], [0.5555555555555556, \"#d8576b\"], [0.6666666666666666, \"#ed7953\"], [0.7777777777777778, \"#fb9f3a\"], [0.8888888888888888, \"#fdca26\"], [1.0, \"#f0f921\"]], \"type\": \"surface\"}], \"table\": [{\"cells\": {\"fill\": {\"color\": \"#EBF0F8\"}, \"line\": {\"color\": \"white\"}}, \"header\": {\"fill\": {\"color\": \"#C8D4E3\"}, \"line\": {\"color\": \"white\"}}, \"type\": \"table\"}]}, \"layout\": {\"annotationdefaults\": {\"arrowcolor\": \"#2a3f5f\", \"arrowhead\": 0, \"arrowwidth\": 1}, \"coloraxis\": {\"colorbar\": {\"outlinewidth\": 0, \"ticks\": \"\"}}, \"colorscale\": {\"diverging\": [[0, \"#8e0152\"], [0.1, \"#c51b7d\"], [0.2, \"#de77ae\"], [0.3, \"#f1b6da\"], [0.4, \"#fde0ef\"], [0.5, \"#f7f7f7\"], [0.6, \"#e6f5d0\"], [0.7, \"#b8e186\"], [0.8, \"#7fbc41\"], [0.9, \"#4d9221\"], [1, \"#276419\"]], \"sequential\": [[0.0, \"#0d0887\"], [0.1111111111111111, \"#46039f\"], [0.2222222222222222, \"#7201a8\"], [0.3333333333333333, \"#9c179e\"], [0.4444444444444444, \"#bd3786\"], [0.5555555555555556, \"#d8576b\"], [0.6666666666666666, \"#ed7953\"], [0.7777777777777778, \"#fb9f3a\"], [0.8888888888888888, \"#fdca26\"], [1.0, \"#f0f921\"]], \"sequentialminus\": [[0.0, \"#0d0887\"], [0.1111111111111111, \"#46039f\"], [0.2222222222222222, \"#7201a8\"], [0.3333333333333333, \"#9c179e\"], [0.4444444444444444, \"#bd3786\"], [0.5555555555555556, \"#d8576b\"], [0.6666666666666666, \"#ed7953\"], [0.7777777777777778, \"#fb9f3a\"], [0.8888888888888888, \"#fdca26\"], [1.0, \"#f0f921\"]]}, \"colorway\": [\"#636efa\", \"#EF553B\", \"#00cc96\", \"#ab63fa\", \"#FFA15A\", \"#19d3f3\", \"#FF6692\", \"#B6E880\", \"#FF97FF\", \"#FECB52\"], \"font\": {\"color\": \"#2a3f5f\"}, \"geo\": {\"bgcolor\": \"white\", \"lakecolor\": \"white\", \"landcolor\": \"#E5ECF6\", \"showlakes\": true, \"showland\": true, \"subunitcolor\": \"white\"}, \"hoverlabel\": {\"align\": \"left\"}, \"hovermode\": \"closest\", \"mapbox\": {\"style\": \"light\"}, \"paper_bgcolor\": \"white\", \"plot_bgcolor\": \"#E5ECF6\", \"polar\": {\"angularaxis\": {\"gridcolor\": \"white\", \"linecolor\": \"white\", \"ticks\": \"\"}, \"bgcolor\": \"#E5ECF6\", \"radialaxis\": {\"gridcolor\": \"white\", \"linecolor\": \"white\", \"ticks\": \"\"}}, \"scene\": {\"xaxis\": {\"backgroundcolor\": \"#E5ECF6\", \"gridcolor\": \"white\", \"gridwidth\": 2, \"linecolor\": \"white\", \"showbackground\": true, \"ticks\": \"\", \"zerolinecolor\": \"white\"}, \"yaxis\": {\"backgroundcolor\": \"#E5ECF6\", \"gridcolor\": \"white\", \"gridwidth\": 2, \"linecolor\": \"white\", \"showbackground\": true, \"ticks\": \"\", \"zerolinecolor\": \"white\"}, \"zaxis\": {\"backgroundcolor\": \"#E5ECF6\", \"gridcolor\": \"white\", \"gridwidth\": 2, \"linecolor\": \"white\", \"showbackground\": true, \"ticks\": \"\", \"zerolinecolor\": \"white\"}}, \"shapedefaults\": {\"line\": {\"color\": \"#2a3f5f\"}}, \"ternary\": {\"aaxis\": {\"gridcolor\": \"white\", \"linecolor\": \"white\", \"ticks\": \"\"}, \"baxis\": {\"gridcolor\": \"white\", \"linecolor\": \"white\", \"ticks\": \"\"}, \"bgcolor\": \"#E5ECF6\", \"caxis\": {\"gridcolor\": \"white\", \"linecolor\": \"white\", \"ticks\": \"\"}}, \"title\": {\"x\": 0.05}, \"xaxis\": {\"automargin\": true, \"gridcolor\": \"white\", \"linecolor\": \"white\", \"ticks\": \"\", \"title\": {\"standoff\": 15}, \"zerolinecolor\": \"white\", \"zerolinewidth\": 2}, \"yaxis\": {\"automargin\": true, \"gridcolor\": \"white\", \"linecolor\": \"white\", \"ticks\": \"\", \"title\": {\"standoff\": 15}, \"zerolinecolor\": \"white\", \"zerolinewidth\": 2}}}, \"updatemenus\": [{\"buttons\": [{\"args\": [null, {\"frame\": {\"duration\": 500, \"redraw\": true}, \"fromcurrent\": true, \"mode\": \"immediate\", \"transition\": {\"duration\": 500, \"easing\": \"linear\"}}], \"label\": \"&#9654;\", \"method\": \"animate\"}, {\"args\": [[null], {\"frame\": {\"duration\": 0, \"redraw\": true}, \"fromcurrent\": true, \"mode\": \"immediate\", \"transition\": {\"duration\": 0, \"easing\": \"linear\"}}], \"label\": \"&#9724;\", \"method\": \"animate\"}], \"direction\": \"left\", \"pad\": {\"r\": 10, \"t\": 70}, \"showactive\": false, \"type\": \"buttons\", \"x\": 0.1, \"xanchor\": \"right\", \"y\": 0, \"yanchor\": \"top\"}]},\n",
       "                        {\"responsive\": true}\n",
       "                    ).then(function(){\n",
       "                            Plotly.addFrames('1026fa41-0ca0-4037-b6d0-000da5cc2e17', [{\"data\": [{\"customdata\": [[\"Christians targeted in Upper Metn and Aley\"], [\"Christians targeted in Upper Metn and Aley\"], [\"Christians targeted in Upper Metn and Aley\"], [\"Christians targeted in Upper Metn and Aley\"], [\"Massacre of St. George Church in Brih\"], [\"Maasser el Chouf killing\"], [\"Christian massacres in Chouf and in West Beirut\"], [\"Christian massacres in Chouf and in West Beirut\"], [\"Christian massacres in Chouf and in West Beirut\"], [\"Christian massacres in Chouf and in West Beirut\"], [\"Christian massacres in Chouf and in West Beirut\"], [\"Christian massacres in Chouf and in West Beirut\"], [\"Christian massacres in Chouf and in West Beirut\"], [\"Christian massacres in Chouf and in West Beirut\"], [\"Christian massacres in Chouf and in West Beirut\"], [\"Conflicts on the border continue\"], [\"Conflicts on the border continue\"], [\"Israeli air raids and sea attack on South Lebanon\"], [\"Israeli air raids and sea attack on South Lebanon\"], [\"Border militias occupy Khiyam\"], [\"Christian massacres in Chouf and in West Beirut\"], [\"Israeli air raids and sea attack on South Lebanon\"], [\"Israeli air raids and sea attack on South Lebanon\"], [\"Israeli air raids and sea attack on South Lebanon\"]], \"hoverlabel\": {\"namelength\": 0}, \"hovertemplate\": \"animation_frame=1977<br>event=%{customdata[0]}<br>lat=%{lat}<br>lon=%{lon}<br>color=%{marker.color}\", \"lat\": [33.7545, 33.7373, 33.8338, 33.7413, 33.7163, 33.6672, 33.7409, 33.6672, 33.7108, 33.7042, 33.6989, 33.6414, 33.6642, 33.7392, 33.8882, 33.3001, 33.2782, 33.3294, 33.1794, 33.3294, 33.6363, 33.2741, 33.1064, 33.3639], \"legendgroup\": \"\", \"lon\": [35.6015, 35.5977, 35.6205, 35.6692, 35.6575, 35.6703, 35.6993, 35.6703, 35.678, 35.678, 35.6303, 35.5866, 35.6207, 35.6323, 35.5009, 35.5435, 35.5514, 35.6139, 35.2262, 35.6139, 35.6181, 35.1925, 35.2313, 35.4906], \"marker\": {\"color\": [1, 1, 1, 1, 1, 1, 1, 1, 1, 1, 1, 1, 1, 1, 1, 1, 1, 1, 1, 1, 1, 1, 1, 1], \"coloraxis\": \"coloraxis\"}, \"mode\": \"markers\", \"name\": \"\", \"showlegend\": false, \"subplot\": \"mapbox\", \"type\": \"scattermapbox\"}], \"name\": \"1977\"}, {\"data\": [{\"customdata\": [[\"Christians executed near Aley\"], [\"Christians executed near Aley\"], [\"Family killed in Baalchmay\"], [\"Christians killes in Kfarmata\"], [\"Clashes among ADF, and PNL/Kataeb\"], [\"ADF bombs Ain al-Remmaneh and Badaro\"], [\"ADF bombs Ain al-Remmaneh and Badaro\"], [\"ADF bombs Ain al-Remmaneh and Badaro\"], [\"Open confrontation begins between Christian militias and ADF\"], [\"Open confrontation begins between Christian militias and ADF\"], [\"Strategic alliance between Lebanese Front and Syria ends\"], [\"Strategic alliance between Lebanese Front and Syria ends\"], [\"Strategic alliance between Lebanese Front and Syria ends\"], [\"Strategic alliance between Lebanese Front and Syria ends\"]], \"hoverlabel\": {\"namelength\": 0}, \"hovertemplate\": \"animation_frame=1978<br>event=%{customdata[0]}<br>lat=%{lat}<br>lon=%{lon}<br>color=%{marker.color}\", \"lat\": [33.7933, 33.6408, 33.8178, 33.727, 33.8679, 33.8852, 33.8679, 33.8728, 33.8634, 33.8679, 33.8852, 33.8728, 33.8475, 33.8679], \"legendgroup\": \"\", \"lon\": [35.5162, 35.6088, 35.6457, 35.5267, 35.5202, 35.5191, 35.5202, 35.5208, 35.5184, 35.5202, 35.5191, 35.5208, 35.5516, 35.5202], \"marker\": {\"color\": [1, 1, 1, 1, 1, 1, 1, 1, 1, 1, 1, 1, 1, 1], \"coloraxis\": \"coloraxis\"}, \"mode\": \"markers\", \"name\": \"\", \"showlegend\": false, \"subplot\": \"mapbox\", \"type\": \"scattermapbox\"}], \"name\": \"1978\"}, {\"data\": [{\"customdata\": [[\"Killing in Sirjbal to push out Christians\"], [\"Druze attacks on Christian villages at entrances to Aley/Chouf\"], [\"Druze attacks on Christian villages at entrances to Aley/Chouf\"], [\"Druze attacks on Christian villages at entrances to Aley/Chouf\"]], \"hoverlabel\": {\"namelength\": 0}, \"hovertemplate\": \"animation_frame=1979<br>event=%{customdata[0]}<br>lat=%{lat}<br>lon=%{lon}<br>color=%{marker.color}\", \"lat\": [33.6826, 33.7326, 33.7811, 33.662], \"legendgroup\": \"\", \"lon\": [35.5136, 35.5115, 35.7223, 35.5604], \"marker\": {\"color\": [1, 1, 1, 1], \"coloraxis\": \"coloraxis\"}, \"mode\": \"markers\", \"name\": \"\", \"showlegend\": false, \"subplot\": \"mapbox\", \"type\": \"scattermapbox\"}], \"name\": \"1979\"}, {\"data\": [{\"customdata\": [[\"More attacks on Christians\"], [\"More attacks on Christians\"], [\"More attacks on Christians\"], [\"More attacks on Christians\"]], \"hoverlabel\": {\"namelength\": 0}, \"hovertemplate\": \"animation_frame=1980<br>event=%{customdata[0]}<br>lat=%{lat}<br>lon=%{lon}<br>color=%{marker.color}\", \"lat\": [33.8116, 33.7373, 33.727, 33.6826], \"legendgroup\": \"\", \"lon\": [35.6718, 35.5977, 35.5267, 35.5136], \"marker\": {\"color\": [1, 1, 1, 1], \"coloraxis\": \"coloraxis\"}, \"mode\": \"markers\", \"name\": \"\", \"showlegend\": false, \"subplot\": \"mapbox\", \"type\": \"scattermapbox\"}], \"name\": \"1980\"}, {\"data\": [{\"customdata\": [[\"Christian civilians killed and displaced in Chouf\"], [\"Syrian Army shells South\"], [\"Syrian Army shells South\"], [\"Syrian Army shells South\"], [\"Clashes in the South among various actors\"], [\"Institute of Islamic Studies attacked\"], [\"Institute of Islamic Studies attacked\"], [\"Syrian Army continues shelling West Beirut\"], [\"Syrian Army continues shelling West Beirut\"], [\"Syrian Army continues shelling West Beirut\"], [\"Syrian Army bombs West Beirut\"], [\"Syrian Army continues shelling West Beirut\"], [\"Clashes in the South among various actors\"], [\"Clashes in the South among various actors\"], [\"Druze kidnap Christians from Mansourieh-Bhamdoun\"], [\"Druze kidnap Christians from Mansourieh-Bhamdoun\"], [\"Syrian Army attack against Joint Forces\"], [\"Syrian Army attack against Joint Forces\"], [\"Druze kidnap Christians from Mansourieh-Bhamdoun\"], [\"Looting and burning of Churches in Mansourieh-Bhamdoun \"], [\"Christian militias kill civilians in Mtein\"], [\"Druze civilians killed in Upper Metn\"], [\"Looting and burning of Churches in Mansourieh-Bhamdoun \"], [\"Syrian Army attack against Joint Forces\"], [\"Syrian Army attack against Joint Forces\"], [\"Airport bombed by Christian militias\"], [\"U.S. Ambassador kidnapped and killed\"], [\"Joint Forces attack Christian village in Jezzine\"], [\"LAA bombards Higher Shia Council\"], [\"Attack on Chekka and Hamat\"], [\"Syrian Army attack against Joint Forces\"], [\"Attack on Chekka and Hamat\"], [\"Attack on Chekka and Hamat\"], [\"Syrian Army bombs West Beirut\"], [\"Syrian Army bombs West Beirut\"], [\"Druze offensive on Christian villages\"], [\"Druze offensive on Christian villages\"], [\"Druze offensive on Christian villages\"], [\"Civilians killed in Mtein\"], [\"Druze offensive on Christian villages\"], [\"Druze offensive on Christian villages\"], [\"Druze offensive on Christian villages\"], [\"Druze offensive on Christian villages\"], [\"Druze offensive on Christian villages\"], [\"Druze men attack Abadieh family\"], [\"Attack on Qobayat\"], [\"Joint Forces attack Christian areas\"], [\"LAA bombard presidential palace\"], [\"LAA bombard presidential palace\"], [\"Attack on Kab-Elias prompts displacement\"], [\"Joint Forces attack Christian areas\"], [\"Joint Forces attack Christian areas\"], [\"Joint Forces attack Christian areas\"], [\"Joint Forces attack Christian areas\"], [\"Joint Forces attack Christian areas\"], [\"Druze offensive on Christian villages\"], [\"Druze offensive on Christian villages\"], [\"Jounieh and Bkerke bombed\"], [\"Elias Sarkis elected president\"], [\"Elias Sarkis elected president\"], [\"Kataeb take control of Port of Beirut\"], [\"Jounieh and Bkerke bombed\"], [\"Edde injured in assassination attempt\"], [\"Confrontation between Joint Forces and Syrian Army\"], [\"Confrontation between Joint Forces and Syrian Army\"], [\"Linda Jumblatt killed in apartment\"], [\"Kataeb take control of Port of Beirut\"], [\"Druze offensive on Christian villages\"], [\"Druze offensive on Christian villages\"], [\"Druze offensive on Christian villages\"], [\"Druze offensive on Christian villages\"], [\"Druze offensive on Christian villages\"], [\"Druze offensive on Christian villages\"], [\"Druze offensive on Christian villages\"], [\"Druze offensive on Christian villages\"], [\"Druze offensive on Christian villages\"], [\"Druze offensive on Christian villages\"], [\"Attack on Kab-Elias prompts displacement\"], [\"Attack on Kab-Elias prompts displacement\"], [\"Fall of Tal el-Zaatar and Jisr el-Basha\"], [\"Fall of Tal el-Zaatar and Jisr el-Basha\"], [\"Attack on Maslakh-Karantina camp\"], [\"Siege of Dbayeh camp\"], [\"Shelling of residential East and West Beirut\"], [\"Siege of Jiyeh and Damour begins\"], [\"Attack to empty Damour and Jiyeh\"], [\"Attack to empty Damour and Jiyeh\"], [\"Siege of Jiyeh and Damour begins\"], [\"Siege of Tal el-Zaatar and Jisr el-Basha camps\"], [\"Siege of Tal el-Zaatar and Jisr el-Basha camps\"], [\"Sieges set off clashes in other areas\"], [\"Sieges set off clashes in other areas\"], [\"Hawsh-Barada attacked\"], [\"Hawsh-Barada attacked\"], [\"Hawsh-Barada attacked\"], [\"Civilians killed in Akkar\"], [\"Sieges set off clashes in other areas\"], [\"Sieges set off clashes in other areas\"], [\"Sieges set off clashes in other areas\"], [\"Sieges set off clashes in other areas\"], [\"Sieges set off clashes in other areas\"], [\"As-Saiqa attacks newspaper offices\"], [\"Armed men set up West Beirut checkpoints\"], [\"Sieges set off clashes in other areas\"]], \"hoverlabel\": {\"namelength\": 0}, \"hovertemplate\": \"animation_frame=1976<br>event=%{customdata[0]}<br>lat=%{lat}<br>lon=%{lon}<br>color=%{marker.color}\", \"lat\": [33.7009, 33.543, 33.5475, 33.5626, 33.3294, 33.2741, 33.2614, 33.9052, 33.8693, 33.8934, 33.8738, 33.8963, 33.3642, 33.2741, 33.7802, 33.7688, 33.8757, 33.8915, 33.7966, 33.7802, 33.8915, 33.8853, 33.7966, 33.8238, 33.8491, 33.8287, 33.9052, 33.409, 33.8526, 34.4301, 33.8374, 34.3287, 34.2868, 33.8787, 33.8815, 33.8613, 33.8757, 33.6672, 33.8915, 33.8203, 33.7373, 33.8238, 33.6656, 33.6602, 33.8338, 34.5717, 33.8852, 33.9701, 33.8349, 33.7943, 33.8757, 33.8915, 33.8574, 33.8338, 33.7966, 33.8321, 33.7307, 33.9679, 33.8882, 34.4301, 33.9052, 33.9823, 33.9148, 33.8882, 33.5626, 33.8882, 33.9011, 33.7811, 33.7112, 33.8652, 33.8338, 33.771, 33.783, 33.6642, 33.8286, 33.8633, 33.8852, 33.8882, 33.7811, 33.8693, 33.8664, 33.9021, 33.9433, 33.8882, 33.7307, 33.7307, 33.6674, 33.6674, 33.8664, 33.8693, 33.8693, 33.8838, 33.8491, 34.0111, 33.6962, 34.5056, 33.8949, 33.9, 33.8815, 33.8953, 33.8852, 33.8882, 33.8882, 34.4301], \"legendgroup\": \"\", \"lon\": [35.5956, 35.3966, 35.3846, 35.3678, 35.6139, 35.1925, 35.2382, 35.5063, 35.5018, 35.4896, 35.5022, 35.482, 35.5862, 35.1925, 35.6265, 35.6289, 35.7963, 35.74, 35.6499, 35.6265, 35.74, 35.6931, 35.6499, 35.7363, 35.9027, 35.4953, 35.5063, 35.5553, 35.5399, 35.8526, 35.741, 35.7313, 35.6929, 35.5029, 35.5069, 35.6293, 35.7963, 35.6703, 35.74, 35.7073, 35.5977, 35.7363, 35.4884, 35.4954, 35.6205, 36.2804, 35.7737, 35.6197, 35.5455, 35.8203, 35.7963, 35.74, 35.5715, 35.6205, 35.6499, 35.7152, 35.4569, 35.6329, 35.5009, 35.8526, 35.5063, 35.6382, 35.5921, 35.5009, 35.3678, 35.5009, 35.5113, 35.7223, 35.5109, 35.6385, 35.6205, 35.646, 35.4759, 35.6207, 35.6084, 35.7591, 35.7737, 35.5009, 35.7223, 35.549, 35.5393, 35.5312, 35.5903, 35.5009, 35.4569, 35.4569, 35.4251, 35.4251, 35.5393, 35.549, 35.549, 35.5268, 35.9027, 36.1195, 35.5611, 36.1446, 35.5269, 35.4851, 35.5069, 35.4956, 35.5191, 35.5009, 35.5009, 35.8526], \"marker\": {\"color\": [1, 1, 1, 1, 1, 1, 1, 1, 1, 1, 1, 1, 1, 1, 1, 1, 1, 1, 1, 1, 1, 1, 1, 1, 1, 1, 1, 1, 1, 1, 1, 1, 1, 1, 1, 1, 1, 1, 1, 1, 1, 1, 1, 1, 1, 1, 1, 1, 1, 1, 1, 1, 1, 1, 1, 1, 1, 1, 1, 1, 1, 1, 1, 1, 1, 1, 1, 1, 1, 1, 1, 1, 1, 1, 1, 1, 1, 1, 1, 1, 1, 1, 1, 1, 1, 1, 1, 1, 1, 1, 1, 1, 1, 1, 1, 1, 1, 1, 1, 1, 1, 1, 1, 1], \"coloraxis\": \"coloraxis\"}, \"mode\": \"markers\", \"name\": \"\", \"showlegend\": false, \"subplot\": \"mapbox\", \"type\": \"scattermapbox\"}], \"name\": \"1976\"}, {\"data\": [{\"customdata\": [[\"Fighting between Joint Forces and Lebanese Front/Syrian Army\"], [\"Fighting between Joint Forces and Lebanese Front/Syrian Army\"], [\"Fighting between Joint Forces and Lebanese Front/Syrian Army\"], [\"Israeli air strikes against Palestinian camps\"], [\"Israeli air strikes against Palestinian camps\"], [\"Israeli air strikes against Palestinians\"], [\"Israeli air strikes against Palestinian camps\"], [\"Israeli attack on Palestinian camps near Sour\"], [\"Israeli air strikes against Palestinians\"], [\"Fighting resumes in North and Beirut\"], [\"Fighting resumes in North and Beirut\"], [\"Attacks on Christian in North Lebanon\"], [\"Zgharta Christian kills Tripoli Muslims\"], [\"Fighting resumes in North and Beirut\"], [\"Fighting resumes in North and Beirut\"], [\"Fighting resumes in North and Beirut\"], [\"Fighting resumes in North and Beirut\"], [\"Fighting resumes in North and Beirut\"], [\"Clashes in North Lebanon\"], [\"Clashes in North Lebanon\"], [\"As-Saiqa attack Zahle suburb\"], [\"Christian-Muslim clash in Zahle\"], [\"Christian-Muslim clash in Zahle\"], [\"Christian village of Qa'a in North Bekaa attacked\"], [\"Casulaties in Haoush al-Ummarra\"], [\"Three found dead in Saadnayel\"], [\"Round of clashes in Zahle\"], [\"Gunmen attack mill in Taalabaya\"], [\"Clashes in Zahle\"], [\"Fighting resumes in North and Beirut\"], [\"Kataeb attack on BCD\"], [\"Siege of Zahle\"], [\"Siege of Zahle\"], [\"Demonstrations to protest the violence\"], [\"Demonstrations to protest the violence\"], [\"Siege of Zahle\"], [\"Black Saturday\"], [\"Forced displacements\"], [\"Hotel district battle\"], [\"Black Saturday (continued)\"], [\"Demonstrations to protest the violence\"], [\"Demonstrations to protest the violence\"], [\"Demonstrations to protest the violence\"], [\"Demonstrations to protest the violence\"], [\"Attack on Christians in Akkar\"], [\"Attack on Christians in Akkar\"], [\"Demonstrations to protest the violence\"], [\"Demonstrations to protest the violence\"], [\"Demonstrations to protest the violence\"], [\"Demonstrations to protest the violence\"], [\"Demonstrations to protest the violence\"], [\"Fighting spreads to the North, Beqaa, and Shouf\"], [\"Fighting spreads to the North, Beqaa, and Shouf\"], [\"Fighting broke out in several areas in Beirut\"], [\"Fighting broke out in several areas in Beirut\"], [\"Fighting broke out in several areas in Beirut\"], [\"Fighting broke out in several areas in Beirut\"], [\"Fighting broke out in several areas in Beirut\"], [\"Fighting broke out in several areas in Beirut\"], [\"Clashes between PLO and Kataeb near Tal el-Zaatar and Dekwaneh\"], [\"Clashes between PLO and Kataeb near Tal el-Zaatar and Dekwaneh\"], [\"Fighting broke out in several areas in Beirut\"], [\"Fighting broke out in several areas in Beirut\"], [\"Fighting broke out in several areas in Beirut\"], [\"Bus transporting Palestinians shot at in Ain Al-Remmaneh killing 27 people\"], [\"Dispute between Kataeb security members and a car passenger\"], [\"Renewed clashes in Saida\"], [\"Maarouf Saad Assassinated in Saida\"], [\"Fighting broke out in several areas in Beirut\"], [\"Fighting broke out in several areas in Beirut\"], [\"Fighting broke out in several areas in Beirut\"], [\"Fighting broke out in several areas in Beirut\"], [\"Fighting broke out in several areas in Beirut\"], [\"Clashes between PLO and Kataeb near Tal el-Zaatar and Dekwaneh\"], [\"Clashes between PLO and Kataeb near Tal el-Zaatar and Dekwaneh\"], [\"Residential areas of Beirut bombarded\"], [\"Shelling of east Beirut and clashes on front lines\"], [\"Shelling of east Beirut and clashes on front lines\"], [\"Shelling of east Beirut and clashes on front lines\"], [\"Residential areas of Beirut bombarded\"], [\"Residential areas of Beirut bombarded\"], [\"Fighting spreads to the North, Beqaa, and Shouf\"], [\"Fighting spreads to the North, Beqaa, and Shouf\"], [\"Intense clashes\"], [\"Shelling of east Beirut and clashes on front lines\"], [\"Shelling of east Beirut and clashes on front lines\"], [\"Shelling of Tal el-Zaatar and additional neighborhood shootings\"], [\"Shelling of Tal el-Zaatar and additional neighborhood shootings\"], [\"Clashes between PLO and Kataeb near Tal el-Zaatar and Dekwaneh\"], [\"Shelling of Tal el-Zaatar and additional neighborhood shootings\"], [\"Clashes spread in Beirut, dividing the city in two\"], [\"Shelling of east Beirut and clashes on front lines\"], [\"Black Thursday\"], [\"Black Thursday\"], [\"Forced displacements\"], [\"Forced displacements\"], [\"Forced displacement of Sebnay\"], [\"First forced displacement occurs in Haret el-Ghawarneh/Antelias\"], [\"First forced displacement occurs in Haret el-Ghawarneh/Antelias\"], [\"First forced displacement occurs in Haret el-Ghawarneh/Antelias\"], [\"Governor of Tripoli assassinated as violence continues in East Beirut\"], [\"Governor of Tripoli assassinated as violence continues in East Beirut\"], [\"Fighting in Tripoli, Zgharta, and Zahle\"], [\"Fighting in Tripoli, Zgharta, and Zahle\"], [\"Fighting in Tripoli, Zgharta, and Zahle\"], [\"Attack on Taalabaya\"], [\"Clashes resume in the North and the Bekaa\"], [\"Clashes resume in the North and the Bekaa\"], [\"Civilians killed in northern villages\"], [\"Civilians killed in northern villages\"], [\"Clashes resume in the North and the Bekaa\"], [\"Clashes resume in the North and the Bekaa\"]], \"hoverlabel\": {\"namelength\": 0}, \"hovertemplate\": \"animation_frame=1975<br>event=%{customdata[0]}<br>lat=%{lat}<br>lon=%{lon}<br>color=%{marker.color}\", \"lat\": [33.5626, 33.2741, 34.4301, 33.3639, 34.505, 33.2741, 34.454, 33.2741, 34.505, 34.3967, 33.8634, 34.5296, 34.4301, 33.8679, 34.4301, 33.9052, 33.8491, 33.8693, 34.4301, 34.3967, 33.8364, 33.8491, 33.8205, 34.3443, 33.8364, 33.8205, 33.8491, 33.8163, 33.8491, 33.8761, 33.9052, 34.0052, 33.8491, 33.8787, 33.8882, 34.4301, 33.8778, 33.8845, 33.9052, 33.9011, 33.8773, 34.3601, 33.8965, 33.8039, 34.4768, 34.5959, 33.8447, 33.8943, 33.8349, 33.8845, 33.8877, 34.4301, 34.3967, 33.6488, 33.8761, 33.8529, 33.8852, 33.9011, 33.8634, 33.8761, 33.8845, 33.6466, 34.4301, 33.5626, 33.8679, 33.8679, 33.5626, 33.5626, 33.8432, 33.8679, 33.8693, 33.838, 34.3967, 33.8634, 33.8664, 33.9, 33.8915, 33.8634, 33.8851, 33.8949, 33.8838, 33.8491, 33.8101, 33.8882, 33.8728, 33.8852, 33.8761, 33.8778, 33.8693, 33.8693, 33.8882, 33.8679, 33.8964, 33.8882, 33.8664, 33.8693, 33.8329, 33.9098, 33.9148, 33.8432, 33.8882, 34.4301, 33.8491, 34.4301, 34.3967, 33.8163, 34.3967, 34.4301, 34.5648, 34.5129, 33.8491, 34.4768], \"legendgroup\": \"\", \"lon\": [35.3678, 35.1925, 35.8526, 35.4906, 35.9629, 35.1925, 35.8636, 35.1925, 35.9629, 35.8958, 35.5184, 36.1618, 35.8526, 35.5202, 35.8526, 35.5063, 35.9027, 35.549, 35.8526, 35.8958, 35.9027, 35.9027, 35.8819, 36.4732, 35.9027, 35.8819, 35.9027, 35.8629, 35.9027, 35.549, 35.5063, 36.208, 35.9027, 35.5622, 35.5009, 35.8526, 35.5779, 35.5397, 35.5063, 35.5113, 35.5345, 35.8889, 35.5199, 35.6041, 36.1816, 36.0707, 35.5224, 35.5578, 35.5455, 35.5397, 35.5412, 35.8526, 35.8958, 35.4552, 35.549, 35.5088, 35.5191, 35.5113, 35.5184, 35.549, 35.5397, 35.4579, 35.8526, 35.3678, 35.5202, 35.5202, 35.3678, 35.3678, 35.5033, 35.5202, 35.549, 35.5104, 35.8958, 35.5184, 35.5393, 35.4851, 35.5078, 35.5184, 35.5117, 35.5269, 35.5268, 35.9027, 35.5964, 35.5009, 35.5208, 35.5191, 35.549, 35.5779, 35.549, 35.549, 35.5009, 35.5202, 35.5039, 35.5009, 35.5393, 35.549, 35.5362, 35.5882, 35.5921, 35.5033, 35.5009, 35.8526, 35.9027, 35.8526, 35.8958, 35.8629, 35.8958, 35.8526, 36.1758, 36.0542, 35.9027, 36.1816], \"marker\": {\"color\": [1, 1, 1, 1, 1, 1, 1, 1, 1, 1, 1, 1, 1, 1, 1, 1, 1, 1, 1, 1, 1, 1, 1, 1, 1, 1, 1, 1, 1, 1, 1, 1, 1, 1, 1, 1, 1, 1, 1, 1, 1, 1, 1, 1, 1, 1, 1, 1, 1, 1, 1, 1, 1, 1, 1, 1, 1, 1, 1, 1, 1, 1, 1, 1, 1, 1, 1, 1, 1, 1, 1, 1, 1, 1, 1, 1, 1, 1, 1, 1, 1, 1, 1, 1, 1, 1, 1, 1, 1, 1, 1, 1, 1, 1, 1, 1, 1, 1, 1, 1, 1, 1, 1, 1, 1, 1, 1, 1, 1, 1, 1, 1], \"coloraxis\": \"coloraxis\"}, \"mode\": \"markers\", \"name\": \"\", \"showlegend\": false, \"subplot\": \"mapbox\", \"type\": \"scattermapbox\"}], \"name\": \"1975\"}, {\"data\": [{\"customdata\": [[\"Christian civilians murdered in response to LF checkpoint\"], [\"Christian civilians murdered in response to LF checkpoint\"], [\"Christian civilians murdered in response to LF checkpoint\"], [\"A PSP member murders 63 Christian civilians \"], [\"Christian civilians murdered in response to LF checkpoint\"], [\"Christian civilians murdered in response to LF checkpoint\"], [\" Sectarian-based killings in Baabda\"], [\"Christian civilians murdered in Aley and Baabda \"], [\"Christian civilians murdered in Aley and Baabda \"], [\"Executions of Christian civilians in the Chouf \"], [\"PSP murders Christian civilians and LF members \"], [\"PSP murder Christians in Aley and in the Chouf\"], [\"LF murder Druz civilians in Aley \"], [\"LF murder Druz civilians in Aley \"], [\"LF murder Druz civilians in Aley \"], [\"PSP murder Christians in Aley and in the Chouf\"], [\"PSP murder Christians in Aley and in the Chouf\"], [\"PSP murders Christian civilians and LF members \"], [\"PSP murder Christians in Aley and in the Chouf\"], [\"PSP murder Christians in Aley and in the Chouf\"], [\" Sectarian-based killings in Baabda\"], [\" Sectarian-based killings in Baabda\"], [\" Sectarian-based killings in the Chouf \"], [\" Sectarian-based killings in the Chouf \"], [\"Sectarian-based killings in Aley \"], [\"Sectarian-based killings in Aley \"], [\" Sectarian-based killings in the Chouf \"], [\" Sectarian-based killings in the Chouf \"], [\" Sectarian-based killings in the Chouf \"], [\" Sectarian-based killings in the Chouf \"], [\" Sectarian-based killings in the Chouf \"], [\"Sectarian-based killings in Aley \"], [\"Sectarian-based killings in Aley \"], [\"Sectarian-based killings in Aley \"], [\"Sectarian-based killings in Aley \"], [\" Sectarian-based killings in Baabda\"], [\" Sectarian-based killings in Baabda\"], [\"Sectarian-based killings in Aley \"], [\"Sectarian-based killings in Aley \"], [\"Sectarian-based killings in Aley \"], [\"Sectarian-based killings in Aley \"], [\"Sectarian-based killings in Aley \"], [\"Murder of Christians continues \"], [\"Murder of Christians continues \"], [\"PSP and Syrian Army shell East Beirut \"], [\"PSP and Syrian Army shell East Beirut \"], [\"PSP attacks and loots Christian quarters of Aley \"], [\"Clashes between LF forces and PSP continue\"], [\"PSP and Syrian Army shell East Beirut \"], [\"PSP and Syrian Army shell East Beirut \"], [\"PSP and Syrian Army shell East Beirut \"], [\"PSP and Syrian Army shell East Beirut \"], [\"PSP and Syrian Army shell East Beirut \"], [\"Clashes between LF forces and PSP continue\"], [\"Clashes between LF forces and PSP continue\"], [\"Clashes between LF forces and PSP continue\"], [\"Clashes between LF forces and PSP continue\"], [\"Clashes between LF forces and PSP continue\"], [\"Clashes between LF forces and PSP continue\"], [\"Clashes between LF forces and PSP continue\"], [\"Clashes between LF forces and PSP continue\"], [\"Clashes between LF forces and PSP continue\"], [\"Clashes between LF forces and PSP continue\"], [\"PSP and Syrian Army shell East Beirut \"], [\"PSP and Syrian Army shell East Beirut \"], [\"Murder of Christians at Ammiq and Selfaya \"], [\"Murder of Christians at Ammiq and Selfaya \"], [\"Houses in al-Abadieh set on fire \"], [\"Executions at Bmaryam \"], [\"Murder of Druze civilians in Kfarmatta \"], [\"The PSP takes control of Bhmandoun \"], [\"Murder of Christians continues \"], [\"Murder of Christians continues \"], [\"The PSP takes control of Bhmandoun \"], [\"Syrian and PSP artillery shells East Beirut \"], [\"Shelling on Ashrafieh continues \"], [\"Executions and Kidnapping of civilians at Kfarhim and Deir Dourit\"], [\"Executions and Kidnapping of civilians at Kfarhim and Deir Dourit\"], [\"PSP and Syrian Army shell East Beirut \"], [\"Shelling on Ashrafieh \"], [\"LF responds to Ashrafieh shelling \"], [\"LF responds to Ashrafieh shelling \"], [\"LF responds to Ashrafieh shelling \"], [\"LF responds to Ashrafieh shelling \"], [\" Sectarian-based killings in the Chouf \"], [\" Sectarian-based killings in the Chouf \"], [\"The LF and PSP abducted members from each other\\u2019s militias in Deir Durit and in Kfarhim. 23 of these hostages were killed. \"], [\"The LF and PSP abducted members from each other\\u2019s militias in Deir Durit and in Kfarhim. 23 of these hostages were killed. \"], [\"the Israeli Army carries out unlawful detentions in Saida\"], [\"Members close to the LF forced 12 Muslim families to evacuate their homes in the area of Saida\"], [\" The Israeli Army lays siege to the village of Deir Qanoun and Ansar\"], [\" The Israeli Army lays siege to the village of Deir Qanoun and Ansar\"], [\"75,000 residents flee the city of Tripoli\"], [\"Displacement of 208 Palestinian families from Saida due to killings and threats\"], [\"PSP shelling over East Beirut and its suburbs\"], [\"PSP shelling over East Beirut and its suburbs\"], [\"PSP shelling over East Beirut and its suburbs\"], [\"PSP shelling over East Beirut and its suburbs\"], [\"The Lebanese Army resorts to heavy artillery shelling on southern suburbs \"], [\"PSP shelling over East Beirut and its suburbs\"], [\"Forced displacement of 5,500 Christian civilians from the Shuf to South Lebanon\"], [\" PSP militias shelles a monastery in the village of Jun\"], [\"Forced displacement of 5,500 Christian civilians from the Shuf to South Lebanon\"], [\"Christian quarters in Baabda burned \"], [\"Christian quarters in Baabda burned \"], [\" Sectarian-based killings in the Chouf \"], [\" Sectarian-based killings in the Chouf \"], [\" Sectarian-based killings in the Chouf \"], [\" Sectarian-based killings in the Chouf \"], [\" Sectarian-based killings in the Chouf \"], [\"Bombing on Deir al-Qamar \"], [\"Christian quarters in Baabda burned \"], [\"Seven Christians were found killed in Ammiq\"], [\"Deir al-Qamar Siege claims lives of 8 people \"], [\"Armed men open fire on civilian cars entering Tripoli\"], [\"20 dead and 35 wounded in less than 24 hours in Tripoli\"], [\"Heavy bombardment on  Ba\\u2019l Mohsen-Qobbeh-Bab al-Tabbaneh\"], [\"Blast at Tripoli Mosque claim 20 civilian lives after Friday prayer\"], [\"A bomb explodes in front of a hospital and a school in Tripoli\"], [\"Shelling claim lives of 600 civilians and combatants, 1055 wounded\"], [\"The Islamic Tawhid Party takes over Tripoli and executes 100 leftist\"], [\"The Islamic Tawhid Party takes over Tripoli and executes 100 leftist\"], [\"Druze Sheikh Halim Takieddin assassinated in his home\"], [\"Two suicide attacks targeting U.S troops and French troops claim 303 lives\"], [\"Suicide attack at U.S. embassy kills 63 and injures 100\"], [\"2 explosions, one in Damascus Road and one inside the Marble Tower Hotel\"], [\"2 explosions, one in Damascus Road and one inside the Marble Tower Hotel\"], [\" 16 civilians killed and 10 wounded by explosion in front of Makassed Hospital,Tarik al-Jdideh \"], [\"6 people killed by an explosion near the offices of the Murabitun in Tarik al-Jdideh\"], [\"Haret Hreik explosion kills 13 people and wounds 40\"], [\" 30 civilians killed in an explosion in the offices of Palestinian organizations in Shtura, Beqaa \"], [\"Bomb placed in front of the Palestinian Research Institute, offices of the PLO on Caracas Street kills 12\"], [\"Two civilians killed by a car bomb placed close to offices of the Kataeb Party\"], [\"TNT bomb blows up in a busy vegetable market, killing 39 civilians and wounding 133 in Beqaa, Baalbek \"], [\"6 employees and 2 security guards killed by an explosion in front of the Summerland Hotel \"], [\"An explosive close to offices of the Iranian Revolutionary Guards kills 2 civilians \"]], \"hoverlabel\": {\"namelength\": 0}, \"hovertemplate\": \"animation_frame=1983<br>event=%{customdata[0]}<br>lat=%{lat}<br>lon=%{lon}<br>color=%{marker.color}\", \"lat\": [33.7144, 33.7009, 33.7392, 33.6672, 33.8488, 33.6852, 33.8219, 33.7555, 33.8286, 33.7217, 33.658, 33.7217, 33.7351, 33.7492, 33.7364, 33.7382, 33.7392, 33.6947, 33.7413, 33.7244, 33.8116, 33.8178, 33.7108, 33.6789, 33.8061, 33.7545, 33.6826, 33.6683, 33.6898, 33.7409, 33.7307, 33.7373, 33.8101, 33.7889, 33.7389, 33.8633, 33.8224, 33.7351, 33.7867, 33.7901, 33.7811, 33.7567, 33.7973, 33.8574, 33.8943, 33.8852, 33.8101, 33.8169, 33.8872, 33.8972, 33.8972, 33.8872, 33.8793, 33.8574, 33.8851, 33.8438, 33.7717, 33.7382, 33.7688, 33.7878, 33.8349, 33.7966, 33.7373, 33.8793, 33.8943, 33.7175, 33.7387, 33.8338, 33.8321, 33.727, 33.8071, 33.7966, 33.7109, 33.7966, 33.8852, 33.8852, 33.6882, 33.6852, 33.8852, 33.8852, 33.8203, 33.8374, 33.8238, 33.8125, 33.7382, 33.7042, 33.6882, 33.6852, 33.5626, 33.5626, 33.2053, 33.3781, 34.4301, 33.5626, 33.8349, 33.8359, 33.8574, 33.8309, 33.848, 33.8621, 33.5626, 33.5838, 33.5423, 33.8604, 33.8565, 33.6771, 33.6989, 33.6414, 33.7118, 33.7163, 33.6962, 33.8741, 33.7175, 33.6962, 34.4301, 34.4301, 34.4396, 34.4301, 34.4301, 34.4301, 34.4301, 34.4301, 33.8882, 33.861, 33.8882, 33.8783, 33.3243, 33.8738, 33.8738, 33.8529, 33.8152, 33.8963, 33.9148, 34.0052, 33.8611, 34.0052], \"legendgroup\": \"\", \"lon\": [35.6293, 35.5956, 35.6323, 35.6703, 35.6652, 35.5435, 35.6527, 35.5719, 35.6084, 35.638, 35.4869, 35.638, 35.5298, 35.5311, 35.545, 35.6404, 35.6323, 35.5817, 35.6692, 35.6222, 35.6718, 35.6457, 35.678, 35.5231, 35.6263, 35.6015, 35.5136, 35.5106, 35.5418, 35.6993, 35.4569, 35.5977, 35.5964, 35.5428, 35.5636, 35.7591, 35.6725, 35.5298, 35.6103, 35.6366, 35.7223, 35.7163, 35.6197, 35.5715, 35.5578, 35.5191, 35.5964, 35.5351, 35.5567, 35.5756, 35.5756, 35.5567, 35.5254, 35.5715, 35.633, 35.5322, 35.6866, 35.6404, 35.6289, 35.6597, 35.5455, 35.6499, 35.5977, 35.5254, 35.5578, 35.5814, 35.57, 35.6205, 35.7152, 35.5267, 35.6593, 35.6499, 35.6391, 35.6499, 35.5191, 35.5191, 35.5233, 35.5435, 35.5191, 35.5191, 35.7073, 35.741, 35.7363, 35.6958, 35.6404, 35.678, 35.5233, 35.5435, 35.3678, 35.3678, 35.2547, 35.353, 35.8526, 35.3678, 35.5455, 35.5534, 35.5715, 35.576, 35.4847, 35.5495, 35.3678, 35.459, 35.586, 35.6896, 35.7251, 35.5146, 35.6303, 35.5866, 35.5873, 35.6575, 35.5611, 35.6945, 35.5814, 35.5611, 35.8526, 35.8526, 35.8468, 35.8526, 35.8526, 35.8526, 35.8526, 35.8526, 35.5009, 35.4909, 35.5009, 35.5201, 35.4933, 35.5022, 35.5022, 35.5088, 35.8522, 35.482, 35.5921, 36.208, 35.5102, 36.208], \"marker\": {\"color\": [1, 1, 1, 1, 1, 1, 1, 1, 1, 1, 1, 1, 1, 1, 1, 1, 1, 1, 1, 1, 1, 1, 1, 1, 1, 1, 1, 1, 1, 1, 1, 1, 1, 1, 1, 1, 1, 1, 1, 1, 1, 1, 1, 1, 1, 1, 1, 1, 1, 1, 1, 1, 1, 1, 1, 1, 1, 1, 1, 1, 1, 1, 1, 1, 1, 1, 1, 1, 1, 1, 1, 1, 1, 1, 1, 1, 1, 1, 1, 1, 1, 1, 1, 1, 1, 1, 1, 1, 1, 1, 1, 1, 1, 1, 1, 1, 1, 1, 1, 1, 1, 1, 1, 1, 1, 1, 1, 1, 1, 1, 1, 1, 1, 1, 1, 1, 1, 1, 1, 1, 1, 1, 1, 1, 1, 1, 1, 1, 1, 1, 1, 1, 1, 1, 1, 1], \"coloraxis\": \"coloraxis\"}, \"mode\": \"markers\", \"name\": \"\", \"showlegend\": false, \"subplot\": \"mapbox\", \"type\": \"scattermapbox\"}], \"name\": \"1983\"}, {\"data\": [{\"customdata\": [[\"French national Michel Brillant was abducted  in Hamra and released four days later in the Beqaa and then transported to  Damascus \"], [\"16 civilians, including doctors and nurses who had been abducted in previous days, were released in Nabatiyeh\"], [\"The second secretary at the South Korean embassy, Do Chaie Sung, was abducted in Ramlet al-Bayda\"], [\"Three employees from the Spanish embassy were abducted in Beirut and released on February 19, 1986\"], [\"French national Michel Brillant was abducted  in Hamra and released four days later in the Beqaa and then transported to  Damascus \"], [\"Irish national Brian Keenan, an English teacher at AUB, was abducted in Beirut \"], [\"Two American nationals were abducted and released at the end of April 199o and  in December 1991.\"], [\"Eleven Lebanese were captured in Lebanon, transferred to and tried in Israel\"], [\" A man from Shaqra died in custody in South Lebanon, in Center 17\"], [\" A 36-year-old man detained in Khiyam died after torture and ill-treatment\"], [\"Six people were killed and 87 injured by a car bomb parked  in front of a printing press in Sin al-Fil\"], [\" 3 people were killed and 36 wounded car bomb parked in Saida\"], [\"A bomb in Kesrwan, Jounieh, kills 10 civilians and injures 114\"], [\"Another car bomb in Sin al-Fil killes 6 peopleand injures  73 people\"], [\"A car bomb explods in Sin al-Fil killing 4 civilians and injuring 17 people\"], [\"Eleven Lebanese were captured in Lebanon, transferred to and tried in Israel\"], [\"Eleven Lebanese were captured in Lebanon, transferred to and tried in Israel\"], [\"Eleven Lebanese were captured in Lebanon, transferred to and tried in Israel\"], [\" The PLO responds to Amal\\u2019s shelling of the Chatila and Burj al-Barajneh, by shelling West Beirut\"], [\" The PLO responds to Amal\\u2019s shelling of the Chatila and Burj al-Barajneh, by shelling West Beirut\"]], \"hoverlabel\": {\"namelength\": 0}, \"hovertemplate\": \"animation_frame=1986<br>event=%{customdata[0]}<br>lat=%{lat}<br>lon=%{lon}<br>color=%{marker.color}\", \"lat\": [34.0052, 33.3639, 33.8877, 33.8882, 33.8963, 33.8882, 33.8882, 33.2217, 33.1289, 33.3294, 33.8773, 33.5626, 33.9823, 33.8773, 33.8773, 33.0976, 33.1692, 33.194, 33.8432, 33.8693], \"legendgroup\": \"\", \"lon\": [36.208, 35.4906, 35.4734, 35.5009, 35.482, 35.5009, 35.5009, 35.4636, 35.4385, 35.6139, 35.5345, 35.3678, 35.6382, 35.5345, 35.5345, 35.3345, 35.5203, 35.4088, 35.5033, 35.5018], \"marker\": {\"color\": [1, 1, 1, 1, 1, 1, 1, 1, 1, 1, 1, 1, 1, 1, 1, 1, 1, 1, 1, 1], \"coloraxis\": \"coloraxis\"}, \"mode\": \"markers\", \"name\": \"\", \"showlegend\": false, \"subplot\": \"mapbox\", \"type\": \"scattermapbox\"}], \"name\": \"1986\"}, {\"data\": [{\"customdata\": [[\"French reporter Roger Auque was abducted in West Beirut and was released  on November 27, 1987, close to the Summerland Hotel in Beirut\"], [\"The director of Dar al-Handassah, Saba Abdo, was  abducted in Hamra\"], [\"French reporter Roger Auque was abducted in West Beirut and was released  on November 27, 1987, close to the Summerland Hotel in Beirut\"], [\"Two West Germans were  abducted in West Beirut\"], [\"Two employees of the Middle East Airlines (MEA)were abducted at the Museum crossing in Beirut\"], [\"American journalist Charles Glass was abducted with Adel Osseiran and his bodyguard in West Beirut\"], [\"U.K. national Terry Waitewas  abducted in the Beqaa and was released in November 1991.\"], [\" In the area of Zalka, two pupils were killed, and 45 injured as a car bomb blew up as a school bus passed \"], [\" A car bomb in Ruweiss killed 15 people and injured 62 civilians\"], [\"A car bomb in Ramlet al-Bayda, West Beirut, kills 6 people and injures 12\"], [\"In Zalqa and neighboring Jal al-Dib, a car bomb killed 5 and injured 2 \"], [\"In Zalqa and neighboring Jal al-Dib, a car bomb killed 5 and injured 2 \"], [\"A bomb was set off at the Beirut airport, killing 3 civilians and injuring 65 \"], [\" A woman suicide bomber carried a time bomb into the American University  Hospital (AUH) and killed herself and 6 civilians and injured 31.\"], [\"Two Lebanese were arrested at a LF checkpoint in Beirut; they were detained  in the suburbs of Adonis and allegedly tortured\"], [\"One hundred and twenty detainees from Khiyam went on a three-day hunger  strike\"], [\"A South Lebanese man in his 50s from Hula was arrested because he refused to  collaborate with Israeli forces\"], [\"An Israeli air raid on the camp of Ain al-Hilweh  kills 39 people and injures 70.\"], [\"Israeli Army bombs 21 villages in South Lebanon and the Western Beqaa\"], [\"An Israeli raid on Palestinian bases in Maghdouche kills two civilians and injured nine\"], [\"Fighting breaks out between the Nasserite Popular Organization and Fatah fighters in Saida\"], [\"The War of the Camps worsenes in Shatila and Burj al-Barajneh\"], [\"The War of the Camps worsenes in Shatila and Burj al-Barajneh\"], [\"Shelling of residential neighborhoods of Hadath, Baabda, and Hazmieh\"], [\"Shelling of residential neighborhoods of Hadath, Baabda, and Hazmieh\"], [\"Fighting breaks out between the Nasserite Popular Organization and Fatah fighters in Saida\"], [\"Fighting breaks out between the Nasserite Popular Organization and Fatah fighters in Saida\"], [\"Shelling of residential neighborhoods of Hadath, Baabda, and Hazmieh\"], [\"Car bomb that was targeting President Camille Chamoun killed at least four people\"], [\"The Communist intellectual Hussein Mroueh was assassinated in his home\"], [\"Assassination of Father Andr\\u00e9 Mass, the director of USJ\\u2019s branch in Saida\"], [\"Prime Minister Rachid Karami  killed by a bomb placed under his seat\"]], \"hoverlabel\": {\"namelength\": 0}, \"hovertemplate\": \"animation_frame=1987<br>event=%{customdata[0]}<br>lat=%{lat}<br>lon=%{lon}<br>color=%{marker.color}\", \"lat\": [33.8882, 33.3243, 33.8611, 33.8882, 33.8783, 33.8882, 34.0052, 33.8972, 33.8529, 33.8877, 33.8972, 33.9062, 33.8198, 33.9008, 33.9624, 33.3294, 33.3294, 33.5475, 33.5423, 33.5226, 33.543, 33.8693, 33.8432, 33.8438, 33.8349, 33.5626, 33.5475, 33.8526, 33.8817, 33.8877, 33.5626, 34.4301], \"legendgroup\": \"\", \"lon\": [35.5009, 35.4933, 35.5102, 35.5009, 35.5201, 35.5009, 36.208, 35.5756, 35.5088, 35.4734, 35.5756, 35.5798, 35.4923, 35.4778, 35.6103, 35.6139, 35.6139, 35.3846, 35.586, 35.3854, 35.3966, 35.5018, 35.5033, 35.5322, 35.5455, 35.3678, 35.3846, 35.5399, 35.5254, 35.4734, 35.3678, 35.8526], \"marker\": {\"color\": [1, 1, 1, 1, 1, 1, 1, 1, 1, 1, 1, 1, 1, 1, 1, 1, 1, 1, 1, 1, 1, 1, 1, 1, 1, 1, 1, 1, 1, 1, 1, 1], \"coloraxis\": \"coloraxis\"}, \"mode\": \"markers\", \"name\": \"\", \"showlegend\": false, \"subplot\": \"mapbox\", \"type\": \"scattermapbox\"}], \"name\": \"1987\"}, {\"data\": [{\"customdata\": [[\"Two of the seven Lebanese  Jews who were abducted in Beirut in March and in  May 1985 were found dead\"], [\"Fifteen Syrian civilians who had been detained were released in Ain al Tuffaheh\"], [\" Zahi Khouryand four of his family members were kidnapped in Hamra\"], [\"Lebanese national and LCP member Mudieddine  Hashisho, was abducted in Sidon \"], [\"Three Lebanese executives from the Banque du Liban were abducted and Lebanese Red Cross  volunteers were abducted in Barbir\"], [\"Three Lebanese executives from the Banque du Liban were abducted and Lebanese Red Cross  volunteers were abducted in Barbir\"], [\"UK nationals Hazel Moss and Amanda McGrath who was an AUB teacher  were abducted in West Beirut. They were released on October 8, 1985\"], [\"Four Soviet diplomats were abducted in Mar Elias and in the Cola area. Three were released and one was killed\"], [\"Lebanese nationals Munir Shma\\u2019a and Joe Salameh were abducted as they were  leaving their home in Bliss, West Beirut\"], [\" Amal and the LF exchange 12 hostages at the Beirut Hippodrome\"], [\"Four Soviet diplomats were abducted in Mar Elias and in the Cola area. Three were released and one was killed\"], [\"Israel releases 113 Lebanese and Palestinians it had been detaining in Haifa,  Israel. They were transported by bus to Saida and Sour\"], [\"Israel releases 113 Lebanese and Palestinians it had been detaining in Haifa,  Israel. They were transported by bus to Saida and Sour\"], [\"Israel releases 752 prisoners detained at the Ansar Prison and transports 1,131 other detainees to prisons inside Israel\"], [\"Jamal Sharara was abducted from his home, detained and tortured. He was released on May 1, 1996.\"], [\"Jamal Sharara was abducted from his home, detained and tortured. He was released on May 1, 1996.\"], [\"Swiss national Stephane Jacquemet, head of the ICRC delegation, was abducted  in \\u2018Adlun in South Lebanon and released on August 20, 1985.\"], [\"Shakib Sa\\u2019id Hmaydan, director of ABC News in Lebanon, was abducted in  Rawsheh in West Beirut\"], [\"A car bomb in Zahleh kills 14 and injures 42 civilians\"], [\"13 people were killed in an explosion  in Sed al-Bawshriyyeh, in Beirut\\u2019s eastern suburbs\"], [\"In Tripoli, a car bomb in front of an ice cream parlor kills 50 people\"], [\" Car bomb parked at a checkpoint of the Lebanese Army kills 15 people at Jnah\"], [\" Thirty civilians were killed, 177 wounded in a bomb blast in Sin al-Fil\"], [\" 31  civilians killed in explosion in front of a supermarket  on the Jal al-Dib\\u2013Antelias Highway\"], [\" A car bomb close to a supermarket in Ashrafieh kills 30 people and wounds 80.\"], [\"56 civilians killed  and 120 injured by a car bomb in Tripoli \"], [\"3 separate car bombs, 2 in the southern suburbs and one in West Beirut claim 24 lives\"], [\"3 separate car bombs, 2 in the southern suburbs and one in West Beirut claim 24 lives\"], [\"Isaac Sasson, president of the Jewish Council, was abducted en route from the  airport\"], [\"Gilles Peyrolles, head of the French Cultural Center in Tripoli, was abducted. He was released on April 2, 1985.\"], [\"Nicolas Kluiters, a Dutch Roman Catholic priest, was abducted and tortured. His body was  found in the Caza of B\\u2019albeq on April 1, 1985.\"], [\"The Swiss Charg\\u00e9 d\\u2019Affaires, Eric Wehrli, was abducted and released 4 days after in Rawcheh, West Beirut \"], [\"French writer/researcher Michel Seurat was abducted in Beirut by the Islamic  Jihad. A year later, the group announced that Seurat was dead. \"], [\"Jean-Paul Kauffmann was abducted in West Beirut with  Michel Seurat by the Islamic Jihad\"], [\"Wajed Doumani was  abducted in Saqiet al-Janzir\"], [\"Thomas Sutherland, AUB\\u2019s dean of agriculture, was abducted in Beirut on his way to the university\"], [\"David Jacobsen, an American and AUH director was abducted in West Beirut. He  was released on November 2, 1986.Islamic Jihad claimed responsibility\"], [\" A truck loaded with explosives kills 4 civilians and injures 42 in Hayy Madi\"], [\"A car bomb placed in the southern suburbs of Beirut kills 5 and injures 44 \"], [\" The Israeli Army attacks the village of Zrarieh killing 21 residents\"], [\"10 dead at a checkpoint at Tripoli exit \"], [\"Murder of civilians continues at Tripoli claiming  124 civilians and 550 wounded\"], [\"Heavy Artillery claims 110 civilian lives in Tripoli\"], [\"Fierce clashes claim 70 civilian lives and 50 combatant at Tripoli\"], [\"55000 refugees flee Tripoli fighting to Koura, Batroun and Akkar\"], [\"55000 refugees flee Tripoli fighting to Koura, Batroun and Akkar\"], [\"55000 refugees flee Tripoli fighting to Koura, Batroun and Akkar\"], [\"An Israeli air raid targets the camps of Beddawi and Nahr al-Bared\"], [\"An Israeli air raid targets the camps of Beddawi and Nahr al-Bared\"], [\"Shelling on Tripoli kills 30 civilians and 10 Lebanese Army officers\"], [\"40 civilians killed in clashes between al-Liqa\\u2019 al-Islami and the Arab Democratic Party.\"], [\"Six people killed and 43 injured in Saida \"], [\"Heavy bombing of residential areas in Saida and in the nearby Palestinian camps\"], [\"Shelling and gunfire in and around Saida \"], [\"Lebanese and Palestinian civilians targeted in Saida \"], [\"Heavy bombing of residential areas in Saida and in the nearby Palestinian camps\"], [\"Heavy bombing of residential areas in Saida and in the nearby Palestinian camps\"], [\"Displacement of around 100,000 people from 86 villages\"], [\"Displacement of around 100,000 people from 86 villages\"], [\"Displacement of around 100,000 people from 86 villages\"], [\"Forced displacement of 1000 people from Jiyeh to Jounieh and Beirut\"], [\"Forced displacement of 1000 people from Jiyeh to Jounieh and Beirut\"], [\"Forced displacement of 1000 people from Jiyeh to Jounieh and Beirut\"], [\"The PSP and its allies shelles, loots and sets on fire houses at Darb al-Seem\"], [\"Christian civilians executed in  Jiyeh, Alman, and in at least 13 other villages\"], [\"Displacement of around 100,000 people from 86 villages\"], [\"Displacement of around 100,000 people from 86 villages\"], [\"Christian civilians executed in  Jiyeh, Alman, and in at least 13 other villages\"], [\"Explosion targeting Sayyed Muhammad Hussein Fadlallah kills 80 people and injures 200 \"], [\"11 people killed in explosion in Amal office\"], [\"A bomb explods in a bank in Musseitbeh killing 3 civilians \"], [\"2 Car bombs, one in Tripoli and one in Verdun claim 9 lives and injures 21\"], [\"2 Car bombs, one in Tripoli and one in Verdun claim 9 lives and injures 21\"], [\"Car bomb  parked in front of the mosque during Friday prayers kills 6 and injures 80 in Tripoli\"], [\" Fighting between Amal and Palestinian militias in Burj al-Barajneh claim 42 lives\"], [\"Executions of Palestinian captives by Amal militias\"], [\"Heavy shelling over Baabda, Metn, Achrafieh and Keserouan \"], [\"Heavy shelling over Baabda, Metn, Achrafieh and Keserouan \"], [\"Heavy shelling over Baabda, Metn, Achrafieh and Keserouan \"], [\"Heavy shelling over Baabda, Metn, Achrafieh and Keserouan \"], [\"Heavy shelling over Baabda, Metn, Achrafieh and Keserouan \"], [\"Heavy shelling over Baabda, Metn, Achrafieh and Keserouan \"], [\"Heavy shelling over Baabda, Metn, Achrafieh and Keserouan \"], [\"Heavy shelling over Baabda, Metn, Achrafieh and Keserouan \"], [\"Heavy shelling over Baabda, Metn, Achrafieh and Keserouan \"], [\"Heavy shelling over Baabda, Metn, Achrafieh and Keserouan \"], [\"Heavy shelling over Baabda, Metn, Achrafieh and Keserouan \"], [\"Heavy shelling over Baabda, Metn, Achrafieh and Keserouan \"], [\"Heavy shelling over Baabda, Metn, Achrafieh and Keserouan \"], [\"Heavy shelling over Baabda, Metn, Achrafieh and Keserouan \"], [\"Heavy shelling over Baabda, Metn, Achrafieh and Keserouan \"], [\"Fighting between Amal and Murabitun militias in Sabra leave 4 dead\"], [\"Heavy shelling on East and West Beirut, the southern suburbs, the northern and southern Metn, and Kesrouan, as well as the presidential palace, the airport, and the Ministry of Defense\"], [\"Bombing continues, reaching 190 towns, villages, and residential sections of Beirut, Metn, Kesrouan, Aley, and Jbeil,\"], [\"Heavy fighting between Amal and Murabitun militias claim lives of 35 civilians\"], [\"Bomb inside the American University of Beirut kills one student\"], [\"Artillery  shelling on Burj al-Barajneh and Chatila claim 96 lives\"], [\"Artillery  shelling on Burj al-Barajneh and Chatila claim 96 lives\"], [\"Intense fighting in West Beirut between Amal and PSP leave 53 civilians dead\"], [\"Bombing continues, reaching 190 towns, villages, and residential sections of Beirut, Metn, Kesrouan, Aley, and Jbeil,\"], [\"Bombing continues, reaching 190 towns, villages, and residential sections of Beirut, Metn, Kesrouan, Aley, and Jbeil,\"], [\"Shelling on East Beirut continues\"], [\"Shelling on East Beirut continues\"], [\"Shelling on East Beirut continues\"], [\"Clashes between East and West Beirut claim 40 lives\"], [\"Hundreds of mortar shells fired across East and West Beirut claims eight people injures 55 \"], [\"Bombing continues, reaching 190 towns, villages, and residential sections of Beirut, Metn, Kesrouan, Aley, and Jbeil,\"], [\"Heavy shelling over Beirut, Jbeil and Batroun.  Thirty-one civilians killed that day and at least 121 injured.\"], [\"Heavy shelling over Beirut, Jbeil and Batroun.  Thirty-one civilians killed that day and at least 121 injured.\"]], \"hoverlabel\": {\"namelength\": 0}, \"hovertemplate\": \"animation_frame=1985<br>event=%{customdata[0]}<br>lat=%{lat}<br>lon=%{lon}<br>color=%{marker.color}\", \"lat\": [33.8882, 33.9332, 33.8963, 33.5626, 33.8787, 33.8963, 33.9008, 33.8841, 33.9008, 33.8769, 33.8823, 33.5626, 33.2741, 33.4607, 33.3294, 33.1289, 33.4054, 33.8877, 33.8491, 33.8787, 34.4301, 33.866, 33.8773, 33.9062, 33.8852, 34.4301, 33.8996, 33.8634, 33.8198, 34.4301, 34.0052, 33.8877, 33.8882, 33.8198, 33.8946, 33.9008, 33.9008, 33.8529, 33.8634, 33.3421, 34.4301, 34.4301, 34.4301, 34.4301, 34.2563, 34.525, 34.4301, 34.505, 34.454, 34.4301, 34.4301, 33.5626, 33.5475, 33.5626, 33.5626, 33.543, 33.5626, 33.5946, 33.6003, 33.5626, 33.6674, 33.8882, 33.9835, 33.5305, 33.5945, 33.6585, 33.6674, 33.6674, 33.8634, 33.2741, 33.8841, 34.4301, 33.8841, 34.4301, 33.8432, 33.8693, 33.9488, 33.8349, 33.8852, 33.8574, 33.8633, 33.8761, 33.8851, 33.9722, 33.8438, 33.8101, 33.8317, 33.8903, 33.9659, 33.8773, 33.8169, 33.8693, 33.8198, 33.8101, 33.8882, 33.9008, 33.8693, 33.8432, 33.8882, 33.8882, 33.8198, 33.8438, 33.8048, 33.8852, 33.8882, 33.8882, 34.1204, 34.1204, 34.2563], \"legendgroup\": \"\", \"lon\": [35.5009, 35.7256, 35.482, 35.3678, 35.5029, 35.482, 35.4778, 35.4931, 35.4778, 35.5094, 35.4915, 35.3678, 35.1925, 35.5091, 35.6139, 35.4385, 35.2728, 35.4734, 35.9027, 35.5622, 35.8526, 35.4878, 35.5345, 35.5798, 35.5191, 35.8526, 35.4955, 35.5184, 35.4923, 35.8526, 36.208, 35.4734, 35.5009, 35.4923, 35.4782, 35.4778, 35.4778, 35.5088, 35.5184, 35.3317, 35.8526, 35.8526, 35.8526, 35.8526, 35.6581, 36.2407, 35.8526, 35.9629, 35.8636, 35.8526, 35.8526, 35.3678, 35.3846, 35.3678, 35.3678, 35.3966, 35.3678, 35.4475, 35.4255, 35.3678, 35.4251, 35.5009, 35.6207, 35.3799, 35.4103, 35.4472, 35.4251, 35.4251, 35.5184, 35.1925, 35.4931, 35.8526, 35.4931, 35.8526, 35.5033, 35.5018, 35.6722, 35.5455, 35.5191, 35.5715, 35.6042, 35.549, 35.633, 35.7128, 35.5322, 35.5964, 35.591, 35.5663, 35.6799, 35.5345, 35.5351, 35.5018, 35.4923, 35.5964, 35.5009, 35.4778, 35.5018, 35.5033, 35.5009, 35.5009, 35.4923, 35.5322, 35.5867, 35.5191, 35.5009, 35.5009, 35.6471, 35.6471, 35.6581], \"marker\": {\"color\": [1, 1, 1, 1, 1, 1, 1, 1, 1, 1, 1, 1, 1, 1, 1, 1, 1, 1, 1, 1, 1, 1, 1, 1, 1, 1, 1, 1, 1, 1, 1, 1, 1, 1, 1, 1, 1, 1, 1, 1, 1, 1, 1, 1, 1, 1, 1, 1, 1, 1, 1, 1, 1, 1, 1, 1, 1, 1, 1, 1, 1, 1, 1, 1, 1, 1, 1, 1, 1, 1, 1, 1, 1, 1, 1, 1, 1, 1, 1, 1, 1, 1, 1, 1, 1, 1, 1, 1, 1, 1, 1, 1, 1, 1, 1, 1, 1, 1, 1, 1, 1, 1, 1, 1, 1, 1, 1, 1, 1], \"coloraxis\": \"coloraxis\"}, \"mode\": \"markers\", \"name\": \"\", \"showlegend\": false, \"subplot\": \"mapbox\", \"type\": \"scattermapbox\"}], \"name\": \"1985\"}, {\"data\": [{\"customdata\": [[\"Peter Winkler, head of the ICRC mission in Saida, was abducted. \"], [\"Jan Cools, a Belgian doctor working with the Norwegian Aid Committee, was  abducted at the Rashidiyyeh camp in South Lebanon. He was released on June 16, 1989\"], [\"Monseignor Albert Khreish was abducted from his home in Ghadir\"], [\"West German Ralph Schray was abducted in West Beirut\"], [\"Two UNRWA employees were abducted on the road between Sour and Saida.They were released on March 1,  1988, in West Beirut\"], [\"Two UNRWA employees were abducted on the road between Sour and Saida.They were released on March 1,  1988, in West Beirut\"], [\"Monseignor Albert Khreish was abducted from his home in Ghadir\"], [\"Monseignor Albert Khreish was abducted from his home in Ghadir\"], [\"Two UNRWA employees were abducted on the road between Sour and Saida.They were released on March 1,  1988, in West Beirut\"], [\"A car bomb in the area of Ouza\\u2019i, West Beirut, targeted a checkpoint controlled by  the Syrian Army and the Lebanese ISF, killing 4 civilians and injuring 40\"], [\"Car bomb exploded  close to the Greek Orthodox Hospital, killed 16 civilians and injured  81\"], [\" A car bomb blew up in Tripoli, in the neighborhood of Bab al-Tabbaneh 66 people were killed and 90 injured \"], [\"A car rigged with explosives was driven into an Israeli position in Marje\\u2019yun killing 7 Israeli soldiers and 2 civilians\"], [\" Souha Bechara arrested and detained without charge or trial until 1998 at  Khiyam for attempting to kill SLA leader Antoine Lahd\"], [\" Clashes in West Beirut and the southern suburbs leave 30 people dead and 85  wounded\"], [\" Clashes in West Beirut and the southern suburbs leave 30 people dead and 85  wounded\"], [\" Clashes in West Beirut and the southern suburbs leave 30 people dead and 85  wounded\"], [\"The fighting resumed in the southern suburbs of Beirut between Amal and Hezbollah killing 76 people and wounding 337 in May\"], [\"Clashes in the areas of Nabatieh, Zawter, Sour and Ghazieh took place\"], [\"Clashes in the areas of Nabatieh, Zawter, Sour and Ghazieh took place\"], [\"Clashes in the areas of Nabatieh, Zawter, Sour and Ghazieh took place\"], [\"Clashes in the areas of Nabatieh, Zawter, Sour and Ghazieh took place\"], [\"Israel launchs a series of air and sea raids on Lebanese and Palestinian residential neighborhoods in the Ain al-Hilweh camp and Iqlim al-Kharoub\"], [\"Israel launchs a series of air and sea raids on Lebanese and Palestinian residential neighborhoods in the Ain al-Hilweh camp and Iqlim al-Kharoub\"], [\"The Israeli Army conducts air raids on the camp of Mieh w Mieh and Naameh\"], [\"Israel carries out a series of raids against Lebanese and Palestinian civilian areas and military positions \"], [\"Israel carries out a series of raids against Lebanese and Palestinian civilian areas and military positions \"], [\"Israel launchs a series of air and sea raids on Lebanese and Palestinian residential neighborhoods in the Ain al-Hilweh camp and Iqlim al-Kharoub\"], [\"The Israeli Army conducts air raids on the camp of Mieh w Mieh and Naameh\"]], \"hoverlabel\": {\"namelength\": 0}, \"hovertemplate\": \"animation_frame=1988<br>event=%{customdata[0]}<br>lat=%{lat}<br>lon=%{lon}<br>color=%{marker.color}\", \"lat\": [33.5626, 33.238, 33.9786, 33.8882, 33.8882, 33.2741, 33.8914, 33.8851, 33.5626, 33.848, 33.8937, 34.4396, 33.2782, 33.3294, 33.8829, 33.8834, 33.889, 33.8529, 33.2741, 33.5175, 33.377, 33.3218, 33.6497, 33.6674, 33.7472, 33.5626, 33.4376, 33.5475, 33.5475], \"legendgroup\": \"\", \"lon\": [35.3678, 35.2176, 35.636, 35.5009, 35.5009, 35.1925, 35.6685, 35.633, 35.3678, 35.4847, 35.523, 35.8468, 35.5514, 35.6139, 35.4986, 35.5015, 35.5026, 35.5088, 35.1925, 35.369, 35.4846, 35.4618, 35.4418, 35.4251, 35.4649, 35.3678, 35.3712, 35.3846, 35.3846], \"marker\": {\"color\": [1, 1, 1, 1, 1, 1, 1, 1, 1, 1, 1, 1, 1, 1, 1, 1, 1, 1, 1, 1, 1, 1, 1, 1, 1, 1, 1, 1, 1], \"coloraxis\": \"coloraxis\"}, \"mode\": \"markers\", \"name\": \"\", \"showlegend\": false, \"subplot\": \"mapbox\", \"type\": \"scattermapbox\"}], \"name\": \"1988\"}, {\"data\": [{\"customdata\": [[\"Rev. Benjamin Weir, teacher at the Protestant school in Hamra, was abducted and released\"], [\" William Buckley, political officer at the U.S. embassy, was abducted and killed by the Islamic Jihad \"], [\"Peter Kilburn, an AUB employee, was abducted. His body was found one month later, in Sofar\"], [\"Jeremy Levin, the Beirut bureau chief of Cable News Network (CNN) was  abducted by the Islamic Jihad\"], [\"the SLA opens fire on civilians in Sohmor killing 13 \"], [\"Riots erupt in the town of Hallusiaan as an Israeli unit arrestes Sheikh Abbas Harb\"], [\"Civilian boat at the Saida port bombed, 2 people killed\"], [\"Assault on school bus transporting children in Kfarshima\"], [\"Heavy shelling on Greater Beirut claims 22 civilians and more than 75 people injured.\"], [\"Heavy shelling on Greater Beirut claims 22 civilians and more than 75 people injured.\"], [\"Assault on school bus transporting children in Kfarshima\"], [\" Israeli air raid hit Baalbeck \"], [\" Israeli raid against a Palestinian base located between Taanayel and Bar Elias\"], [\" Israeli raid against a Palestinian base located between Taanayel and Bar Elias\"], [\"14 Christians were killed in Mechref \"], [\" 13 Christians killed in Bayqun \"], [\"Heavy shelling on Greater Beirut claims 22 civilians and more than 75 people injured.\"], [\"Intensive bombings covers Greater Beirut, Metn, Kesrouan, Aley, and the Shuf\"], [\"Sheikh Ragheb Harb shot to death in his home\"], [\"AUB President Malcolm Kerr was shot and killed on campus\"], [\"Bomb meant for Prime Minister Salim el-Hoss kills 4 and injures 27\"], [\"Suicide attack at U.S. embassy kills eight people and injures between 50 and 100 people\"], [\"Druze Sheikh Khalil al Tawil assassinated \"], [\" Car packed with dynamite in Tallet al-Khayyat kills 2 and injures 60\"], [\"Car bomb in Aley kills 4 and injures 16\"], [\"Heavy clashes between the Lebanese Army and Amal leave 50 civilians killed and 200 injured.\"], [\"Bomb falls on a factory in Kfarshima killing six employees\"], [\"Intensive bombings covers Greater Beirut, Metn, Kesrouan, Aley, and the Shuf\"], [\"Intensive bombings covers Greater Beirut, Metn, Kesrouan, Aley, and the Shuf\"], [\"Shelling on residential area of Ashrafieh kills one and injures 23\"], [\"Shelling on Greater Beirut kills 55 and injures 390\"], [\"Intense shelling concentrated on the front lines kills 90 and injures 353\"], [\"The Syrian Army shells Zahleh \"]], \"hoverlabel\": {\"namelength\": 0}, \"hovertemplate\": \"animation_frame=1984<br>event=%{customdata[0]}<br>lat=%{lat}<br>lon=%{lon}<br>color=%{marker.color}\", \"lat\": [33.8963, 33.8882, 33.8022, 33.8882, 33.5198, 33.3079, 33.6674, 33.8169, 33.8101, 33.9823, 33.8349, 34.0052, 33.8011, 33.7764, 33.7588, 33.6174, 33.8882, 33.8882, 33.3634, 33.9008, 33.8877, 33.9229, 33.6788, 33.885, 33.8101, 33.8101, 33.8169, 33.8101, 33.9823, 33.8852, 33.8882, 33.8882, 33.8491], \"legendgroup\": \"\", \"lon\": [35.482, 35.5009, 35.7023, 35.5009, 35.6853, 35.3253, 35.4251, 35.5351, 35.5964, 35.6382, 35.5455, 36.208, 35.8687, 35.9033, 35.655, 35.5815, 35.5009, 35.5009, 35.4319, 35.4778, 35.4734, 35.5921, 35.5579, 35.487, 35.5964, 35.5964, 35.5351, 35.5964, 35.6382, 35.5191, 35.5009, 35.5009, 35.9027], \"marker\": {\"color\": [1, 1, 1, 1, 1, 1, 1, 1, 1, 1, 1, 1, 1, 1, 1, 1, 1, 1, 1, 1, 1, 1, 1, 1, 1, 1, 1, 1, 1, 1, 1, 1, 1], \"coloraxis\": \"coloraxis\"}, \"mode\": \"markers\", \"name\": \"\", \"showlegend\": false, \"subplot\": \"mapbox\", \"type\": \"scattermapbox\"}], \"name\": \"1984\"}, {\"data\": [{\"customdata\": [[\"Extrajudicial execution of both soldiers and  civilian supporters of Aoun were carried out by Syrian troops in several towns in Mount Lebanon\"], [\"Extrajudicial execution of both soldiers and  civilian supporters of Aoun were carried out by Syrian troops in several towns in Mount Lebanon\"], [\"73 soldiers taken prisoner were reportedly executed following their capture by Syrian troops in Baabda \"], [\"The LF opens fire on a pro-Aoun demonstration in Nahr al-Mot claiming 25 lives\"], [\"Extrajudicial execution of both soldiers and  civilian supporters of Aoun were carried out by Syrian troops in several towns in Mount Lebanon\"], [\"Two hundred Christian supporters of Aoun were arrested by Syrian forces and were transferred to Syria or to Anjar\"], [\"240 prisoners were executed by Syrian forces and the  pro-Damascus Christian militia headed by Elie Hobeika in Mount Lebanon\"], [\"240 prisoners were executed by Syrian forces and the  pro-Damascus Christian militia headed by Elie Hobeika in Mount Lebanon\"], [\"240 prisoners were executed by Syrian forces and the  pro-Damascus Christian militia headed by Elie Hobeika in Mount Lebanon\"], [\" A school bus driving through the museum area in Beirut was attacked by the LF\"], [\" A school bus driving through the museum area in Beirut was attacked by the LF\"], [\"240 prisoners were executed by Syrian forces and the  pro-Damascus Christian militia headed by Elie Hobeika in Mount Lebanon\"], [\"240 prisoners were executed by Syrian forces and the  pro-Damascus Christian militia headed by Elie Hobeika in Mount Lebanon\"], [\"Elias Zayek, leader of the Kataeb shot and killed in Jbeil\"], [\" 14 high-ranking officers loyal to Aoun were abducted in Baabda\"], [\"Fighting between the two militias spread to the town of Baalbeck, in the  Beqaa. Fifteen people were killed that day and dozens were injured\"], [\"Fighting in West Beirut and the southern suburbs left 9 people dead and 34  wounded\"], [\"Fighting in West Beirut and the southern suburbs left 9 people dead and 34  wounded\"], [\"Clashes between Amal and Hezbollah in the southern suburbs of Beirut resulted  in 4 deaths and 33 wounded\"]], \"hoverlabel\": {\"namelength\": 0}, \"hovertemplate\": \"animation_frame=1990<br>event=%{customdata[0]}<br>lat=%{lat}<br>lon=%{lon}<br>color=%{marker.color}\", \"lat\": [33.8552, 33.8164, 33.8349, 33.8997, 33.8438, 33.7095, 33.8108, 33.8349, 33.8633, 33.8852, 33.8783, 33.8164, 33.8227, 34.1204, 33.8349, 34.0052, 33.8529, 33.8882, 33.8529], \"legendgroup\": \"\", \"lon\": [35.5966, 35.577, 35.5455, 35.5692, 35.5322, 35.905, 35.5556, 35.5455, 35.6042, 35.5191, 35.5201, 35.577, 35.5972, 35.6471, 35.5455, 36.208, 35.5088, 35.5009, 35.5088], \"marker\": {\"color\": [1, 1, 1, 1, 1, 1, 1, 1, 1, 1, 1, 1, 1, 1, 1, 1, 1, 1, 1], \"coloraxis\": \"coloraxis\"}, \"mode\": \"markers\", \"name\": \"\", \"showlegend\": false, \"subplot\": \"mapbox\", \"type\": \"scattermapbox\"}], \"name\": \"1990\"}, {\"data\": [{\"customdata\": [[\"Particularly intense fighting in August extends to Beirut, its suburbs, Metn, the  Mountain, Kesrwan, Jbeil, and the Beqaa\"], [\"Particularly intense fighting in August extends to Beirut, its suburbs, Metn, the  Mountain, Kesrwan, Jbeil, and the Beqaa\"], [\"Particularly intense fighting in August extends to Beirut, its suburbs, Metn, the  Mountain, Kesrwan, Jbeil, and the Beqaa\"], [\"Fierce clashes in the battle of Ain al-Remmaneh\"], [\"Particularly intense fighting in August extends to Beirut, its suburbs, Metn, the  Mountain, Kesrwan, Jbeil, and the Beqaa\"], [\"Particularly intense fighting in August extends to Beirut, its suburbs, Metn, the  Mountain, Kesrwan, Jbeil, and the Beqaa\"], [\" Both sides pounded the Christian enclave daily  claiming the lives of 615  people died, and more than 2,000 were wounded, half of them civilians\"], [\" Both sides pounded the Christian enclave daily  claiming the lives of 615  people died, and more than 2,000 were wounded, half of them civilians\"], [\" Both sides pounded the Christian enclave daily  claiming the lives of 615  people died, and more than 2,000 were wounded, half of them civilians\"], [\"An explosion in the church of Sabtieh, in Beirut\\u2019s eastern suburbs, kills one person and injures four people\"], [\"A car bomb in Raouche, West Beirut killed four and injured six\"], [\"Sheikh Subhi al-Saleh, a Muslim scholar was assassinated\"], [\"A car bomb explods as the convoy of the Sunni Grand  Mufti of the Republic of Lebanon, Sheikh Hassan Khaled, was passing through West Beirut, killing  him and 9 other people, and wounds 76\"], [\"Eighty kilograms of explosives kills two people and wounds seven in  Mkalles, in the eastern suburb of Beirut\"], [\"MP Nazem el-Qadri and his bodyguard shot and killed by unknown  assailants in Verdun, West Beirut\"], [\" Dany Chamoun, his wife, and his two sons were killed in their house by unidentified gunmen\"], [\"An explosion kills President-elect Ren\\u00e9 Mouawad and tens of others as his convoy traveled through West Beirut on Independence Day\"], [\"A car bomb in Jal al-Dib, in Beirut\\u2019s northern suburbs, killed 13 people and  injured 119\"], [\"A car bomb in Hamra, West Beirut, killed 2 civilians and injured 21\"], [\"Israeli and SLA shelling of Nabatieh, Kfar Rumman, and other villages and  towns kills four people and left several dozens injured\"], [\"Israeli and SLA shelling of Nabatieh, Kfar Rumman, and other villages and  towns kills four people and left several dozens injured\"], [\" An Israeli air raid in the village of Aynab  kills and 27 injures 27, including two students and a teacher\"], [\"The SLA bombed Saida, killing four people and injuring six\"], [\"A car bomb in Rweiss in Beirut\\u2019s southern suburbs killed 1 civilian and injured 20\"], [\"Anwar al-Fatayri, a senior member of the PSP, and his driver were assassinated in  Deir al-Qamar\"], [\"A car bomb in Furn al-Chebbak, East Beirut killed 2 civilians and at wounded  least 18\"], [\"A car bomb in the Beqaa killed 1 civilian and wounded 25\"], [\" 76 people killed and 200 wounded after three days of fighting in East Beirut between the LF and the Lebanese Army \"], [\" 23 people killed by the Syrian Army's continued shelling throughout April 1989, hitting residential areas in Beirut  and its southern suburbs, Metn, Kesrwan, Aley, Jbayl, the Beqaa, and Batroun\"], [\" 23 people killed by the Syrian Army's continued shelling throughout April 1989, hitting residential areas in Beirut  and its southern suburbs, Metn, Kesrwan, Aley, Jbayl, the Beqaa, and Batroun\"], [\" 23 people killed by the Syrian Army's continued shelling throughout April 1989, hitting residential areas in Beirut  and its southern suburbs, Metn, Kesrwan, Aley, Jbayl, the Beqaa, and Batroun\"], [\" 23 people killed by the Syrian Army's continued shelling throughout April 1989, hitting residential areas in Beirut  and its southern suburbs, Metn, Kesrwan, Aley, Jbayl, the Beqaa, and Batroun\"], [\"Daily bombardment of residential areas covered Beirut, Kesrwan, Metn,  Monteverde, Mkalles, Mansurieh, and North Lebanon\"], [\"Daily bombardment of residential areas covered Beirut, Kesrwan, Metn,  Monteverde, Mkalles, Mansurieh, and North Lebanon\"], [\"Daily bombardment of residential areas covered Beirut, Kesrwan, Metn,  Monteverde, Mkalles, Mansurieh, and North Lebanon\"], [\"Daily bombardment of residential areas covered Beirut, Kesrwan, Metn,  Monteverde, Mkalles, Mansurieh, and North Lebanon\"], [\"Daily bombardment of residential areas covered Beirut, Kesrwan, Metn,  Monteverde, Mkalles, Mansurieh, and North Lebanon\"], [\" 23 people killed by the Syrian Army's continued shelling throughout April 1989, hitting residential areas in Beirut  and its southern suburbs, Metn, Kesrwan, Aley, Jbayl, the Beqaa, and Batroun\"], [\" 23 people killed by the Syrian Army's continued shelling throughout April 1989, hitting residential areas in Beirut  and its southern suburbs, Metn, Kesrwan, Aley, Jbayl, the Beqaa, and Batroun\"], [\"Five civilians  killed in Ain al-Remmaneh by a Grad missile fired by the  Syrian Army. 40 people killed and 165 wounded by seperate clashes\"], [\"101 people were  killed and 474 wounded during the 17 days of shelling over the areas of Beirut, Metn, Aley, and  Kesrwan\"], [\"101 people were  killed and 474 wounded during the 17 days of shelling over the areas of Beirut, Metn, Aley, and  Kesrwan\"], [\"101 people were  killed and 474 wounded during the 17 days of shelling over the areas of Beirut, Metn, Aley, and  Kesrwan\"], [\"Daily bombardment of residential areas covered Beirut, Kesrwan, Metn,  Monteverde, Mkalles, Mansurieh, and North Lebanon\"], [\"Daily bombardment of residential areas covered Beirut, Kesrwan, Metn,  Monteverde, Mkalles, Mansurieh, and North Lebanon\"], [\"660 people killed in the month of January, 500 of whom victims of the Amal-Hezbollah war\"], [\"660 people killed in the month of January, 500 of whom victims of the Amal-Hezbollah war\"], [\"90 people killed during the month of December by clashes between Amal and Hezbollah\"], [\"90 people killed during the month of December by clashes between Amal and Hezbollah\"], [\"The Syrian Army drops 20,000 bombs over East Beirut\"], [\"Daily bombardment of residential areas covered Beirut, Kesrwan, Metn,  Monteverde, Mkalles, Mansurieh, and North Lebanon\"], [\"Daily bombardment of residential areas covered Beirut, Kesrwan, Metn,  Monteverde, Mkalles, Mansurieh, and North Lebanon\"], [\"The bombardments between the Lebanese and Syrian armies left around 850 dead and another 3,000 wounded\"], [\"Abdel Karim Obeid, a Shi\\u2019a sheikh from Jibchit  was taken prisoner in South Lebanon by an Israeli commando\"]], \"hoverlabel\": {\"namelength\": 0}, \"hovertemplate\": \"animation_frame=1989<br>event=%{customdata[0]}<br>lat=%{lat}<br>lon=%{lon}<br>color=%{marker.color}\", \"lat\": [34.1204, 33.8882, 34.0052, 33.8679, 33.9835, 33.9148, 33.9835, 33.8852, 33.9148, 33.8739, 33.8877, 33.8882, 33.8882, 33.8621, 33.8811, 33.8349, 33.8882, 33.9062, 33.8963, 33.377, 33.3886, 33.7673, 33.5626, 33.8432, 33.6962, 33.8728, 34.0052, 33.8852, 34.2563, 33.9835, 34.1204, 33.9148, 34.2984, 33.9835, 33.8882, 33.8574, 33.8959, 33.8101, 34.0052, 33.8679, 33.8882, 33.9835, 33.8101, 34.1204, 33.8621, 33.2782, 33.8529, 33.8882, 33.2782, 33.8852, 33.8511, 34.2563, 33.8882, 33.3634], \"legendgroup\": \"\", \"lon\": [35.6471, 35.5009, 36.208, 35.5202, 35.6207, 35.5921, 35.6207, 35.5191, 35.5921, 35.5671, 35.4734, 35.5009, 35.5009, 35.5495, 35.4851, 35.5455, 35.5009, 35.5798, 35.482, 35.4846, 35.5015, 35.5481, 35.3678, 35.5033, 35.5611, 35.5208, 36.208, 35.5191, 35.6581, 35.6207, 35.6471, 35.5921, 35.8504, 35.6207, 35.5009, 35.5715, 35.4991, 35.5964, 36.208, 35.5202, 35.5009, 35.6207, 35.5964, 35.6471, 35.5495, 35.5514, 35.5088, 35.5009, 35.5514, 35.5191, 35.5901, 35.6581, 35.5009, 35.4319], \"marker\": {\"color\": [1, 1, 1, 1, 1, 1, 1, 1, 1, 1, 1, 1, 1, 1, 1, 1, 1, 1, 1, 1, 1, 1, 1, 1, 1, 1, 1, 1, 1, 1, 1, 1, 1, 1, 1, 1, 1, 1, 1, 1, 1, 1, 1, 1, 1, 1, 1, 1, 1, 1, 1, 1, 1, 1], \"coloraxis\": \"coloraxis\"}, \"mode\": \"markers\", \"name\": \"\", \"showlegend\": false, \"subplot\": \"mapbox\", \"type\": \"scattermapbox\"}], \"name\": \"1989\"}]);\n",
       "                        }).then(function(){\n",
       "                            \n",
       "var gd = document.getElementById('1026fa41-0ca0-4037-b6d0-000da5cc2e17');\n",
       "var x = new MutationObserver(function (mutations, observer) {{\n",
       "        var display = window.getComputedStyle(gd).display;\n",
       "        if (!display || display === 'none') {{\n",
       "            console.log([gd, 'removed!']);\n",
       "            Plotly.purge(gd);\n",
       "            observer.disconnect();\n",
       "        }}\n",
       "}});\n",
       "\n",
       "// Listen for the removal of the full notebook cells\n",
       "var notebookContainer = gd.closest('#notebook-container');\n",
       "if (notebookContainer) {{\n",
       "    x.observe(notebookContainer, {childList: true});\n",
       "}}\n",
       "\n",
       "// Listen for the clearing of the current output cell\n",
       "var outputEl = gd.closest('.output');\n",
       "if (outputEl) {{\n",
       "    x.observe(outputEl, {childList: true});\n",
       "}}\n",
       "\n",
       "                        })\n",
       "                };\n",
       "                });\n",
       "            </script>\n",
       "        </div>"
      ]
     },
     "metadata": {},
     "output_type": "display_data"
    }
   ],
   "source": [
    "px.set_mapbox_access_token(open('.mapbox_token').read())\n",
    "\n",
    "fig = px.scatter_mapbox(\n",
    "    lebanon_war_events_final,\n",
    "    lon='lon',\n",
    "    lat='lat',\n",
    "    hover_data=['event'],\n",
    "    animation_frame=lebanon_war_events_final.apply(lambda row: row['start'].year, axis=1),\n",
    "    size_max=15,\n",
    "    zoom=7,\n",
    "    color=[1] * lebanon_war_events_final.shape[0]\n",
    ")\n",
    "\n",
    "fig.update_traces(\n",
    "    marker=go.scattermapbox.Marker(\n",
    "        size=10,\n",
    "        color='#e85a4f',\n",
    "        opacity=0.7,\n",
    "        showscale=False\n",
    "    ),\n",
    ")\n",
    "\n",
    "fig.show()"
   ]
  },
  {
   "cell_type": "code",
   "execution_count": 41,
   "metadata": {},
   "outputs": [
    {
     "data": {
      "application/vnd.plotly.v1+json": {
       "config": {
        "plotlyServerURL": "https://plot.ly"
       },
       "data": [
        {
         "customdata": [
          [
           "Christians targeted in Upper Metn and Aley"
          ],
          [
           "Christians targeted in Upper Metn and Aley"
          ],
          [
           "Christians targeted in Upper Metn and Aley"
          ],
          [
           "Christians targeted in Upper Metn and Aley"
          ],
          [
           "Massacre of St. George Church in Brih"
          ],
          [
           "Maasser el Chouf killing"
          ],
          [
           "Christian massacres in Chouf and in West Beirut"
          ],
          [
           "Christian massacres in Chouf and in West Beirut"
          ],
          [
           "Christian massacres in Chouf and in West Beirut"
          ],
          [
           "Christian massacres in Chouf and in West Beirut"
          ],
          [
           "Christian massacres in Chouf and in West Beirut"
          ],
          [
           "Christian massacres in Chouf and in West Beirut"
          ],
          [
           "Christian massacres in Chouf and in West Beirut"
          ],
          [
           "Christian massacres in Chouf and in West Beirut"
          ],
          [
           "Christian massacres in Chouf and in West Beirut"
          ],
          [
           "Conflicts on the border continue"
          ],
          [
           "Conflicts on the border continue"
          ],
          [
           "Israeli air raids and sea attack on South Lebanon"
          ],
          [
           "Israeli air raids and sea attack on South Lebanon"
          ],
          [
           "Border militias occupy Khiyam"
          ],
          [
           "Christian massacres in Chouf and in West Beirut"
          ],
          [
           "Israeli air raids and sea attack on South Lebanon"
          ],
          [
           "Israeli air raids and sea attack on South Lebanon"
          ],
          [
           "Israeli air raids and sea attack on South Lebanon"
          ]
         ],
         "hoverlabel": {
          "namelength": 0
         },
         "hovertemplate": "animation_frame=1977<br>event=%{customdata[0]}<br>lat=%{lat}<br>lon=%{lon}",
         "lat": [
          33.7545,
          33.7373,
          33.8338,
          33.7413,
          33.7163,
          33.6672,
          33.7409,
          33.6672,
          33.7108,
          33.7042,
          33.6989,
          33.6414,
          33.6642,
          33.7392,
          33.8882,
          33.3001,
          33.2782,
          33.3294,
          33.1794,
          33.3294,
          33.6363,
          33.2741,
          33.1064,
          33.3639
         ],
         "legendgroup": "",
         "lon": [
          35.6015,
          35.5977,
          35.6205,
          35.6692,
          35.6575,
          35.6703,
          35.6993,
          35.6703,
          35.678,
          35.678,
          35.6303,
          35.5866,
          35.6207,
          35.6323,
          35.5009,
          35.5435,
          35.5514,
          35.6139,
          35.2262,
          35.6139,
          35.6181,
          35.1925,
          35.2313,
          35.4906
         ],
         "marker": {
          "opacity": 0.7,
          "showscale": false,
          "size": 10
         },
         "mode": "markers",
         "name": "",
         "showlegend": false,
         "subplot": "mapbox",
         "type": "scattermapbox"
        }
       ],
       "frames": [
        {
         "data": [
          {
           "customdata": [
            [
             "Christians targeted in Upper Metn and Aley"
            ],
            [
             "Christians targeted in Upper Metn and Aley"
            ],
            [
             "Christians targeted in Upper Metn and Aley"
            ],
            [
             "Christians targeted in Upper Metn and Aley"
            ],
            [
             "Massacre of St. George Church in Brih"
            ],
            [
             "Maasser el Chouf killing"
            ],
            [
             "Christian massacres in Chouf and in West Beirut"
            ],
            [
             "Christian massacres in Chouf and in West Beirut"
            ],
            [
             "Christian massacres in Chouf and in West Beirut"
            ],
            [
             "Christian massacres in Chouf and in West Beirut"
            ],
            [
             "Christian massacres in Chouf and in West Beirut"
            ],
            [
             "Christian massacres in Chouf and in West Beirut"
            ],
            [
             "Christian massacres in Chouf and in West Beirut"
            ],
            [
             "Christian massacres in Chouf and in West Beirut"
            ],
            [
             "Christian massacres in Chouf and in West Beirut"
            ],
            [
             "Conflicts on the border continue"
            ],
            [
             "Conflicts on the border continue"
            ],
            [
             "Israeli air raids and sea attack on South Lebanon"
            ],
            [
             "Israeli air raids and sea attack on South Lebanon"
            ],
            [
             "Border militias occupy Khiyam"
            ],
            [
             "Christian massacres in Chouf and in West Beirut"
            ],
            [
             "Israeli air raids and sea attack on South Lebanon"
            ],
            [
             "Israeli air raids and sea attack on South Lebanon"
            ],
            [
             "Israeli air raids and sea attack on South Lebanon"
            ]
           ],
           "hoverlabel": {
            "namelength": 0
           },
           "hovertemplate": "animation_frame=1977<br>event=%{customdata[0]}<br>lat=%{lat}<br>lon=%{lon}",
           "lat": [
            33.7545,
            33.7373,
            33.8338,
            33.7413,
            33.7163,
            33.6672,
            33.7409,
            33.6672,
            33.7108,
            33.7042,
            33.6989,
            33.6414,
            33.6642,
            33.7392,
            33.8882,
            33.3001,
            33.2782,
            33.3294,
            33.1794,
            33.3294,
            33.6363,
            33.2741,
            33.1064,
            33.3639
           ],
           "legendgroup": "",
           "lon": [
            35.6015,
            35.5977,
            35.6205,
            35.6692,
            35.6575,
            35.6703,
            35.6993,
            35.6703,
            35.678,
            35.678,
            35.6303,
            35.5866,
            35.6207,
            35.6323,
            35.5009,
            35.5435,
            35.5514,
            35.6139,
            35.2262,
            35.6139,
            35.6181,
            35.1925,
            35.2313,
            35.4906
           ],
           "marker": {
            "color": "#636efa"
           },
           "mode": "markers",
           "name": "",
           "showlegend": false,
           "subplot": "mapbox",
           "type": "scattermapbox"
          }
         ],
         "name": "1977"
        },
        {
         "data": [
          {
           "customdata": [
            [
             "Christians executed near Aley"
            ],
            [
             "Christians executed near Aley"
            ],
            [
             "Family killed in Baalchmay"
            ],
            [
             "Christians killes in Kfarmata"
            ],
            [
             "Clashes among ADF, and PNL/Kataeb"
            ],
            [
             "ADF bombs Ain al-Remmaneh and Badaro"
            ],
            [
             "ADF bombs Ain al-Remmaneh and Badaro"
            ],
            [
             "ADF bombs Ain al-Remmaneh and Badaro"
            ],
            [
             "Open confrontation begins between Christian militias and ADF"
            ],
            [
             "Open confrontation begins between Christian militias and ADF"
            ],
            [
             "Strategic alliance between Lebanese Front and Syria ends"
            ],
            [
             "Strategic alliance between Lebanese Front and Syria ends"
            ],
            [
             "Strategic alliance between Lebanese Front and Syria ends"
            ],
            [
             "Strategic alliance between Lebanese Front and Syria ends"
            ]
           ],
           "hoverlabel": {
            "namelength": 0
           },
           "hovertemplate": "animation_frame=1978<br>event=%{customdata[0]}<br>lat=%{lat}<br>lon=%{lon}",
           "lat": [
            33.7933,
            33.6408,
            33.8178,
            33.727,
            33.8679,
            33.8852,
            33.8679,
            33.8728,
            33.8634,
            33.8679,
            33.8852,
            33.8728,
            33.8475,
            33.8679
           ],
           "legendgroup": "",
           "lon": [
            35.5162,
            35.6088,
            35.6457,
            35.5267,
            35.5202,
            35.5191,
            35.5202,
            35.5208,
            35.5184,
            35.5202,
            35.5191,
            35.5208,
            35.5516,
            35.5202
           ],
           "marker": {
            "color": "#636efa"
           },
           "mode": "markers",
           "name": "",
           "showlegend": false,
           "subplot": "mapbox",
           "type": "scattermapbox"
          }
         ],
         "name": "1978"
        },
        {
         "data": [
          {
           "customdata": [
            [
             "Killing in Sirjbal to push out Christians"
            ],
            [
             "Druze attacks on Christian villages at entrances to Aley/Chouf"
            ],
            [
             "Druze attacks on Christian villages at entrances to Aley/Chouf"
            ],
            [
             "Druze attacks on Christian villages at entrances to Aley/Chouf"
            ]
           ],
           "hoverlabel": {
            "namelength": 0
           },
           "hovertemplate": "animation_frame=1979<br>event=%{customdata[0]}<br>lat=%{lat}<br>lon=%{lon}",
           "lat": [
            33.6826,
            33.7326,
            33.7811,
            33.662
           ],
           "legendgroup": "",
           "lon": [
            35.5136,
            35.5115,
            35.7223,
            35.5604
           ],
           "marker": {
            "color": "#636efa"
           },
           "mode": "markers",
           "name": "",
           "showlegend": false,
           "subplot": "mapbox",
           "type": "scattermapbox"
          }
         ],
         "name": "1979"
        },
        {
         "data": [
          {
           "customdata": [
            [
             "More attacks on Christians"
            ],
            [
             "More attacks on Christians"
            ],
            [
             "More attacks on Christians"
            ],
            [
             "More attacks on Christians"
            ]
           ],
           "hoverlabel": {
            "namelength": 0
           },
           "hovertemplate": "animation_frame=1980<br>event=%{customdata[0]}<br>lat=%{lat}<br>lon=%{lon}",
           "lat": [
            33.8116,
            33.7373,
            33.727,
            33.6826
           ],
           "legendgroup": "",
           "lon": [
            35.6718,
            35.5977,
            35.5267,
            35.5136
           ],
           "marker": {
            "color": "#636efa"
           },
           "mode": "markers",
           "name": "",
           "showlegend": false,
           "subplot": "mapbox",
           "type": "scattermapbox"
          }
         ],
         "name": "1980"
        },
        {
         "data": [
          {
           "customdata": [
            [
             "Christian civilians killed and displaced in Chouf"
            ],
            [
             "Syrian Army shells South"
            ],
            [
             "Syrian Army shells South"
            ],
            [
             "Syrian Army shells South"
            ],
            [
             "Clashes in the South among various actors"
            ],
            [
             "Institute of Islamic Studies attacked"
            ],
            [
             "Institute of Islamic Studies attacked"
            ],
            [
             "Syrian Army continues shelling West Beirut"
            ],
            [
             "Syrian Army continues shelling West Beirut"
            ],
            [
             "Syrian Army continues shelling West Beirut"
            ],
            [
             "Syrian Army bombs West Beirut"
            ],
            [
             "Syrian Army continues shelling West Beirut"
            ],
            [
             "Clashes in the South among various actors"
            ],
            [
             "Clashes in the South among various actors"
            ],
            [
             "Druze kidnap Christians from Mansourieh-Bhamdoun"
            ],
            [
             "Druze kidnap Christians from Mansourieh-Bhamdoun"
            ],
            [
             "Syrian Army attack against Joint Forces"
            ],
            [
             "Syrian Army attack against Joint Forces"
            ],
            [
             "Druze kidnap Christians from Mansourieh-Bhamdoun"
            ],
            [
             "Looting and burning of Churches in Mansourieh-Bhamdoun "
            ],
            [
             "Christian militias kill civilians in Mtein"
            ],
            [
             "Druze civilians killed in Upper Metn"
            ],
            [
             "Looting and burning of Churches in Mansourieh-Bhamdoun "
            ],
            [
             "Syrian Army attack against Joint Forces"
            ],
            [
             "Syrian Army attack against Joint Forces"
            ],
            [
             "Airport bombed by Christian militias"
            ],
            [
             "U.S. Ambassador kidnapped and killed"
            ],
            [
             "Joint Forces attack Christian village in Jezzine"
            ],
            [
             "LAA bombards Higher Shia Council"
            ],
            [
             "Attack on Chekka and Hamat"
            ],
            [
             "Syrian Army attack against Joint Forces"
            ],
            [
             "Attack on Chekka and Hamat"
            ],
            [
             "Attack on Chekka and Hamat"
            ],
            [
             "Syrian Army bombs West Beirut"
            ],
            [
             "Syrian Army bombs West Beirut"
            ],
            [
             "Druze offensive on Christian villages"
            ],
            [
             "Druze offensive on Christian villages"
            ],
            [
             "Druze offensive on Christian villages"
            ],
            [
             "Civilians killed in Mtein"
            ],
            [
             "Druze offensive on Christian villages"
            ],
            [
             "Druze offensive on Christian villages"
            ],
            [
             "Druze offensive on Christian villages"
            ],
            [
             "Druze offensive on Christian villages"
            ],
            [
             "Druze offensive on Christian villages"
            ],
            [
             "Druze men attack Abadieh family"
            ],
            [
             "Attack on Qobayat"
            ],
            [
             "Joint Forces attack Christian areas"
            ],
            [
             "LAA bombard presidential palace"
            ],
            [
             "LAA bombard presidential palace"
            ],
            [
             "Attack on Kab-Elias prompts displacement"
            ],
            [
             "Joint Forces attack Christian areas"
            ],
            [
             "Joint Forces attack Christian areas"
            ],
            [
             "Joint Forces attack Christian areas"
            ],
            [
             "Joint Forces attack Christian areas"
            ],
            [
             "Joint Forces attack Christian areas"
            ],
            [
             "Druze offensive on Christian villages"
            ],
            [
             "Druze offensive on Christian villages"
            ],
            [
             "Jounieh and Bkerke bombed"
            ],
            [
             "Elias Sarkis elected president"
            ],
            [
             "Elias Sarkis elected president"
            ],
            [
             "Kataeb take control of Port of Beirut"
            ],
            [
             "Jounieh and Bkerke bombed"
            ],
            [
             "Edde injured in assassination attempt"
            ],
            [
             "Confrontation between Joint Forces and Syrian Army"
            ],
            [
             "Confrontation between Joint Forces and Syrian Army"
            ],
            [
             "Linda Jumblatt killed in apartment"
            ],
            [
             "Kataeb take control of Port of Beirut"
            ],
            [
             "Druze offensive on Christian villages"
            ],
            [
             "Druze offensive on Christian villages"
            ],
            [
             "Druze offensive on Christian villages"
            ],
            [
             "Druze offensive on Christian villages"
            ],
            [
             "Druze offensive on Christian villages"
            ],
            [
             "Druze offensive on Christian villages"
            ],
            [
             "Druze offensive on Christian villages"
            ],
            [
             "Druze offensive on Christian villages"
            ],
            [
             "Druze offensive on Christian villages"
            ],
            [
             "Druze offensive on Christian villages"
            ],
            [
             "Attack on Kab-Elias prompts displacement"
            ],
            [
             "Attack on Kab-Elias prompts displacement"
            ],
            [
             "Fall of Tal el-Zaatar and Jisr el-Basha"
            ],
            [
             "Fall of Tal el-Zaatar and Jisr el-Basha"
            ],
            [
             "Attack on Maslakh-Karantina camp"
            ],
            [
             "Siege of Dbayeh camp"
            ],
            [
             "Shelling of residential East and West Beirut"
            ],
            [
             "Siege of Jiyeh and Damour begins"
            ],
            [
             "Attack to empty Damour and Jiyeh"
            ],
            [
             "Attack to empty Damour and Jiyeh"
            ],
            [
             "Siege of Jiyeh and Damour begins"
            ],
            [
             "Siege of Tal el-Zaatar and Jisr el-Basha camps"
            ],
            [
             "Siege of Tal el-Zaatar and Jisr el-Basha camps"
            ],
            [
             "Sieges set off clashes in other areas"
            ],
            [
             "Sieges set off clashes in other areas"
            ],
            [
             "Hawsh-Barada attacked"
            ],
            [
             "Hawsh-Barada attacked"
            ],
            [
             "Hawsh-Barada attacked"
            ],
            [
             "Civilians killed in Akkar"
            ],
            [
             "Sieges set off clashes in other areas"
            ],
            [
             "Sieges set off clashes in other areas"
            ],
            [
             "Sieges set off clashes in other areas"
            ],
            [
             "Sieges set off clashes in other areas"
            ],
            [
             "Sieges set off clashes in other areas"
            ],
            [
             "As-Saiqa attacks newspaper offices"
            ],
            [
             "Armed men set up West Beirut checkpoints"
            ],
            [
             "Sieges set off clashes in other areas"
            ]
           ],
           "hoverlabel": {
            "namelength": 0
           },
           "hovertemplate": "animation_frame=1976<br>event=%{customdata[0]}<br>lat=%{lat}<br>lon=%{lon}",
           "lat": [
            33.7009,
            33.543,
            33.5475,
            33.5626,
            33.3294,
            33.2741,
            33.2614,
            33.9052,
            33.8693,
            33.8934,
            33.8738,
            33.8963,
            33.3642,
            33.2741,
            33.7802,
            33.7688,
            33.8757,
            33.8915,
            33.7966,
            33.7802,
            33.8915,
            33.8853,
            33.7966,
            33.8238,
            33.8491,
            33.8287,
            33.9052,
            33.409,
            33.8526,
            34.4301,
            33.8374,
            34.3287,
            34.2868,
            33.8787,
            33.8815,
            33.8613,
            33.8757,
            33.6672,
            33.8915,
            33.8203,
            33.7373,
            33.8238,
            33.6656,
            33.6602,
            33.8338,
            34.5717,
            33.8852,
            33.9701,
            33.8349,
            33.7943,
            33.8757,
            33.8915,
            33.8574,
            33.8338,
            33.7966,
            33.8321,
            33.7307,
            33.9679,
            33.8882,
            34.4301,
            33.9052,
            33.9823,
            33.9148,
            33.8882,
            33.5626,
            33.8882,
            33.9011,
            33.7811,
            33.7112,
            33.8652,
            33.8338,
            33.771,
            33.783,
            33.6642,
            33.8286,
            33.8633,
            33.8852,
            33.8882,
            33.7811,
            33.8693,
            33.8664,
            33.9021,
            33.9433,
            33.8882,
            33.7307,
            33.7307,
            33.6674,
            33.6674,
            33.8664,
            33.8693,
            33.8693,
            33.8838,
            33.8491,
            34.0111,
            33.6962,
            34.5056,
            33.8949,
            33.9,
            33.8815,
            33.8953,
            33.8852,
            33.8882,
            33.8882,
            34.4301
           ],
           "legendgroup": "",
           "lon": [
            35.5956,
            35.3966,
            35.3846,
            35.3678,
            35.6139,
            35.1925,
            35.2382,
            35.5063,
            35.5018,
            35.4896,
            35.5022,
            35.482,
            35.5862,
            35.1925,
            35.6265,
            35.6289,
            35.7963,
            35.74,
            35.6499,
            35.6265,
            35.74,
            35.6931,
            35.6499,
            35.7363,
            35.9027,
            35.4953,
            35.5063,
            35.5553,
            35.5399,
            35.8526,
            35.741,
            35.7313,
            35.6929,
            35.5029,
            35.5069,
            35.6293,
            35.7963,
            35.6703,
            35.74,
            35.7073,
            35.5977,
            35.7363,
            35.4884,
            35.4954,
            35.6205,
            36.2804,
            35.7737,
            35.6197,
            35.5455,
            35.8203,
            35.7963,
            35.74,
            35.5715,
            35.6205,
            35.6499,
            35.7152,
            35.4569,
            35.6329,
            35.5009,
            35.8526,
            35.5063,
            35.6382,
            35.5921,
            35.5009,
            35.3678,
            35.5009,
            35.5113,
            35.7223,
            35.5109,
            35.6385,
            35.6205,
            35.646,
            35.4759,
            35.6207,
            35.6084,
            35.7591,
            35.7737,
            35.5009,
            35.7223,
            35.549,
            35.5393,
            35.5312,
            35.5903,
            35.5009,
            35.4569,
            35.4569,
            35.4251,
            35.4251,
            35.5393,
            35.549,
            35.549,
            35.5268,
            35.9027,
            36.1195,
            35.5611,
            36.1446,
            35.5269,
            35.4851,
            35.5069,
            35.4956,
            35.5191,
            35.5009,
            35.5009,
            35.8526
           ],
           "marker": {
            "color": "#636efa"
           },
           "mode": "markers",
           "name": "",
           "showlegend": false,
           "subplot": "mapbox",
           "type": "scattermapbox"
          }
         ],
         "name": "1976"
        },
        {
         "data": [
          {
           "customdata": [
            [
             "Fighting between Joint Forces and Lebanese Front/Syrian Army"
            ],
            [
             "Fighting between Joint Forces and Lebanese Front/Syrian Army"
            ],
            [
             "Fighting between Joint Forces and Lebanese Front/Syrian Army"
            ],
            [
             "Israeli air strikes against Palestinian camps"
            ],
            [
             "Israeli air strikes against Palestinian camps"
            ],
            [
             "Israeli air strikes against Palestinians"
            ],
            [
             "Israeli air strikes against Palestinian camps"
            ],
            [
             "Israeli attack on Palestinian camps near Sour"
            ],
            [
             "Israeli air strikes against Palestinians"
            ],
            [
             "Fighting resumes in North and Beirut"
            ],
            [
             "Fighting resumes in North and Beirut"
            ],
            [
             "Attacks on Christian in North Lebanon"
            ],
            [
             "Zgharta Christian kills Tripoli Muslims"
            ],
            [
             "Fighting resumes in North and Beirut"
            ],
            [
             "Fighting resumes in North and Beirut"
            ],
            [
             "Fighting resumes in North and Beirut"
            ],
            [
             "Fighting resumes in North and Beirut"
            ],
            [
             "Fighting resumes in North and Beirut"
            ],
            [
             "Clashes in North Lebanon"
            ],
            [
             "Clashes in North Lebanon"
            ],
            [
             "As-Saiqa attack Zahle suburb"
            ],
            [
             "Christian-Muslim clash in Zahle"
            ],
            [
             "Christian-Muslim clash in Zahle"
            ],
            [
             "Christian village of Qa'a in North Bekaa attacked"
            ],
            [
             "Casulaties in Haoush al-Ummarra"
            ],
            [
             "Three found dead in Saadnayel"
            ],
            [
             "Round of clashes in Zahle"
            ],
            [
             "Gunmen attack mill in Taalabaya"
            ],
            [
             "Clashes in Zahle"
            ],
            [
             "Fighting resumes in North and Beirut"
            ],
            [
             "Kataeb attack on BCD"
            ],
            [
             "Siege of Zahle"
            ],
            [
             "Siege of Zahle"
            ],
            [
             "Demonstrations to protest the violence"
            ],
            [
             "Demonstrations to protest the violence"
            ],
            [
             "Siege of Zahle"
            ],
            [
             "Black Saturday"
            ],
            [
             "Forced displacements"
            ],
            [
             "Hotel district battle"
            ],
            [
             "Black Saturday (continued)"
            ],
            [
             "Demonstrations to protest the violence"
            ],
            [
             "Demonstrations to protest the violence"
            ],
            [
             "Demonstrations to protest the violence"
            ],
            [
             "Demonstrations to protest the violence"
            ],
            [
             "Attack on Christians in Akkar"
            ],
            [
             "Attack on Christians in Akkar"
            ],
            [
             "Demonstrations to protest the violence"
            ],
            [
             "Demonstrations to protest the violence"
            ],
            [
             "Demonstrations to protest the violence"
            ],
            [
             "Demonstrations to protest the violence"
            ],
            [
             "Demonstrations to protest the violence"
            ],
            [
             "Fighting spreads to the North, Beqaa, and Shouf"
            ],
            [
             "Fighting spreads to the North, Beqaa, and Shouf"
            ],
            [
             "Fighting broke out in several areas in Beirut"
            ],
            [
             "Fighting broke out in several areas in Beirut"
            ],
            [
             "Fighting broke out in several areas in Beirut"
            ],
            [
             "Fighting broke out in several areas in Beirut"
            ],
            [
             "Fighting broke out in several areas in Beirut"
            ],
            [
             "Fighting broke out in several areas in Beirut"
            ],
            [
             "Clashes between PLO and Kataeb near Tal el-Zaatar and Dekwaneh"
            ],
            [
             "Clashes between PLO and Kataeb near Tal el-Zaatar and Dekwaneh"
            ],
            [
             "Fighting broke out in several areas in Beirut"
            ],
            [
             "Fighting broke out in several areas in Beirut"
            ],
            [
             "Fighting broke out in several areas in Beirut"
            ],
            [
             "Bus transporting Palestinians shot at in Ain Al-Remmaneh killing 27 people"
            ],
            [
             "Dispute between Kataeb security members and a car passenger"
            ],
            [
             "Renewed clashes in Saida"
            ],
            [
             "Maarouf Saad Assassinated in Saida"
            ],
            [
             "Fighting broke out in several areas in Beirut"
            ],
            [
             "Fighting broke out in several areas in Beirut"
            ],
            [
             "Fighting broke out in several areas in Beirut"
            ],
            [
             "Fighting broke out in several areas in Beirut"
            ],
            [
             "Fighting broke out in several areas in Beirut"
            ],
            [
             "Clashes between PLO and Kataeb near Tal el-Zaatar and Dekwaneh"
            ],
            [
             "Clashes between PLO and Kataeb near Tal el-Zaatar and Dekwaneh"
            ],
            [
             "Residential areas of Beirut bombarded"
            ],
            [
             "Shelling of east Beirut and clashes on front lines"
            ],
            [
             "Shelling of east Beirut and clashes on front lines"
            ],
            [
             "Shelling of east Beirut and clashes on front lines"
            ],
            [
             "Residential areas of Beirut bombarded"
            ],
            [
             "Residential areas of Beirut bombarded"
            ],
            [
             "Fighting spreads to the North, Beqaa, and Shouf"
            ],
            [
             "Fighting spreads to the North, Beqaa, and Shouf"
            ],
            [
             "Intense clashes"
            ],
            [
             "Shelling of east Beirut and clashes on front lines"
            ],
            [
             "Shelling of east Beirut and clashes on front lines"
            ],
            [
             "Shelling of Tal el-Zaatar and additional neighborhood shootings"
            ],
            [
             "Shelling of Tal el-Zaatar and additional neighborhood shootings"
            ],
            [
             "Clashes between PLO and Kataeb near Tal el-Zaatar and Dekwaneh"
            ],
            [
             "Shelling of Tal el-Zaatar and additional neighborhood shootings"
            ],
            [
             "Clashes spread in Beirut, dividing the city in two"
            ],
            [
             "Shelling of east Beirut and clashes on front lines"
            ],
            [
             "Black Thursday"
            ],
            [
             "Black Thursday"
            ],
            [
             "Forced displacements"
            ],
            [
             "Forced displacements"
            ],
            [
             "Forced displacement of Sebnay"
            ],
            [
             "First forced displacement occurs in Haret el-Ghawarneh/Antelias"
            ],
            [
             "First forced displacement occurs in Haret el-Ghawarneh/Antelias"
            ],
            [
             "First forced displacement occurs in Haret el-Ghawarneh/Antelias"
            ],
            [
             "Governor of Tripoli assassinated as violence continues in East Beirut"
            ],
            [
             "Governor of Tripoli assassinated as violence continues in East Beirut"
            ],
            [
             "Fighting in Tripoli, Zgharta, and Zahle"
            ],
            [
             "Fighting in Tripoli, Zgharta, and Zahle"
            ],
            [
             "Fighting in Tripoli, Zgharta, and Zahle"
            ],
            [
             "Attack on Taalabaya"
            ],
            [
             "Clashes resume in the North and the Bekaa"
            ],
            [
             "Clashes resume in the North and the Bekaa"
            ],
            [
             "Civilians killed in northern villages"
            ],
            [
             "Civilians killed in northern villages"
            ],
            [
             "Clashes resume in the North and the Bekaa"
            ],
            [
             "Clashes resume in the North and the Bekaa"
            ]
           ],
           "hoverlabel": {
            "namelength": 0
           },
           "hovertemplate": "animation_frame=1975<br>event=%{customdata[0]}<br>lat=%{lat}<br>lon=%{lon}",
           "lat": [
            33.5626,
            33.2741,
            34.4301,
            33.3639,
            34.505,
            33.2741,
            34.454,
            33.2741,
            34.505,
            34.3967,
            33.8634,
            34.5296,
            34.4301,
            33.8679,
            34.4301,
            33.9052,
            33.8491,
            33.8693,
            34.4301,
            34.3967,
            33.8364,
            33.8491,
            33.8205,
            34.3443,
            33.8364,
            33.8205,
            33.8491,
            33.8163,
            33.8491,
            33.8761,
            33.9052,
            34.0052,
            33.8491,
            33.8787,
            33.8882,
            34.4301,
            33.8778,
            33.8845,
            33.9052,
            33.9011,
            33.8773,
            34.3601,
            33.8965,
            33.8039,
            34.4768,
            34.5959,
            33.8447,
            33.8943,
            33.8349,
            33.8845,
            33.8877,
            34.4301,
            34.3967,
            33.6488,
            33.8761,
            33.8529,
            33.8852,
            33.9011,
            33.8634,
            33.8761,
            33.8845,
            33.6466,
            34.4301,
            33.5626,
            33.8679,
            33.8679,
            33.5626,
            33.5626,
            33.8432,
            33.8679,
            33.8693,
            33.838,
            34.3967,
            33.8634,
            33.8664,
            33.9,
            33.8915,
            33.8634,
            33.8851,
            33.8949,
            33.8838,
            33.8491,
            33.8101,
            33.8882,
            33.8728,
            33.8852,
            33.8761,
            33.8778,
            33.8693,
            33.8693,
            33.8882,
            33.8679,
            33.8964,
            33.8882,
            33.8664,
            33.8693,
            33.8329,
            33.9098,
            33.9148,
            33.8432,
            33.8882,
            34.4301,
            33.8491,
            34.4301,
            34.3967,
            33.8163,
            34.3967,
            34.4301,
            34.5648,
            34.5129,
            33.8491,
            34.4768
           ],
           "legendgroup": "",
           "lon": [
            35.3678,
            35.1925,
            35.8526,
            35.4906,
            35.9629,
            35.1925,
            35.8636,
            35.1925,
            35.9629,
            35.8958,
            35.5184,
            36.1618,
            35.8526,
            35.5202,
            35.8526,
            35.5063,
            35.9027,
            35.549,
            35.8526,
            35.8958,
            35.9027,
            35.9027,
            35.8819,
            36.4732,
            35.9027,
            35.8819,
            35.9027,
            35.8629,
            35.9027,
            35.549,
            35.5063,
            36.208,
            35.9027,
            35.5622,
            35.5009,
            35.8526,
            35.5779,
            35.5397,
            35.5063,
            35.5113,
            35.5345,
            35.8889,
            35.5199,
            35.6041,
            36.1816,
            36.0707,
            35.5224,
            35.5578,
            35.5455,
            35.5397,
            35.5412,
            35.8526,
            35.8958,
            35.4552,
            35.549,
            35.5088,
            35.5191,
            35.5113,
            35.5184,
            35.549,
            35.5397,
            35.4579,
            35.8526,
            35.3678,
            35.5202,
            35.5202,
            35.3678,
            35.3678,
            35.5033,
            35.5202,
            35.549,
            35.5104,
            35.8958,
            35.5184,
            35.5393,
            35.4851,
            35.5078,
            35.5184,
            35.5117,
            35.5269,
            35.5268,
            35.9027,
            35.5964,
            35.5009,
            35.5208,
            35.5191,
            35.549,
            35.5779,
            35.549,
            35.549,
            35.5009,
            35.5202,
            35.5039,
            35.5009,
            35.5393,
            35.549,
            35.5362,
            35.5882,
            35.5921,
            35.5033,
            35.5009,
            35.8526,
            35.9027,
            35.8526,
            35.8958,
            35.8629,
            35.8958,
            35.8526,
            36.1758,
            36.0542,
            35.9027,
            36.1816
           ],
           "marker": {
            "color": "#636efa"
           },
           "mode": "markers",
           "name": "",
           "showlegend": false,
           "subplot": "mapbox",
           "type": "scattermapbox"
          }
         ],
         "name": "1975"
        },
        {
         "data": [
          {
           "customdata": [
            [
             "Christian civilians murdered in response to LF checkpoint"
            ],
            [
             "Christian civilians murdered in response to LF checkpoint"
            ],
            [
             "Christian civilians murdered in response to LF checkpoint"
            ],
            [
             "A PSP member murders 63 Christian civilians "
            ],
            [
             "Christian civilians murdered in response to LF checkpoint"
            ],
            [
             "Christian civilians murdered in response to LF checkpoint"
            ],
            [
             " Sectarian-based killings in Baabda"
            ],
            [
             "Christian civilians murdered in Aley and Baabda "
            ],
            [
             "Christian civilians murdered in Aley and Baabda "
            ],
            [
             "Executions of Christian civilians in the Chouf "
            ],
            [
             "PSP murders Christian civilians and LF members "
            ],
            [
             "PSP murder Christians in Aley and in the Chouf"
            ],
            [
             "LF murder Druz civilians in Aley "
            ],
            [
             "LF murder Druz civilians in Aley "
            ],
            [
             "LF murder Druz civilians in Aley "
            ],
            [
             "PSP murder Christians in Aley and in the Chouf"
            ],
            [
             "PSP murder Christians in Aley and in the Chouf"
            ],
            [
             "PSP murders Christian civilians and LF members "
            ],
            [
             "PSP murder Christians in Aley and in the Chouf"
            ],
            [
             "PSP murder Christians in Aley and in the Chouf"
            ],
            [
             " Sectarian-based killings in Baabda"
            ],
            [
             " Sectarian-based killings in Baabda"
            ],
            [
             " Sectarian-based killings in the Chouf "
            ],
            [
             " Sectarian-based killings in the Chouf "
            ],
            [
             "Sectarian-based killings in Aley "
            ],
            [
             "Sectarian-based killings in Aley "
            ],
            [
             " Sectarian-based killings in the Chouf "
            ],
            [
             " Sectarian-based killings in the Chouf "
            ],
            [
             " Sectarian-based killings in the Chouf "
            ],
            [
             " Sectarian-based killings in the Chouf "
            ],
            [
             " Sectarian-based killings in the Chouf "
            ],
            [
             "Sectarian-based killings in Aley "
            ],
            [
             "Sectarian-based killings in Aley "
            ],
            [
             "Sectarian-based killings in Aley "
            ],
            [
             "Sectarian-based killings in Aley "
            ],
            [
             " Sectarian-based killings in Baabda"
            ],
            [
             " Sectarian-based killings in Baabda"
            ],
            [
             "Sectarian-based killings in Aley "
            ],
            [
             "Sectarian-based killings in Aley "
            ],
            [
             "Sectarian-based killings in Aley "
            ],
            [
             "Sectarian-based killings in Aley "
            ],
            [
             "Sectarian-based killings in Aley "
            ],
            [
             "Murder of Christians continues "
            ],
            [
             "Murder of Christians continues "
            ],
            [
             "PSP and Syrian Army shell East Beirut "
            ],
            [
             "PSP and Syrian Army shell East Beirut "
            ],
            [
             "PSP attacks and loots Christian quarters of Aley "
            ],
            [
             "Clashes between LF forces and PSP continue"
            ],
            [
             "PSP and Syrian Army shell East Beirut "
            ],
            [
             "PSP and Syrian Army shell East Beirut "
            ],
            [
             "PSP and Syrian Army shell East Beirut "
            ],
            [
             "PSP and Syrian Army shell East Beirut "
            ],
            [
             "PSP and Syrian Army shell East Beirut "
            ],
            [
             "Clashes between LF forces and PSP continue"
            ],
            [
             "Clashes between LF forces and PSP continue"
            ],
            [
             "Clashes between LF forces and PSP continue"
            ],
            [
             "Clashes between LF forces and PSP continue"
            ],
            [
             "Clashes between LF forces and PSP continue"
            ],
            [
             "Clashes between LF forces and PSP continue"
            ],
            [
             "Clashes between LF forces and PSP continue"
            ],
            [
             "Clashes between LF forces and PSP continue"
            ],
            [
             "Clashes between LF forces and PSP continue"
            ],
            [
             "Clashes between LF forces and PSP continue"
            ],
            [
             "PSP and Syrian Army shell East Beirut "
            ],
            [
             "PSP and Syrian Army shell East Beirut "
            ],
            [
             "Murder of Christians at Ammiq and Selfaya "
            ],
            [
             "Murder of Christians at Ammiq and Selfaya "
            ],
            [
             "Houses in al-Abadieh set on fire "
            ],
            [
             "Executions at Bmaryam "
            ],
            [
             "Murder of Druze civilians in Kfarmatta "
            ],
            [
             "The PSP takes control of Bhmandoun "
            ],
            [
             "Murder of Christians continues "
            ],
            [
             "Murder of Christians continues "
            ],
            [
             "The PSP takes control of Bhmandoun "
            ],
            [
             "Syrian and PSP artillery shells East Beirut "
            ],
            [
             "Shelling on Ashrafieh continues "
            ],
            [
             "Executions and Kidnapping of civilians at Kfarhim and Deir Dourit"
            ],
            [
             "Executions and Kidnapping of civilians at Kfarhim and Deir Dourit"
            ],
            [
             "PSP and Syrian Army shell East Beirut "
            ],
            [
             "Shelling on Ashrafieh "
            ],
            [
             "LF responds to Ashrafieh shelling "
            ],
            [
             "LF responds to Ashrafieh shelling "
            ],
            [
             "LF responds to Ashrafieh shelling "
            ],
            [
             "LF responds to Ashrafieh shelling "
            ],
            [
             " Sectarian-based killings in the Chouf "
            ],
            [
             " Sectarian-based killings in the Chouf "
            ],
            [
             "The LF and PSP abducted members from each other’s militias in Deir Durit and in Kfarhim. 23 of these hostages were killed. "
            ],
            [
             "The LF and PSP abducted members from each other’s militias in Deir Durit and in Kfarhim. 23 of these hostages were killed. "
            ],
            [
             "the Israeli Army carries out unlawful detentions in Saida"
            ],
            [
             "Members close to the LF forced 12 Muslim families to evacuate their homes in the area of Saida"
            ],
            [
             " The Israeli Army lays siege to the village of Deir Qanoun and Ansar"
            ],
            [
             " The Israeli Army lays siege to the village of Deir Qanoun and Ansar"
            ],
            [
             "75,000 residents flee the city of Tripoli"
            ],
            [
             "Displacement of 208 Palestinian families from Saida due to killings and threats"
            ],
            [
             "PSP shelling over East Beirut and its suburbs"
            ],
            [
             "PSP shelling over East Beirut and its suburbs"
            ],
            [
             "PSP shelling over East Beirut and its suburbs"
            ],
            [
             "PSP shelling over East Beirut and its suburbs"
            ],
            [
             "The Lebanese Army resorts to heavy artillery shelling on southern suburbs "
            ],
            [
             "PSP shelling over East Beirut and its suburbs"
            ],
            [
             "Forced displacement of 5,500 Christian civilians from the Shuf to South Lebanon"
            ],
            [
             " PSP militias shelles a monastery in the village of Jun"
            ],
            [
             "Forced displacement of 5,500 Christian civilians from the Shuf to South Lebanon"
            ],
            [
             "Christian quarters in Baabda burned "
            ],
            [
             "Christian quarters in Baabda burned "
            ],
            [
             " Sectarian-based killings in the Chouf "
            ],
            [
             " Sectarian-based killings in the Chouf "
            ],
            [
             " Sectarian-based killings in the Chouf "
            ],
            [
             " Sectarian-based killings in the Chouf "
            ],
            [
             " Sectarian-based killings in the Chouf "
            ],
            [
             "Bombing on Deir al-Qamar "
            ],
            [
             "Christian quarters in Baabda burned "
            ],
            [
             "Seven Christians were found killed in Ammiq"
            ],
            [
             "Deir al-Qamar Siege claims lives of 8 people "
            ],
            [
             "Armed men open fire on civilian cars entering Tripoli"
            ],
            [
             "20 dead and 35 wounded in less than 24 hours in Tripoli"
            ],
            [
             "Heavy bombardment on  Ba’l Mohsen-Qobbeh-Bab al-Tabbaneh"
            ],
            [
             "Blast at Tripoli Mosque claim 20 civilian lives after Friday prayer"
            ],
            [
             "A bomb explodes in front of a hospital and a school in Tripoli"
            ],
            [
             "Shelling claim lives of 600 civilians and combatants, 1055 wounded"
            ],
            [
             "The Islamic Tawhid Party takes over Tripoli and executes 100 leftist"
            ],
            [
             "The Islamic Tawhid Party takes over Tripoli and executes 100 leftist"
            ],
            [
             "Druze Sheikh Halim Takieddin assassinated in his home"
            ],
            [
             "Two suicide attacks targeting U.S troops and French troops claim 303 lives"
            ],
            [
             "Suicide attack at U.S. embassy kills 63 and injures 100"
            ],
            [
             "2 explosions, one in Damascus Road and one inside the Marble Tower Hotel"
            ],
            [
             "2 explosions, one in Damascus Road and one inside the Marble Tower Hotel"
            ],
            [
             " 16 civilians killed and 10 wounded by explosion in front of Makassed Hospital,Tarik al-Jdideh "
            ],
            [
             "6 people killed by an explosion near the offices of the Murabitun in Tarik al-Jdideh"
            ],
            [
             "Haret Hreik explosion kills 13 people and wounds 40"
            ],
            [
             " 30 civilians killed in an explosion in the offices of Palestinian organizations in Shtura, Beqaa "
            ],
            [
             "Bomb placed in front of the Palestinian Research Institute, offices of the PLO on Caracas Street kills 12"
            ],
            [
             "Two civilians killed by a car bomb placed close to offices of the Kataeb Party"
            ],
            [
             "TNT bomb blows up in a busy vegetable market, killing 39 civilians and wounding 133 in Beqaa, Baalbek "
            ],
            [
             "6 employees and 2 security guards killed by an explosion in front of the Summerland Hotel "
            ],
            [
             "An explosive close to offices of the Iranian Revolutionary Guards kills 2 civilians "
            ]
           ],
           "hoverlabel": {
            "namelength": 0
           },
           "hovertemplate": "animation_frame=1983<br>event=%{customdata[0]}<br>lat=%{lat}<br>lon=%{lon}",
           "lat": [
            33.7144,
            33.7009,
            33.7392,
            33.6672,
            33.8488,
            33.6852,
            33.8219,
            33.7555,
            33.8286,
            33.7217,
            33.658,
            33.7217,
            33.7351,
            33.7492,
            33.7364,
            33.7382,
            33.7392,
            33.6947,
            33.7413,
            33.7244,
            33.8116,
            33.8178,
            33.7108,
            33.6789,
            33.8061,
            33.7545,
            33.6826,
            33.6683,
            33.6898,
            33.7409,
            33.7307,
            33.7373,
            33.8101,
            33.7889,
            33.7389,
            33.8633,
            33.8224,
            33.7351,
            33.7867,
            33.7901,
            33.7811,
            33.7567,
            33.7973,
            33.8574,
            33.8943,
            33.8852,
            33.8101,
            33.8169,
            33.8872,
            33.8972,
            33.8972,
            33.8872,
            33.8793,
            33.8574,
            33.8851,
            33.8438,
            33.7717,
            33.7382,
            33.7688,
            33.7878,
            33.8349,
            33.7966,
            33.7373,
            33.8793,
            33.8943,
            33.7175,
            33.7387,
            33.8338,
            33.8321,
            33.727,
            33.8071,
            33.7966,
            33.7109,
            33.7966,
            33.8852,
            33.8852,
            33.6882,
            33.6852,
            33.8852,
            33.8852,
            33.8203,
            33.8374,
            33.8238,
            33.8125,
            33.7382,
            33.7042,
            33.6882,
            33.6852,
            33.5626,
            33.5626,
            33.2053,
            33.3781,
            34.4301,
            33.5626,
            33.8349,
            33.8359,
            33.8574,
            33.8309,
            33.848,
            33.8621,
            33.5626,
            33.5838,
            33.5423,
            33.8604,
            33.8565,
            33.6771,
            33.6989,
            33.6414,
            33.7118,
            33.7163,
            33.6962,
            33.8741,
            33.7175,
            33.6962,
            34.4301,
            34.4301,
            34.4396,
            34.4301,
            34.4301,
            34.4301,
            34.4301,
            34.4301,
            33.8882,
            33.861,
            33.8882,
            33.8783,
            33.3243,
            33.8738,
            33.8738,
            33.8529,
            33.8152,
            33.8963,
            33.9148,
            34.0052,
            33.8611,
            34.0052
           ],
           "legendgroup": "",
           "lon": [
            35.6293,
            35.5956,
            35.6323,
            35.6703,
            35.6652,
            35.5435,
            35.6527,
            35.5719,
            35.6084,
            35.638,
            35.4869,
            35.638,
            35.5298,
            35.5311,
            35.545,
            35.6404,
            35.6323,
            35.5817,
            35.6692,
            35.6222,
            35.6718,
            35.6457,
            35.678,
            35.5231,
            35.6263,
            35.6015,
            35.5136,
            35.5106,
            35.5418,
            35.6993,
            35.4569,
            35.5977,
            35.5964,
            35.5428,
            35.5636,
            35.7591,
            35.6725,
            35.5298,
            35.6103,
            35.6366,
            35.7223,
            35.7163,
            35.6197,
            35.5715,
            35.5578,
            35.5191,
            35.5964,
            35.5351,
            35.5567,
            35.5756,
            35.5756,
            35.5567,
            35.5254,
            35.5715,
            35.633,
            35.5322,
            35.6866,
            35.6404,
            35.6289,
            35.6597,
            35.5455,
            35.6499,
            35.5977,
            35.5254,
            35.5578,
            35.5814,
            35.57,
            35.6205,
            35.7152,
            35.5267,
            35.6593,
            35.6499,
            35.6391,
            35.6499,
            35.5191,
            35.5191,
            35.5233,
            35.5435,
            35.5191,
            35.5191,
            35.7073,
            35.741,
            35.7363,
            35.6958,
            35.6404,
            35.678,
            35.5233,
            35.5435,
            35.3678,
            35.3678,
            35.2547,
            35.353,
            35.8526,
            35.3678,
            35.5455,
            35.5534,
            35.5715,
            35.576,
            35.4847,
            35.5495,
            35.3678,
            35.459,
            35.586,
            35.6896,
            35.7251,
            35.5146,
            35.6303,
            35.5866,
            35.5873,
            35.6575,
            35.5611,
            35.6945,
            35.5814,
            35.5611,
            35.8526,
            35.8526,
            35.8468,
            35.8526,
            35.8526,
            35.8526,
            35.8526,
            35.8526,
            35.5009,
            35.4909,
            35.5009,
            35.5201,
            35.4933,
            35.5022,
            35.5022,
            35.5088,
            35.8522,
            35.482,
            35.5921,
            36.208,
            35.5102,
            36.208
           ],
           "marker": {
            "color": "#636efa"
           },
           "mode": "markers",
           "name": "",
           "showlegend": false,
           "subplot": "mapbox",
           "type": "scattermapbox"
          }
         ],
         "name": "1983"
        },
        {
         "data": [
          {
           "customdata": [
            [
             "French national Michel Brillant was abducted  in Hamra and released four days later in the Beqaa and then transported to  Damascus "
            ],
            [
             "16 civilians, including doctors and nurses who had been abducted in previous days, were released in Nabatiyeh"
            ],
            [
             "The second secretary at the South Korean embassy, Do Chaie Sung, was abducted in Ramlet al-Bayda"
            ],
            [
             "Three employees from the Spanish embassy were abducted in Beirut and released on February 19, 1986"
            ],
            [
             "French national Michel Brillant was abducted  in Hamra and released four days later in the Beqaa and then transported to  Damascus "
            ],
            [
             "Irish national Brian Keenan, an English teacher at AUB, was abducted in Beirut "
            ],
            [
             "Two American nationals were abducted and released at the end of April 199o and  in December 1991."
            ],
            [
             "Eleven Lebanese were captured in Lebanon, transferred to and tried in Israel"
            ],
            [
             " A man from Shaqra died in custody in South Lebanon, in Center 17"
            ],
            [
             " A 36-year-old man detained in Khiyam died after torture and ill-treatment"
            ],
            [
             "Six people were killed and 87 injured by a car bomb parked  in front of a printing press in Sin al-Fil"
            ],
            [
             " 3 people were killed and 36 wounded car bomb parked in Saida"
            ],
            [
             "A bomb in Kesrwan, Jounieh, kills 10 civilians and injures 114"
            ],
            [
             "Another car bomb in Sin al-Fil killes 6 peopleand injures  73 people"
            ],
            [
             "A car bomb explods in Sin al-Fil killing 4 civilians and injuring 17 people"
            ],
            [
             "Eleven Lebanese were captured in Lebanon, transferred to and tried in Israel"
            ],
            [
             "Eleven Lebanese were captured in Lebanon, transferred to and tried in Israel"
            ],
            [
             "Eleven Lebanese were captured in Lebanon, transferred to and tried in Israel"
            ],
            [
             " The PLO responds to Amal’s shelling of the Chatila and Burj al-Barajneh, by shelling West Beirut"
            ],
            [
             " The PLO responds to Amal’s shelling of the Chatila and Burj al-Barajneh, by shelling West Beirut"
            ]
           ],
           "hoverlabel": {
            "namelength": 0
           },
           "hovertemplate": "animation_frame=1986<br>event=%{customdata[0]}<br>lat=%{lat}<br>lon=%{lon}",
           "lat": [
            34.0052,
            33.3639,
            33.8877,
            33.8882,
            33.8963,
            33.8882,
            33.8882,
            33.2217,
            33.1289,
            33.3294,
            33.8773,
            33.5626,
            33.9823,
            33.8773,
            33.8773,
            33.0976,
            33.1692,
            33.194,
            33.8432,
            33.8693
           ],
           "legendgroup": "",
           "lon": [
            36.208,
            35.4906,
            35.4734,
            35.5009,
            35.482,
            35.5009,
            35.5009,
            35.4636,
            35.4385,
            35.6139,
            35.5345,
            35.3678,
            35.6382,
            35.5345,
            35.5345,
            35.3345,
            35.5203,
            35.4088,
            35.5033,
            35.5018
           ],
           "marker": {
            "color": "#636efa"
           },
           "mode": "markers",
           "name": "",
           "showlegend": false,
           "subplot": "mapbox",
           "type": "scattermapbox"
          }
         ],
         "name": "1986"
        },
        {
         "data": [
          {
           "customdata": [
            [
             "French reporter Roger Auque was abducted in West Beirut and was released  on November 27, 1987, close to the Summerland Hotel in Beirut"
            ],
            [
             "The director of Dar al-Handassah, Saba Abdo, was  abducted in Hamra"
            ],
            [
             "French reporter Roger Auque was abducted in West Beirut and was released  on November 27, 1987, close to the Summerland Hotel in Beirut"
            ],
            [
             "Two West Germans were  abducted in West Beirut"
            ],
            [
             "Two employees of the Middle East Airlines (MEA)were abducted at the Museum crossing in Beirut"
            ],
            [
             "American journalist Charles Glass was abducted with Adel Osseiran and his bodyguard in West Beirut"
            ],
            [
             "U.K. national Terry Waitewas  abducted in the Beqaa and was released in November 1991."
            ],
            [
             " In the area of Zalka, two pupils were killed, and 45 injured as a car bomb blew up as a school bus passed "
            ],
            [
             " A car bomb in Ruweiss killed 15 people and injured 62 civilians"
            ],
            [
             "A car bomb in Ramlet al-Bayda, West Beirut, kills 6 people and injures 12"
            ],
            [
             "In Zalqa and neighboring Jal al-Dib, a car bomb killed 5 and injured 2 "
            ],
            [
             "In Zalqa and neighboring Jal al-Dib, a car bomb killed 5 and injured 2 "
            ],
            [
             "A bomb was set off at the Beirut airport, killing 3 civilians and injuring 65 "
            ],
            [
             " A woman suicide bomber carried a time bomb into the American University  Hospital (AUH) and killed herself and 6 civilians and injured 31."
            ],
            [
             "Two Lebanese were arrested at a LF checkpoint in Beirut; they were detained  in the suburbs of Adonis and allegedly tortured"
            ],
            [
             "One hundred and twenty detainees from Khiyam went on a three-day hunger  strike"
            ],
            [
             "A South Lebanese man in his 50s from Hula was arrested because he refused to  collaborate with Israeli forces"
            ],
            [
             "An Israeli air raid on the camp of Ain al-Hilweh  kills 39 people and injures 70."
            ],
            [
             "Israeli Army bombs 21 villages in South Lebanon and the Western Beqaa"
            ],
            [
             "An Israeli raid on Palestinian bases in Maghdouche kills two civilians and injured nine"
            ],
            [
             "Fighting breaks out between the Nasserite Popular Organization and Fatah fighters in Saida"
            ],
            [
             "The War of the Camps worsenes in Shatila and Burj al-Barajneh"
            ],
            [
             "The War of the Camps worsenes in Shatila and Burj al-Barajneh"
            ],
            [
             "Shelling of residential neighborhoods of Hadath, Baabda, and Hazmieh"
            ],
            [
             "Shelling of residential neighborhoods of Hadath, Baabda, and Hazmieh"
            ],
            [
             "Fighting breaks out between the Nasserite Popular Organization and Fatah fighters in Saida"
            ],
            [
             "Fighting breaks out between the Nasserite Popular Organization and Fatah fighters in Saida"
            ],
            [
             "Shelling of residential neighborhoods of Hadath, Baabda, and Hazmieh"
            ],
            [
             "Car bomb that was targeting President Camille Chamoun killed at least four people"
            ],
            [
             "The Communist intellectual Hussein Mroueh was assassinated in his home"
            ],
            [
             "Assassination of Father André Mass, the director of USJ’s branch in Saida"
            ],
            [
             "Prime Minister Rachid Karami  killed by a bomb placed under his seat"
            ]
           ],
           "hoverlabel": {
            "namelength": 0
           },
           "hovertemplate": "animation_frame=1987<br>event=%{customdata[0]}<br>lat=%{lat}<br>lon=%{lon}",
           "lat": [
            33.8882,
            33.3243,
            33.8611,
            33.8882,
            33.8783,
            33.8882,
            34.0052,
            33.8972,
            33.8529,
            33.8877,
            33.8972,
            33.9062,
            33.8198,
            33.9008,
            33.9624,
            33.3294,
            33.3294,
            33.5475,
            33.5423,
            33.5226,
            33.543,
            33.8693,
            33.8432,
            33.8438,
            33.8349,
            33.5626,
            33.5475,
            33.8526,
            33.8817,
            33.8877,
            33.5626,
            34.4301
           ],
           "legendgroup": "",
           "lon": [
            35.5009,
            35.4933,
            35.5102,
            35.5009,
            35.5201,
            35.5009,
            36.208,
            35.5756,
            35.5088,
            35.4734,
            35.5756,
            35.5798,
            35.4923,
            35.4778,
            35.6103,
            35.6139,
            35.6139,
            35.3846,
            35.586,
            35.3854,
            35.3966,
            35.5018,
            35.5033,
            35.5322,
            35.5455,
            35.3678,
            35.3846,
            35.5399,
            35.5254,
            35.4734,
            35.3678,
            35.8526
           ],
           "marker": {
            "color": "#636efa"
           },
           "mode": "markers",
           "name": "",
           "showlegend": false,
           "subplot": "mapbox",
           "type": "scattermapbox"
          }
         ],
         "name": "1987"
        },
        {
         "data": [
          {
           "customdata": [
            [
             "Two of the seven Lebanese  Jews who were abducted in Beirut in March and in  May 1985 were found dead"
            ],
            [
             "Fifteen Syrian civilians who had been detained were released in Ain al Tuffaheh"
            ],
            [
             " Zahi Khouryand four of his family members were kidnapped in Hamra"
            ],
            [
             "Lebanese national and LCP member Mudieddine  Hashisho, was abducted in Sidon "
            ],
            [
             "Three Lebanese executives from the Banque du Liban were abducted and Lebanese Red Cross  volunteers were abducted in Barbir"
            ],
            [
             "Three Lebanese executives from the Banque du Liban were abducted and Lebanese Red Cross  volunteers were abducted in Barbir"
            ],
            [
             "UK nationals Hazel Moss and Amanda McGrath who was an AUB teacher  were abducted in West Beirut. They were released on October 8, 1985"
            ],
            [
             "Four Soviet diplomats were abducted in Mar Elias and in the Cola area. Three were released and one was killed"
            ],
            [
             "Lebanese nationals Munir Shma’a and Joe Salameh were abducted as they were  leaving their home in Bliss, West Beirut"
            ],
            [
             " Amal and the LF exchange 12 hostages at the Beirut Hippodrome"
            ],
            [
             "Four Soviet diplomats were abducted in Mar Elias and in the Cola area. Three were released and one was killed"
            ],
            [
             "Israel releases 113 Lebanese and Palestinians it had been detaining in Haifa,  Israel. They were transported by bus to Saida and Sour"
            ],
            [
             "Israel releases 113 Lebanese and Palestinians it had been detaining in Haifa,  Israel. They were transported by bus to Saida and Sour"
            ],
            [
             "Israel releases 752 prisoners detained at the Ansar Prison and transports 1,131 other detainees to prisons inside Israel"
            ],
            [
             "Jamal Sharara was abducted from his home, detained and tortured. He was released on May 1, 1996."
            ],
            [
             "Jamal Sharara was abducted from his home, detained and tortured. He was released on May 1, 1996."
            ],
            [
             "Swiss national Stephane Jacquemet, head of the ICRC delegation, was abducted  in ‘Adlun in South Lebanon and released on August 20, 1985."
            ],
            [
             "Shakib Sa’id Hmaydan, director of ABC News in Lebanon, was abducted in  Rawsheh in West Beirut"
            ],
            [
             "A car bomb in Zahleh kills 14 and injures 42 civilians"
            ],
            [
             "13 people were killed in an explosion  in Sed al-Bawshriyyeh, in Beirut’s eastern suburbs"
            ],
            [
             "In Tripoli, a car bomb in front of an ice cream parlor kills 50 people"
            ],
            [
             " Car bomb parked at a checkpoint of the Lebanese Army kills 15 people at Jnah"
            ],
            [
             " Thirty civilians were killed, 177 wounded in a bomb blast in Sin al-Fil"
            ],
            [
             " 31  civilians killed in explosion in front of a supermarket  on the Jal al-Dib–Antelias Highway"
            ],
            [
             " A car bomb close to a supermarket in Ashrafieh kills 30 people and wounds 80."
            ],
            [
             "56 civilians killed  and 120 injured by a car bomb in Tripoli "
            ],
            [
             "3 separate car bombs, 2 in the southern suburbs and one in West Beirut claim 24 lives"
            ],
            [
             "3 separate car bombs, 2 in the southern suburbs and one in West Beirut claim 24 lives"
            ],
            [
             "Isaac Sasson, president of the Jewish Council, was abducted en route from the  airport"
            ],
            [
             "Gilles Peyrolles, head of the French Cultural Center in Tripoli, was abducted. He was released on April 2, 1985."
            ],
            [
             "Nicolas Kluiters, a Dutch Roman Catholic priest, was abducted and tortured. His body was  found in the Caza of B’albeq on April 1, 1985."
            ],
            [
             "The Swiss Chargé d’Affaires, Eric Wehrli, was abducted and released 4 days after in Rawcheh, West Beirut "
            ],
            [
             "French writer/researcher Michel Seurat was abducted in Beirut by the Islamic  Jihad. A year later, the group announced that Seurat was dead. "
            ],
            [
             "Jean-Paul Kauffmann was abducted in West Beirut with  Michel Seurat by the Islamic Jihad"
            ],
            [
             "Wajed Doumani was  abducted in Saqiet al-Janzir"
            ],
            [
             "Thomas Sutherland, AUB’s dean of agriculture, was abducted in Beirut on his way to the university"
            ],
            [
             "David Jacobsen, an American and AUH director was abducted in West Beirut. He  was released on November 2, 1986.Islamic Jihad claimed responsibility"
            ],
            [
             " A truck loaded with explosives kills 4 civilians and injures 42 in Hayy Madi"
            ],
            [
             "A car bomb placed in the southern suburbs of Beirut kills 5 and injures 44 "
            ],
            [
             " The Israeli Army attacks the village of Zrarieh killing 21 residents"
            ],
            [
             "10 dead at a checkpoint at Tripoli exit "
            ],
            [
             "Murder of civilians continues at Tripoli claiming  124 civilians and 550 wounded"
            ],
            [
             "Heavy Artillery claims 110 civilian lives in Tripoli"
            ],
            [
             "Fierce clashes claim 70 civilian lives and 50 combatant at Tripoli"
            ],
            [
             "55000 refugees flee Tripoli fighting to Koura, Batroun and Akkar"
            ],
            [
             "55000 refugees flee Tripoli fighting to Koura, Batroun and Akkar"
            ],
            [
             "55000 refugees flee Tripoli fighting to Koura, Batroun and Akkar"
            ],
            [
             "An Israeli air raid targets the camps of Beddawi and Nahr al-Bared"
            ],
            [
             "An Israeli air raid targets the camps of Beddawi and Nahr al-Bared"
            ],
            [
             "Shelling on Tripoli kills 30 civilians and 10 Lebanese Army officers"
            ],
            [
             "40 civilians killed in clashes between al-Liqa’ al-Islami and the Arab Democratic Party."
            ],
            [
             "Six people killed and 43 injured in Saida "
            ],
            [
             "Heavy bombing of residential areas in Saida and in the nearby Palestinian camps"
            ],
            [
             "Shelling and gunfire in and around Saida "
            ],
            [
             "Lebanese and Palestinian civilians targeted in Saida "
            ],
            [
             "Heavy bombing of residential areas in Saida and in the nearby Palestinian camps"
            ],
            [
             "Heavy bombing of residential areas in Saida and in the nearby Palestinian camps"
            ],
            [
             "Displacement of around 100,000 people from 86 villages"
            ],
            [
             "Displacement of around 100,000 people from 86 villages"
            ],
            [
             "Displacement of around 100,000 people from 86 villages"
            ],
            [
             "Forced displacement of 1000 people from Jiyeh to Jounieh and Beirut"
            ],
            [
             "Forced displacement of 1000 people from Jiyeh to Jounieh and Beirut"
            ],
            [
             "Forced displacement of 1000 people from Jiyeh to Jounieh and Beirut"
            ],
            [
             "The PSP and its allies shelles, loots and sets on fire houses at Darb al-Seem"
            ],
            [
             "Christian civilians executed in  Jiyeh, Alman, and in at least 13 other villages"
            ],
            [
             "Displacement of around 100,000 people from 86 villages"
            ],
            [
             "Displacement of around 100,000 people from 86 villages"
            ],
            [
             "Christian civilians executed in  Jiyeh, Alman, and in at least 13 other villages"
            ],
            [
             "Explosion targeting Sayyed Muhammad Hussein Fadlallah kills 80 people and injures 200 "
            ],
            [
             "11 people killed in explosion in Amal office"
            ],
            [
             "A bomb explods in a bank in Musseitbeh killing 3 civilians "
            ],
            [
             "2 Car bombs, one in Tripoli and one in Verdun claim 9 lives and injures 21"
            ],
            [
             "2 Car bombs, one in Tripoli and one in Verdun claim 9 lives and injures 21"
            ],
            [
             "Car bomb  parked in front of the mosque during Friday prayers kills 6 and injures 80 in Tripoli"
            ],
            [
             " Fighting between Amal and Palestinian militias in Burj al-Barajneh claim 42 lives"
            ],
            [
             "Executions of Palestinian captives by Amal militias"
            ],
            [
             "Heavy shelling over Baabda, Metn, Achrafieh and Keserouan "
            ],
            [
             "Heavy shelling over Baabda, Metn, Achrafieh and Keserouan "
            ],
            [
             "Heavy shelling over Baabda, Metn, Achrafieh and Keserouan "
            ],
            [
             "Heavy shelling over Baabda, Metn, Achrafieh and Keserouan "
            ],
            [
             "Heavy shelling over Baabda, Metn, Achrafieh and Keserouan "
            ],
            [
             "Heavy shelling over Baabda, Metn, Achrafieh and Keserouan "
            ],
            [
             "Heavy shelling over Baabda, Metn, Achrafieh and Keserouan "
            ],
            [
             "Heavy shelling over Baabda, Metn, Achrafieh and Keserouan "
            ],
            [
             "Heavy shelling over Baabda, Metn, Achrafieh and Keserouan "
            ],
            [
             "Heavy shelling over Baabda, Metn, Achrafieh and Keserouan "
            ],
            [
             "Heavy shelling over Baabda, Metn, Achrafieh and Keserouan "
            ],
            [
             "Heavy shelling over Baabda, Metn, Achrafieh and Keserouan "
            ],
            [
             "Heavy shelling over Baabda, Metn, Achrafieh and Keserouan "
            ],
            [
             "Heavy shelling over Baabda, Metn, Achrafieh and Keserouan "
            ],
            [
             "Heavy shelling over Baabda, Metn, Achrafieh and Keserouan "
            ],
            [
             "Fighting between Amal and Murabitun militias in Sabra leave 4 dead"
            ],
            [
             "Heavy shelling on East and West Beirut, the southern suburbs, the northern and southern Metn, and Kesrouan, as well as the presidential palace, the airport, and the Ministry of Defense"
            ],
            [
             "Bombing continues, reaching 190 towns, villages, and residential sections of Beirut, Metn, Kesrouan, Aley, and Jbeil,"
            ],
            [
             "Heavy fighting between Amal and Murabitun militias claim lives of 35 civilians"
            ],
            [
             "Bomb inside the American University of Beirut kills one student"
            ],
            [
             "Artillery  shelling on Burj al-Barajneh and Chatila claim 96 lives"
            ],
            [
             "Artillery  shelling on Burj al-Barajneh and Chatila claim 96 lives"
            ],
            [
             "Intense fighting in West Beirut between Amal and PSP leave 53 civilians dead"
            ],
            [
             "Bombing continues, reaching 190 towns, villages, and residential sections of Beirut, Metn, Kesrouan, Aley, and Jbeil,"
            ],
            [
             "Bombing continues, reaching 190 towns, villages, and residential sections of Beirut, Metn, Kesrouan, Aley, and Jbeil,"
            ],
            [
             "Shelling on East Beirut continues"
            ],
            [
             "Shelling on East Beirut continues"
            ],
            [
             "Shelling on East Beirut continues"
            ],
            [
             "Clashes between East and West Beirut claim 40 lives"
            ],
            [
             "Hundreds of mortar shells fired across East and West Beirut claims eight people injures 55 "
            ],
            [
             "Bombing continues, reaching 190 towns, villages, and residential sections of Beirut, Metn, Kesrouan, Aley, and Jbeil,"
            ],
            [
             "Heavy shelling over Beirut, Jbeil and Batroun.  Thirty-one civilians killed that day and at least 121 injured."
            ],
            [
             "Heavy shelling over Beirut, Jbeil and Batroun.  Thirty-one civilians killed that day and at least 121 injured."
            ]
           ],
           "hoverlabel": {
            "namelength": 0
           },
           "hovertemplate": "animation_frame=1985<br>event=%{customdata[0]}<br>lat=%{lat}<br>lon=%{lon}",
           "lat": [
            33.8882,
            33.9332,
            33.8963,
            33.5626,
            33.8787,
            33.8963,
            33.9008,
            33.8841,
            33.9008,
            33.8769,
            33.8823,
            33.5626,
            33.2741,
            33.4607,
            33.3294,
            33.1289,
            33.4054,
            33.8877,
            33.8491,
            33.8787,
            34.4301,
            33.866,
            33.8773,
            33.9062,
            33.8852,
            34.4301,
            33.8996,
            33.8634,
            33.8198,
            34.4301,
            34.0052,
            33.8877,
            33.8882,
            33.8198,
            33.8946,
            33.9008,
            33.9008,
            33.8529,
            33.8634,
            33.3421,
            34.4301,
            34.4301,
            34.4301,
            34.4301,
            34.2563,
            34.525,
            34.4301,
            34.505,
            34.454,
            34.4301,
            34.4301,
            33.5626,
            33.5475,
            33.5626,
            33.5626,
            33.543,
            33.5626,
            33.5946,
            33.6003,
            33.5626,
            33.6674,
            33.8882,
            33.9835,
            33.5305,
            33.5945,
            33.6585,
            33.6674,
            33.6674,
            33.8634,
            33.2741,
            33.8841,
            34.4301,
            33.8841,
            34.4301,
            33.8432,
            33.8693,
            33.9488,
            33.8349,
            33.8852,
            33.8574,
            33.8633,
            33.8761,
            33.8851,
            33.9722,
            33.8438,
            33.8101,
            33.8317,
            33.8903,
            33.9659,
            33.8773,
            33.8169,
            33.8693,
            33.8198,
            33.8101,
            33.8882,
            33.9008,
            33.8693,
            33.8432,
            33.8882,
            33.8882,
            33.8198,
            33.8438,
            33.8048,
            33.8852,
            33.8882,
            33.8882,
            34.1204,
            34.1204,
            34.2563
           ],
           "legendgroup": "",
           "lon": [
            35.5009,
            35.7256,
            35.482,
            35.3678,
            35.5029,
            35.482,
            35.4778,
            35.4931,
            35.4778,
            35.5094,
            35.4915,
            35.3678,
            35.1925,
            35.5091,
            35.6139,
            35.4385,
            35.2728,
            35.4734,
            35.9027,
            35.5622,
            35.8526,
            35.4878,
            35.5345,
            35.5798,
            35.5191,
            35.8526,
            35.4955,
            35.5184,
            35.4923,
            35.8526,
            36.208,
            35.4734,
            35.5009,
            35.4923,
            35.4782,
            35.4778,
            35.4778,
            35.5088,
            35.5184,
            35.3317,
            35.8526,
            35.8526,
            35.8526,
            35.8526,
            35.6581,
            36.2407,
            35.8526,
            35.9629,
            35.8636,
            35.8526,
            35.8526,
            35.3678,
            35.3846,
            35.3678,
            35.3678,
            35.3966,
            35.3678,
            35.4475,
            35.4255,
            35.3678,
            35.4251,
            35.5009,
            35.6207,
            35.3799,
            35.4103,
            35.4472,
            35.4251,
            35.4251,
            35.5184,
            35.1925,
            35.4931,
            35.8526,
            35.4931,
            35.8526,
            35.5033,
            35.5018,
            35.6722,
            35.5455,
            35.5191,
            35.5715,
            35.6042,
            35.549,
            35.633,
            35.7128,
            35.5322,
            35.5964,
            35.591,
            35.5663,
            35.6799,
            35.5345,
            35.5351,
            35.5018,
            35.4923,
            35.5964,
            35.5009,
            35.4778,
            35.5018,
            35.5033,
            35.5009,
            35.5009,
            35.4923,
            35.5322,
            35.5867,
            35.5191,
            35.5009,
            35.5009,
            35.6471,
            35.6471,
            35.6581
           ],
           "marker": {
            "color": "#636efa"
           },
           "mode": "markers",
           "name": "",
           "showlegend": false,
           "subplot": "mapbox",
           "type": "scattermapbox"
          }
         ],
         "name": "1985"
        },
        {
         "data": [
          {
           "customdata": [
            [
             "Peter Winkler, head of the ICRC mission in Saida, was abducted. "
            ],
            [
             "Jan Cools, a Belgian doctor working with the Norwegian Aid Committee, was  abducted at the Rashidiyyeh camp in South Lebanon. He was released on June 16, 1989"
            ],
            [
             "Monseignor Albert Khreish was abducted from his home in Ghadir"
            ],
            [
             "West German Ralph Schray was abducted in West Beirut"
            ],
            [
             "Two UNRWA employees were abducted on the road between Sour and Saida.They were released on March 1,  1988, in West Beirut"
            ],
            [
             "Two UNRWA employees were abducted on the road between Sour and Saida.They were released on March 1,  1988, in West Beirut"
            ],
            [
             "Monseignor Albert Khreish was abducted from his home in Ghadir"
            ],
            [
             "Monseignor Albert Khreish was abducted from his home in Ghadir"
            ],
            [
             "Two UNRWA employees were abducted on the road between Sour and Saida.They were released on March 1,  1988, in West Beirut"
            ],
            [
             "A car bomb in the area of Ouza’i, West Beirut, targeted a checkpoint controlled by  the Syrian Army and the Lebanese ISF, killing 4 civilians and injuring 40"
            ],
            [
             "Car bomb exploded  close to the Greek Orthodox Hospital, killed 16 civilians and injured  81"
            ],
            [
             " A car bomb blew up in Tripoli, in the neighborhood of Bab al-Tabbaneh 66 people were killed and 90 injured "
            ],
            [
             "A car rigged with explosives was driven into an Israeli position in Marje’yun killing 7 Israeli soldiers and 2 civilians"
            ],
            [
             " Souha Bechara arrested and detained without charge or trial until 1998 at  Khiyam for attempting to kill SLA leader Antoine Lahd"
            ],
            [
             " Clashes in West Beirut and the southern suburbs leave 30 people dead and 85  wounded"
            ],
            [
             " Clashes in West Beirut and the southern suburbs leave 30 people dead and 85  wounded"
            ],
            [
             " Clashes in West Beirut and the southern suburbs leave 30 people dead and 85  wounded"
            ],
            [
             "The fighting resumed in the southern suburbs of Beirut between Amal and Hezbollah killing 76 people and wounding 337 in May"
            ],
            [
             "Clashes in the areas of Nabatieh, Zawter, Sour and Ghazieh took place"
            ],
            [
             "Clashes in the areas of Nabatieh, Zawter, Sour and Ghazieh took place"
            ],
            [
             "Clashes in the areas of Nabatieh, Zawter, Sour and Ghazieh took place"
            ],
            [
             "Clashes in the areas of Nabatieh, Zawter, Sour and Ghazieh took place"
            ],
            [
             "Israel launchs a series of air and sea raids on Lebanese and Palestinian residential neighborhoods in the Ain al-Hilweh camp and Iqlim al-Kharoub"
            ],
            [
             "Israel launchs a series of air and sea raids on Lebanese and Palestinian residential neighborhoods in the Ain al-Hilweh camp and Iqlim al-Kharoub"
            ],
            [
             "The Israeli Army conducts air raids on the camp of Mieh w Mieh and Naameh"
            ],
            [
             "Israel carries out a series of raids against Lebanese and Palestinian civilian areas and military positions "
            ],
            [
             "Israel carries out a series of raids against Lebanese and Palestinian civilian areas and military positions "
            ],
            [
             "Israel launchs a series of air and sea raids on Lebanese and Palestinian residential neighborhoods in the Ain al-Hilweh camp and Iqlim al-Kharoub"
            ],
            [
             "The Israeli Army conducts air raids on the camp of Mieh w Mieh and Naameh"
            ]
           ],
           "hoverlabel": {
            "namelength": 0
           },
           "hovertemplate": "animation_frame=1988<br>event=%{customdata[0]}<br>lat=%{lat}<br>lon=%{lon}",
           "lat": [
            33.5626,
            33.238,
            33.9786,
            33.8882,
            33.8882,
            33.2741,
            33.8914,
            33.8851,
            33.5626,
            33.848,
            33.8937,
            34.4396,
            33.2782,
            33.3294,
            33.8829,
            33.8834,
            33.889,
            33.8529,
            33.2741,
            33.5175,
            33.377,
            33.3218,
            33.6497,
            33.6674,
            33.7472,
            33.5626,
            33.4376,
            33.5475,
            33.5475
           ],
           "legendgroup": "",
           "lon": [
            35.3678,
            35.2176,
            35.636,
            35.5009,
            35.5009,
            35.1925,
            35.6685,
            35.633,
            35.3678,
            35.4847,
            35.523,
            35.8468,
            35.5514,
            35.6139,
            35.4986,
            35.5015,
            35.5026,
            35.5088,
            35.1925,
            35.369,
            35.4846,
            35.4618,
            35.4418,
            35.4251,
            35.4649,
            35.3678,
            35.3712,
            35.3846,
            35.3846
           ],
           "marker": {
            "color": "#636efa"
           },
           "mode": "markers",
           "name": "",
           "showlegend": false,
           "subplot": "mapbox",
           "type": "scattermapbox"
          }
         ],
         "name": "1988"
        },
        {
         "data": [
          {
           "customdata": [
            [
             "Rev. Benjamin Weir, teacher at the Protestant school in Hamra, was abducted and released"
            ],
            [
             " William Buckley, political officer at the U.S. embassy, was abducted and killed by the Islamic Jihad "
            ],
            [
             "Peter Kilburn, an AUB employee, was abducted. His body was found one month later, in Sofar"
            ],
            [
             "Jeremy Levin, the Beirut bureau chief of Cable News Network (CNN) was  abducted by the Islamic Jihad"
            ],
            [
             "the SLA opens fire on civilians in Sohmor killing 13 "
            ],
            [
             "Riots erupt in the town of Hallusiaan as an Israeli unit arrestes Sheikh Abbas Harb"
            ],
            [
             "Civilian boat at the Saida port bombed, 2 people killed"
            ],
            [
             "Assault on school bus transporting children in Kfarshima"
            ],
            [
             "Heavy shelling on Greater Beirut claims 22 civilians and more than 75 people injured."
            ],
            [
             "Heavy shelling on Greater Beirut claims 22 civilians and more than 75 people injured."
            ],
            [
             "Assault on school bus transporting children in Kfarshima"
            ],
            [
             " Israeli air raid hit Baalbeck "
            ],
            [
             " Israeli raid against a Palestinian base located between Taanayel and Bar Elias"
            ],
            [
             " Israeli raid against a Palestinian base located between Taanayel and Bar Elias"
            ],
            [
             "14 Christians were killed in Mechref "
            ],
            [
             " 13 Christians killed in Bayqun "
            ],
            [
             "Heavy shelling on Greater Beirut claims 22 civilians and more than 75 people injured."
            ],
            [
             "Intensive bombings covers Greater Beirut, Metn, Kesrouan, Aley, and the Shuf"
            ],
            [
             "Sheikh Ragheb Harb shot to death in his home"
            ],
            [
             "AUB President Malcolm Kerr was shot and killed on campus"
            ],
            [
             "Bomb meant for Prime Minister Salim el-Hoss kills 4 and injures 27"
            ],
            [
             "Suicide attack at U.S. embassy kills eight people and injures between 50 and 100 people"
            ],
            [
             "Druze Sheikh Khalil al Tawil assassinated "
            ],
            [
             " Car packed with dynamite in Tallet al-Khayyat kills 2 and injures 60"
            ],
            [
             "Car bomb in Aley kills 4 and injures 16"
            ],
            [
             "Heavy clashes between the Lebanese Army and Amal leave 50 civilians killed and 200 injured."
            ],
            [
             "Bomb falls on a factory in Kfarshima killing six employees"
            ],
            [
             "Intensive bombings covers Greater Beirut, Metn, Kesrouan, Aley, and the Shuf"
            ],
            [
             "Intensive bombings covers Greater Beirut, Metn, Kesrouan, Aley, and the Shuf"
            ],
            [
             "Shelling on residential area of Ashrafieh kills one and injures 23"
            ],
            [
             "Shelling on Greater Beirut kills 55 and injures 390"
            ],
            [
             "Intense shelling concentrated on the front lines kills 90 and injures 353"
            ],
            [
             "The Syrian Army shells Zahleh "
            ]
           ],
           "hoverlabel": {
            "namelength": 0
           },
           "hovertemplate": "animation_frame=1984<br>event=%{customdata[0]}<br>lat=%{lat}<br>lon=%{lon}",
           "lat": [
            33.8963,
            33.8882,
            33.8022,
            33.8882,
            33.5198,
            33.3079,
            33.6674,
            33.8169,
            33.8101,
            33.9823,
            33.8349,
            34.0052,
            33.8011,
            33.7764,
            33.7588,
            33.6174,
            33.8882,
            33.8882,
            33.3634,
            33.9008,
            33.8877,
            33.9229,
            33.6788,
            33.885,
            33.8101,
            33.8101,
            33.8169,
            33.8101,
            33.9823,
            33.8852,
            33.8882,
            33.8882,
            33.8491
           ],
           "legendgroup": "",
           "lon": [
            35.482,
            35.5009,
            35.7023,
            35.5009,
            35.6853,
            35.3253,
            35.4251,
            35.5351,
            35.5964,
            35.6382,
            35.5455,
            36.208,
            35.8687,
            35.9033,
            35.655,
            35.5815,
            35.5009,
            35.5009,
            35.4319,
            35.4778,
            35.4734,
            35.5921,
            35.5579,
            35.487,
            35.5964,
            35.5964,
            35.5351,
            35.5964,
            35.6382,
            35.5191,
            35.5009,
            35.5009,
            35.9027
           ],
           "marker": {
            "color": "#636efa"
           },
           "mode": "markers",
           "name": "",
           "showlegend": false,
           "subplot": "mapbox",
           "type": "scattermapbox"
          }
         ],
         "name": "1984"
        },
        {
         "data": [
          {
           "customdata": [
            [
             "Extrajudicial execution of both soldiers and  civilian supporters of Aoun were carried out by Syrian troops in several towns in Mount Lebanon"
            ],
            [
             "Extrajudicial execution of both soldiers and  civilian supporters of Aoun were carried out by Syrian troops in several towns in Mount Lebanon"
            ],
            [
             "73 soldiers taken prisoner were reportedly executed following their capture by Syrian troops in Baabda "
            ],
            [
             "The LF opens fire on a pro-Aoun demonstration in Nahr al-Mot claiming 25 lives"
            ],
            [
             "Extrajudicial execution of both soldiers and  civilian supporters of Aoun were carried out by Syrian troops in several towns in Mount Lebanon"
            ],
            [
             "Two hundred Christian supporters of Aoun were arrested by Syrian forces and were transferred to Syria or to Anjar"
            ],
            [
             "240 prisoners were executed by Syrian forces and the  pro-Damascus Christian militia headed by Elie Hobeika in Mount Lebanon"
            ],
            [
             "240 prisoners were executed by Syrian forces and the  pro-Damascus Christian militia headed by Elie Hobeika in Mount Lebanon"
            ],
            [
             "240 prisoners were executed by Syrian forces and the  pro-Damascus Christian militia headed by Elie Hobeika in Mount Lebanon"
            ],
            [
             " A school bus driving through the museum area in Beirut was attacked by the LF"
            ],
            [
             " A school bus driving through the museum area in Beirut was attacked by the LF"
            ],
            [
             "240 prisoners were executed by Syrian forces and the  pro-Damascus Christian militia headed by Elie Hobeika in Mount Lebanon"
            ],
            [
             "240 prisoners were executed by Syrian forces and the  pro-Damascus Christian militia headed by Elie Hobeika in Mount Lebanon"
            ],
            [
             "Elias Zayek, leader of the Kataeb shot and killed in Jbeil"
            ],
            [
             " 14 high-ranking officers loyal to Aoun were abducted in Baabda"
            ],
            [
             "Fighting between the two militias spread to the town of Baalbeck, in the  Beqaa. Fifteen people were killed that day and dozens were injured"
            ],
            [
             "Fighting in West Beirut and the southern suburbs left 9 people dead and 34  wounded"
            ],
            [
             "Fighting in West Beirut and the southern suburbs left 9 people dead and 34  wounded"
            ],
            [
             "Clashes between Amal and Hezbollah in the southern suburbs of Beirut resulted  in 4 deaths and 33 wounded"
            ]
           ],
           "hoverlabel": {
            "namelength": 0
           },
           "hovertemplate": "animation_frame=1990<br>event=%{customdata[0]}<br>lat=%{lat}<br>lon=%{lon}",
           "lat": [
            33.8552,
            33.8164,
            33.8349,
            33.8997,
            33.8438,
            33.7095,
            33.8108,
            33.8349,
            33.8633,
            33.8852,
            33.8783,
            33.8164,
            33.8227,
            34.1204,
            33.8349,
            34.0052,
            33.8529,
            33.8882,
            33.8529
           ],
           "legendgroup": "",
           "lon": [
            35.5966,
            35.577,
            35.5455,
            35.5692,
            35.5322,
            35.905,
            35.5556,
            35.5455,
            35.6042,
            35.5191,
            35.5201,
            35.577,
            35.5972,
            35.6471,
            35.5455,
            36.208,
            35.5088,
            35.5009,
            35.5088
           ],
           "marker": {
            "color": "#636efa"
           },
           "mode": "markers",
           "name": "",
           "showlegend": false,
           "subplot": "mapbox",
           "type": "scattermapbox"
          }
         ],
         "name": "1990"
        },
        {
         "data": [
          {
           "customdata": [
            [
             "Particularly intense fighting in August extends to Beirut, its suburbs, Metn, the  Mountain, Kesrwan, Jbeil, and the Beqaa"
            ],
            [
             "Particularly intense fighting in August extends to Beirut, its suburbs, Metn, the  Mountain, Kesrwan, Jbeil, and the Beqaa"
            ],
            [
             "Particularly intense fighting in August extends to Beirut, its suburbs, Metn, the  Mountain, Kesrwan, Jbeil, and the Beqaa"
            ],
            [
             "Fierce clashes in the battle of Ain al-Remmaneh"
            ],
            [
             "Particularly intense fighting in August extends to Beirut, its suburbs, Metn, the  Mountain, Kesrwan, Jbeil, and the Beqaa"
            ],
            [
             "Particularly intense fighting in August extends to Beirut, its suburbs, Metn, the  Mountain, Kesrwan, Jbeil, and the Beqaa"
            ],
            [
             " Both sides pounded the Christian enclave daily  claiming the lives of 615  people died, and more than 2,000 were wounded, half of them civilians"
            ],
            [
             " Both sides pounded the Christian enclave daily  claiming the lives of 615  people died, and more than 2,000 were wounded, half of them civilians"
            ],
            [
             " Both sides pounded the Christian enclave daily  claiming the lives of 615  people died, and more than 2,000 were wounded, half of them civilians"
            ],
            [
             "An explosion in the church of Sabtieh, in Beirut’s eastern suburbs, kills one person and injures four people"
            ],
            [
             "A car bomb in Raouche, West Beirut killed four and injured six"
            ],
            [
             "Sheikh Subhi al-Saleh, a Muslim scholar was assassinated"
            ],
            [
             "A car bomb explods as the convoy of the Sunni Grand  Mufti of the Republic of Lebanon, Sheikh Hassan Khaled, was passing through West Beirut, killing  him and 9 other people, and wounds 76"
            ],
            [
             "Eighty kilograms of explosives kills two people and wounds seven in  Mkalles, in the eastern suburb of Beirut"
            ],
            [
             "MP Nazem el-Qadri and his bodyguard shot and killed by unknown  assailants in Verdun, West Beirut"
            ],
            [
             " Dany Chamoun, his wife, and his two sons were killed in their house by unidentified gunmen"
            ],
            [
             "An explosion kills President-elect René Mouawad and tens of others as his convoy traveled through West Beirut on Independence Day"
            ],
            [
             "A car bomb in Jal al-Dib, in Beirut’s northern suburbs, killed 13 people and  injured 119"
            ],
            [
             "A car bomb in Hamra, West Beirut, killed 2 civilians and injured 21"
            ],
            [
             "Israeli and SLA shelling of Nabatieh, Kfar Rumman, and other villages and  towns kills four people and left several dozens injured"
            ],
            [
             "Israeli and SLA shelling of Nabatieh, Kfar Rumman, and other villages and  towns kills four people and left several dozens injured"
            ],
            [
             " An Israeli air raid in the village of Aynab  kills and 27 injures 27, including two students and a teacher"
            ],
            [
             "The SLA bombed Saida, killing four people and injuring six"
            ],
            [
             "A car bomb in Rweiss in Beirut’s southern suburbs killed 1 civilian and injured 20"
            ],
            [
             "Anwar al-Fatayri, a senior member of the PSP, and his driver were assassinated in  Deir al-Qamar"
            ],
            [
             "A car bomb in Furn al-Chebbak, East Beirut killed 2 civilians and at wounded  least 18"
            ],
            [
             "A car bomb in the Beqaa killed 1 civilian and wounded 25"
            ],
            [
             " 76 people killed and 200 wounded after three days of fighting in East Beirut between the LF and the Lebanese Army "
            ],
            [
             " 23 people killed by the Syrian Army's continued shelling throughout April 1989, hitting residential areas in Beirut  and its southern suburbs, Metn, Kesrwan, Aley, Jbayl, the Beqaa, and Batroun"
            ],
            [
             " 23 people killed by the Syrian Army's continued shelling throughout April 1989, hitting residential areas in Beirut  and its southern suburbs, Metn, Kesrwan, Aley, Jbayl, the Beqaa, and Batroun"
            ],
            [
             " 23 people killed by the Syrian Army's continued shelling throughout April 1989, hitting residential areas in Beirut  and its southern suburbs, Metn, Kesrwan, Aley, Jbayl, the Beqaa, and Batroun"
            ],
            [
             " 23 people killed by the Syrian Army's continued shelling throughout April 1989, hitting residential areas in Beirut  and its southern suburbs, Metn, Kesrwan, Aley, Jbayl, the Beqaa, and Batroun"
            ],
            [
             "Daily bombardment of residential areas covered Beirut, Kesrwan, Metn,  Monteverde, Mkalles, Mansurieh, and North Lebanon"
            ],
            [
             "Daily bombardment of residential areas covered Beirut, Kesrwan, Metn,  Monteverde, Mkalles, Mansurieh, and North Lebanon"
            ],
            [
             "Daily bombardment of residential areas covered Beirut, Kesrwan, Metn,  Monteverde, Mkalles, Mansurieh, and North Lebanon"
            ],
            [
             "Daily bombardment of residential areas covered Beirut, Kesrwan, Metn,  Monteverde, Mkalles, Mansurieh, and North Lebanon"
            ],
            [
             "Daily bombardment of residential areas covered Beirut, Kesrwan, Metn,  Monteverde, Mkalles, Mansurieh, and North Lebanon"
            ],
            [
             " 23 people killed by the Syrian Army's continued shelling throughout April 1989, hitting residential areas in Beirut  and its southern suburbs, Metn, Kesrwan, Aley, Jbayl, the Beqaa, and Batroun"
            ],
            [
             " 23 people killed by the Syrian Army's continued shelling throughout April 1989, hitting residential areas in Beirut  and its southern suburbs, Metn, Kesrwan, Aley, Jbayl, the Beqaa, and Batroun"
            ],
            [
             "Five civilians  killed in Ain al-Remmaneh by a Grad missile fired by the  Syrian Army. 40 people killed and 165 wounded by seperate clashes"
            ],
            [
             "101 people were  killed and 474 wounded during the 17 days of shelling over the areas of Beirut, Metn, Aley, and  Kesrwan"
            ],
            [
             "101 people were  killed and 474 wounded during the 17 days of shelling over the areas of Beirut, Metn, Aley, and  Kesrwan"
            ],
            [
             "101 people were  killed and 474 wounded during the 17 days of shelling over the areas of Beirut, Metn, Aley, and  Kesrwan"
            ],
            [
             "Daily bombardment of residential areas covered Beirut, Kesrwan, Metn,  Monteverde, Mkalles, Mansurieh, and North Lebanon"
            ],
            [
             "Daily bombardment of residential areas covered Beirut, Kesrwan, Metn,  Monteverde, Mkalles, Mansurieh, and North Lebanon"
            ],
            [
             "660 people killed in the month of January, 500 of whom victims of the Amal-Hezbollah war"
            ],
            [
             "660 people killed in the month of January, 500 of whom victims of the Amal-Hezbollah war"
            ],
            [
             "90 people killed during the month of December by clashes between Amal and Hezbollah"
            ],
            [
             "90 people killed during the month of December by clashes between Amal and Hezbollah"
            ],
            [
             "The Syrian Army drops 20,000 bombs over East Beirut"
            ],
            [
             "Daily bombardment of residential areas covered Beirut, Kesrwan, Metn,  Monteverde, Mkalles, Mansurieh, and North Lebanon"
            ],
            [
             "Daily bombardment of residential areas covered Beirut, Kesrwan, Metn,  Monteverde, Mkalles, Mansurieh, and North Lebanon"
            ],
            [
             "The bombardments between the Lebanese and Syrian armies left around 850 dead and another 3,000 wounded"
            ],
            [
             "Abdel Karim Obeid, a Shi’a sheikh from Jibchit  was taken prisoner in South Lebanon by an Israeli commando"
            ]
           ],
           "hoverlabel": {
            "namelength": 0
           },
           "hovertemplate": "animation_frame=1989<br>event=%{customdata[0]}<br>lat=%{lat}<br>lon=%{lon}",
           "lat": [
            34.1204,
            33.8882,
            34.0052,
            33.8679,
            33.9835,
            33.9148,
            33.9835,
            33.8852,
            33.9148,
            33.8739,
            33.8877,
            33.8882,
            33.8882,
            33.8621,
            33.8811,
            33.8349,
            33.8882,
            33.9062,
            33.8963,
            33.377,
            33.3886,
            33.7673,
            33.5626,
            33.8432,
            33.6962,
            33.8728,
            34.0052,
            33.8852,
            34.2563,
            33.9835,
            34.1204,
            33.9148,
            34.2984,
            33.9835,
            33.8882,
            33.8574,
            33.8959,
            33.8101,
            34.0052,
            33.8679,
            33.8882,
            33.9835,
            33.8101,
            34.1204,
            33.8621,
            33.2782,
            33.8529,
            33.8882,
            33.2782,
            33.8852,
            33.8511,
            34.2563,
            33.8882,
            33.3634
           ],
           "legendgroup": "",
           "lon": [
            35.6471,
            35.5009,
            36.208,
            35.5202,
            35.6207,
            35.5921,
            35.6207,
            35.5191,
            35.5921,
            35.5671,
            35.4734,
            35.5009,
            35.5009,
            35.5495,
            35.4851,
            35.5455,
            35.5009,
            35.5798,
            35.482,
            35.4846,
            35.5015,
            35.5481,
            35.3678,
            35.5033,
            35.5611,
            35.5208,
            36.208,
            35.5191,
            35.6581,
            35.6207,
            35.6471,
            35.5921,
            35.8504,
            35.6207,
            35.5009,
            35.5715,
            35.4991,
            35.5964,
            36.208,
            35.5202,
            35.5009,
            35.6207,
            35.5964,
            35.6471,
            35.5495,
            35.5514,
            35.5088,
            35.5009,
            35.5514,
            35.5191,
            35.5901,
            35.6581,
            35.5009,
            35.4319
           ],
           "marker": {
            "color": "#636efa"
           },
           "mode": "markers",
           "name": "",
           "showlegend": false,
           "subplot": "mapbox",
           "type": "scattermapbox"
          }
         ],
         "name": "1989"
        }
       ],
       "layout": {
        "autosize": true,
        "legend": {
         "tracegroupgap": 0
        },
        "mapbox": {
         "accesstoken": "pk.eyJ1IjoiZGVkZXN3aW0iLCJhIjoiY2s0NWZ3eDEzMDhicTNzcGppN2plazR3dyJ9.vwOaKZJU07PsRV1GJO87ag",
         "center": {
          "lat": 33.83758976945244,
          "lon": 35.59312103746398
         },
         "domain": {
          "x": [
           0,
           1
          ],
          "y": [
           0,
           1
          ]
         },
         "zoom": 7
        },
        "margin": {
         "b": 0,
         "l": 0,
         "r": 5,
         "t": 0
        },
        "sliders": [
         {
          "active": 0,
          "currentvalue": {
           "prefix": "animation_frame="
          },
          "len": 0.9,
          "pad": {
           "b": 10,
           "t": 60
          },
          "steps": [
           {
            "args": [
             [
              "1977"
             ],
             {
              "frame": {
               "duration": 0,
               "redraw": true
              },
              "fromcurrent": true,
              "mode": "immediate",
              "transition": {
               "duration": 0,
               "easing": "linear"
              }
             }
            ],
            "label": "1977",
            "method": "animate"
           },
           {
            "args": [
             [
              "1978"
             ],
             {
              "frame": {
               "duration": 0,
               "redraw": true
              },
              "fromcurrent": true,
              "mode": "immediate",
              "transition": {
               "duration": 0,
               "easing": "linear"
              }
             }
            ],
            "label": "1978",
            "method": "animate"
           },
           {
            "args": [
             [
              "1979"
             ],
             {
              "frame": {
               "duration": 0,
               "redraw": true
              },
              "fromcurrent": true,
              "mode": "immediate",
              "transition": {
               "duration": 0,
               "easing": "linear"
              }
             }
            ],
            "label": "1979",
            "method": "animate"
           },
           {
            "args": [
             [
              "1980"
             ],
             {
              "frame": {
               "duration": 0,
               "redraw": true
              },
              "fromcurrent": true,
              "mode": "immediate",
              "transition": {
               "duration": 0,
               "easing": "linear"
              }
             }
            ],
            "label": "1980",
            "method": "animate"
           },
           {
            "args": [
             [
              "1976"
             ],
             {
              "frame": {
               "duration": 0,
               "redraw": true
              },
              "fromcurrent": true,
              "mode": "immediate",
              "transition": {
               "duration": 0,
               "easing": "linear"
              }
             }
            ],
            "label": "1976",
            "method": "animate"
           },
           {
            "args": [
             [
              "1975"
             ],
             {
              "frame": {
               "duration": 0,
               "redraw": true
              },
              "fromcurrent": true,
              "mode": "immediate",
              "transition": {
               "duration": 0,
               "easing": "linear"
              }
             }
            ],
            "label": "1975",
            "method": "animate"
           },
           {
            "args": [
             [
              "1983"
             ],
             {
              "frame": {
               "duration": 0,
               "redraw": true
              },
              "fromcurrent": true,
              "mode": "immediate",
              "transition": {
               "duration": 0,
               "easing": "linear"
              }
             }
            ],
            "label": "1983",
            "method": "animate"
           },
           {
            "args": [
             [
              "1986"
             ],
             {
              "frame": {
               "duration": 0,
               "redraw": true
              },
              "fromcurrent": true,
              "mode": "immediate",
              "transition": {
               "duration": 0,
               "easing": "linear"
              }
             }
            ],
            "label": "1986",
            "method": "animate"
           },
           {
            "args": [
             [
              "1987"
             ],
             {
              "frame": {
               "duration": 0,
               "redraw": true
              },
              "fromcurrent": true,
              "mode": "immediate",
              "transition": {
               "duration": 0,
               "easing": "linear"
              }
             }
            ],
            "label": "1987",
            "method": "animate"
           },
           {
            "args": [
             [
              "1985"
             ],
             {
              "frame": {
               "duration": 0,
               "redraw": true
              },
              "fromcurrent": true,
              "mode": "immediate",
              "transition": {
               "duration": 0,
               "easing": "linear"
              }
             }
            ],
            "label": "1985",
            "method": "animate"
           },
           {
            "args": [
             [
              "1988"
             ],
             {
              "frame": {
               "duration": 0,
               "redraw": true
              },
              "fromcurrent": true,
              "mode": "immediate",
              "transition": {
               "duration": 0,
               "easing": "linear"
              }
             }
            ],
            "label": "1988",
            "method": "animate"
           },
           {
            "args": [
             [
              "1984"
             ],
             {
              "frame": {
               "duration": 0,
               "redraw": true
              },
              "fromcurrent": true,
              "mode": "immediate",
              "transition": {
               "duration": 0,
               "easing": "linear"
              }
             }
            ],
            "label": "1984",
            "method": "animate"
           },
           {
            "args": [
             [
              "1990"
             ],
             {
              "frame": {
               "duration": 0,
               "redraw": true
              },
              "fromcurrent": true,
              "mode": "immediate",
              "transition": {
               "duration": 0,
               "easing": "linear"
              }
             }
            ],
            "label": "1990",
            "method": "animate"
           },
           {
            "args": [
             [
              "1989"
             ],
             {
              "frame": {
               "duration": 0,
               "redraw": true
              },
              "fromcurrent": true,
              "mode": "immediate",
              "transition": {
               "duration": 0,
               "easing": "linear"
              }
             }
            ],
            "label": "1989",
            "method": "animate"
           }
          ],
          "x": 0.1,
          "xanchor": "left",
          "y": 0,
          "yanchor": "top"
         }
        ],
        "template": {
         "data": {
          "bar": [
           {
            "error_x": {
             "color": "#2a3f5f"
            },
            "error_y": {
             "color": "#2a3f5f"
            },
            "marker": {
             "line": {
              "color": "#E5ECF6",
              "width": 0.5
             }
            },
            "type": "bar"
           }
          ],
          "barpolar": [
           {
            "marker": {
             "line": {
              "color": "#E5ECF6",
              "width": 0.5
             }
            },
            "type": "barpolar"
           }
          ],
          "carpet": [
           {
            "aaxis": {
             "endlinecolor": "#2a3f5f",
             "gridcolor": "white",
             "linecolor": "white",
             "minorgridcolor": "white",
             "startlinecolor": "#2a3f5f"
            },
            "baxis": {
             "endlinecolor": "#2a3f5f",
             "gridcolor": "white",
             "linecolor": "white",
             "minorgridcolor": "white",
             "startlinecolor": "#2a3f5f"
            },
            "type": "carpet"
           }
          ],
          "choropleth": [
           {
            "colorbar": {
             "outlinewidth": 0,
             "ticks": ""
            },
            "type": "choropleth"
           }
          ],
          "contour": [
           {
            "colorbar": {
             "outlinewidth": 0,
             "ticks": ""
            },
            "colorscale": [
             [
              0,
              "#0d0887"
             ],
             [
              0.1111111111111111,
              "#46039f"
             ],
             [
              0.2222222222222222,
              "#7201a8"
             ],
             [
              0.3333333333333333,
              "#9c179e"
             ],
             [
              0.4444444444444444,
              "#bd3786"
             ],
             [
              0.5555555555555556,
              "#d8576b"
             ],
             [
              0.6666666666666666,
              "#ed7953"
             ],
             [
              0.7777777777777778,
              "#fb9f3a"
             ],
             [
              0.8888888888888888,
              "#fdca26"
             ],
             [
              1,
              "#f0f921"
             ]
            ],
            "type": "contour"
           }
          ],
          "contourcarpet": [
           {
            "colorbar": {
             "outlinewidth": 0,
             "ticks": ""
            },
            "type": "contourcarpet"
           }
          ],
          "heatmap": [
           {
            "colorbar": {
             "outlinewidth": 0,
             "ticks": ""
            },
            "colorscale": [
             [
              0,
              "#0d0887"
             ],
             [
              0.1111111111111111,
              "#46039f"
             ],
             [
              0.2222222222222222,
              "#7201a8"
             ],
             [
              0.3333333333333333,
              "#9c179e"
             ],
             [
              0.4444444444444444,
              "#bd3786"
             ],
             [
              0.5555555555555556,
              "#d8576b"
             ],
             [
              0.6666666666666666,
              "#ed7953"
             ],
             [
              0.7777777777777778,
              "#fb9f3a"
             ],
             [
              0.8888888888888888,
              "#fdca26"
             ],
             [
              1,
              "#f0f921"
             ]
            ],
            "type": "heatmap"
           }
          ],
          "heatmapgl": [
           {
            "colorbar": {
             "outlinewidth": 0,
             "ticks": ""
            },
            "colorscale": [
             [
              0,
              "#0d0887"
             ],
             [
              0.1111111111111111,
              "#46039f"
             ],
             [
              0.2222222222222222,
              "#7201a8"
             ],
             [
              0.3333333333333333,
              "#9c179e"
             ],
             [
              0.4444444444444444,
              "#bd3786"
             ],
             [
              0.5555555555555556,
              "#d8576b"
             ],
             [
              0.6666666666666666,
              "#ed7953"
             ],
             [
              0.7777777777777778,
              "#fb9f3a"
             ],
             [
              0.8888888888888888,
              "#fdca26"
             ],
             [
              1,
              "#f0f921"
             ]
            ],
            "type": "heatmapgl"
           }
          ],
          "histogram": [
           {
            "marker": {
             "colorbar": {
              "outlinewidth": 0,
              "ticks": ""
             }
            },
            "type": "histogram"
           }
          ],
          "histogram2d": [
           {
            "colorbar": {
             "outlinewidth": 0,
             "ticks": ""
            },
            "colorscale": [
             [
              0,
              "#0d0887"
             ],
             [
              0.1111111111111111,
              "#46039f"
             ],
             [
              0.2222222222222222,
              "#7201a8"
             ],
             [
              0.3333333333333333,
              "#9c179e"
             ],
             [
              0.4444444444444444,
              "#bd3786"
             ],
             [
              0.5555555555555556,
              "#d8576b"
             ],
             [
              0.6666666666666666,
              "#ed7953"
             ],
             [
              0.7777777777777778,
              "#fb9f3a"
             ],
             [
              0.8888888888888888,
              "#fdca26"
             ],
             [
              1,
              "#f0f921"
             ]
            ],
            "type": "histogram2d"
           }
          ],
          "histogram2dcontour": [
           {
            "colorbar": {
             "outlinewidth": 0,
             "ticks": ""
            },
            "colorscale": [
             [
              0,
              "#0d0887"
             ],
             [
              0.1111111111111111,
              "#46039f"
             ],
             [
              0.2222222222222222,
              "#7201a8"
             ],
             [
              0.3333333333333333,
              "#9c179e"
             ],
             [
              0.4444444444444444,
              "#bd3786"
             ],
             [
              0.5555555555555556,
              "#d8576b"
             ],
             [
              0.6666666666666666,
              "#ed7953"
             ],
             [
              0.7777777777777778,
              "#fb9f3a"
             ],
             [
              0.8888888888888888,
              "#fdca26"
             ],
             [
              1,
              "#f0f921"
             ]
            ],
            "type": "histogram2dcontour"
           }
          ],
          "mesh3d": [
           {
            "colorbar": {
             "outlinewidth": 0,
             "ticks": ""
            },
            "type": "mesh3d"
           }
          ],
          "parcoords": [
           {
            "line": {
             "colorbar": {
              "outlinewidth": 0,
              "ticks": ""
             }
            },
            "type": "parcoords"
           }
          ],
          "pie": [
           {
            "automargin": true,
            "type": "pie"
           }
          ],
          "scatter": [
           {
            "marker": {
             "colorbar": {
              "outlinewidth": 0,
              "ticks": ""
             }
            },
            "type": "scatter"
           }
          ],
          "scatter3d": [
           {
            "line": {
             "colorbar": {
              "outlinewidth": 0,
              "ticks": ""
             }
            },
            "marker": {
             "colorbar": {
              "outlinewidth": 0,
              "ticks": ""
             }
            },
            "type": "scatter3d"
           }
          ],
          "scattercarpet": [
           {
            "marker": {
             "colorbar": {
              "outlinewidth": 0,
              "ticks": ""
             }
            },
            "type": "scattercarpet"
           }
          ],
          "scattergeo": [
           {
            "marker": {
             "colorbar": {
              "outlinewidth": 0,
              "ticks": ""
             }
            },
            "type": "scattergeo"
           }
          ],
          "scattergl": [
           {
            "marker": {
             "colorbar": {
              "outlinewidth": 0,
              "ticks": ""
             }
            },
            "type": "scattergl"
           }
          ],
          "scattermapbox": [
           {
            "marker": {
             "colorbar": {
              "outlinewidth": 0,
              "ticks": ""
             }
            },
            "type": "scattermapbox"
           }
          ],
          "scatterpolar": [
           {
            "marker": {
             "colorbar": {
              "outlinewidth": 0,
              "ticks": ""
             }
            },
            "type": "scatterpolar"
           }
          ],
          "scatterpolargl": [
           {
            "marker": {
             "colorbar": {
              "outlinewidth": 0,
              "ticks": ""
             }
            },
            "type": "scatterpolargl"
           }
          ],
          "scatterternary": [
           {
            "marker": {
             "colorbar": {
              "outlinewidth": 0,
              "ticks": ""
             }
            },
            "type": "scatterternary"
           }
          ],
          "surface": [
           {
            "colorbar": {
             "outlinewidth": 0,
             "ticks": ""
            },
            "colorscale": [
             [
              0,
              "#0d0887"
             ],
             [
              0.1111111111111111,
              "#46039f"
             ],
             [
              0.2222222222222222,
              "#7201a8"
             ],
             [
              0.3333333333333333,
              "#9c179e"
             ],
             [
              0.4444444444444444,
              "#bd3786"
             ],
             [
              0.5555555555555556,
              "#d8576b"
             ],
             [
              0.6666666666666666,
              "#ed7953"
             ],
             [
              0.7777777777777778,
              "#fb9f3a"
             ],
             [
              0.8888888888888888,
              "#fdca26"
             ],
             [
              1,
              "#f0f921"
             ]
            ],
            "type": "surface"
           }
          ],
          "table": [
           {
            "cells": {
             "fill": {
              "color": "#EBF0F8"
             },
             "line": {
              "color": "white"
             }
            },
            "header": {
             "fill": {
              "color": "#C8D4E3"
             },
             "line": {
              "color": "white"
             }
            },
            "type": "table"
           }
          ]
         },
         "layout": {
          "annotationdefaults": {
           "arrowcolor": "#2a3f5f",
           "arrowhead": 0,
           "arrowwidth": 1
          },
          "coloraxis": {
           "colorbar": {
            "outlinewidth": 0,
            "ticks": ""
           }
          },
          "colorscale": {
           "diverging": [
            [
             0,
             "#8e0152"
            ],
            [
             0.1,
             "#c51b7d"
            ],
            [
             0.2,
             "#de77ae"
            ],
            [
             0.3,
             "#f1b6da"
            ],
            [
             0.4,
             "#fde0ef"
            ],
            [
             0.5,
             "#f7f7f7"
            ],
            [
             0.6,
             "#e6f5d0"
            ],
            [
             0.7,
             "#b8e186"
            ],
            [
             0.8,
             "#7fbc41"
            ],
            [
             0.9,
             "#4d9221"
            ],
            [
             1,
             "#276419"
            ]
           ],
           "sequential": [
            [
             0,
             "#0d0887"
            ],
            [
             0.1111111111111111,
             "#46039f"
            ],
            [
             0.2222222222222222,
             "#7201a8"
            ],
            [
             0.3333333333333333,
             "#9c179e"
            ],
            [
             0.4444444444444444,
             "#bd3786"
            ],
            [
             0.5555555555555556,
             "#d8576b"
            ],
            [
             0.6666666666666666,
             "#ed7953"
            ],
            [
             0.7777777777777778,
             "#fb9f3a"
            ],
            [
             0.8888888888888888,
             "#fdca26"
            ],
            [
             1,
             "#f0f921"
            ]
           ],
           "sequentialminus": [
            [
             0,
             "#0d0887"
            ],
            [
             0.1111111111111111,
             "#46039f"
            ],
            [
             0.2222222222222222,
             "#7201a8"
            ],
            [
             0.3333333333333333,
             "#9c179e"
            ],
            [
             0.4444444444444444,
             "#bd3786"
            ],
            [
             0.5555555555555556,
             "#d8576b"
            ],
            [
             0.6666666666666666,
             "#ed7953"
            ],
            [
             0.7777777777777778,
             "#fb9f3a"
            ],
            [
             0.8888888888888888,
             "#fdca26"
            ],
            [
             1,
             "#f0f921"
            ]
           ]
          },
          "colorway": [
           "#636efa",
           "#EF553B",
           "#00cc96",
           "#ab63fa",
           "#FFA15A",
           "#19d3f3",
           "#FF6692",
           "#B6E880",
           "#FF97FF",
           "#FECB52"
          ],
          "font": {
           "color": "#2a3f5f"
          },
          "geo": {
           "bgcolor": "white",
           "lakecolor": "white",
           "landcolor": "#E5ECF6",
           "showlakes": true,
           "showland": true,
           "subunitcolor": "white"
          },
          "hoverlabel": {
           "align": "left"
          },
          "hovermode": "closest",
          "mapbox": {
           "style": "light"
          },
          "paper_bgcolor": "white",
          "plot_bgcolor": "#E5ECF6",
          "polar": {
           "angularaxis": {
            "gridcolor": "white",
            "linecolor": "white",
            "ticks": ""
           },
           "bgcolor": "#E5ECF6",
           "radialaxis": {
            "gridcolor": "white",
            "linecolor": "white",
            "ticks": ""
           }
          },
          "scene": {
           "xaxis": {
            "backgroundcolor": "#E5ECF6",
            "gridcolor": "white",
            "gridwidth": 2,
            "linecolor": "white",
            "showbackground": true,
            "ticks": "",
            "zerolinecolor": "white"
           },
           "yaxis": {
            "backgroundcolor": "#E5ECF6",
            "gridcolor": "white",
            "gridwidth": 2,
            "linecolor": "white",
            "showbackground": true,
            "ticks": "",
            "zerolinecolor": "white"
           },
           "zaxis": {
            "backgroundcolor": "#E5ECF6",
            "gridcolor": "white",
            "gridwidth": 2,
            "linecolor": "white",
            "showbackground": true,
            "ticks": "",
            "zerolinecolor": "white"
           }
          },
          "shapedefaults": {
           "line": {
            "color": "#2a3f5f"
           }
          },
          "ternary": {
           "aaxis": {
            "gridcolor": "white",
            "linecolor": "white",
            "ticks": ""
           },
           "baxis": {
            "gridcolor": "white",
            "linecolor": "white",
            "ticks": ""
           },
           "bgcolor": "#E5ECF6",
           "caxis": {
            "gridcolor": "white",
            "linecolor": "white",
            "ticks": ""
           }
          },
          "title": {
           "x": 0.05
          },
          "xaxis": {
           "automargin": true,
           "gridcolor": "white",
           "linecolor": "white",
           "ticks": "",
           "title": {
            "standoff": 15
           },
           "zerolinecolor": "white",
           "zerolinewidth": 2
          },
          "yaxis": {
           "automargin": true,
           "gridcolor": "white",
           "linecolor": "white",
           "ticks": "",
           "title": {
            "standoff": 15
           },
           "zerolinecolor": "white",
           "zerolinewidth": 2
          }
         }
        },
        "updatemenus": [
         {
          "buttons": [
           {
            "args": [
             null,
             {
              "frame": {
               "duration": 500,
               "redraw": true
              },
              "fromcurrent": true,
              "mode": "immediate",
              "transition": {
               "duration": 500,
               "easing": "linear"
              }
             }
            ],
            "label": "&#9654;",
            "method": "animate"
           },
           {
            "args": [
             [
              null
             ],
             {
              "frame": {
               "duration": 0,
               "redraw": true
              },
              "fromcurrent": true,
              "mode": "immediate",
              "transition": {
               "duration": 0,
               "easing": "linear"
              }
             }
            ],
            "label": "&#9724;",
            "method": "animate"
           }
          ],
          "direction": "left",
          "pad": {
           "r": 10,
           "t": 70
          },
          "showactive": false,
          "type": "buttons",
          "x": 0.1,
          "xanchor": "right",
          "y": 0,
          "yanchor": "top"
         }
        ]
       }
      },
      "image/png": "[encoded data removed]",
      "text/html": [
       "<div>\n",
       "        \n",
       "        \n",
       "            <div id=\"2e676695-f84b-4c87-952f-3e5109adcbb1\" class=\"plotly-graph-div\" style=\"height:600px; width:100%;\"></div>\n",
       "            <script type=\"text/javascript\">\n",
       "                require([\"plotly\"], function(Plotly) {\n",
       "                    window.PLOTLYENV=window.PLOTLYENV || {};\n",
       "                    \n",
       "                if (document.getElementById(\"2e676695-f84b-4c87-952f-3e5109adcbb1\")) {\n",
       "                    Plotly.newPlot(\n",
       "                        '2e676695-f84b-4c87-952f-3e5109adcbb1',\n",
       "                        [{\"customdata\": [[\"Christians targeted in Upper Metn and Aley\"], [\"Christians targeted in Upper Metn and Aley\"], [\"Christians targeted in Upper Metn and Aley\"], [\"Christians targeted in Upper Metn and Aley\"], [\"Massacre of St. George Church in Brih\"], [\"Maasser el Chouf killing\"], [\"Christian massacres in Chouf and in West Beirut\"], [\"Christian massacres in Chouf and in West Beirut\"], [\"Christian massacres in Chouf and in West Beirut\"], [\"Christian massacres in Chouf and in West Beirut\"], [\"Christian massacres in Chouf and in West Beirut\"], [\"Christian massacres in Chouf and in West Beirut\"], [\"Christian massacres in Chouf and in West Beirut\"], [\"Christian massacres in Chouf and in West Beirut\"], [\"Christian massacres in Chouf and in West Beirut\"], [\"Conflicts on the border continue\"], [\"Conflicts on the border continue\"], [\"Israeli air raids and sea attack on South Lebanon\"], [\"Israeli air raids and sea attack on South Lebanon\"], [\"Border militias occupy Khiyam\"], [\"Christian massacres in Chouf and in West Beirut\"], [\"Israeli air raids and sea attack on South Lebanon\"], [\"Israeli air raids and sea attack on South Lebanon\"], [\"Israeli air raids and sea attack on South Lebanon\"]], \"hoverlabel\": {\"namelength\": 0}, \"hovertemplate\": \"animation_frame=1977<br>event=%{customdata[0]}<br>lat=%{lat}<br>lon=%{lon}\", \"lat\": [33.7545, 33.7373, 33.8338, 33.7413, 33.7163, 33.6672, 33.7409, 33.6672, 33.7108, 33.7042, 33.6989, 33.6414, 33.6642, 33.7392, 33.8882, 33.3001, 33.2782, 33.3294, 33.1794, 33.3294, 33.6363, 33.2741, 33.1064, 33.3639], \"legendgroup\": \"\", \"lon\": [35.6015, 35.5977, 35.6205, 35.6692, 35.6575, 35.6703, 35.6993, 35.6703, 35.678, 35.678, 35.6303, 35.5866, 35.6207, 35.6323, 35.5009, 35.5435, 35.5514, 35.6139, 35.2262, 35.6139, 35.6181, 35.1925, 35.2313, 35.4906], \"marker\": {\"opacity\": 0.7, \"showscale\": false, \"size\": 10}, \"mode\": \"markers\", \"name\": \"\", \"showlegend\": false, \"subplot\": \"mapbox\", \"type\": \"scattermapbox\"}],\n",
       "                        {\"height\": 600, \"legend\": {\"tracegroupgap\": 0}, \"mapbox\": {\"accesstoken\": \"pk.eyJ1IjoiZGVkZXN3aW0iLCJhIjoiY2s0NWZ3eDEzMDhicTNzcGppN2plazR3dyJ9.vwOaKZJU07PsRV1GJO87ag\", \"center\": {\"lat\": 33.83758976945244, \"lon\": 35.59312103746398}, \"domain\": {\"x\": [0.0, 1.0], \"y\": [0.0, 1.0]}, \"zoom\": 7}, \"margin\": {\"b\": 0, \"l\": 0, \"r\": 5, \"t\": 0}, \"sliders\": [{\"active\": 0, \"currentvalue\": {\"prefix\": \"animation_frame=\"}, \"len\": 0.9, \"pad\": {\"b\": 10, \"t\": 60}, \"steps\": [{\"args\": [[\"1977\"], {\"frame\": {\"duration\": 0, \"redraw\": true}, \"fromcurrent\": true, \"mode\": \"immediate\", \"transition\": {\"duration\": 0, \"easing\": \"linear\"}}], \"label\": \"1977\", \"method\": \"animate\"}, {\"args\": [[\"1978\"], {\"frame\": {\"duration\": 0, \"redraw\": true}, \"fromcurrent\": true, \"mode\": \"immediate\", \"transition\": {\"duration\": 0, \"easing\": \"linear\"}}], \"label\": \"1978\", \"method\": \"animate\"}, {\"args\": [[\"1979\"], {\"frame\": {\"duration\": 0, \"redraw\": true}, \"fromcurrent\": true, \"mode\": \"immediate\", \"transition\": {\"duration\": 0, \"easing\": \"linear\"}}], \"label\": \"1979\", \"method\": \"animate\"}, {\"args\": [[\"1980\"], {\"frame\": {\"duration\": 0, \"redraw\": true}, \"fromcurrent\": true, \"mode\": \"immediate\", \"transition\": {\"duration\": 0, \"easing\": \"linear\"}}], \"label\": \"1980\", \"method\": \"animate\"}, {\"args\": [[\"1976\"], {\"frame\": {\"duration\": 0, \"redraw\": true}, \"fromcurrent\": true, \"mode\": \"immediate\", \"transition\": {\"duration\": 0, \"easing\": \"linear\"}}], \"label\": \"1976\", \"method\": \"animate\"}, {\"args\": [[\"1975\"], {\"frame\": {\"duration\": 0, \"redraw\": true}, \"fromcurrent\": true, \"mode\": \"immediate\", \"transition\": {\"duration\": 0, \"easing\": \"linear\"}}], \"label\": \"1975\", \"method\": \"animate\"}, {\"args\": [[\"1983\"], {\"frame\": {\"duration\": 0, \"redraw\": true}, \"fromcurrent\": true, \"mode\": \"immediate\", \"transition\": {\"duration\": 0, \"easing\": \"linear\"}}], \"label\": \"1983\", \"method\": \"animate\"}, {\"args\": [[\"1986\"], {\"frame\": {\"duration\": 0, \"redraw\": true}, \"fromcurrent\": true, \"mode\": \"immediate\", \"transition\": {\"duration\": 0, \"easing\": \"linear\"}}], \"label\": \"1986\", \"method\": \"animate\"}, {\"args\": [[\"1987\"], {\"frame\": {\"duration\": 0, \"redraw\": true}, \"fromcurrent\": true, \"mode\": \"immediate\", \"transition\": {\"duration\": 0, \"easing\": \"linear\"}}], \"label\": \"1987\", \"method\": \"animate\"}, {\"args\": [[\"1985\"], {\"frame\": {\"duration\": 0, \"redraw\": true}, \"fromcurrent\": true, \"mode\": \"immediate\", \"transition\": {\"duration\": 0, \"easing\": \"linear\"}}], \"label\": \"1985\", \"method\": \"animate\"}, {\"args\": [[\"1988\"], {\"frame\": {\"duration\": 0, \"redraw\": true}, \"fromcurrent\": true, \"mode\": \"immediate\", \"transition\": {\"duration\": 0, \"easing\": \"linear\"}}], \"label\": \"1988\", \"method\": \"animate\"}, {\"args\": [[\"1984\"], {\"frame\": {\"duration\": 0, \"redraw\": true}, \"fromcurrent\": true, \"mode\": \"immediate\", \"transition\": {\"duration\": 0, \"easing\": \"linear\"}}], \"label\": \"1984\", \"method\": \"animate\"}, {\"args\": [[\"1990\"], {\"frame\": {\"duration\": 0, \"redraw\": true}, \"fromcurrent\": true, \"mode\": \"immediate\", \"transition\": {\"duration\": 0, \"easing\": \"linear\"}}], \"label\": \"1990\", \"method\": \"animate\"}, {\"args\": [[\"1989\"], {\"frame\": {\"duration\": 0, \"redraw\": true}, \"fromcurrent\": true, \"mode\": \"immediate\", \"transition\": {\"duration\": 0, \"easing\": \"linear\"}}], \"label\": \"1989\", \"method\": \"animate\"}], \"x\": 0.1, \"xanchor\": \"left\", \"y\": 0, \"yanchor\": \"top\"}], \"template\": {\"data\": {\"bar\": [{\"error_x\": {\"color\": \"#2a3f5f\"}, \"error_y\": {\"color\": \"#2a3f5f\"}, \"marker\": {\"line\": {\"color\": \"#E5ECF6\", \"width\": 0.5}}, \"type\": \"bar\"}], \"barpolar\": [{\"marker\": {\"line\": {\"color\": \"#E5ECF6\", \"width\": 0.5}}, \"type\": \"barpolar\"}], \"carpet\": [{\"aaxis\": {\"endlinecolor\": \"#2a3f5f\", \"gridcolor\": \"white\", \"linecolor\": \"white\", \"minorgridcolor\": \"white\", \"startlinecolor\": \"#2a3f5f\"}, \"baxis\": {\"endlinecolor\": \"#2a3f5f\", \"gridcolor\": \"white\", \"linecolor\": \"white\", \"minorgridcolor\": \"white\", \"startlinecolor\": \"#2a3f5f\"}, \"type\": \"carpet\"}], \"choropleth\": [{\"colorbar\": {\"outlinewidth\": 0, \"ticks\": \"\"}, \"type\": \"choropleth\"}], \"contour\": [{\"colorbar\": {\"outlinewidth\": 0, \"ticks\": \"\"}, \"colorscale\": [[0.0, \"#0d0887\"], [0.1111111111111111, \"#46039f\"], [0.2222222222222222, \"#7201a8\"], [0.3333333333333333, \"#9c179e\"], [0.4444444444444444, \"#bd3786\"], [0.5555555555555556, \"#d8576b\"], [0.6666666666666666, \"#ed7953\"], [0.7777777777777778, \"#fb9f3a\"], [0.8888888888888888, \"#fdca26\"], [1.0, \"#f0f921\"]], \"type\": \"contour\"}], \"contourcarpet\": [{\"colorbar\": {\"outlinewidth\": 0, \"ticks\": \"\"}, \"type\": \"contourcarpet\"}], \"heatmap\": [{\"colorbar\": {\"outlinewidth\": 0, \"ticks\": \"\"}, \"colorscale\": [[0.0, \"#0d0887\"], [0.1111111111111111, \"#46039f\"], [0.2222222222222222, \"#7201a8\"], [0.3333333333333333, \"#9c179e\"], [0.4444444444444444, \"#bd3786\"], [0.5555555555555556, \"#d8576b\"], [0.6666666666666666, \"#ed7953\"], [0.7777777777777778, \"#fb9f3a\"], [0.8888888888888888, \"#fdca26\"], [1.0, \"#f0f921\"]], \"type\": \"heatmap\"}], \"heatmapgl\": [{\"colorbar\": {\"outlinewidth\": 0, \"ticks\": \"\"}, \"colorscale\": [[0.0, \"#0d0887\"], [0.1111111111111111, \"#46039f\"], [0.2222222222222222, \"#7201a8\"], [0.3333333333333333, \"#9c179e\"], [0.4444444444444444, \"#bd3786\"], [0.5555555555555556, \"#d8576b\"], [0.6666666666666666, \"#ed7953\"], [0.7777777777777778, \"#fb9f3a\"], [0.8888888888888888, \"#fdca26\"], [1.0, \"#f0f921\"]], \"type\": \"heatmapgl\"}], \"histogram\": [{\"marker\": {\"colorbar\": {\"outlinewidth\": 0, \"ticks\": \"\"}}, \"type\": \"histogram\"}], \"histogram2d\": [{\"colorbar\": {\"outlinewidth\": 0, \"ticks\": \"\"}, \"colorscale\": [[0.0, \"#0d0887\"], [0.1111111111111111, \"#46039f\"], [0.2222222222222222, \"#7201a8\"], [0.3333333333333333, \"#9c179e\"], [0.4444444444444444, \"#bd3786\"], [0.5555555555555556, \"#d8576b\"], [0.6666666666666666, \"#ed7953\"], [0.7777777777777778, \"#fb9f3a\"], [0.8888888888888888, \"#fdca26\"], [1.0, \"#f0f921\"]], \"type\": \"histogram2d\"}], \"histogram2dcontour\": [{\"colorbar\": {\"outlinewidth\": 0, \"ticks\": \"\"}, \"colorscale\": [[0.0, \"#0d0887\"], [0.1111111111111111, \"#46039f\"], [0.2222222222222222, \"#7201a8\"], [0.3333333333333333, \"#9c179e\"], [0.4444444444444444, \"#bd3786\"], [0.5555555555555556, \"#d8576b\"], [0.6666666666666666, \"#ed7953\"], [0.7777777777777778, \"#fb9f3a\"], [0.8888888888888888, \"#fdca26\"], [1.0, \"#f0f921\"]], \"type\": \"histogram2dcontour\"}], \"mesh3d\": [{\"colorbar\": {\"outlinewidth\": 0, \"ticks\": \"\"}, \"type\": \"mesh3d\"}], \"parcoords\": [{\"line\": {\"colorbar\": {\"outlinewidth\": 0, \"ticks\": \"\"}}, \"type\": \"parcoords\"}], \"pie\": [{\"automargin\": true, \"type\": \"pie\"}], \"scatter\": [{\"marker\": {\"colorbar\": {\"outlinewidth\": 0, \"ticks\": \"\"}}, \"type\": \"scatter\"}], \"scatter3d\": [{\"line\": {\"colorbar\": {\"outlinewidth\": 0, \"ticks\": \"\"}}, \"marker\": {\"colorbar\": {\"outlinewidth\": 0, \"ticks\": \"\"}}, \"type\": \"scatter3d\"}], \"scattercarpet\": [{\"marker\": {\"colorbar\": {\"outlinewidth\": 0, \"ticks\": \"\"}}, \"type\": \"scattercarpet\"}], \"scattergeo\": [{\"marker\": {\"colorbar\": {\"outlinewidth\": 0, \"ticks\": \"\"}}, \"type\": \"scattergeo\"}], \"scattergl\": [{\"marker\": {\"colorbar\": {\"outlinewidth\": 0, \"ticks\": \"\"}}, \"type\": \"scattergl\"}], \"scattermapbox\": [{\"marker\": {\"colorbar\": {\"outlinewidth\": 0, \"ticks\": \"\"}}, \"type\": \"scattermapbox\"}], \"scatterpolar\": [{\"marker\": {\"colorbar\": {\"outlinewidth\": 0, \"ticks\": \"\"}}, \"type\": \"scatterpolar\"}], \"scatterpolargl\": [{\"marker\": {\"colorbar\": {\"outlinewidth\": 0, \"ticks\": \"\"}}, \"type\": \"scatterpolargl\"}], \"scatterternary\": [{\"marker\": {\"colorbar\": {\"outlinewidth\": 0, \"ticks\": \"\"}}, \"type\": \"scatterternary\"}], \"surface\": [{\"colorbar\": {\"outlinewidth\": 0, \"ticks\": \"\"}, \"colorscale\": [[0.0, \"#0d0887\"], [0.1111111111111111, \"#46039f\"], [0.2222222222222222, \"#7201a8\"], [0.3333333333333333, \"#9c179e\"], [0.4444444444444444, \"#bd3786\"], [0.5555555555555556, \"#d8576b\"], [0.6666666666666666, \"#ed7953\"], [0.7777777777777778, \"#fb9f3a\"], [0.8888888888888888, \"#fdca26\"], [1.0, \"#f0f921\"]], \"type\": \"surface\"}], \"table\": [{\"cells\": {\"fill\": {\"color\": \"#EBF0F8\"}, \"line\": {\"color\": \"white\"}}, \"header\": {\"fill\": {\"color\": \"#C8D4E3\"}, \"line\": {\"color\": \"white\"}}, \"type\": \"table\"}]}, \"layout\": {\"annotationdefaults\": {\"arrowcolor\": \"#2a3f5f\", \"arrowhead\": 0, \"arrowwidth\": 1}, \"coloraxis\": {\"colorbar\": {\"outlinewidth\": 0, \"ticks\": \"\"}}, \"colorscale\": {\"diverging\": [[0, \"#8e0152\"], [0.1, \"#c51b7d\"], [0.2, \"#de77ae\"], [0.3, \"#f1b6da\"], [0.4, \"#fde0ef\"], [0.5, \"#f7f7f7\"], [0.6, \"#e6f5d0\"], [0.7, \"#b8e186\"], [0.8, \"#7fbc41\"], [0.9, \"#4d9221\"], [1, \"#276419\"]], \"sequential\": [[0.0, \"#0d0887\"], [0.1111111111111111, \"#46039f\"], [0.2222222222222222, \"#7201a8\"], [0.3333333333333333, \"#9c179e\"], [0.4444444444444444, \"#bd3786\"], [0.5555555555555556, \"#d8576b\"], [0.6666666666666666, \"#ed7953\"], [0.7777777777777778, \"#fb9f3a\"], [0.8888888888888888, \"#fdca26\"], [1.0, \"#f0f921\"]], \"sequentialminus\": [[0.0, \"#0d0887\"], [0.1111111111111111, \"#46039f\"], [0.2222222222222222, \"#7201a8\"], [0.3333333333333333, \"#9c179e\"], [0.4444444444444444, \"#bd3786\"], [0.5555555555555556, \"#d8576b\"], [0.6666666666666666, \"#ed7953\"], [0.7777777777777778, \"#fb9f3a\"], [0.8888888888888888, \"#fdca26\"], [1.0, \"#f0f921\"]]}, \"colorway\": [\"#636efa\", \"#EF553B\", \"#00cc96\", \"#ab63fa\", \"#FFA15A\", \"#19d3f3\", \"#FF6692\", \"#B6E880\", \"#FF97FF\", \"#FECB52\"], \"font\": {\"color\": \"#2a3f5f\"}, \"geo\": {\"bgcolor\": \"white\", \"lakecolor\": \"white\", \"landcolor\": \"#E5ECF6\", \"showlakes\": true, \"showland\": true, \"subunitcolor\": \"white\"}, \"hoverlabel\": {\"align\": \"left\"}, \"hovermode\": \"closest\", \"mapbox\": {\"style\": \"light\"}, \"paper_bgcolor\": \"white\", \"plot_bgcolor\": \"#E5ECF6\", \"polar\": {\"angularaxis\": {\"gridcolor\": \"white\", \"linecolor\": \"white\", \"ticks\": \"\"}, \"bgcolor\": \"#E5ECF6\", \"radialaxis\": {\"gridcolor\": \"white\", \"linecolor\": \"white\", \"ticks\": \"\"}}, \"scene\": {\"xaxis\": {\"backgroundcolor\": \"#E5ECF6\", \"gridcolor\": \"white\", \"gridwidth\": 2, \"linecolor\": \"white\", \"showbackground\": true, \"ticks\": \"\", \"zerolinecolor\": \"white\"}, \"yaxis\": {\"backgroundcolor\": \"#E5ECF6\", \"gridcolor\": \"white\", \"gridwidth\": 2, \"linecolor\": \"white\", \"showbackground\": true, \"ticks\": \"\", \"zerolinecolor\": \"white\"}, \"zaxis\": {\"backgroundcolor\": \"#E5ECF6\", \"gridcolor\": \"white\", \"gridwidth\": 2, \"linecolor\": \"white\", \"showbackground\": true, \"ticks\": \"\", \"zerolinecolor\": \"white\"}}, \"shapedefaults\": {\"line\": {\"color\": \"#2a3f5f\"}}, \"ternary\": {\"aaxis\": {\"gridcolor\": \"white\", \"linecolor\": \"white\", \"ticks\": \"\"}, \"baxis\": {\"gridcolor\": \"white\", \"linecolor\": \"white\", \"ticks\": \"\"}, \"bgcolor\": \"#E5ECF6\", \"caxis\": {\"gridcolor\": \"white\", \"linecolor\": \"white\", \"ticks\": \"\"}}, \"title\": {\"x\": 0.05}, \"xaxis\": {\"automargin\": true, \"gridcolor\": \"white\", \"linecolor\": \"white\", \"ticks\": \"\", \"title\": {\"standoff\": 15}, \"zerolinecolor\": \"white\", \"zerolinewidth\": 2}, \"yaxis\": {\"automargin\": true, \"gridcolor\": \"white\", \"linecolor\": \"white\", \"ticks\": \"\", \"title\": {\"standoff\": 15}, \"zerolinecolor\": \"white\", \"zerolinewidth\": 2}}}, \"updatemenus\": [{\"buttons\": [{\"args\": [null, {\"frame\": {\"duration\": 500, \"redraw\": true}, \"fromcurrent\": true, \"mode\": \"immediate\", \"transition\": {\"duration\": 500, \"easing\": \"linear\"}}], \"label\": \"&#9654;\", \"method\": \"animate\"}, {\"args\": [[null], {\"frame\": {\"duration\": 0, \"redraw\": true}, \"fromcurrent\": true, \"mode\": \"immediate\", \"transition\": {\"duration\": 0, \"easing\": \"linear\"}}], \"label\": \"&#9724;\", \"method\": \"animate\"}], \"direction\": \"left\", \"pad\": {\"r\": 10, \"t\": 70}, \"showactive\": false, \"type\": \"buttons\", \"x\": 0.1, \"xanchor\": \"right\", \"y\": 0, \"yanchor\": \"top\"}]},\n",
       "                        {\"responsive\": true}\n",
       "                    ).then(function(){\n",
       "                            Plotly.addFrames('2e676695-f84b-4c87-952f-3e5109adcbb1', [{\"data\": [{\"customdata\": [[\"Christians targeted in Upper Metn and Aley\"], [\"Christians targeted in Upper Metn and Aley\"], [\"Christians targeted in Upper Metn and Aley\"], [\"Christians targeted in Upper Metn and Aley\"], [\"Massacre of St. George Church in Brih\"], [\"Maasser el Chouf killing\"], [\"Christian massacres in Chouf and in West Beirut\"], [\"Christian massacres in Chouf and in West Beirut\"], [\"Christian massacres in Chouf and in West Beirut\"], [\"Christian massacres in Chouf and in West Beirut\"], [\"Christian massacres in Chouf and in West Beirut\"], [\"Christian massacres in Chouf and in West Beirut\"], [\"Christian massacres in Chouf and in West Beirut\"], [\"Christian massacres in Chouf and in West Beirut\"], [\"Christian massacres in Chouf and in West Beirut\"], [\"Conflicts on the border continue\"], [\"Conflicts on the border continue\"], [\"Israeli air raids and sea attack on South Lebanon\"], [\"Israeli air raids and sea attack on South Lebanon\"], [\"Border militias occupy Khiyam\"], [\"Christian massacres in Chouf and in West Beirut\"], [\"Israeli air raids and sea attack on South Lebanon\"], [\"Israeli air raids and sea attack on South Lebanon\"], [\"Israeli air raids and sea attack on South Lebanon\"]], \"hoverlabel\": {\"namelength\": 0}, \"hovertemplate\": \"animation_frame=1977<br>event=%{customdata[0]}<br>lat=%{lat}<br>lon=%{lon}\", \"lat\": [33.7545, 33.7373, 33.8338, 33.7413, 33.7163, 33.6672, 33.7409, 33.6672, 33.7108, 33.7042, 33.6989, 33.6414, 33.6642, 33.7392, 33.8882, 33.3001, 33.2782, 33.3294, 33.1794, 33.3294, 33.6363, 33.2741, 33.1064, 33.3639], \"legendgroup\": \"\", \"lon\": [35.6015, 35.5977, 35.6205, 35.6692, 35.6575, 35.6703, 35.6993, 35.6703, 35.678, 35.678, 35.6303, 35.5866, 35.6207, 35.6323, 35.5009, 35.5435, 35.5514, 35.6139, 35.2262, 35.6139, 35.6181, 35.1925, 35.2313, 35.4906], \"marker\": {\"color\": \"#636efa\"}, \"mode\": \"markers\", \"name\": \"\", \"showlegend\": false, \"subplot\": \"mapbox\", \"type\": \"scattermapbox\"}], \"name\": \"1977\"}, {\"data\": [{\"customdata\": [[\"Christians executed near Aley\"], [\"Christians executed near Aley\"], [\"Family killed in Baalchmay\"], [\"Christians killes in Kfarmata\"], [\"Clashes among ADF, and PNL/Kataeb\"], [\"ADF bombs Ain al-Remmaneh and Badaro\"], [\"ADF bombs Ain al-Remmaneh and Badaro\"], [\"ADF bombs Ain al-Remmaneh and Badaro\"], [\"Open confrontation begins between Christian militias and ADF\"], [\"Open confrontation begins between Christian militias and ADF\"], [\"Strategic alliance between Lebanese Front and Syria ends\"], [\"Strategic alliance between Lebanese Front and Syria ends\"], [\"Strategic alliance between Lebanese Front and Syria ends\"], [\"Strategic alliance between Lebanese Front and Syria ends\"]], \"hoverlabel\": {\"namelength\": 0}, \"hovertemplate\": \"animation_frame=1978<br>event=%{customdata[0]}<br>lat=%{lat}<br>lon=%{lon}\", \"lat\": [33.7933, 33.6408, 33.8178, 33.727, 33.8679, 33.8852, 33.8679, 33.8728, 33.8634, 33.8679, 33.8852, 33.8728, 33.8475, 33.8679], \"legendgroup\": \"\", \"lon\": [35.5162, 35.6088, 35.6457, 35.5267, 35.5202, 35.5191, 35.5202, 35.5208, 35.5184, 35.5202, 35.5191, 35.5208, 35.5516, 35.5202], \"marker\": {\"color\": \"#636efa\"}, \"mode\": \"markers\", \"name\": \"\", \"showlegend\": false, \"subplot\": \"mapbox\", \"type\": \"scattermapbox\"}], \"name\": \"1978\"}, {\"data\": [{\"customdata\": [[\"Killing in Sirjbal to push out Christians\"], [\"Druze attacks on Christian villages at entrances to Aley/Chouf\"], [\"Druze attacks on Christian villages at entrances to Aley/Chouf\"], [\"Druze attacks on Christian villages at entrances to Aley/Chouf\"]], \"hoverlabel\": {\"namelength\": 0}, \"hovertemplate\": \"animation_frame=1979<br>event=%{customdata[0]}<br>lat=%{lat}<br>lon=%{lon}\", \"lat\": [33.6826, 33.7326, 33.7811, 33.662], \"legendgroup\": \"\", \"lon\": [35.5136, 35.5115, 35.7223, 35.5604], \"marker\": {\"color\": \"#636efa\"}, \"mode\": \"markers\", \"name\": \"\", \"showlegend\": false, \"subplot\": \"mapbox\", \"type\": \"scattermapbox\"}], \"name\": \"1979\"}, {\"data\": [{\"customdata\": [[\"More attacks on Christians\"], [\"More attacks on Christians\"], [\"More attacks on Christians\"], [\"More attacks on Christians\"]], \"hoverlabel\": {\"namelength\": 0}, \"hovertemplate\": \"animation_frame=1980<br>event=%{customdata[0]}<br>lat=%{lat}<br>lon=%{lon}\", \"lat\": [33.8116, 33.7373, 33.727, 33.6826], \"legendgroup\": \"\", \"lon\": [35.6718, 35.5977, 35.5267, 35.5136], \"marker\": {\"color\": \"#636efa\"}, \"mode\": \"markers\", \"name\": \"\", \"showlegend\": false, \"subplot\": \"mapbox\", \"type\": \"scattermapbox\"}], \"name\": \"1980\"}, {\"data\": [{\"customdata\": [[\"Christian civilians killed and displaced in Chouf\"], [\"Syrian Army shells South\"], [\"Syrian Army shells South\"], [\"Syrian Army shells South\"], [\"Clashes in the South among various actors\"], [\"Institute of Islamic Studies attacked\"], [\"Institute of Islamic Studies attacked\"], [\"Syrian Army continues shelling West Beirut\"], [\"Syrian Army continues shelling West Beirut\"], [\"Syrian Army continues shelling West Beirut\"], [\"Syrian Army bombs West Beirut\"], [\"Syrian Army continues shelling West Beirut\"], [\"Clashes in the South among various actors\"], [\"Clashes in the South among various actors\"], [\"Druze kidnap Christians from Mansourieh-Bhamdoun\"], [\"Druze kidnap Christians from Mansourieh-Bhamdoun\"], [\"Syrian Army attack against Joint Forces\"], [\"Syrian Army attack against Joint Forces\"], [\"Druze kidnap Christians from Mansourieh-Bhamdoun\"], [\"Looting and burning of Churches in Mansourieh-Bhamdoun \"], [\"Christian militias kill civilians in Mtein\"], [\"Druze civilians killed in Upper Metn\"], [\"Looting and burning of Churches in Mansourieh-Bhamdoun \"], [\"Syrian Army attack against Joint Forces\"], [\"Syrian Army attack against Joint Forces\"], [\"Airport bombed by Christian militias\"], [\"U.S. Ambassador kidnapped and killed\"], [\"Joint Forces attack Christian village in Jezzine\"], [\"LAA bombards Higher Shia Council\"], [\"Attack on Chekka and Hamat\"], [\"Syrian Army attack against Joint Forces\"], [\"Attack on Chekka and Hamat\"], [\"Attack on Chekka and Hamat\"], [\"Syrian Army bombs West Beirut\"], [\"Syrian Army bombs West Beirut\"], [\"Druze offensive on Christian villages\"], [\"Druze offensive on Christian villages\"], [\"Druze offensive on Christian villages\"], [\"Civilians killed in Mtein\"], [\"Druze offensive on Christian villages\"], [\"Druze offensive on Christian villages\"], [\"Druze offensive on Christian villages\"], [\"Druze offensive on Christian villages\"], [\"Druze offensive on Christian villages\"], [\"Druze men attack Abadieh family\"], [\"Attack on Qobayat\"], [\"Joint Forces attack Christian areas\"], [\"LAA bombard presidential palace\"], [\"LAA bombard presidential palace\"], [\"Attack on Kab-Elias prompts displacement\"], [\"Joint Forces attack Christian areas\"], [\"Joint Forces attack Christian areas\"], [\"Joint Forces attack Christian areas\"], [\"Joint Forces attack Christian areas\"], [\"Joint Forces attack Christian areas\"], [\"Druze offensive on Christian villages\"], [\"Druze offensive on Christian villages\"], [\"Jounieh and Bkerke bombed\"], [\"Elias Sarkis elected president\"], [\"Elias Sarkis elected president\"], [\"Kataeb take control of Port of Beirut\"], [\"Jounieh and Bkerke bombed\"], [\"Edde injured in assassination attempt\"], [\"Confrontation between Joint Forces and Syrian Army\"], [\"Confrontation between Joint Forces and Syrian Army\"], [\"Linda Jumblatt killed in apartment\"], [\"Kataeb take control of Port of Beirut\"], [\"Druze offensive on Christian villages\"], [\"Druze offensive on Christian villages\"], [\"Druze offensive on Christian villages\"], [\"Druze offensive on Christian villages\"], [\"Druze offensive on Christian villages\"], [\"Druze offensive on Christian villages\"], [\"Druze offensive on Christian villages\"], [\"Druze offensive on Christian villages\"], [\"Druze offensive on Christian villages\"], [\"Druze offensive on Christian villages\"], [\"Attack on Kab-Elias prompts displacement\"], [\"Attack on Kab-Elias prompts displacement\"], [\"Fall of Tal el-Zaatar and Jisr el-Basha\"], [\"Fall of Tal el-Zaatar and Jisr el-Basha\"], [\"Attack on Maslakh-Karantina camp\"], [\"Siege of Dbayeh camp\"], [\"Shelling of residential East and West Beirut\"], [\"Siege of Jiyeh and Damour begins\"], [\"Attack to empty Damour and Jiyeh\"], [\"Attack to empty Damour and Jiyeh\"], [\"Siege of Jiyeh and Damour begins\"], [\"Siege of Tal el-Zaatar and Jisr el-Basha camps\"], [\"Siege of Tal el-Zaatar and Jisr el-Basha camps\"], [\"Sieges set off clashes in other areas\"], [\"Sieges set off clashes in other areas\"], [\"Hawsh-Barada attacked\"], [\"Hawsh-Barada attacked\"], [\"Hawsh-Barada attacked\"], [\"Civilians killed in Akkar\"], [\"Sieges set off clashes in other areas\"], [\"Sieges set off clashes in other areas\"], [\"Sieges set off clashes in other areas\"], [\"Sieges set off clashes in other areas\"], [\"Sieges set off clashes in other areas\"], [\"As-Saiqa attacks newspaper offices\"], [\"Armed men set up West Beirut checkpoints\"], [\"Sieges set off clashes in other areas\"]], \"hoverlabel\": {\"namelength\": 0}, \"hovertemplate\": \"animation_frame=1976<br>event=%{customdata[0]}<br>lat=%{lat}<br>lon=%{lon}\", \"lat\": [33.7009, 33.543, 33.5475, 33.5626, 33.3294, 33.2741, 33.2614, 33.9052, 33.8693, 33.8934, 33.8738, 33.8963, 33.3642, 33.2741, 33.7802, 33.7688, 33.8757, 33.8915, 33.7966, 33.7802, 33.8915, 33.8853, 33.7966, 33.8238, 33.8491, 33.8287, 33.9052, 33.409, 33.8526, 34.4301, 33.8374, 34.3287, 34.2868, 33.8787, 33.8815, 33.8613, 33.8757, 33.6672, 33.8915, 33.8203, 33.7373, 33.8238, 33.6656, 33.6602, 33.8338, 34.5717, 33.8852, 33.9701, 33.8349, 33.7943, 33.8757, 33.8915, 33.8574, 33.8338, 33.7966, 33.8321, 33.7307, 33.9679, 33.8882, 34.4301, 33.9052, 33.9823, 33.9148, 33.8882, 33.5626, 33.8882, 33.9011, 33.7811, 33.7112, 33.8652, 33.8338, 33.771, 33.783, 33.6642, 33.8286, 33.8633, 33.8852, 33.8882, 33.7811, 33.8693, 33.8664, 33.9021, 33.9433, 33.8882, 33.7307, 33.7307, 33.6674, 33.6674, 33.8664, 33.8693, 33.8693, 33.8838, 33.8491, 34.0111, 33.6962, 34.5056, 33.8949, 33.9, 33.8815, 33.8953, 33.8852, 33.8882, 33.8882, 34.4301], \"legendgroup\": \"\", \"lon\": [35.5956, 35.3966, 35.3846, 35.3678, 35.6139, 35.1925, 35.2382, 35.5063, 35.5018, 35.4896, 35.5022, 35.482, 35.5862, 35.1925, 35.6265, 35.6289, 35.7963, 35.74, 35.6499, 35.6265, 35.74, 35.6931, 35.6499, 35.7363, 35.9027, 35.4953, 35.5063, 35.5553, 35.5399, 35.8526, 35.741, 35.7313, 35.6929, 35.5029, 35.5069, 35.6293, 35.7963, 35.6703, 35.74, 35.7073, 35.5977, 35.7363, 35.4884, 35.4954, 35.6205, 36.2804, 35.7737, 35.6197, 35.5455, 35.8203, 35.7963, 35.74, 35.5715, 35.6205, 35.6499, 35.7152, 35.4569, 35.6329, 35.5009, 35.8526, 35.5063, 35.6382, 35.5921, 35.5009, 35.3678, 35.5009, 35.5113, 35.7223, 35.5109, 35.6385, 35.6205, 35.646, 35.4759, 35.6207, 35.6084, 35.7591, 35.7737, 35.5009, 35.7223, 35.549, 35.5393, 35.5312, 35.5903, 35.5009, 35.4569, 35.4569, 35.4251, 35.4251, 35.5393, 35.549, 35.549, 35.5268, 35.9027, 36.1195, 35.5611, 36.1446, 35.5269, 35.4851, 35.5069, 35.4956, 35.5191, 35.5009, 35.5009, 35.8526], \"marker\": {\"color\": \"#636efa\"}, \"mode\": \"markers\", \"name\": \"\", \"showlegend\": false, \"subplot\": \"mapbox\", \"type\": \"scattermapbox\"}], \"name\": \"1976\"}, {\"data\": [{\"customdata\": [[\"Fighting between Joint Forces and Lebanese Front/Syrian Army\"], [\"Fighting between Joint Forces and Lebanese Front/Syrian Army\"], [\"Fighting between Joint Forces and Lebanese Front/Syrian Army\"], [\"Israeli air strikes against Palestinian camps\"], [\"Israeli air strikes against Palestinian camps\"], [\"Israeli air strikes against Palestinians\"], [\"Israeli air strikes against Palestinian camps\"], [\"Israeli attack on Palestinian camps near Sour\"], [\"Israeli air strikes against Palestinians\"], [\"Fighting resumes in North and Beirut\"], [\"Fighting resumes in North and Beirut\"], [\"Attacks on Christian in North Lebanon\"], [\"Zgharta Christian kills Tripoli Muslims\"], [\"Fighting resumes in North and Beirut\"], [\"Fighting resumes in North and Beirut\"], [\"Fighting resumes in North and Beirut\"], [\"Fighting resumes in North and Beirut\"], [\"Fighting resumes in North and Beirut\"], [\"Clashes in North Lebanon\"], [\"Clashes in North Lebanon\"], [\"As-Saiqa attack Zahle suburb\"], [\"Christian-Muslim clash in Zahle\"], [\"Christian-Muslim clash in Zahle\"], [\"Christian village of Qa'a in North Bekaa attacked\"], [\"Casulaties in Haoush al-Ummarra\"], [\"Three found dead in Saadnayel\"], [\"Round of clashes in Zahle\"], [\"Gunmen attack mill in Taalabaya\"], [\"Clashes in Zahle\"], [\"Fighting resumes in North and Beirut\"], [\"Kataeb attack on BCD\"], [\"Siege of Zahle\"], [\"Siege of Zahle\"], [\"Demonstrations to protest the violence\"], [\"Demonstrations to protest the violence\"], [\"Siege of Zahle\"], [\"Black Saturday\"], [\"Forced displacements\"], [\"Hotel district battle\"], [\"Black Saturday (continued)\"], [\"Demonstrations to protest the violence\"], [\"Demonstrations to protest the violence\"], [\"Demonstrations to protest the violence\"], [\"Demonstrations to protest the violence\"], [\"Attack on Christians in Akkar\"], [\"Attack on Christians in Akkar\"], [\"Demonstrations to protest the violence\"], [\"Demonstrations to protest the violence\"], [\"Demonstrations to protest the violence\"], [\"Demonstrations to protest the violence\"], [\"Demonstrations to protest the violence\"], [\"Fighting spreads to the North, Beqaa, and Shouf\"], [\"Fighting spreads to the North, Beqaa, and Shouf\"], [\"Fighting broke out in several areas in Beirut\"], [\"Fighting broke out in several areas in Beirut\"], [\"Fighting broke out in several areas in Beirut\"], [\"Fighting broke out in several areas in Beirut\"], [\"Fighting broke out in several areas in Beirut\"], [\"Fighting broke out in several areas in Beirut\"], [\"Clashes between PLO and Kataeb near Tal el-Zaatar and Dekwaneh\"], [\"Clashes between PLO and Kataeb near Tal el-Zaatar and Dekwaneh\"], [\"Fighting broke out in several areas in Beirut\"], [\"Fighting broke out in several areas in Beirut\"], [\"Fighting broke out in several areas in Beirut\"], [\"Bus transporting Palestinians shot at in Ain Al-Remmaneh killing 27 people\"], [\"Dispute between Kataeb security members and a car passenger\"], [\"Renewed clashes in Saida\"], [\"Maarouf Saad Assassinated in Saida\"], [\"Fighting broke out in several areas in Beirut\"], [\"Fighting broke out in several areas in Beirut\"], [\"Fighting broke out in several areas in Beirut\"], [\"Fighting broke out in several areas in Beirut\"], [\"Fighting broke out in several areas in Beirut\"], [\"Clashes between PLO and Kataeb near Tal el-Zaatar and Dekwaneh\"], [\"Clashes between PLO and Kataeb near Tal el-Zaatar and Dekwaneh\"], [\"Residential areas of Beirut bombarded\"], [\"Shelling of east Beirut and clashes on front lines\"], [\"Shelling of east Beirut and clashes on front lines\"], [\"Shelling of east Beirut and clashes on front lines\"], [\"Residential areas of Beirut bombarded\"], [\"Residential areas of Beirut bombarded\"], [\"Fighting spreads to the North, Beqaa, and Shouf\"], [\"Fighting spreads to the North, Beqaa, and Shouf\"], [\"Intense clashes\"], [\"Shelling of east Beirut and clashes on front lines\"], [\"Shelling of east Beirut and clashes on front lines\"], [\"Shelling of Tal el-Zaatar and additional neighborhood shootings\"], [\"Shelling of Tal el-Zaatar and additional neighborhood shootings\"], [\"Clashes between PLO and Kataeb near Tal el-Zaatar and Dekwaneh\"], [\"Shelling of Tal el-Zaatar and additional neighborhood shootings\"], [\"Clashes spread in Beirut, dividing the city in two\"], [\"Shelling of east Beirut and clashes on front lines\"], [\"Black Thursday\"], [\"Black Thursday\"], [\"Forced displacements\"], [\"Forced displacements\"], [\"Forced displacement of Sebnay\"], [\"First forced displacement occurs in Haret el-Ghawarneh/Antelias\"], [\"First forced displacement occurs in Haret el-Ghawarneh/Antelias\"], [\"First forced displacement occurs in Haret el-Ghawarneh/Antelias\"], [\"Governor of Tripoli assassinated as violence continues in East Beirut\"], [\"Governor of Tripoli assassinated as violence continues in East Beirut\"], [\"Fighting in Tripoli, Zgharta, and Zahle\"], [\"Fighting in Tripoli, Zgharta, and Zahle\"], [\"Fighting in Tripoli, Zgharta, and Zahle\"], [\"Attack on Taalabaya\"], [\"Clashes resume in the North and the Bekaa\"], [\"Clashes resume in the North and the Bekaa\"], [\"Civilians killed in northern villages\"], [\"Civilians killed in northern villages\"], [\"Clashes resume in the North and the Bekaa\"], [\"Clashes resume in the North and the Bekaa\"]], \"hoverlabel\": {\"namelength\": 0}, \"hovertemplate\": \"animation_frame=1975<br>event=%{customdata[0]}<br>lat=%{lat}<br>lon=%{lon}\", \"lat\": [33.5626, 33.2741, 34.4301, 33.3639, 34.505, 33.2741, 34.454, 33.2741, 34.505, 34.3967, 33.8634, 34.5296, 34.4301, 33.8679, 34.4301, 33.9052, 33.8491, 33.8693, 34.4301, 34.3967, 33.8364, 33.8491, 33.8205, 34.3443, 33.8364, 33.8205, 33.8491, 33.8163, 33.8491, 33.8761, 33.9052, 34.0052, 33.8491, 33.8787, 33.8882, 34.4301, 33.8778, 33.8845, 33.9052, 33.9011, 33.8773, 34.3601, 33.8965, 33.8039, 34.4768, 34.5959, 33.8447, 33.8943, 33.8349, 33.8845, 33.8877, 34.4301, 34.3967, 33.6488, 33.8761, 33.8529, 33.8852, 33.9011, 33.8634, 33.8761, 33.8845, 33.6466, 34.4301, 33.5626, 33.8679, 33.8679, 33.5626, 33.5626, 33.8432, 33.8679, 33.8693, 33.838, 34.3967, 33.8634, 33.8664, 33.9, 33.8915, 33.8634, 33.8851, 33.8949, 33.8838, 33.8491, 33.8101, 33.8882, 33.8728, 33.8852, 33.8761, 33.8778, 33.8693, 33.8693, 33.8882, 33.8679, 33.8964, 33.8882, 33.8664, 33.8693, 33.8329, 33.9098, 33.9148, 33.8432, 33.8882, 34.4301, 33.8491, 34.4301, 34.3967, 33.8163, 34.3967, 34.4301, 34.5648, 34.5129, 33.8491, 34.4768], \"legendgroup\": \"\", \"lon\": [35.3678, 35.1925, 35.8526, 35.4906, 35.9629, 35.1925, 35.8636, 35.1925, 35.9629, 35.8958, 35.5184, 36.1618, 35.8526, 35.5202, 35.8526, 35.5063, 35.9027, 35.549, 35.8526, 35.8958, 35.9027, 35.9027, 35.8819, 36.4732, 35.9027, 35.8819, 35.9027, 35.8629, 35.9027, 35.549, 35.5063, 36.208, 35.9027, 35.5622, 35.5009, 35.8526, 35.5779, 35.5397, 35.5063, 35.5113, 35.5345, 35.8889, 35.5199, 35.6041, 36.1816, 36.0707, 35.5224, 35.5578, 35.5455, 35.5397, 35.5412, 35.8526, 35.8958, 35.4552, 35.549, 35.5088, 35.5191, 35.5113, 35.5184, 35.549, 35.5397, 35.4579, 35.8526, 35.3678, 35.5202, 35.5202, 35.3678, 35.3678, 35.5033, 35.5202, 35.549, 35.5104, 35.8958, 35.5184, 35.5393, 35.4851, 35.5078, 35.5184, 35.5117, 35.5269, 35.5268, 35.9027, 35.5964, 35.5009, 35.5208, 35.5191, 35.549, 35.5779, 35.549, 35.549, 35.5009, 35.5202, 35.5039, 35.5009, 35.5393, 35.549, 35.5362, 35.5882, 35.5921, 35.5033, 35.5009, 35.8526, 35.9027, 35.8526, 35.8958, 35.8629, 35.8958, 35.8526, 36.1758, 36.0542, 35.9027, 36.1816], \"marker\": {\"color\": \"#636efa\"}, \"mode\": \"markers\", \"name\": \"\", \"showlegend\": false, \"subplot\": \"mapbox\", \"type\": \"scattermapbox\"}], \"name\": \"1975\"}, {\"data\": [{\"customdata\": [[\"Christian civilians murdered in response to LF checkpoint\"], [\"Christian civilians murdered in response to LF checkpoint\"], [\"Christian civilians murdered in response to LF checkpoint\"], [\"A PSP member murders 63 Christian civilians \"], [\"Christian civilians murdered in response to LF checkpoint\"], [\"Christian civilians murdered in response to LF checkpoint\"], [\" Sectarian-based killings in Baabda\"], [\"Christian civilians murdered in Aley and Baabda \"], [\"Christian civilians murdered in Aley and Baabda \"], [\"Executions of Christian civilians in the Chouf \"], [\"PSP murders Christian civilians and LF members \"], [\"PSP murder Christians in Aley and in the Chouf\"], [\"LF murder Druz civilians in Aley \"], [\"LF murder Druz civilians in Aley \"], [\"LF murder Druz civilians in Aley \"], [\"PSP murder Christians in Aley and in the Chouf\"], [\"PSP murder Christians in Aley and in the Chouf\"], [\"PSP murders Christian civilians and LF members \"], [\"PSP murder Christians in Aley and in the Chouf\"], [\"PSP murder Christians in Aley and in the Chouf\"], [\" Sectarian-based killings in Baabda\"], [\" Sectarian-based killings in Baabda\"], [\" Sectarian-based killings in the Chouf \"], [\" Sectarian-based killings in the Chouf \"], [\"Sectarian-based killings in Aley \"], [\"Sectarian-based killings in Aley \"], [\" Sectarian-based killings in the Chouf \"], [\" Sectarian-based killings in the Chouf \"], [\" Sectarian-based killings in the Chouf \"], [\" Sectarian-based killings in the Chouf \"], [\" Sectarian-based killings in the Chouf \"], [\"Sectarian-based killings in Aley \"], [\"Sectarian-based killings in Aley \"], [\"Sectarian-based killings in Aley \"], [\"Sectarian-based killings in Aley \"], [\" Sectarian-based killings in Baabda\"], [\" Sectarian-based killings in Baabda\"], [\"Sectarian-based killings in Aley \"], [\"Sectarian-based killings in Aley \"], [\"Sectarian-based killings in Aley \"], [\"Sectarian-based killings in Aley \"], [\"Sectarian-based killings in Aley \"], [\"Murder of Christians continues \"], [\"Murder of Christians continues \"], [\"PSP and Syrian Army shell East Beirut \"], [\"PSP and Syrian Army shell East Beirut \"], [\"PSP attacks and loots Christian quarters of Aley \"], [\"Clashes between LF forces and PSP continue\"], [\"PSP and Syrian Army shell East Beirut \"], [\"PSP and Syrian Army shell East Beirut \"], [\"PSP and Syrian Army shell East Beirut \"], [\"PSP and Syrian Army shell East Beirut \"], [\"PSP and Syrian Army shell East Beirut \"], [\"Clashes between LF forces and PSP continue\"], [\"Clashes between LF forces and PSP continue\"], [\"Clashes between LF forces and PSP continue\"], [\"Clashes between LF forces and PSP continue\"], [\"Clashes between LF forces and PSP continue\"], [\"Clashes between LF forces and PSP continue\"], [\"Clashes between LF forces and PSP continue\"], [\"Clashes between LF forces and PSP continue\"], [\"Clashes between LF forces and PSP continue\"], [\"Clashes between LF forces and PSP continue\"], [\"PSP and Syrian Army shell East Beirut \"], [\"PSP and Syrian Army shell East Beirut \"], [\"Murder of Christians at Ammiq and Selfaya \"], [\"Murder of Christians at Ammiq and Selfaya \"], [\"Houses in al-Abadieh set on fire \"], [\"Executions at Bmaryam \"], [\"Murder of Druze civilians in Kfarmatta \"], [\"The PSP takes control of Bhmandoun \"], [\"Murder of Christians continues \"], [\"Murder of Christians continues \"], [\"The PSP takes control of Bhmandoun \"], [\"Syrian and PSP artillery shells East Beirut \"], [\"Shelling on Ashrafieh continues \"], [\"Executions and Kidnapping of civilians at Kfarhim and Deir Dourit\"], [\"Executions and Kidnapping of civilians at Kfarhim and Deir Dourit\"], [\"PSP and Syrian Army shell East Beirut \"], [\"Shelling on Ashrafieh \"], [\"LF responds to Ashrafieh shelling \"], [\"LF responds to Ashrafieh shelling \"], [\"LF responds to Ashrafieh shelling \"], [\"LF responds to Ashrafieh shelling \"], [\" Sectarian-based killings in the Chouf \"], [\" Sectarian-based killings in the Chouf \"], [\"The LF and PSP abducted members from each other\\u2019s militias in Deir Durit and in Kfarhim. 23 of these hostages were killed. \"], [\"The LF and PSP abducted members from each other\\u2019s militias in Deir Durit and in Kfarhim. 23 of these hostages were killed. \"], [\"the Israeli Army carries out unlawful detentions in Saida\"], [\"Members close to the LF forced 12 Muslim families to evacuate their homes in the area of Saida\"], [\" The Israeli Army lays siege to the village of Deir Qanoun and Ansar\"], [\" The Israeli Army lays siege to the village of Deir Qanoun and Ansar\"], [\"75,000 residents flee the city of Tripoli\"], [\"Displacement of 208 Palestinian families from Saida due to killings and threats\"], [\"PSP shelling over East Beirut and its suburbs\"], [\"PSP shelling over East Beirut and its suburbs\"], [\"PSP shelling over East Beirut and its suburbs\"], [\"PSP shelling over East Beirut and its suburbs\"], [\"The Lebanese Army resorts to heavy artillery shelling on southern suburbs \"], [\"PSP shelling over East Beirut and its suburbs\"], [\"Forced displacement of 5,500 Christian civilians from the Shuf to South Lebanon\"], [\" PSP militias shelles a monastery in the village of Jun\"], [\"Forced displacement of 5,500 Christian civilians from the Shuf to South Lebanon\"], [\"Christian quarters in Baabda burned \"], [\"Christian quarters in Baabda burned \"], [\" Sectarian-based killings in the Chouf \"], [\" Sectarian-based killings in the Chouf \"], [\" Sectarian-based killings in the Chouf \"], [\" Sectarian-based killings in the Chouf \"], [\" Sectarian-based killings in the Chouf \"], [\"Bombing on Deir al-Qamar \"], [\"Christian quarters in Baabda burned \"], [\"Seven Christians were found killed in Ammiq\"], [\"Deir al-Qamar Siege claims lives of 8 people \"], [\"Armed men open fire on civilian cars entering Tripoli\"], [\"20 dead and 35 wounded in less than 24 hours in Tripoli\"], [\"Heavy bombardment on  Ba\\u2019l Mohsen-Qobbeh-Bab al-Tabbaneh\"], [\"Blast at Tripoli Mosque claim 20 civilian lives after Friday prayer\"], [\"A bomb explodes in front of a hospital and a school in Tripoli\"], [\"Shelling claim lives of 600 civilians and combatants, 1055 wounded\"], [\"The Islamic Tawhid Party takes over Tripoli and executes 100 leftist\"], [\"The Islamic Tawhid Party takes over Tripoli and executes 100 leftist\"], [\"Druze Sheikh Halim Takieddin assassinated in his home\"], [\"Two suicide attacks targeting U.S troops and French troops claim 303 lives\"], [\"Suicide attack at U.S. embassy kills 63 and injures 100\"], [\"2 explosions, one in Damascus Road and one inside the Marble Tower Hotel\"], [\"2 explosions, one in Damascus Road and one inside the Marble Tower Hotel\"], [\" 16 civilians killed and 10 wounded by explosion in front of Makassed Hospital,Tarik al-Jdideh \"], [\"6 people killed by an explosion near the offices of the Murabitun in Tarik al-Jdideh\"], [\"Haret Hreik explosion kills 13 people and wounds 40\"], [\" 30 civilians killed in an explosion in the offices of Palestinian organizations in Shtura, Beqaa \"], [\"Bomb placed in front of the Palestinian Research Institute, offices of the PLO on Caracas Street kills 12\"], [\"Two civilians killed by a car bomb placed close to offices of the Kataeb Party\"], [\"TNT bomb blows up in a busy vegetable market, killing 39 civilians and wounding 133 in Beqaa, Baalbek \"], [\"6 employees and 2 security guards killed by an explosion in front of the Summerland Hotel \"], [\"An explosive close to offices of the Iranian Revolutionary Guards kills 2 civilians \"]], \"hoverlabel\": {\"namelength\": 0}, \"hovertemplate\": \"animation_frame=1983<br>event=%{customdata[0]}<br>lat=%{lat}<br>lon=%{lon}\", \"lat\": [33.7144, 33.7009, 33.7392, 33.6672, 33.8488, 33.6852, 33.8219, 33.7555, 33.8286, 33.7217, 33.658, 33.7217, 33.7351, 33.7492, 33.7364, 33.7382, 33.7392, 33.6947, 33.7413, 33.7244, 33.8116, 33.8178, 33.7108, 33.6789, 33.8061, 33.7545, 33.6826, 33.6683, 33.6898, 33.7409, 33.7307, 33.7373, 33.8101, 33.7889, 33.7389, 33.8633, 33.8224, 33.7351, 33.7867, 33.7901, 33.7811, 33.7567, 33.7973, 33.8574, 33.8943, 33.8852, 33.8101, 33.8169, 33.8872, 33.8972, 33.8972, 33.8872, 33.8793, 33.8574, 33.8851, 33.8438, 33.7717, 33.7382, 33.7688, 33.7878, 33.8349, 33.7966, 33.7373, 33.8793, 33.8943, 33.7175, 33.7387, 33.8338, 33.8321, 33.727, 33.8071, 33.7966, 33.7109, 33.7966, 33.8852, 33.8852, 33.6882, 33.6852, 33.8852, 33.8852, 33.8203, 33.8374, 33.8238, 33.8125, 33.7382, 33.7042, 33.6882, 33.6852, 33.5626, 33.5626, 33.2053, 33.3781, 34.4301, 33.5626, 33.8349, 33.8359, 33.8574, 33.8309, 33.848, 33.8621, 33.5626, 33.5838, 33.5423, 33.8604, 33.8565, 33.6771, 33.6989, 33.6414, 33.7118, 33.7163, 33.6962, 33.8741, 33.7175, 33.6962, 34.4301, 34.4301, 34.4396, 34.4301, 34.4301, 34.4301, 34.4301, 34.4301, 33.8882, 33.861, 33.8882, 33.8783, 33.3243, 33.8738, 33.8738, 33.8529, 33.8152, 33.8963, 33.9148, 34.0052, 33.8611, 34.0052], \"legendgroup\": \"\", \"lon\": [35.6293, 35.5956, 35.6323, 35.6703, 35.6652, 35.5435, 35.6527, 35.5719, 35.6084, 35.638, 35.4869, 35.638, 35.5298, 35.5311, 35.545, 35.6404, 35.6323, 35.5817, 35.6692, 35.6222, 35.6718, 35.6457, 35.678, 35.5231, 35.6263, 35.6015, 35.5136, 35.5106, 35.5418, 35.6993, 35.4569, 35.5977, 35.5964, 35.5428, 35.5636, 35.7591, 35.6725, 35.5298, 35.6103, 35.6366, 35.7223, 35.7163, 35.6197, 35.5715, 35.5578, 35.5191, 35.5964, 35.5351, 35.5567, 35.5756, 35.5756, 35.5567, 35.5254, 35.5715, 35.633, 35.5322, 35.6866, 35.6404, 35.6289, 35.6597, 35.5455, 35.6499, 35.5977, 35.5254, 35.5578, 35.5814, 35.57, 35.6205, 35.7152, 35.5267, 35.6593, 35.6499, 35.6391, 35.6499, 35.5191, 35.5191, 35.5233, 35.5435, 35.5191, 35.5191, 35.7073, 35.741, 35.7363, 35.6958, 35.6404, 35.678, 35.5233, 35.5435, 35.3678, 35.3678, 35.2547, 35.353, 35.8526, 35.3678, 35.5455, 35.5534, 35.5715, 35.576, 35.4847, 35.5495, 35.3678, 35.459, 35.586, 35.6896, 35.7251, 35.5146, 35.6303, 35.5866, 35.5873, 35.6575, 35.5611, 35.6945, 35.5814, 35.5611, 35.8526, 35.8526, 35.8468, 35.8526, 35.8526, 35.8526, 35.8526, 35.8526, 35.5009, 35.4909, 35.5009, 35.5201, 35.4933, 35.5022, 35.5022, 35.5088, 35.8522, 35.482, 35.5921, 36.208, 35.5102, 36.208], \"marker\": {\"color\": \"#636efa\"}, \"mode\": \"markers\", \"name\": \"\", \"showlegend\": false, \"subplot\": \"mapbox\", \"type\": \"scattermapbox\"}], \"name\": \"1983\"}, {\"data\": [{\"customdata\": [[\"French national Michel Brillant was abducted  in Hamra and released four days later in the Beqaa and then transported to  Damascus \"], [\"16 civilians, including doctors and nurses who had been abducted in previous days, were released in Nabatiyeh\"], [\"The second secretary at the South Korean embassy, Do Chaie Sung, was abducted in Ramlet al-Bayda\"], [\"Three employees from the Spanish embassy were abducted in Beirut and released on February 19, 1986\"], [\"French national Michel Brillant was abducted  in Hamra and released four days later in the Beqaa and then transported to  Damascus \"], [\"Irish national Brian Keenan, an English teacher at AUB, was abducted in Beirut \"], [\"Two American nationals were abducted and released at the end of April 199o and  in December 1991.\"], [\"Eleven Lebanese were captured in Lebanon, transferred to and tried in Israel\"], [\" A man from Shaqra died in custody in South Lebanon, in Center 17\"], [\" A 36-year-old man detained in Khiyam died after torture and ill-treatment\"], [\"Six people were killed and 87 injured by a car bomb parked  in front of a printing press in Sin al-Fil\"], [\" 3 people were killed and 36 wounded car bomb parked in Saida\"], [\"A bomb in Kesrwan, Jounieh, kills 10 civilians and injures 114\"], [\"Another car bomb in Sin al-Fil killes 6 peopleand injures  73 people\"], [\"A car bomb explods in Sin al-Fil killing 4 civilians and injuring 17 people\"], [\"Eleven Lebanese were captured in Lebanon, transferred to and tried in Israel\"], [\"Eleven Lebanese were captured in Lebanon, transferred to and tried in Israel\"], [\"Eleven Lebanese were captured in Lebanon, transferred to and tried in Israel\"], [\" The PLO responds to Amal\\u2019s shelling of the Chatila and Burj al-Barajneh, by shelling West Beirut\"], [\" The PLO responds to Amal\\u2019s shelling of the Chatila and Burj al-Barajneh, by shelling West Beirut\"]], \"hoverlabel\": {\"namelength\": 0}, \"hovertemplate\": \"animation_frame=1986<br>event=%{customdata[0]}<br>lat=%{lat}<br>lon=%{lon}\", \"lat\": [34.0052, 33.3639, 33.8877, 33.8882, 33.8963, 33.8882, 33.8882, 33.2217, 33.1289, 33.3294, 33.8773, 33.5626, 33.9823, 33.8773, 33.8773, 33.0976, 33.1692, 33.194, 33.8432, 33.8693], \"legendgroup\": \"\", \"lon\": [36.208, 35.4906, 35.4734, 35.5009, 35.482, 35.5009, 35.5009, 35.4636, 35.4385, 35.6139, 35.5345, 35.3678, 35.6382, 35.5345, 35.5345, 35.3345, 35.5203, 35.4088, 35.5033, 35.5018], \"marker\": {\"color\": \"#636efa\"}, \"mode\": \"markers\", \"name\": \"\", \"showlegend\": false, \"subplot\": \"mapbox\", \"type\": \"scattermapbox\"}], \"name\": \"1986\"}, {\"data\": [{\"customdata\": [[\"French reporter Roger Auque was abducted in West Beirut and was released  on November 27, 1987, close to the Summerland Hotel in Beirut\"], [\"The director of Dar al-Handassah, Saba Abdo, was  abducted in Hamra\"], [\"French reporter Roger Auque was abducted in West Beirut and was released  on November 27, 1987, close to the Summerland Hotel in Beirut\"], [\"Two West Germans were  abducted in West Beirut\"], [\"Two employees of the Middle East Airlines (MEA)were abducted at the Museum crossing in Beirut\"], [\"American journalist Charles Glass was abducted with Adel Osseiran and his bodyguard in West Beirut\"], [\"U.K. national Terry Waitewas  abducted in the Beqaa and was released in November 1991.\"], [\" In the area of Zalka, two pupils were killed, and 45 injured as a car bomb blew up as a school bus passed \"], [\" A car bomb in Ruweiss killed 15 people and injured 62 civilians\"], [\"A car bomb in Ramlet al-Bayda, West Beirut, kills 6 people and injures 12\"], [\"In Zalqa and neighboring Jal al-Dib, a car bomb killed 5 and injured 2 \"], [\"In Zalqa and neighboring Jal al-Dib, a car bomb killed 5 and injured 2 \"], [\"A bomb was set off at the Beirut airport, killing 3 civilians and injuring 65 \"], [\" A woman suicide bomber carried a time bomb into the American University  Hospital (AUH) and killed herself and 6 civilians and injured 31.\"], [\"Two Lebanese were arrested at a LF checkpoint in Beirut; they were detained  in the suburbs of Adonis and allegedly tortured\"], [\"One hundred and twenty detainees from Khiyam went on a three-day hunger  strike\"], [\"A South Lebanese man in his 50s from Hula was arrested because he refused to  collaborate with Israeli forces\"], [\"An Israeli air raid on the camp of Ain al-Hilweh  kills 39 people and injures 70.\"], [\"Israeli Army bombs 21 villages in South Lebanon and the Western Beqaa\"], [\"An Israeli raid on Palestinian bases in Maghdouche kills two civilians and injured nine\"], [\"Fighting breaks out between the Nasserite Popular Organization and Fatah fighters in Saida\"], [\"The War of the Camps worsenes in Shatila and Burj al-Barajneh\"], [\"The War of the Camps worsenes in Shatila and Burj al-Barajneh\"], [\"Shelling of residential neighborhoods of Hadath, Baabda, and Hazmieh\"], [\"Shelling of residential neighborhoods of Hadath, Baabda, and Hazmieh\"], [\"Fighting breaks out between the Nasserite Popular Organization and Fatah fighters in Saida\"], [\"Fighting breaks out between the Nasserite Popular Organization and Fatah fighters in Saida\"], [\"Shelling of residential neighborhoods of Hadath, Baabda, and Hazmieh\"], [\"Car bomb that was targeting President Camille Chamoun killed at least four people\"], [\"The Communist intellectual Hussein Mroueh was assassinated in his home\"], [\"Assassination of Father Andr\\u00e9 Mass, the director of USJ\\u2019s branch in Saida\"], [\"Prime Minister Rachid Karami  killed by a bomb placed under his seat\"]], \"hoverlabel\": {\"namelength\": 0}, \"hovertemplate\": \"animation_frame=1987<br>event=%{customdata[0]}<br>lat=%{lat}<br>lon=%{lon}\", \"lat\": [33.8882, 33.3243, 33.8611, 33.8882, 33.8783, 33.8882, 34.0052, 33.8972, 33.8529, 33.8877, 33.8972, 33.9062, 33.8198, 33.9008, 33.9624, 33.3294, 33.3294, 33.5475, 33.5423, 33.5226, 33.543, 33.8693, 33.8432, 33.8438, 33.8349, 33.5626, 33.5475, 33.8526, 33.8817, 33.8877, 33.5626, 34.4301], \"legendgroup\": \"\", \"lon\": [35.5009, 35.4933, 35.5102, 35.5009, 35.5201, 35.5009, 36.208, 35.5756, 35.5088, 35.4734, 35.5756, 35.5798, 35.4923, 35.4778, 35.6103, 35.6139, 35.6139, 35.3846, 35.586, 35.3854, 35.3966, 35.5018, 35.5033, 35.5322, 35.5455, 35.3678, 35.3846, 35.5399, 35.5254, 35.4734, 35.3678, 35.8526], \"marker\": {\"color\": \"#636efa\"}, \"mode\": \"markers\", \"name\": \"\", \"showlegend\": false, \"subplot\": \"mapbox\", \"type\": \"scattermapbox\"}], \"name\": \"1987\"}, {\"data\": [{\"customdata\": [[\"Two of the seven Lebanese  Jews who were abducted in Beirut in March and in  May 1985 were found dead\"], [\"Fifteen Syrian civilians who had been detained were released in Ain al Tuffaheh\"], [\" Zahi Khouryand four of his family members were kidnapped in Hamra\"], [\"Lebanese national and LCP member Mudieddine  Hashisho, was abducted in Sidon \"], [\"Three Lebanese executives from the Banque du Liban were abducted and Lebanese Red Cross  volunteers were abducted in Barbir\"], [\"Three Lebanese executives from the Banque du Liban were abducted and Lebanese Red Cross  volunteers were abducted in Barbir\"], [\"UK nationals Hazel Moss and Amanda McGrath who was an AUB teacher  were abducted in West Beirut. They were released on October 8, 1985\"], [\"Four Soviet diplomats were abducted in Mar Elias and in the Cola area. Three were released and one was killed\"], [\"Lebanese nationals Munir Shma\\u2019a and Joe Salameh were abducted as they were  leaving their home in Bliss, West Beirut\"], [\" Amal and the LF exchange 12 hostages at the Beirut Hippodrome\"], [\"Four Soviet diplomats were abducted in Mar Elias and in the Cola area. Three were released and one was killed\"], [\"Israel releases 113 Lebanese and Palestinians it had been detaining in Haifa,  Israel. They were transported by bus to Saida and Sour\"], [\"Israel releases 113 Lebanese and Palestinians it had been detaining in Haifa,  Israel. They were transported by bus to Saida and Sour\"], [\"Israel releases 752 prisoners detained at the Ansar Prison and transports 1,131 other detainees to prisons inside Israel\"], [\"Jamal Sharara was abducted from his home, detained and tortured. He was released on May 1, 1996.\"], [\"Jamal Sharara was abducted from his home, detained and tortured. He was released on May 1, 1996.\"], [\"Swiss national Stephane Jacquemet, head of the ICRC delegation, was abducted  in \\u2018Adlun in South Lebanon and released on August 20, 1985.\"], [\"Shakib Sa\\u2019id Hmaydan, director of ABC News in Lebanon, was abducted in  Rawsheh in West Beirut\"], [\"A car bomb in Zahleh kills 14 and injures 42 civilians\"], [\"13 people were killed in an explosion  in Sed al-Bawshriyyeh, in Beirut\\u2019s eastern suburbs\"], [\"In Tripoli, a car bomb in front of an ice cream parlor kills 50 people\"], [\" Car bomb parked at a checkpoint of the Lebanese Army kills 15 people at Jnah\"], [\" Thirty civilians were killed, 177 wounded in a bomb blast in Sin al-Fil\"], [\" 31  civilians killed in explosion in front of a supermarket  on the Jal al-Dib\\u2013Antelias Highway\"], [\" A car bomb close to a supermarket in Ashrafieh kills 30 people and wounds 80.\"], [\"56 civilians killed  and 120 injured by a car bomb in Tripoli \"], [\"3 separate car bombs, 2 in the southern suburbs and one in West Beirut claim 24 lives\"], [\"3 separate car bombs, 2 in the southern suburbs and one in West Beirut claim 24 lives\"], [\"Isaac Sasson, president of the Jewish Council, was abducted en route from the  airport\"], [\"Gilles Peyrolles, head of the French Cultural Center in Tripoli, was abducted. He was released on April 2, 1985.\"], [\"Nicolas Kluiters, a Dutch Roman Catholic priest, was abducted and tortured. His body was  found in the Caza of B\\u2019albeq on April 1, 1985.\"], [\"The Swiss Charg\\u00e9 d\\u2019Affaires, Eric Wehrli, was abducted and released 4 days after in Rawcheh, West Beirut \"], [\"French writer/researcher Michel Seurat was abducted in Beirut by the Islamic  Jihad. A year later, the group announced that Seurat was dead. \"], [\"Jean-Paul Kauffmann was abducted in West Beirut with  Michel Seurat by the Islamic Jihad\"], [\"Wajed Doumani was  abducted in Saqiet al-Janzir\"], [\"Thomas Sutherland, AUB\\u2019s dean of agriculture, was abducted in Beirut on his way to the university\"], [\"David Jacobsen, an American and AUH director was abducted in West Beirut. He  was released on November 2, 1986.Islamic Jihad claimed responsibility\"], [\" A truck loaded with explosives kills 4 civilians and injures 42 in Hayy Madi\"], [\"A car bomb placed in the southern suburbs of Beirut kills 5 and injures 44 \"], [\" The Israeli Army attacks the village of Zrarieh killing 21 residents\"], [\"10 dead at a checkpoint at Tripoli exit \"], [\"Murder of civilians continues at Tripoli claiming  124 civilians and 550 wounded\"], [\"Heavy Artillery claims 110 civilian lives in Tripoli\"], [\"Fierce clashes claim 70 civilian lives and 50 combatant at Tripoli\"], [\"55000 refugees flee Tripoli fighting to Koura, Batroun and Akkar\"], [\"55000 refugees flee Tripoli fighting to Koura, Batroun and Akkar\"], [\"55000 refugees flee Tripoli fighting to Koura, Batroun and Akkar\"], [\"An Israeli air raid targets the camps of Beddawi and Nahr al-Bared\"], [\"An Israeli air raid targets the camps of Beddawi and Nahr al-Bared\"], [\"Shelling on Tripoli kills 30 civilians and 10 Lebanese Army officers\"], [\"40 civilians killed in clashes between al-Liqa\\u2019 al-Islami and the Arab Democratic Party.\"], [\"Six people killed and 43 injured in Saida \"], [\"Heavy bombing of residential areas in Saida and in the nearby Palestinian camps\"], [\"Shelling and gunfire in and around Saida \"], [\"Lebanese and Palestinian civilians targeted in Saida \"], [\"Heavy bombing of residential areas in Saida and in the nearby Palestinian camps\"], [\"Heavy bombing of residential areas in Saida and in the nearby Palestinian camps\"], [\"Displacement of around 100,000 people from 86 villages\"], [\"Displacement of around 100,000 people from 86 villages\"], [\"Displacement of around 100,000 people from 86 villages\"], [\"Forced displacement of 1000 people from Jiyeh to Jounieh and Beirut\"], [\"Forced displacement of 1000 people from Jiyeh to Jounieh and Beirut\"], [\"Forced displacement of 1000 people from Jiyeh to Jounieh and Beirut\"], [\"The PSP and its allies shelles, loots and sets on fire houses at Darb al-Seem\"], [\"Christian civilians executed in  Jiyeh, Alman, and in at least 13 other villages\"], [\"Displacement of around 100,000 people from 86 villages\"], [\"Displacement of around 100,000 people from 86 villages\"], [\"Christian civilians executed in  Jiyeh, Alman, and in at least 13 other villages\"], [\"Explosion targeting Sayyed Muhammad Hussein Fadlallah kills 80 people and injures 200 \"], [\"11 people killed in explosion in Amal office\"], [\"A bomb explods in a bank in Musseitbeh killing 3 civilians \"], [\"2 Car bombs, one in Tripoli and one in Verdun claim 9 lives and injures 21\"], [\"2 Car bombs, one in Tripoli and one in Verdun claim 9 lives and injures 21\"], [\"Car bomb  parked in front of the mosque during Friday prayers kills 6 and injures 80 in Tripoli\"], [\" Fighting between Amal and Palestinian militias in Burj al-Barajneh claim 42 lives\"], [\"Executions of Palestinian captives by Amal militias\"], [\"Heavy shelling over Baabda, Metn, Achrafieh and Keserouan \"], [\"Heavy shelling over Baabda, Metn, Achrafieh and Keserouan \"], [\"Heavy shelling over Baabda, Metn, Achrafieh and Keserouan \"], [\"Heavy shelling over Baabda, Metn, Achrafieh and Keserouan \"], [\"Heavy shelling over Baabda, Metn, Achrafieh and Keserouan \"], [\"Heavy shelling over Baabda, Metn, Achrafieh and Keserouan \"], [\"Heavy shelling over Baabda, Metn, Achrafieh and Keserouan \"], [\"Heavy shelling over Baabda, Metn, Achrafieh and Keserouan \"], [\"Heavy shelling over Baabda, Metn, Achrafieh and Keserouan \"], [\"Heavy shelling over Baabda, Metn, Achrafieh and Keserouan \"], [\"Heavy shelling over Baabda, Metn, Achrafieh and Keserouan \"], [\"Heavy shelling over Baabda, Metn, Achrafieh and Keserouan \"], [\"Heavy shelling over Baabda, Metn, Achrafieh and Keserouan \"], [\"Heavy shelling over Baabda, Metn, Achrafieh and Keserouan \"], [\"Heavy shelling over Baabda, Metn, Achrafieh and Keserouan \"], [\"Fighting between Amal and Murabitun militias in Sabra leave 4 dead\"], [\"Heavy shelling on East and West Beirut, the southern suburbs, the northern and southern Metn, and Kesrouan, as well as the presidential palace, the airport, and the Ministry of Defense\"], [\"Bombing continues, reaching 190 towns, villages, and residential sections of Beirut, Metn, Kesrouan, Aley, and Jbeil,\"], [\"Heavy fighting between Amal and Murabitun militias claim lives of 35 civilians\"], [\"Bomb inside the American University of Beirut kills one student\"], [\"Artillery  shelling on Burj al-Barajneh and Chatila claim 96 lives\"], [\"Artillery  shelling on Burj al-Barajneh and Chatila claim 96 lives\"], [\"Intense fighting in West Beirut between Amal and PSP leave 53 civilians dead\"], [\"Bombing continues, reaching 190 towns, villages, and residential sections of Beirut, Metn, Kesrouan, Aley, and Jbeil,\"], [\"Bombing continues, reaching 190 towns, villages, and residential sections of Beirut, Metn, Kesrouan, Aley, and Jbeil,\"], [\"Shelling on East Beirut continues\"], [\"Shelling on East Beirut continues\"], [\"Shelling on East Beirut continues\"], [\"Clashes between East and West Beirut claim 40 lives\"], [\"Hundreds of mortar shells fired across East and West Beirut claims eight people injures 55 \"], [\"Bombing continues, reaching 190 towns, villages, and residential sections of Beirut, Metn, Kesrouan, Aley, and Jbeil,\"], [\"Heavy shelling over Beirut, Jbeil and Batroun.  Thirty-one civilians killed that day and at least 121 injured.\"], [\"Heavy shelling over Beirut, Jbeil and Batroun.  Thirty-one civilians killed that day and at least 121 injured.\"]], \"hoverlabel\": {\"namelength\": 0}, \"hovertemplate\": \"animation_frame=1985<br>event=%{customdata[0]}<br>lat=%{lat}<br>lon=%{lon}\", \"lat\": [33.8882, 33.9332, 33.8963, 33.5626, 33.8787, 33.8963, 33.9008, 33.8841, 33.9008, 33.8769, 33.8823, 33.5626, 33.2741, 33.4607, 33.3294, 33.1289, 33.4054, 33.8877, 33.8491, 33.8787, 34.4301, 33.866, 33.8773, 33.9062, 33.8852, 34.4301, 33.8996, 33.8634, 33.8198, 34.4301, 34.0052, 33.8877, 33.8882, 33.8198, 33.8946, 33.9008, 33.9008, 33.8529, 33.8634, 33.3421, 34.4301, 34.4301, 34.4301, 34.4301, 34.2563, 34.525, 34.4301, 34.505, 34.454, 34.4301, 34.4301, 33.5626, 33.5475, 33.5626, 33.5626, 33.543, 33.5626, 33.5946, 33.6003, 33.5626, 33.6674, 33.8882, 33.9835, 33.5305, 33.5945, 33.6585, 33.6674, 33.6674, 33.8634, 33.2741, 33.8841, 34.4301, 33.8841, 34.4301, 33.8432, 33.8693, 33.9488, 33.8349, 33.8852, 33.8574, 33.8633, 33.8761, 33.8851, 33.9722, 33.8438, 33.8101, 33.8317, 33.8903, 33.9659, 33.8773, 33.8169, 33.8693, 33.8198, 33.8101, 33.8882, 33.9008, 33.8693, 33.8432, 33.8882, 33.8882, 33.8198, 33.8438, 33.8048, 33.8852, 33.8882, 33.8882, 34.1204, 34.1204, 34.2563], \"legendgroup\": \"\", \"lon\": [35.5009, 35.7256, 35.482, 35.3678, 35.5029, 35.482, 35.4778, 35.4931, 35.4778, 35.5094, 35.4915, 35.3678, 35.1925, 35.5091, 35.6139, 35.4385, 35.2728, 35.4734, 35.9027, 35.5622, 35.8526, 35.4878, 35.5345, 35.5798, 35.5191, 35.8526, 35.4955, 35.5184, 35.4923, 35.8526, 36.208, 35.4734, 35.5009, 35.4923, 35.4782, 35.4778, 35.4778, 35.5088, 35.5184, 35.3317, 35.8526, 35.8526, 35.8526, 35.8526, 35.6581, 36.2407, 35.8526, 35.9629, 35.8636, 35.8526, 35.8526, 35.3678, 35.3846, 35.3678, 35.3678, 35.3966, 35.3678, 35.4475, 35.4255, 35.3678, 35.4251, 35.5009, 35.6207, 35.3799, 35.4103, 35.4472, 35.4251, 35.4251, 35.5184, 35.1925, 35.4931, 35.8526, 35.4931, 35.8526, 35.5033, 35.5018, 35.6722, 35.5455, 35.5191, 35.5715, 35.6042, 35.549, 35.633, 35.7128, 35.5322, 35.5964, 35.591, 35.5663, 35.6799, 35.5345, 35.5351, 35.5018, 35.4923, 35.5964, 35.5009, 35.4778, 35.5018, 35.5033, 35.5009, 35.5009, 35.4923, 35.5322, 35.5867, 35.5191, 35.5009, 35.5009, 35.6471, 35.6471, 35.6581], \"marker\": {\"color\": \"#636efa\"}, \"mode\": \"markers\", \"name\": \"\", \"showlegend\": false, \"subplot\": \"mapbox\", \"type\": \"scattermapbox\"}], \"name\": \"1985\"}, {\"data\": [{\"customdata\": [[\"Peter Winkler, head of the ICRC mission in Saida, was abducted. \"], [\"Jan Cools, a Belgian doctor working with the Norwegian Aid Committee, was  abducted at the Rashidiyyeh camp in South Lebanon. He was released on June 16, 1989\"], [\"Monseignor Albert Khreish was abducted from his home in Ghadir\"], [\"West German Ralph Schray was abducted in West Beirut\"], [\"Two UNRWA employees were abducted on the road between Sour and Saida.They were released on March 1,  1988, in West Beirut\"], [\"Two UNRWA employees were abducted on the road between Sour and Saida.They were released on March 1,  1988, in West Beirut\"], [\"Monseignor Albert Khreish was abducted from his home in Ghadir\"], [\"Monseignor Albert Khreish was abducted from his home in Ghadir\"], [\"Two UNRWA employees were abducted on the road between Sour and Saida.They were released on March 1,  1988, in West Beirut\"], [\"A car bomb in the area of Ouza\\u2019i, West Beirut, targeted a checkpoint controlled by  the Syrian Army and the Lebanese ISF, killing 4 civilians and injuring 40\"], [\"Car bomb exploded  close to the Greek Orthodox Hospital, killed 16 civilians and injured  81\"], [\" A car bomb blew up in Tripoli, in the neighborhood of Bab al-Tabbaneh 66 people were killed and 90 injured \"], [\"A car rigged with explosives was driven into an Israeli position in Marje\\u2019yun killing 7 Israeli soldiers and 2 civilians\"], [\" Souha Bechara arrested and detained without charge or trial until 1998 at  Khiyam for attempting to kill SLA leader Antoine Lahd\"], [\" Clashes in West Beirut and the southern suburbs leave 30 people dead and 85  wounded\"], [\" Clashes in West Beirut and the southern suburbs leave 30 people dead and 85  wounded\"], [\" Clashes in West Beirut and the southern suburbs leave 30 people dead and 85  wounded\"], [\"The fighting resumed in the southern suburbs of Beirut between Amal and Hezbollah killing 76 people and wounding 337 in May\"], [\"Clashes in the areas of Nabatieh, Zawter, Sour and Ghazieh took place\"], [\"Clashes in the areas of Nabatieh, Zawter, Sour and Ghazieh took place\"], [\"Clashes in the areas of Nabatieh, Zawter, Sour and Ghazieh took place\"], [\"Clashes in the areas of Nabatieh, Zawter, Sour and Ghazieh took place\"], [\"Israel launchs a series of air and sea raids on Lebanese and Palestinian residential neighborhoods in the Ain al-Hilweh camp and Iqlim al-Kharoub\"], [\"Israel launchs a series of air and sea raids on Lebanese and Palestinian residential neighborhoods in the Ain al-Hilweh camp and Iqlim al-Kharoub\"], [\"The Israeli Army conducts air raids on the camp of Mieh w Mieh and Naameh\"], [\"Israel carries out a series of raids against Lebanese and Palestinian civilian areas and military positions \"], [\"Israel carries out a series of raids against Lebanese and Palestinian civilian areas and military positions \"], [\"Israel launchs a series of air and sea raids on Lebanese and Palestinian residential neighborhoods in the Ain al-Hilweh camp and Iqlim al-Kharoub\"], [\"The Israeli Army conducts air raids on the camp of Mieh w Mieh and Naameh\"]], \"hoverlabel\": {\"namelength\": 0}, \"hovertemplate\": \"animation_frame=1988<br>event=%{customdata[0]}<br>lat=%{lat}<br>lon=%{lon}\", \"lat\": [33.5626, 33.238, 33.9786, 33.8882, 33.8882, 33.2741, 33.8914, 33.8851, 33.5626, 33.848, 33.8937, 34.4396, 33.2782, 33.3294, 33.8829, 33.8834, 33.889, 33.8529, 33.2741, 33.5175, 33.377, 33.3218, 33.6497, 33.6674, 33.7472, 33.5626, 33.4376, 33.5475, 33.5475], \"legendgroup\": \"\", \"lon\": [35.3678, 35.2176, 35.636, 35.5009, 35.5009, 35.1925, 35.6685, 35.633, 35.3678, 35.4847, 35.523, 35.8468, 35.5514, 35.6139, 35.4986, 35.5015, 35.5026, 35.5088, 35.1925, 35.369, 35.4846, 35.4618, 35.4418, 35.4251, 35.4649, 35.3678, 35.3712, 35.3846, 35.3846], \"marker\": {\"color\": \"#636efa\"}, \"mode\": \"markers\", \"name\": \"\", \"showlegend\": false, \"subplot\": \"mapbox\", \"type\": \"scattermapbox\"}], \"name\": \"1988\"}, {\"data\": [{\"customdata\": [[\"Rev. Benjamin Weir, teacher at the Protestant school in Hamra, was abducted and released\"], [\" William Buckley, political officer at the U.S. embassy, was abducted and killed by the Islamic Jihad \"], [\"Peter Kilburn, an AUB employee, was abducted. His body was found one month later, in Sofar\"], [\"Jeremy Levin, the Beirut bureau chief of Cable News Network (CNN) was  abducted by the Islamic Jihad\"], [\"the SLA opens fire on civilians in Sohmor killing 13 \"], [\"Riots erupt in the town of Hallusiaan as an Israeli unit arrestes Sheikh Abbas Harb\"], [\"Civilian boat at the Saida port bombed, 2 people killed\"], [\"Assault on school bus transporting children in Kfarshima\"], [\"Heavy shelling on Greater Beirut claims 22 civilians and more than 75 people injured.\"], [\"Heavy shelling on Greater Beirut claims 22 civilians and more than 75 people injured.\"], [\"Assault on school bus transporting children in Kfarshima\"], [\" Israeli air raid hit Baalbeck \"], [\" Israeli raid against a Palestinian base located between Taanayel and Bar Elias\"], [\" Israeli raid against a Palestinian base located between Taanayel and Bar Elias\"], [\"14 Christians were killed in Mechref \"], [\" 13 Christians killed in Bayqun \"], [\"Heavy shelling on Greater Beirut claims 22 civilians and more than 75 people injured.\"], [\"Intensive bombings covers Greater Beirut, Metn, Kesrouan, Aley, and the Shuf\"], [\"Sheikh Ragheb Harb shot to death in his home\"], [\"AUB President Malcolm Kerr was shot and killed on campus\"], [\"Bomb meant for Prime Minister Salim el-Hoss kills 4 and injures 27\"], [\"Suicide attack at U.S. embassy kills eight people and injures between 50 and 100 people\"], [\"Druze Sheikh Khalil al Tawil assassinated \"], [\" Car packed with dynamite in Tallet al-Khayyat kills 2 and injures 60\"], [\"Car bomb in Aley kills 4 and injures 16\"], [\"Heavy clashes between the Lebanese Army and Amal leave 50 civilians killed and 200 injured.\"], [\"Bomb falls on a factory in Kfarshima killing six employees\"], [\"Intensive bombings covers Greater Beirut, Metn, Kesrouan, Aley, and the Shuf\"], [\"Intensive bombings covers Greater Beirut, Metn, Kesrouan, Aley, and the Shuf\"], [\"Shelling on residential area of Ashrafieh kills one and injures 23\"], [\"Shelling on Greater Beirut kills 55 and injures 390\"], [\"Intense shelling concentrated on the front lines kills 90 and injures 353\"], [\"The Syrian Army shells Zahleh \"]], \"hoverlabel\": {\"namelength\": 0}, \"hovertemplate\": \"animation_frame=1984<br>event=%{customdata[0]}<br>lat=%{lat}<br>lon=%{lon}\", \"lat\": [33.8963, 33.8882, 33.8022, 33.8882, 33.5198, 33.3079, 33.6674, 33.8169, 33.8101, 33.9823, 33.8349, 34.0052, 33.8011, 33.7764, 33.7588, 33.6174, 33.8882, 33.8882, 33.3634, 33.9008, 33.8877, 33.9229, 33.6788, 33.885, 33.8101, 33.8101, 33.8169, 33.8101, 33.9823, 33.8852, 33.8882, 33.8882, 33.8491], \"legendgroup\": \"\", \"lon\": [35.482, 35.5009, 35.7023, 35.5009, 35.6853, 35.3253, 35.4251, 35.5351, 35.5964, 35.6382, 35.5455, 36.208, 35.8687, 35.9033, 35.655, 35.5815, 35.5009, 35.5009, 35.4319, 35.4778, 35.4734, 35.5921, 35.5579, 35.487, 35.5964, 35.5964, 35.5351, 35.5964, 35.6382, 35.5191, 35.5009, 35.5009, 35.9027], \"marker\": {\"color\": \"#636efa\"}, \"mode\": \"markers\", \"name\": \"\", \"showlegend\": false, \"subplot\": \"mapbox\", \"type\": \"scattermapbox\"}], \"name\": \"1984\"}, {\"data\": [{\"customdata\": [[\"Extrajudicial execution of both soldiers and  civilian supporters of Aoun were carried out by Syrian troops in several towns in Mount Lebanon\"], [\"Extrajudicial execution of both soldiers and  civilian supporters of Aoun were carried out by Syrian troops in several towns in Mount Lebanon\"], [\"73 soldiers taken prisoner were reportedly executed following their capture by Syrian troops in Baabda \"], [\"The LF opens fire on a pro-Aoun demonstration in Nahr al-Mot claiming 25 lives\"], [\"Extrajudicial execution of both soldiers and  civilian supporters of Aoun were carried out by Syrian troops in several towns in Mount Lebanon\"], [\"Two hundred Christian supporters of Aoun were arrested by Syrian forces and were transferred to Syria or to Anjar\"], [\"240 prisoners were executed by Syrian forces and the  pro-Damascus Christian militia headed by Elie Hobeika in Mount Lebanon\"], [\"240 prisoners were executed by Syrian forces and the  pro-Damascus Christian militia headed by Elie Hobeika in Mount Lebanon\"], [\"240 prisoners were executed by Syrian forces and the  pro-Damascus Christian militia headed by Elie Hobeika in Mount Lebanon\"], [\" A school bus driving through the museum area in Beirut was attacked by the LF\"], [\" A school bus driving through the museum area in Beirut was attacked by the LF\"], [\"240 prisoners were executed by Syrian forces and the  pro-Damascus Christian militia headed by Elie Hobeika in Mount Lebanon\"], [\"240 prisoners were executed by Syrian forces and the  pro-Damascus Christian militia headed by Elie Hobeika in Mount Lebanon\"], [\"Elias Zayek, leader of the Kataeb shot and killed in Jbeil\"], [\" 14 high-ranking officers loyal to Aoun were abducted in Baabda\"], [\"Fighting between the two militias spread to the town of Baalbeck, in the  Beqaa. Fifteen people were killed that day and dozens were injured\"], [\"Fighting in West Beirut and the southern suburbs left 9 people dead and 34  wounded\"], [\"Fighting in West Beirut and the southern suburbs left 9 people dead and 34  wounded\"], [\"Clashes between Amal and Hezbollah in the southern suburbs of Beirut resulted  in 4 deaths and 33 wounded\"]], \"hoverlabel\": {\"namelength\": 0}, \"hovertemplate\": \"animation_frame=1990<br>event=%{customdata[0]}<br>lat=%{lat}<br>lon=%{lon}\", \"lat\": [33.8552, 33.8164, 33.8349, 33.8997, 33.8438, 33.7095, 33.8108, 33.8349, 33.8633, 33.8852, 33.8783, 33.8164, 33.8227, 34.1204, 33.8349, 34.0052, 33.8529, 33.8882, 33.8529], \"legendgroup\": \"\", \"lon\": [35.5966, 35.577, 35.5455, 35.5692, 35.5322, 35.905, 35.5556, 35.5455, 35.6042, 35.5191, 35.5201, 35.577, 35.5972, 35.6471, 35.5455, 36.208, 35.5088, 35.5009, 35.5088], \"marker\": {\"color\": \"#636efa\"}, \"mode\": \"markers\", \"name\": \"\", \"showlegend\": false, \"subplot\": \"mapbox\", \"type\": \"scattermapbox\"}], \"name\": \"1990\"}, {\"data\": [{\"customdata\": [[\"Particularly intense fighting in August extends to Beirut, its suburbs, Metn, the  Mountain, Kesrwan, Jbeil, and the Beqaa\"], [\"Particularly intense fighting in August extends to Beirut, its suburbs, Metn, the  Mountain, Kesrwan, Jbeil, and the Beqaa\"], [\"Particularly intense fighting in August extends to Beirut, its suburbs, Metn, the  Mountain, Kesrwan, Jbeil, and the Beqaa\"], [\"Fierce clashes in the battle of Ain al-Remmaneh\"], [\"Particularly intense fighting in August extends to Beirut, its suburbs, Metn, the  Mountain, Kesrwan, Jbeil, and the Beqaa\"], [\"Particularly intense fighting in August extends to Beirut, its suburbs, Metn, the  Mountain, Kesrwan, Jbeil, and the Beqaa\"], [\" Both sides pounded the Christian enclave daily  claiming the lives of 615  people died, and more than 2,000 were wounded, half of them civilians\"], [\" Both sides pounded the Christian enclave daily  claiming the lives of 615  people died, and more than 2,000 were wounded, half of them civilians\"], [\" Both sides pounded the Christian enclave daily  claiming the lives of 615  people died, and more than 2,000 were wounded, half of them civilians\"], [\"An explosion in the church of Sabtieh, in Beirut\\u2019s eastern suburbs, kills one person and injures four people\"], [\"A car bomb in Raouche, West Beirut killed four and injured six\"], [\"Sheikh Subhi al-Saleh, a Muslim scholar was assassinated\"], [\"A car bomb explods as the convoy of the Sunni Grand  Mufti of the Republic of Lebanon, Sheikh Hassan Khaled, was passing through West Beirut, killing  him and 9 other people, and wounds 76\"], [\"Eighty kilograms of explosives kills two people and wounds seven in  Mkalles, in the eastern suburb of Beirut\"], [\"MP Nazem el-Qadri and his bodyguard shot and killed by unknown  assailants in Verdun, West Beirut\"], [\" Dany Chamoun, his wife, and his two sons were killed in their house by unidentified gunmen\"], [\"An explosion kills President-elect Ren\\u00e9 Mouawad and tens of others as his convoy traveled through West Beirut on Independence Day\"], [\"A car bomb in Jal al-Dib, in Beirut\\u2019s northern suburbs, killed 13 people and  injured 119\"], [\"A car bomb in Hamra, West Beirut, killed 2 civilians and injured 21\"], [\"Israeli and SLA shelling of Nabatieh, Kfar Rumman, and other villages and  towns kills four people and left several dozens injured\"], [\"Israeli and SLA shelling of Nabatieh, Kfar Rumman, and other villages and  towns kills four people and left several dozens injured\"], [\" An Israeli air raid in the village of Aynab  kills and 27 injures 27, including two students and a teacher\"], [\"The SLA bombed Saida, killing four people and injuring six\"], [\"A car bomb in Rweiss in Beirut\\u2019s southern suburbs killed 1 civilian and injured 20\"], [\"Anwar al-Fatayri, a senior member of the PSP, and his driver were assassinated in  Deir al-Qamar\"], [\"A car bomb in Furn al-Chebbak, East Beirut killed 2 civilians and at wounded  least 18\"], [\"A car bomb in the Beqaa killed 1 civilian and wounded 25\"], [\" 76 people killed and 200 wounded after three days of fighting in East Beirut between the LF and the Lebanese Army \"], [\" 23 people killed by the Syrian Army's continued shelling throughout April 1989, hitting residential areas in Beirut  and its southern suburbs, Metn, Kesrwan, Aley, Jbayl, the Beqaa, and Batroun\"], [\" 23 people killed by the Syrian Army's continued shelling throughout April 1989, hitting residential areas in Beirut  and its southern suburbs, Metn, Kesrwan, Aley, Jbayl, the Beqaa, and Batroun\"], [\" 23 people killed by the Syrian Army's continued shelling throughout April 1989, hitting residential areas in Beirut  and its southern suburbs, Metn, Kesrwan, Aley, Jbayl, the Beqaa, and Batroun\"], [\" 23 people killed by the Syrian Army's continued shelling throughout April 1989, hitting residential areas in Beirut  and its southern suburbs, Metn, Kesrwan, Aley, Jbayl, the Beqaa, and Batroun\"], [\"Daily bombardment of residential areas covered Beirut, Kesrwan, Metn,  Monteverde, Mkalles, Mansurieh, and North Lebanon\"], [\"Daily bombardment of residential areas covered Beirut, Kesrwan, Metn,  Monteverde, Mkalles, Mansurieh, and North Lebanon\"], [\"Daily bombardment of residential areas covered Beirut, Kesrwan, Metn,  Monteverde, Mkalles, Mansurieh, and North Lebanon\"], [\"Daily bombardment of residential areas covered Beirut, Kesrwan, Metn,  Monteverde, Mkalles, Mansurieh, and North Lebanon\"], [\"Daily bombardment of residential areas covered Beirut, Kesrwan, Metn,  Monteverde, Mkalles, Mansurieh, and North Lebanon\"], [\" 23 people killed by the Syrian Army's continued shelling throughout April 1989, hitting residential areas in Beirut  and its southern suburbs, Metn, Kesrwan, Aley, Jbayl, the Beqaa, and Batroun\"], [\" 23 people killed by the Syrian Army's continued shelling throughout April 1989, hitting residential areas in Beirut  and its southern suburbs, Metn, Kesrwan, Aley, Jbayl, the Beqaa, and Batroun\"], [\"Five civilians  killed in Ain al-Remmaneh by a Grad missile fired by the  Syrian Army. 40 people killed and 165 wounded by seperate clashes\"], [\"101 people were  killed and 474 wounded during the 17 days of shelling over the areas of Beirut, Metn, Aley, and  Kesrwan\"], [\"101 people were  killed and 474 wounded during the 17 days of shelling over the areas of Beirut, Metn, Aley, and  Kesrwan\"], [\"101 people were  killed and 474 wounded during the 17 days of shelling over the areas of Beirut, Metn, Aley, and  Kesrwan\"], [\"Daily bombardment of residential areas covered Beirut, Kesrwan, Metn,  Monteverde, Mkalles, Mansurieh, and North Lebanon\"], [\"Daily bombardment of residential areas covered Beirut, Kesrwan, Metn,  Monteverde, Mkalles, Mansurieh, and North Lebanon\"], [\"660 people killed in the month of January, 500 of whom victims of the Amal-Hezbollah war\"], [\"660 people killed in the month of January, 500 of whom victims of the Amal-Hezbollah war\"], [\"90 people killed during the month of December by clashes between Amal and Hezbollah\"], [\"90 people killed during the month of December by clashes between Amal and Hezbollah\"], [\"The Syrian Army drops 20,000 bombs over East Beirut\"], [\"Daily bombardment of residential areas covered Beirut, Kesrwan, Metn,  Monteverde, Mkalles, Mansurieh, and North Lebanon\"], [\"Daily bombardment of residential areas covered Beirut, Kesrwan, Metn,  Monteverde, Mkalles, Mansurieh, and North Lebanon\"], [\"The bombardments between the Lebanese and Syrian armies left around 850 dead and another 3,000 wounded\"], [\"Abdel Karim Obeid, a Shi\\u2019a sheikh from Jibchit  was taken prisoner in South Lebanon by an Israeli commando\"]], \"hoverlabel\": {\"namelength\": 0}, \"hovertemplate\": \"animation_frame=1989<br>event=%{customdata[0]}<br>lat=%{lat}<br>lon=%{lon}\", \"lat\": [34.1204, 33.8882, 34.0052, 33.8679, 33.9835, 33.9148, 33.9835, 33.8852, 33.9148, 33.8739, 33.8877, 33.8882, 33.8882, 33.8621, 33.8811, 33.8349, 33.8882, 33.9062, 33.8963, 33.377, 33.3886, 33.7673, 33.5626, 33.8432, 33.6962, 33.8728, 34.0052, 33.8852, 34.2563, 33.9835, 34.1204, 33.9148, 34.2984, 33.9835, 33.8882, 33.8574, 33.8959, 33.8101, 34.0052, 33.8679, 33.8882, 33.9835, 33.8101, 34.1204, 33.8621, 33.2782, 33.8529, 33.8882, 33.2782, 33.8852, 33.8511, 34.2563, 33.8882, 33.3634], \"legendgroup\": \"\", \"lon\": [35.6471, 35.5009, 36.208, 35.5202, 35.6207, 35.5921, 35.6207, 35.5191, 35.5921, 35.5671, 35.4734, 35.5009, 35.5009, 35.5495, 35.4851, 35.5455, 35.5009, 35.5798, 35.482, 35.4846, 35.5015, 35.5481, 35.3678, 35.5033, 35.5611, 35.5208, 36.208, 35.5191, 35.6581, 35.6207, 35.6471, 35.5921, 35.8504, 35.6207, 35.5009, 35.5715, 35.4991, 35.5964, 36.208, 35.5202, 35.5009, 35.6207, 35.5964, 35.6471, 35.5495, 35.5514, 35.5088, 35.5009, 35.5514, 35.5191, 35.5901, 35.6581, 35.5009, 35.4319], \"marker\": {\"color\": \"#636efa\"}, \"mode\": \"markers\", \"name\": \"\", \"showlegend\": false, \"subplot\": \"mapbox\", \"type\": \"scattermapbox\"}], \"name\": \"1989\"}]);\n",
       "                        }).then(function(){\n",
       "                            \n",
       "var gd = document.getElementById('2e676695-f84b-4c87-952f-3e5109adcbb1');\n",
       "var x = new MutationObserver(function (mutations, observer) {{\n",
       "        var display = window.getComputedStyle(gd).display;\n",
       "        if (!display || display === 'none') {{\n",
       "            console.log([gd, 'removed!']);\n",
       "            Plotly.purge(gd);\n",
       "            observer.disconnect();\n",
       "        }}\n",
       "}});\n",
       "\n",
       "// Listen for the removal of the full notebook cells\n",
       "var notebookContainer = gd.closest('#notebook-container');\n",
       "if (notebookContainer) {{\n",
       "    x.observe(notebookContainer, {childList: true});\n",
       "}}\n",
       "\n",
       "// Listen for the clearing of the current output cell\n",
       "var outputEl = gd.closest('.output');\n",
       "if (outputEl) {{\n",
       "    x.observe(outputEl, {childList: true});\n",
       "}}\n",
       "\n",
       "                        })\n",
       "                };\n",
       "                });\n",
       "            </script>\n",
       "        </div>"
      ]
     },
     "metadata": {},
     "output_type": "display_data"
    }
   ],
   "source": [
    "px.set_mapbox_access_token(open('.mapbox_token').read())\n",
    "\n",
    "fig = px.scatter_mapbox(\n",
    "    lebanon_war_events_final,\n",
    "    lon='lon',\n",
    "    lat='lat',\n",
    "    hover_data=['event'],\n",
    "    animation_frame=lebanon_war_events_final.apply(lambda row: row['start'].year, axis=1),\n",
    "    size_max=15,\n",
    "    zoom=7,\n",
    ")\n",
    "\n",
    "\n",
    "fig.update_traces(\n",
    "    marker=go.scattermapbox.Marker(\n",
    "        size=10,\n",
    "        opacity=0.7,\n",
    "        showscale=False\n",
    "    ),\n",
    ")\n",
    "\n",
    "fig.update_layout(\n",
    "    margin=dict(l=0, r=5, t=0, b=0),\n",
    ")\n",
    "\n",
    "fig.show()"
   ]
  },
  {
   "cell_type": "code",
   "execution_count": 44,
   "metadata": {},
   "outputs": [
    {
     "data": {
      "text/plain": [
       "'../plots/war-events.html'"
      ]
     },
     "execution_count": 44,
     "metadata": {},
     "output_type": "execute_result"
    }
   ],
   "source": [
    "from plotly.offline import download_plotlyjs, init_notebook_mode, plot, iplot\n",
    "\n",
    "plotly.offline.plot(fig, filename='../plots/war-events.html')"
   ]
  },
  {
   "cell_type": "code",
   "execution_count": null,
   "metadata": {},
   "outputs": [],
   "source": []
  }
 ],
 "metadata": {
  "kernelspec": {
   "display_name": "Python [conda env:ada] *",
   "language": "python",
   "name": "conda-env-ada-py"
  },
  "language_info": {
   "codemirror_mode": {
    "name": "ipython",
    "version": 3
   },
   "file_extension": ".py",
   "mimetype": "text/x-python",
   "name": "python",
   "nbconvert_exporter": "python",
   "pygments_lexer": "ipython3",
   "version": "3.7.5"
  }
 },
 "nbformat": 4,
 "nbformat_minor": 4
}
